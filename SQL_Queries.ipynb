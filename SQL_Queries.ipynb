{
 "cells": [
  {
   "cell_type": "code",
   "execution_count": null,
   "id": "686076ae",
   "metadata": {},
   "outputs": [],
   "source": [
    "import pymssql\n",
    "import pandas\n",
    "import yaml\n",
    "\n",
    "CONFIG_FILE_PATH = 'config/config.yaml'\n",
    "config = yaml.load(open(CONFIG_FILE_PATH, 'r', encoding='utf-8'), Loader=yaml.FullLoader)"
   ]
  },
  {
   "cell_type": "code",
   "execution_count": null,
   "id": "32b32771",
   "metadata": {},
   "outputs": [],
   "source": [
    "def get_label_rank_df(\n",
    "    model_id, # int\n",
    "    dissimilarity_id, # int\n",
    "    batch_size=100, # float\n",
    "    relabel_lambda=0.069, # float\n",
    "    random_ratio=0.5, # float\n",
    "):\n",
    "    \n",
    "    batch_size_d = int((1- random_ratio)*batch_size)\n",
    "    batch_size_r = batch_size - batch_size_d\n",
    "    \n",
    "    # call stored procedure 1 w/ D_ID\n",
    "    args = {\n",
    "        \"M_ID\": model_id,\n",
    "        \"D_ID\": dissimilarity_id,\n",
    "        \"BATCH_SIZE\": batch_size_d,\n",
    "        \"RELABEL_LAMBDA\": relabel_lambda,\n",
    "    }\n",
    "    d_df = get_data_sp(sp=\"AL_RANKINGS\", args)\n",
    "    \n",
    "    # call stored  procedure 1 w/ D_ID = 0 # represents random\n",
    "    args['D_ID'] = 0\n",
    "    args['BATCH_SIZE'] = batch_size_r\n",
    "    r_df = get_data_sp(sp=\"AL_RANKINGS\", args)\n",
    "    \n",
    "    full_df = pd.concat([d_df, r_df]) # might have duplicates but the chance is so low it doesn't matter\n",
    "    \n",
    "    return full_df\n",
    "    \n",
    "\n",
    "def get_data_sp(\n",
    "    sp=\"\", # string\n",
    "    args, # dict\n",
    "):\n",
    "    # load from config file\n",
    "    server = config['server']     # 'your_server.database.windows.net'\n",
    "    database = config['database'] #'your_database'\n",
    "    username = config['username'] # 'your_username'\n",
    "    password = config['password'] #'your_password'\n",
    "\n",
    "    # set up a connection to Azure\n",
    "    with pymssql.connect(server, user, password, database) as conn:\n",
    "        # set up a cursor object\n",
    "        with conn.cursor(as_dict=True) as cursor:\n",
    "            # gather variables for the stored procedure\n",
    "            arg_tuples = (args['M_ID'], args['D_ID'], args['RELABEL_LAMBDA'], args['BATCH_SIZE'])\n",
    "            # execute stored procedure\n",
    "            cursor.callproc(sp, arg_tuples)\n",
    "            \n",
    "            # Fetch the results into a Pandas DataFrame\n",
    "            df = pd.DataFrame(cursor.fetchall())\n",
    "#             columns = [column[0] for column in cursor.description]\n",
    "#             df = pd.DataFrame(cursor.fetchall(), columns=columns)\n",
    "    return df\n",
    "    \n",
    "    "
   ]
  },
  {
   "cell_type": "code",
   "execution_count": 13,
   "id": "5e18b84b",
   "metadata": {},
   "outputs": [
    {
     "ename": "ColumnsWithoutNamesError",
     "evalue": "Specified as_dict=True and there are columns with no names: [0]",
     "output_type": "error",
     "traceback": [
      "\u001b[1;31m---------------------------------------------------------------------------\u001b[0m",
      "\u001b[1;31mColumnsWithoutNamesError\u001b[0m                  Traceback (most recent call last)",
      "Cell \u001b[1;32mIn[13], line 11\u001b[0m\n\u001b[0;32m      9\u001b[0m \u001b[38;5;28;01mwith\u001b[39;00m pymssql\u001b[38;5;241m.\u001b[39mconnect(server, user, password, database) \u001b[38;5;28;01mas\u001b[39;00m conn:\n\u001b[0;32m     10\u001b[0m     \u001b[38;5;28;01mwith\u001b[39;00m conn\u001b[38;5;241m.\u001b[39mcursor(as_dict\u001b[38;5;241m=\u001b[39m\u001b[38;5;28;01mTrue\u001b[39;00m) \u001b[38;5;28;01mas\u001b[39;00m cursor:\n\u001b[1;32m---> 11\u001b[0m         \u001b[43mcursor\u001b[49m\u001b[38;5;241;43m.\u001b[39;49m\u001b[43mexecute\u001b[49m\u001b[43m(\u001b[49m\u001b[38;5;124;43m'\u001b[39;49m\u001b[38;5;124;43mSELECT @@VERSION\u001b[39;49m\u001b[38;5;124;43m'\u001b[39;49m\u001b[43m)\u001b[49m\n\u001b[0;32m     12\u001b[0m         \u001b[38;5;28mprint\u001b[39m(cursor\u001b[38;5;241m.\u001b[39mdescription)\n\u001b[0;32m     13\u001b[0m \u001b[38;5;66;03m#         row = cursor.fetchone()\u001b[39;00m\n",
      "File \u001b[1;32msrc\\\\pymssql\\\\_pymssql.pyx:472\u001b[0m, in \u001b[0;36mpymssql._pymssql.Cursor.execute\u001b[1;34m()\u001b[0m\n",
      "\u001b[1;31mColumnsWithoutNamesError\u001b[0m: Specified as_dict=True and there are columns with no names: [0]"
     ]
    }
   ],
   "source": [
    "import pymssql\n",
    "\n",
    "server = 'capstoneservercjault.database.windows.net'\n",
    "user = 'CloudSA85da88d3'\n",
    "password = 'Passwordtest123'\n",
    "database = 'capstoneazure'\n",
    "\n",
    "\n",
    "with pymssql.connect(server, user, password, database) as conn:\n",
    "    with conn.cursor() as cursor:\n",
    "        cursor.execute('SELECT @@VERSION')\n",
    "#         row = cursor.fetchone()\n",
    "        row = cursor.fetchall()\n",
    "#         while row:\n",
    "#             print(\"SQL Server version:\", row[0])\n",
    "#             row = cursor.fetchone()\n"
   ]
  },
  {
   "cell_type": "code",
   "execution_count": 9,
   "id": "21bc4d23",
   "metadata": {},
   "outputs": [
    {
     "data": {
      "text/plain": [
       "list"
      ]
     },
     "execution_count": 9,
     "metadata": {},
     "output_type": "execute_result"
    }
   ],
   "source": [
    "type(row)"
   ]
  },
  {
   "cell_type": "code",
   "execution_count": 11,
   "id": "3a25d1cc",
   "metadata": {},
   "outputs": [
    {
     "data": {
      "text/plain": [
       "('Microsoft SQL Azure (RTM) - 12.0.2000.8 \\n\\tJan  3 2024 16:32:18 \\n\\tCopyright (C) 2022 Microsoft Corporation\\n',)"
      ]
     },
     "execution_count": 11,
     "metadata": {},
     "output_type": "execute_result"
    }
   ],
   "source": [
    "row[0]"
   ]
  },
  {
   "cell_type": "code",
   "execution_count": null,
   "id": "5cda8e45",
   "metadata": {},
   "outputs": [],
   "source": []
  }
 ],
 "metadata": {
  "kernelspec": {
   "display_name": "pivot-modAL",
   "language": "python",
   "name": "pivot-modal"
  },
  "language_info": {
   "codemirror_mode": {
    "name": "ipython",
    "version": 3
   },
   "file_extension": ".py",
   "mimetype": "text/x-python",
   "name": "python",
   "nbconvert_exporter": "python",
   "pygments_lexer": "ipython3",
   "version": "3.10.13"
  }
 },
 "nbformat": 4,
 "nbformat_minor": 5
}
