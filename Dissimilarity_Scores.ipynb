{
 "cells": [
  {
   "cell_type": "code",
   "execution_count": 1,
   "id": "a353bd84",
   "metadata": {},
   "outputs": [
    {
     "data": {
      "text/plain": [
       "<module 'data_utils' from 'C:\\\\Users\\\\ysman\\\\Desktop\\\\Capstone\\\\PIVOT\\\\../ml-workflow\\\\data_utils.py'>"
      ]
     },
     "execution_count": 1,
     "metadata": {},
     "output_type": "execute_result"
    }
   ],
   "source": [
    "import matplotlib.pyplot as plt\n",
    "import pandas as pd\n",
    "import numpy as np\n",
    "import os\n",
    "\n",
    "import cv2\n",
    "import imageio\n",
    "import getpass\n",
    "\n",
    "import azure.storage.blob\n",
    "from azure.storage.blob import BlobServiceClient, BlobClient, ContainerClient\n",
    "\n",
    "\n",
    "from tensorflow.keras.models import Model\n",
    "import tensorflow.keras as keras\n",
    "import tensorflow as tf\n",
    "from keras.callbacks import Callback\n",
    "\n",
    "import sys\n",
    "sys.path.append('../ml-workflow/') # point to wherever the ml-workflow directory is\n",
    "import imp\n",
    "\n",
    "import data_utils as du\n",
    "import ml_models\n",
    "\n",
    "from tqdm.auto import trange, tqdm\n",
    "import concurrent.futures\n",
    "\n",
    "# Need to comment out gray_image = cv2.cvtColor(ri, cv2.COLOR_BGR2GRAY) in du.prepocess_input\n",
    "# gray_image = ri\n",
    "from importlib import reload\n",
    "reload(du)\n"
   ]
  },
  {
   "cell_type": "code",
   "execution_count": 2,
   "id": "4a4e344c",
   "metadata": {},
   "outputs": [],
   "source": [
    "df = pd.read_parquet(\"inventory_df_with_probs.parquet.gzip\")"
   ]
  },
  {
   "cell_type": "code",
   "execution_count": 4,
   "id": "9ee3b17b",
   "metadata": {},
   "outputs": [
    {
     "data": {
      "text/html": [
       "<div>\n",
       "<style scoped>\n",
       "    .dataframe tbody tr th:only-of-type {\n",
       "        vertical-align: middle;\n",
       "    }\n",
       "\n",
       "    .dataframe tbody tr th {\n",
       "        vertical-align: top;\n",
       "    }\n",
       "\n",
       "    .dataframe thead th {\n",
       "        text-align: right;\n",
       "    }\n",
       "</style>\n",
       "<table border=\"1\" class=\"dataframe\">\n",
       "  <thead>\n",
       "    <tr style=\"text-align: right;\">\n",
       "      <th></th>\n",
       "      <th>Index</th>\n",
       "      <th>image_path</th>\n",
       "      <th>pred_label</th>\n",
       "      <th>pred_class</th>\n",
       "      <th>index</th>\n",
       "      <th>0</th>\n",
       "      <th>1</th>\n",
       "      <th>2</th>\n",
       "      <th>3</th>\n",
       "      <th>4</th>\n",
       "      <th>5</th>\n",
       "      <th>6</th>\n",
       "      <th>7</th>\n",
       "      <th>8</th>\n",
       "      <th>9</th>\n",
       "    </tr>\n",
       "  </thead>\n",
       "  <tbody>\n",
       "    <tr>\n",
       "      <th>0</th>\n",
       "      <td>0</td>\n",
       "      <td>/Users/alisonchase/Documents/IFCB/NAAMES/NAAME...</td>\n",
       "      <td>7</td>\n",
       "      <td>Other</td>\n",
       "      <td>0</td>\n",
       "      <td>0.003190</td>\n",
       "      <td>2.078881e-11</td>\n",
       "      <td>8.588634e-05</td>\n",
       "      <td>0.000173</td>\n",
       "      <td>8.921839e-08</td>\n",
       "      <td>0.003271</td>\n",
       "      <td>8.093556e-06</td>\n",
       "      <td>0.957533</td>\n",
       "      <td>0.035501</td>\n",
       "      <td>0.000237</td>\n",
       "    </tr>\n",
       "    <tr>\n",
       "      <th>1</th>\n",
       "      <td>1</td>\n",
       "      <td>/Users/alisonchase/Documents/IFCB/NAAMES/NAAME...</td>\n",
       "      <td>7</td>\n",
       "      <td>Other</td>\n",
       "      <td>1</td>\n",
       "      <td>0.007551</td>\n",
       "      <td>5.126985e-07</td>\n",
       "      <td>3.592776e-04</td>\n",
       "      <td>0.002601</td>\n",
       "      <td>2.534480e-06</td>\n",
       "      <td>0.204228</td>\n",
       "      <td>1.017940e-03</td>\n",
       "      <td>0.718851</td>\n",
       "      <td>0.061205</td>\n",
       "      <td>0.004183</td>\n",
       "    </tr>\n",
       "    <tr>\n",
       "      <th>2</th>\n",
       "      <td>2</td>\n",
       "      <td>/Users/alisonchase/Documents/IFCB/NAAMES/NAAME...</td>\n",
       "      <td>9</td>\n",
       "      <td>NaN</td>\n",
       "      <td>2</td>\n",
       "      <td>0.000135</td>\n",
       "      <td>1.200640e-11</td>\n",
       "      <td>1.257837e-05</td>\n",
       "      <td>0.000220</td>\n",
       "      <td>2.652156e-05</td>\n",
       "      <td>0.000103</td>\n",
       "      <td>1.847491e-07</td>\n",
       "      <td>0.390917</td>\n",
       "      <td>0.000375</td>\n",
       "      <td>0.608209</td>\n",
       "    </tr>\n",
       "    <tr>\n",
       "      <th>3</th>\n",
       "      <td>3</td>\n",
       "      <td>/Users/alisonchase/Documents/IFCB/NAAMES/NAAME...</td>\n",
       "      <td>7</td>\n",
       "      <td>Other</td>\n",
       "      <td>3</td>\n",
       "      <td>0.001123</td>\n",
       "      <td>1.054870e-14</td>\n",
       "      <td>4.769512e-05</td>\n",
       "      <td>0.000167</td>\n",
       "      <td>1.587807e-10</td>\n",
       "      <td>0.013132</td>\n",
       "      <td>1.304258e-05</td>\n",
       "      <td>0.984470</td>\n",
       "      <td>0.000259</td>\n",
       "      <td>0.000788</td>\n",
       "    </tr>\n",
       "    <tr>\n",
       "      <th>4</th>\n",
       "      <td>4</td>\n",
       "      <td>/Users/alisonchase/Documents/IFCB/NAAMES/NAAME...</td>\n",
       "      <td>7</td>\n",
       "      <td>Other</td>\n",
       "      <td>4</td>\n",
       "      <td>0.000100</td>\n",
       "      <td>7.816149e-09</td>\n",
       "      <td>8.546382e-08</td>\n",
       "      <td>0.008106</td>\n",
       "      <td>8.124642e-09</td>\n",
       "      <td>0.343707</td>\n",
       "      <td>2.029714e-05</td>\n",
       "      <td>0.645359</td>\n",
       "      <td>0.000388</td>\n",
       "      <td>0.002319</td>\n",
       "    </tr>\n",
       "  </tbody>\n",
       "</table>\n",
       "</div>"
      ],
      "text/plain": [
       "   Index                                         image_path  pred_label  \\\n",
       "0      0  /Users/alisonchase/Documents/IFCB/NAAMES/NAAME...           7   \n",
       "1      1  /Users/alisonchase/Documents/IFCB/NAAMES/NAAME...           7   \n",
       "2      2  /Users/alisonchase/Documents/IFCB/NAAMES/NAAME...           9   \n",
       "3      3  /Users/alisonchase/Documents/IFCB/NAAMES/NAAME...           7   \n",
       "4      4  /Users/alisonchase/Documents/IFCB/NAAMES/NAAME...           7   \n",
       "\n",
       "  pred_class  index         0             1             2         3  \\\n",
       "0      Other      0  0.003190  2.078881e-11  8.588634e-05  0.000173   \n",
       "1      Other      1  0.007551  5.126985e-07  3.592776e-04  0.002601   \n",
       "2        NaN      2  0.000135  1.200640e-11  1.257837e-05  0.000220   \n",
       "3      Other      3  0.001123  1.054870e-14  4.769512e-05  0.000167   \n",
       "4      Other      4  0.000100  7.816149e-09  8.546382e-08  0.008106   \n",
       "\n",
       "              4         5             6         7         8         9  \n",
       "0  8.921839e-08  0.003271  8.093556e-06  0.957533  0.035501  0.000237  \n",
       "1  2.534480e-06  0.204228  1.017940e-03  0.718851  0.061205  0.004183  \n",
       "2  2.652156e-05  0.000103  1.847491e-07  0.390917  0.000375  0.608209  \n",
       "3  1.587807e-10  0.013132  1.304258e-05  0.984470  0.000259  0.000788  \n",
       "4  8.124642e-09  0.343707  2.029714e-05  0.645359  0.000388  0.002319  "
      ]
     },
     "execution_count": 4,
     "metadata": {},
     "output_type": "execute_result"
    }
   ],
   "source": [
    "df.head()"
   ]
  },
  {
   "cell_type": "code",
   "execution_count": 115,
   "id": "b45ba099",
   "metadata": {},
   "outputs": [],
   "source": [
    "def least_confident_score(x):\n",
    "    return 1 - np.max(x)\n",
    "\n",
    "def least_margin_score(x):\n",
    "    sort_x = np.sort(x)\n",
    "    return 1 - (sort_x[-1] - sort_x[-2])\n",
    "\n",
    "def entropy_score(x):\n",
    "    return -x.T @ np.nan_to_num(np.log(x))\n",
    "\n",
    "def get_score(x, f):\n",
    "    try:\n",
    "        s = f(x)\n",
    "    except:\n",
    "        print(f\"Error computing {f.__name__}\")\n",
    "        s = -1\n",
    "    return s"
   ]
  },
  {
   "cell_type": "code",
   "execution_count": 125,
   "id": "17dbb02c",
   "metadata": {
    "scrolled": false
   },
   "outputs": [
    {
     "data": {
      "application/vnd.jupyter.widget-view+json": {
       "model_id": "b317f924439748bf8397bb318b2e8d39",
       "version_major": 2,
       "version_minor": 0
      },
      "text/plain": [
       "  0%|          | 0/1 [00:00<?, ?it/s]"
      ]
     },
     "metadata": {},
     "output_type": "display_data"
    },
    {
     "name": "stdout",
     "output_type": "stream",
     "text": [
      "CPU times: total: 29.6 s\n",
      "Wall time: 30.8 s\n"
     ]
    }
   ],
   "source": [
    "%%time\n",
    "for f in tqdm([\n",
    "#     least_confident_score, \n",
    "    least_margin_score, \n",
    "#     entropy_score\n",
    "]):\n",
    "    df[str(f.__name__)] = df[list(np.arange(10).astype(int).astype(str))].apply(lambda x: get_score(x,f), axis=1)"
   ]
  },
  {
   "cell_type": "code",
   "execution_count": 137,
   "id": "0002bef0",
   "metadata": {},
   "outputs": [
    {
     "data": {
      "text/html": [
       "<div>\n",
       "<style scoped>\n",
       "    .dataframe tbody tr th:only-of-type {\n",
       "        vertical-align: middle;\n",
       "    }\n",
       "\n",
       "    .dataframe tbody tr th {\n",
       "        vertical-align: top;\n",
       "    }\n",
       "\n",
       "    .dataframe thead th {\n",
       "        text-align: right;\n",
       "    }\n",
       "</style>\n",
       "<table border=\"1\" class=\"dataframe\">\n",
       "  <thead>\n",
       "    <tr style=\"text-align: right;\">\n",
       "      <th></th>\n",
       "      <th>Index</th>\n",
       "      <th>image_path</th>\n",
       "      <th>pred_label</th>\n",
       "      <th>pred_class</th>\n",
       "      <th>index</th>\n",
       "      <th>0</th>\n",
       "      <th>1</th>\n",
       "      <th>2</th>\n",
       "      <th>3</th>\n",
       "      <th>4</th>\n",
       "      <th>5</th>\n",
       "      <th>6</th>\n",
       "      <th>7</th>\n",
       "      <th>8</th>\n",
       "      <th>9</th>\n",
       "      <th>entropy_score</th>\n",
       "      <th>least_confident_score</th>\n",
       "      <th>least_margin_score</th>\n",
       "    </tr>\n",
       "  </thead>\n",
       "  <tbody>\n",
       "    <tr>\n",
       "      <th>0</th>\n",
       "      <td>0</td>\n",
       "      <td>/Users/alisonchase/Documents/IFCB/NAAMES/NAAME...</td>\n",
       "      <td>7</td>\n",
       "      <td>Other</td>\n",
       "      <td>0</td>\n",
       "      <td>0.003190</td>\n",
       "      <td>2.078881e-11</td>\n",
       "      <td>8.588634e-05</td>\n",
       "      <td>0.000173</td>\n",
       "      <td>8.921839e-08</td>\n",
       "      <td>0.003271</td>\n",
       "      <td>8.093556e-06</td>\n",
       "      <td>0.957533</td>\n",
       "      <td>0.035501</td>\n",
       "      <td>0.000237</td>\n",
       "      <td>0.201498</td>\n",
       "      <td>0.042467</td>\n",
       "      <td>0.077968</td>\n",
       "    </tr>\n",
       "    <tr>\n",
       "      <th>1</th>\n",
       "      <td>1</td>\n",
       "      <td>/Users/alisonchase/Documents/IFCB/NAAMES/NAAME...</td>\n",
       "      <td>7</td>\n",
       "      <td>Other</td>\n",
       "      <td>1</td>\n",
       "      <td>0.007551</td>\n",
       "      <td>5.126985e-07</td>\n",
       "      <td>3.592776e-04</td>\n",
       "      <td>0.002601</td>\n",
       "      <td>2.534480e-06</td>\n",
       "      <td>0.204228</td>\n",
       "      <td>1.017940e-03</td>\n",
       "      <td>0.718851</td>\n",
       "      <td>0.061205</td>\n",
       "      <td>0.004183</td>\n",
       "      <td>0.817881</td>\n",
       "      <td>0.281149</td>\n",
       "      <td>0.485377</td>\n",
       "    </tr>\n",
       "    <tr>\n",
       "      <th>2</th>\n",
       "      <td>2</td>\n",
       "      <td>/Users/alisonchase/Documents/IFCB/NAAMES/NAAME...</td>\n",
       "      <td>9</td>\n",
       "      <td>NaN</td>\n",
       "      <td>2</td>\n",
       "      <td>0.000135</td>\n",
       "      <td>1.200640e-11</td>\n",
       "      <td>1.257837e-05</td>\n",
       "      <td>0.000220</td>\n",
       "      <td>2.652156e-05</td>\n",
       "      <td>0.000103</td>\n",
       "      <td>1.847491e-07</td>\n",
       "      <td>0.390917</td>\n",
       "      <td>0.000375</td>\n",
       "      <td>0.608209</td>\n",
       "      <td>0.676992</td>\n",
       "      <td>0.391791</td>\n",
       "      <td>0.782708</td>\n",
       "    </tr>\n",
       "    <tr>\n",
       "      <th>3</th>\n",
       "      <td>3</td>\n",
       "      <td>/Users/alisonchase/Documents/IFCB/NAAMES/NAAME...</td>\n",
       "      <td>7</td>\n",
       "      <td>Other</td>\n",
       "      <td>3</td>\n",
       "      <td>0.001123</td>\n",
       "      <td>1.054870e-14</td>\n",
       "      <td>4.769512e-05</td>\n",
       "      <td>0.000167</td>\n",
       "      <td>1.587807e-10</td>\n",
       "      <td>0.013132</td>\n",
       "      <td>1.304258e-05</td>\n",
       "      <td>0.984470</td>\n",
       "      <td>0.000259</td>\n",
       "      <td>0.000788</td>\n",
       "      <td>0.089775</td>\n",
       "      <td>0.015530</td>\n",
       "      <td>0.028662</td>\n",
       "    </tr>\n",
       "    <tr>\n",
       "      <th>4</th>\n",
       "      <td>4</td>\n",
       "      <td>/Users/alisonchase/Documents/IFCB/NAAMES/NAAME...</td>\n",
       "      <td>7</td>\n",
       "      <td>Other</td>\n",
       "      <td>4</td>\n",
       "      <td>0.000100</td>\n",
       "      <td>7.816149e-09</td>\n",
       "      <td>8.546382e-08</td>\n",
       "      <td>0.008106</td>\n",
       "      <td>8.124642e-09</td>\n",
       "      <td>0.343707</td>\n",
       "      <td>2.029714e-05</td>\n",
       "      <td>0.645359</td>\n",
       "      <td>0.000388</td>\n",
       "      <td>0.002319</td>\n",
       "      <td>0.706994</td>\n",
       "      <td>0.354641</td>\n",
       "      <td>0.698348</td>\n",
       "    </tr>\n",
       "  </tbody>\n",
       "</table>\n",
       "</div>"
      ],
      "text/plain": [
       "   Index                                         image_path  pred_label  \\\n",
       "0      0  /Users/alisonchase/Documents/IFCB/NAAMES/NAAME...           7   \n",
       "1      1  /Users/alisonchase/Documents/IFCB/NAAMES/NAAME...           7   \n",
       "2      2  /Users/alisonchase/Documents/IFCB/NAAMES/NAAME...           9   \n",
       "3      3  /Users/alisonchase/Documents/IFCB/NAAMES/NAAME...           7   \n",
       "4      4  /Users/alisonchase/Documents/IFCB/NAAMES/NAAME...           7   \n",
       "\n",
       "  pred_class  index         0             1             2         3  \\\n",
       "0      Other      0  0.003190  2.078881e-11  8.588634e-05  0.000173   \n",
       "1      Other      1  0.007551  5.126985e-07  3.592776e-04  0.002601   \n",
       "2        NaN      2  0.000135  1.200640e-11  1.257837e-05  0.000220   \n",
       "3      Other      3  0.001123  1.054870e-14  4.769512e-05  0.000167   \n",
       "4      Other      4  0.000100  7.816149e-09  8.546382e-08  0.008106   \n",
       "\n",
       "              4         5             6         7         8         9  \\\n",
       "0  8.921839e-08  0.003271  8.093556e-06  0.957533  0.035501  0.000237   \n",
       "1  2.534480e-06  0.204228  1.017940e-03  0.718851  0.061205  0.004183   \n",
       "2  2.652156e-05  0.000103  1.847491e-07  0.390917  0.000375  0.608209   \n",
       "3  1.587807e-10  0.013132  1.304258e-05  0.984470  0.000259  0.000788   \n",
       "4  8.124642e-09  0.343707  2.029714e-05  0.645359  0.000388  0.002319   \n",
       "\n",
       "   entropy_score  least_confident_score  least_margin_score  \n",
       "0       0.201498               0.042467            0.077968  \n",
       "1       0.817881               0.281149            0.485377  \n",
       "2       0.676992               0.391791            0.782708  \n",
       "3       0.089775               0.015530            0.028662  \n",
       "4       0.706994               0.354641            0.698348  "
      ]
     },
     "execution_count": 137,
     "metadata": {},
     "output_type": "execute_result"
    }
   ],
   "source": [
    "df.head()"
   ]
  },
  {
   "cell_type": "code",
   "execution_count": 157,
   "id": "138ef1e7",
   "metadata": {},
   "outputs": [
    {
     "data": {
      "text/html": [
       "<div>\n",
       "<style scoped>\n",
       "    .dataframe tbody tr th:only-of-type {\n",
       "        vertical-align: middle;\n",
       "    }\n",
       "\n",
       "    .dataframe tbody tr th {\n",
       "        vertical-align: top;\n",
       "    }\n",
       "\n",
       "    .dataframe thead th {\n",
       "        text-align: right;\n",
       "    }\n",
       "</style>\n",
       "<table border=\"1\" class=\"dataframe\">\n",
       "  <thead>\n",
       "    <tr style=\"text-align: right;\">\n",
       "      <th></th>\n",
       "      <th>pred_label</th>\n",
       "      <th>pred_class</th>\n",
       "    </tr>\n",
       "  </thead>\n",
       "  <tbody>\n",
       "    <tr>\n",
       "      <th>0</th>\n",
       "      <td>0</td>\n",
       "      <td>Chloro</td>\n",
       "    </tr>\n",
       "    <tr>\n",
       "      <th>1</th>\n",
       "      <td>1</td>\n",
       "      <td>Cilliate</td>\n",
       "    </tr>\n",
       "    <tr>\n",
       "      <th>2</th>\n",
       "      <td>2</td>\n",
       "      <td>Crypto</td>\n",
       "    </tr>\n",
       "    <tr>\n",
       "      <th>3</th>\n",
       "      <td>3</td>\n",
       "      <td>Diatom</td>\n",
       "    </tr>\n",
       "    <tr>\n",
       "      <th>4</th>\n",
       "      <td>4</td>\n",
       "      <td>Dictyo</td>\n",
       "    </tr>\n",
       "    <tr>\n",
       "      <th>5</th>\n",
       "      <td>5</td>\n",
       "      <td>Dinoflagellate</td>\n",
       "    </tr>\n",
       "    <tr>\n",
       "      <th>6</th>\n",
       "      <td>6</td>\n",
       "      <td>Eugleno</td>\n",
       "    </tr>\n",
       "    <tr>\n",
       "      <th>7</th>\n",
       "      <td>7</td>\n",
       "      <td>Other</td>\n",
       "    </tr>\n",
       "    <tr>\n",
       "      <th>8</th>\n",
       "      <td>8</td>\n",
       "      <td>Prymnesio</td>\n",
       "    </tr>\n",
       "    <tr>\n",
       "      <th>9</th>\n",
       "      <td>9</td>\n",
       "      <td>NaN</td>\n",
       "    </tr>\n",
       "  </tbody>\n",
       "</table>\n",
       "</div>"
      ],
      "text/plain": [
       "   pred_label      pred_class\n",
       "0           0          Chloro\n",
       "1           1        Cilliate\n",
       "2           2          Crypto\n",
       "3           3          Diatom\n",
       "4           4          Dictyo\n",
       "5           5  Dinoflagellate\n",
       "6           6         Eugleno\n",
       "7           7           Other\n",
       "8           8       Prymnesio\n",
       "9           9             NaN"
      ]
     },
     "execution_count": 157,
     "metadata": {},
     "output_type": "execute_result"
    }
   ],
   "source": [
    "df[['pred_label', 'pred_class']].drop_duplicates().sort_values(by='pred_label').reset_index(drop=True)"
   ]
  },
  {
   "cell_type": "markdown",
   "id": "019ea2a5",
   "metadata": {},
   "source": [
    "Note that all 9s are NaN"
   ]
  },
  {
   "cell_type": "code",
   "execution_count": 146,
   "id": "76ebf8f7",
   "metadata": {},
   "outputs": [],
   "source": [
    "df_no_probs = df.drop(columns=list(np.arange(10).astype(int).astype(str)))\n",
    "df_no_probs.to_parquet(\"inventory_df_with_scores.parquet.gzip\", index=False, compression='gzip')"
   ]
  },
  {
   "cell_type": "markdown",
   "id": "fca731c4",
   "metadata": {},
   "source": [
    "### Check Rank-Order"
   ]
  },
  {
   "cell_type": "code",
   "execution_count": 2,
   "id": "2b1a02fe",
   "metadata": {},
   "outputs": [],
   "source": [
    "df = pd.read_parquet(\"inventory_df_with_scores.parquet.gzip\")"
   ]
  },
  {
   "cell_type": "code",
   "execution_count": 159,
   "id": "37f1cb25",
   "metadata": {},
   "outputs": [],
   "source": [
    "df_no_probs.drop(columns = ['index'], inplace=True)"
   ]
  },
  {
   "cell_type": "code",
   "execution_count": 161,
   "id": "7dfad1b2",
   "metadata": {},
   "outputs": [
    {
     "data": {
      "text/html": [
       "<div>\n",
       "<style scoped>\n",
       "    .dataframe tbody tr th:only-of-type {\n",
       "        vertical-align: middle;\n",
       "    }\n",
       "\n",
       "    .dataframe tbody tr th {\n",
       "        vertical-align: top;\n",
       "    }\n",
       "\n",
       "    .dataframe thead th {\n",
       "        text-align: right;\n",
       "    }\n",
       "</style>\n",
       "<table border=\"1\" class=\"dataframe\">\n",
       "  <thead>\n",
       "    <tr style=\"text-align: right;\">\n",
       "      <th></th>\n",
       "      <th>entropy_score</th>\n",
       "      <th>least_confident_score</th>\n",
       "      <th>least_margin_score</th>\n",
       "    </tr>\n",
       "  </thead>\n",
       "  <tbody>\n",
       "    <tr>\n",
       "      <th>0</th>\n",
       "      <td>0.201498</td>\n",
       "      <td>0.042467</td>\n",
       "      <td>0.077968</td>\n",
       "    </tr>\n",
       "    <tr>\n",
       "      <th>1</th>\n",
       "      <td>0.817881</td>\n",
       "      <td>0.281149</td>\n",
       "      <td>0.485377</td>\n",
       "    </tr>\n",
       "    <tr>\n",
       "      <th>2</th>\n",
       "      <td>0.676992</td>\n",
       "      <td>0.391791</td>\n",
       "      <td>0.782708</td>\n",
       "    </tr>\n",
       "    <tr>\n",
       "      <th>3</th>\n",
       "      <td>0.089775</td>\n",
       "      <td>0.015530</td>\n",
       "      <td>0.028662</td>\n",
       "    </tr>\n",
       "    <tr>\n",
       "      <th>4</th>\n",
       "      <td>0.706994</td>\n",
       "      <td>0.354641</td>\n",
       "      <td>0.698348</td>\n",
       "    </tr>\n",
       "    <tr>\n",
       "      <th>...</th>\n",
       "      <td>...</td>\n",
       "      <td>...</td>\n",
       "      <td>...</td>\n",
       "    </tr>\n",
       "    <tr>\n",
       "      <th>1055995</th>\n",
       "      <td>0.234404</td>\n",
       "      <td>0.057854</td>\n",
       "      <td>0.112909</td>\n",
       "    </tr>\n",
       "    <tr>\n",
       "      <th>1055996</th>\n",
       "      <td>1.129720</td>\n",
       "      <td>0.399378</td>\n",
       "      <td>0.606505</td>\n",
       "    </tr>\n",
       "    <tr>\n",
       "      <th>1055997</th>\n",
       "      <td>1.289111</td>\n",
       "      <td>0.385930</td>\n",
       "      <td>0.545256</td>\n",
       "    </tr>\n",
       "    <tr>\n",
       "      <th>1055998</th>\n",
       "      <td>0.526977</td>\n",
       "      <td>0.174938</td>\n",
       "      <td>0.332709</td>\n",
       "    </tr>\n",
       "    <tr>\n",
       "      <th>1055999</th>\n",
       "      <td>0.795194</td>\n",
       "      <td>0.474722</td>\n",
       "      <td>0.931747</td>\n",
       "    </tr>\n",
       "  </tbody>\n",
       "</table>\n",
       "<p>1056000 rows × 3 columns</p>\n",
       "</div>"
      ],
      "text/plain": [
       "         entropy_score  least_confident_score  least_margin_score\n",
       "0             0.201498               0.042467            0.077968\n",
       "1             0.817881               0.281149            0.485377\n",
       "2             0.676992               0.391791            0.782708\n",
       "3             0.089775               0.015530            0.028662\n",
       "4             0.706994               0.354641            0.698348\n",
       "...                ...                    ...                 ...\n",
       "1055995       0.234404               0.057854            0.112909\n",
       "1055996       1.129720               0.399378            0.606505\n",
       "1055997       1.289111               0.385930            0.545256\n",
       "1055998       0.526977               0.174938            0.332709\n",
       "1055999       0.795194               0.474722            0.931747\n",
       "\n",
       "[1056000 rows x 3 columns]"
      ]
     },
     "execution_count": 161,
     "metadata": {},
     "output_type": "execute_result"
    }
   ],
   "source": [
    "df_no_probs[['entropy_score', 'least_confident_score', 'least_margin_score']]"
   ]
  },
  {
   "cell_type": "code",
   "execution_count": 163,
   "id": "ffd89a4f",
   "metadata": {},
   "outputs": [
    {
     "name": "stdout",
     "output_type": "stream",
     "text": [
      "Spearman Rank Correlation Coefficients:\n",
      "entropy_score vs least_confident_score: 0.9964544145451807, p-value: 0.0\n",
      "entropy_score vs least_margin_score: 0.9927704277719999, p-value: 0.0\n",
      "least_confident_score vs least_margin_score: 0.9990185759491628, p-value: 0.0\n"
     ]
    }
   ],
   "source": [
    "import pandas as pd\n",
    "from scipy.stats import spearmanr\n",
    "\n",
    "# Assuming df is your DataFrame with the given columns\n",
    "# Replace df with your actual DataFrame name\n",
    "\n",
    "columns_to_compare = [\"entropy_score\", \"least_confident_score\", \"least_margin_score\"]\n",
    "\n",
    "# Calculate Spearman rank correlation coefficients and p-values\n",
    "cor_entropy_vs_confident, p_value_entropy_vs_confident = spearmanr(df[\"entropy_score\"], df[\"least_confident_score\"])\n",
    "cor_entropy_vs_margin, p_value_entropy_vs_margin = spearmanr(df[\"entropy_score\"], df[\"least_margin_score\"])\n",
    "cor_confident_vs_margin, p_value_confident_vs_margin = spearmanr(df[\"least_confident_score\"], df[\"least_margin_score\"])\n",
    "\n",
    "# Display results\n",
    "print(f\"Spearman Rank Correlation Coefficients:\")\n",
    "print(f\"entropy_score vs least_confident_score: {cor_entropy_vs_confident}, p-value: {p_value_entropy_vs_confident}\")\n",
    "print(f\"entropy_score vs least_margin_score: {cor_entropy_vs_margin}, p-value: {p_value_entropy_vs_margin}\")\n",
    "print(f\"least_confident_score vs least_margin_score: {cor_confident_vs_margin}, p-value: {p_value_confident_vs_margin}\")\n"
   ]
  },
  {
   "cell_type": "code",
   "execution_count": 5,
   "id": "3d4f7c58",
   "metadata": {},
   "outputs": [
    {
     "data": {
      "image/png": "[encoded data removed]",
      "text/plain": [
       "<Figure size 1200x400 with 3 Axes>"
      ]
     },
     "metadata": {},
     "output_type": "display_data"
    }
   ],
   "source": [
    "columns_to_compare = [\"entropy_score\", \"least_confident_score\", \"least_margin_score\"]\n",
    "\n",
    "# Set up subplots for each column\n",
    "fig, axes = plt.subplots(ncols=len(columns_to_compare), nrows=1, figsize=(12, 4), sharey=True)\n",
    "fig.subplots_adjust(wspace=0.5)\n",
    "\n",
    "for i, col in enumerate(columns_to_compare):\n",
    "    # Plot log-histogram of values\n",
    "    axes[i].hist(df[col], bins=100, color='green', alpha=0.7)\n",
    "    axes[i].set_title(f'{col}', weight='bold')\n",
    "    axes[i].set_xlabel('Dissimilarity Score')\n",
    "    axes[i].set_ylabel('Log(Frequency)')\n",
    "    axes[i].set_yscale('log')\n",
    "\n",
    "plt.tight_layout()\n",
    "plt.show()\n"
   ]
  },
  {
   "cell_type": "code",
   "execution_count": 200,
   "id": "54eee24c",
   "metadata": {},
   "outputs": [
    {
     "data": {
      "text/html": [
       "<div>\n",
       "<style scoped>\n",
       "    .dataframe tbody tr th:only-of-type {\n",
       "        vertical-align: middle;\n",
       "    }\n",
       "\n",
       "    .dataframe tbody tr th {\n",
       "        vertical-align: top;\n",
       "    }\n",
       "\n",
       "    .dataframe thead th {\n",
       "        text-align: right;\n",
       "    }\n",
       "</style>\n",
       "<table border=\"1\" class=\"dataframe\">\n",
       "  <thead>\n",
       "    <tr style=\"text-align: right;\">\n",
       "      <th></th>\n",
       "      <th>entropy_score</th>\n",
       "      <th>least_confident_score</th>\n",
       "      <th>least_margin_score</th>\n",
       "    </tr>\n",
       "  </thead>\n",
       "  <tbody>\n",
       "    <tr>\n",
       "      <th>3163</th>\n",
       "      <td>1</td>\n",
       "      <td>102</td>\n",
       "      <td>2</td>\n",
       "    </tr>\n",
       "    <tr>\n",
       "      <th>7474</th>\n",
       "      <td>2</td>\n",
       "      <td>183</td>\n",
       "      <td>4</td>\n",
       "    </tr>\n",
       "    <tr>\n",
       "      <th>8219</th>\n",
       "      <td>3</td>\n",
       "      <td>188</td>\n",
       "      <td>5</td>\n",
       "    </tr>\n",
       "    <tr>\n",
       "      <th>8343</th>\n",
       "      <td>4</td>\n",
       "      <td>191</td>\n",
       "      <td>6</td>\n",
       "    </tr>\n",
       "    <tr>\n",
       "      <th>9673</th>\n",
       "      <td>5</td>\n",
       "      <td>203</td>\n",
       "      <td>9</td>\n",
       "    </tr>\n",
       "    <tr>\n",
       "      <th>...</th>\n",
       "      <td>...</td>\n",
       "      <td>...</td>\n",
       "      <td>...</td>\n",
       "    </tr>\n",
       "    <tr>\n",
       "      <th>670965</th>\n",
       "      <td>1055996</td>\n",
       "      <td>1055914</td>\n",
       "      <td>1027005</td>\n",
       "    </tr>\n",
       "    <tr>\n",
       "      <th>961125</th>\n",
       "      <td>1055997</td>\n",
       "      <td>1055970</td>\n",
       "      <td>1045129</td>\n",
       "    </tr>\n",
       "    <tr>\n",
       "      <th>722824</th>\n",
       "      <td>1055998</td>\n",
       "      <td>1055986</td>\n",
       "      <td>1049603</td>\n",
       "    </tr>\n",
       "    <tr>\n",
       "      <th>256206</th>\n",
       "      <td>1055999</td>\n",
       "      <td>1055957</td>\n",
       "      <td>1034886</td>\n",
       "    </tr>\n",
       "    <tr>\n",
       "      <th>968299</th>\n",
       "      <td>1056000</td>\n",
       "      <td>1055999</td>\n",
       "      <td>1043227</td>\n",
       "    </tr>\n",
       "  </tbody>\n",
       "</table>\n",
       "<p>1056000 rows × 3 columns</p>\n",
       "</div>"
      ],
      "text/plain": [
       "        entropy_score  least_confident_score  least_margin_score\n",
       "3163                1                    102                   2\n",
       "7474                2                    183                   4\n",
       "8219                3                    188                   5\n",
       "8343                4                    191                   6\n",
       "9673                5                    203                   9\n",
       "...               ...                    ...                 ...\n",
       "670965        1055996                1055914             1027005\n",
       "961125        1055997                1055970             1045129\n",
       "722824        1055998                1055986             1049603\n",
       "256206        1055999                1055957             1034886\n",
       "968299        1056000                1055999             1043227\n",
       "\n",
       "[1056000 rows x 3 columns]"
      ]
     },
     "execution_count": 200,
     "metadata": {},
     "output_type": "execute_result"
    }
   ],
   "source": [
    "df_ranks.astype(int).sort_values(by = 'entropy_score')"
   ]
  },
  {
   "cell_type": "code",
   "execution_count": 7,
   "id": "ddc0a3f7",
   "metadata": {},
   "outputs": [
    {
     "name": "stdout",
     "output_type": "stream",
     "text": [
      "CPU times: total: 984 ms\n",
      "Wall time: 992 ms\n"
     ]
    },
    {
     "data": {
      "text/plain": [
       "[<matplotlib.lines.Line2D at 0x26701fb61d0>]"
      ]
     },
     "execution_count": 7,
     "metadata": {},
     "output_type": "execute_result"
    },
    {
     "data": {
      "image/png": "[encoded data removed]",
      "text/plain": [
       "<Figure size 640x480 with 1 Axes>"
      ]
     },
     "metadata": {},
     "output_type": "display_data"
    }
   ],
   "source": [
    "%%time\n",
    "df_ranks = df[columns_to_compare].rank(method='first').astype(int)\n",
    "\n",
    "plt.plot(df_ranks.astype(int).sort_values(by = 'least_confident_score')['least_confident_score'],\n",
    "         df_ranks.astype(int).sort_values(by = 'least_confident_score')['entropy_score']\n",
    "        )"
   ]
  },
  {
   "cell_type": "code",
   "execution_count": null,
   "id": "04bfa002",
   "metadata": {},
   "outputs": [],
   "source": [
    "%%time\n",
    "df_ranks = df[columns_to_compare].rank(method='first').astype(int)\n",
    "\n",
    "plt.plot(df_ranks.astype(int).sort_values(by = 'least_confident_score')['least_confident_score'],\n",
    "         df_ranks.astype(int).sort_values(by = 'least_confident_score')['entropy_score']\n",
    "        )"
   ]
  },
  {
   "cell_type": "code",
   "execution_count": 11,
   "id": "89acf2f3",
   "metadata": {},
   "outputs": [
    {
     "data": {
      "application/vnd.jupyter.widget-view+json": {
       "model_id": "9b1f9f85d0c7483aa4e37fc028a633b7",
       "version_major": 2,
       "version_minor": 0
      },
      "text/plain": [
       "  0%|          | 0/3 [00:00<?, ?it/s]"
      ]
     },
     "metadata": {},
     "output_type": "display_data"
    },
    {
     "data": {
      "application/vnd.jupyter.widget-view+json": {
       "model_id": "0328efee838f4e109a7c92794040564a",
       "version_major": 2,
       "version_minor": 0
      },
      "text/plain": [
       "  0%|          | 0/2 [00:00<?, ?it/s]"
      ]
     },
     "metadata": {},
     "output_type": "display_data"
    },
    {
     "data": {
      "application/vnd.jupyter.widget-view+json": {
       "model_id": "e6d0e7aca6d94803826564039b1f0f79",
       "version_major": 2,
       "version_minor": 0
      },
      "text/plain": [
       "  0%|          | 0/2 [00:00<?, ?it/s]"
      ]
     },
     "metadata": {},
     "output_type": "display_data"
    },
    {
     "data": {
      "application/vnd.jupyter.widget-view+json": {
       "model_id": "ee80b3115bf9469585a4e59ff7b66882",
       "version_major": 2,
       "version_minor": 0
      },
      "text/plain": [
       "  0%|          | 0/2 [00:00<?, ?it/s]"
      ]
     },
     "metadata": {},
     "output_type": "display_data"
    },
    {
     "data": {
      "image/png": "[encoded data removed]",
      "text/plain": [
       "<Figure size 800x1200 with 6 Axes>"
      ]
     },
     "metadata": {},
     "output_type": "display_data"
    }
   ],
   "source": [
    "columns_to_compare = [\"entropy_score\", \"least_confident_score\", \"least_margin_score\"]\n",
    "\n",
    "# Convert numerical columns to ranks\n",
    "df_ranks = df[columns_to_compare].rank(method='first').astype(int)\n",
    "\n",
    "# Set up subplots for each column\n",
    "fig, axes = plt.subplots(ncols=len(columns_to_compare)-1, \n",
    "                         nrows=len(columns_to_compare), \n",
    "                         figsize=(8, 12), sharey=True, sharex=True)\n",
    "fig.subplots_adjust(wspace=0.5)\n",
    "\n",
    "for i, col in enumerate(tqdm(columns_to_compare)):\n",
    "    # Plot log-histogram of values\n",
    "    tmp_df = df_ranks.sort_values(by=f'{col}')\n",
    "    for j in trange(1, len(columns_to_compare)):\n",
    "        col_j = columns_to_compare[(i+j) % len(columns_to_compare)]\n",
    "        axes[i,j-1].plot(tmp_df[col], tmp_df[col_j], color='green', alpha=0.7)\n",
    "#         axes[i,j].set_title(f'{col}', weight='bold')\n",
    "        axes[i,j-1].set_xlabel(f'Ranked {col}', weight='bold')\n",
    "        axes[i,j-1].set_ylabel(f'Ranked {col_j}', weight='bold')\n",
    "#     axes[i].set_yscale('log')\n",
    "\n",
    "plt.tight_layout()\n",
    "# plt.savefig(\"rank_comparisons.png\", dpi=400)\n"
   ]
  },
  {
   "cell_type": "code",
   "execution_count": null,
   "id": "0561aca6",
   "metadata": {},
   "outputs": [],
   "source": [
    "df[columns_to_compare].rank()"
   ]
  }
 ],
 "metadata": {
  "kernelspec": {
   "display_name": "pivot-modAL",
   "language": "python",
   "name": "pivot-modal"
  },
  "language_info": {
   "codemirror_mode": {
    "name": "ipython",
    "version": 3
   },
   "file_extension": ".py",
   "mimetype": "text/x-python",
   "name": "python",
   "nbconvert_exporter": "python",
   "pygments_lexer": "ipython3",
   "version": "3.10.13"
  }
 },
 "nbformat": 4,
 "nbformat_minor": 5
}
