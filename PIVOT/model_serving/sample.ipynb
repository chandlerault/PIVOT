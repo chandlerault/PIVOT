{
 "cells": [
  {
   "cell_type": "markdown",
   "id": "589d5b49-eaec-44b7-b14f-0146f30769f5",
   "metadata": {},
   "source": [
    "1. Log a new model on MLflow and connect to AzureML\n",
    "2. Insert ???\n",
    "3. Deploy logged model as stream endpoint\n",
    "4. Get AzureML model info from model_id (get endpoint_name from model_id)\n",
    "5. Call endpoint and make predictions given pd.DataFrame with cols: IMAGE_ID, BLOB_FILEPATH\n",
    "6. Convert predictions to correct format (m_id, i_id, class_prob, predlabel) --> dic\n",
    "7. Insert predictions into predictions table"
   ]
  },
  {
   "cell_type": "code",
   "execution_count": 4,
   "id": "d0048bb0-1b7f-44ab-93ed-b422fdaafd73",
   "metadata": {},
   "outputs": [],
   "source": [
    "import json\n",
    "import sys\n",
    "from tqdm.auto import trange, tqdm\n",
    "import concurrent.futures\n",
    "import yaml\n",
    "import os\n",
    "\n",
    "import numpy as np\n",
    "import pandas as pd\n",
    "import cv2\n",
    "import imageio\n",
    "\n",
    "from azure.storage.blob import BlobServiceClient, ContainerClient, BlobClient\n",
    "from azure.identity import DefaultAzureCredential\n",
    "from azure.ai.ml import MLClient\n",
    "from azure.ai.ml.entities import (\n",
    "    ManagedOnlineEndpoint,\n",
    "    ManagedOnlineDeployment,\n",
    "    Model as AzureMLModel,\n",
    "    Environment,\n",
    "    CodeConfiguration,\n",
    ")\n",
    "from azureml.core.webservice import AciWebservice, Webservice\n",
    "from azureml.core import Workspace, Model, Experiment, Run\n",
    "from azureml.core.model import InferenceConfig\n",
    "\n",
    "import tensorflow as tf\n",
    "from tensorflow.keras.models import Model as KerasModel, model_from_json\n",
    "from tensorflow.keras.optimizers import Adam\n",
    "from keras.callbacks import Callback\n",
    "\n",
    "import mlflow\n",
    "import mlflow.keras\n",
    "\n",
    "from model_serving import prediction\n",
    "from model_serving import mlflow_log\n",
    "with open(\"./model_serving/config.yaml\") as f:\n",
    "    config = yaml.load(f, Loader=yaml.FullLoader)"
   ]
  },
  {
   "cell_type": "markdown",
   "id": "44977173-2782-415d-8969-225643614eb3",
   "metadata": {},
   "source": [
    "#### Log a new model on MLflow and connect to AzureML"
   ]
  },
  {
   "cell_type": "code",
   "execution_count": null,
   "id": "49f69be7-b0b6-4a15-998b-f38d6bc6bdf2",
   "metadata": {},
   "outputs": [],
   "source": [
    "model = # load_model that was trained using sql_utils.get_train_df() ????\n",
    "ml_client = MLClient.from_config(credential=DefaultAzureCredential())\n",
    "run_name = 'basemodel' # change each time obv\n",
    "\n",
    "mlflow_log.log_model(model, ml_client, run_name) "
   ]
  },
  {
   "cell_type": "markdown",
   "id": "9c445857-1e58-4fe0-acfb-d2c829912ebe",
   "metadata": {},
   "source": [
    "#### Now insert ???"
   ]
  },
  {
   "cell_type": "code",
   "execution_count": null,
   "id": "2bd092b6-d817-4763-982b-9d418c93bbdb",
   "metadata": {},
   "outputs": [],
   "source": [
    "models = pd.DataFrame(app_utils.get_models())\n",
    "model_id = models.m_id.max() + 1\n",
    "model_name = run_name\n",
    "data = [{'model_name': model_name, \n",
    "         'm_id': model_id}]\n",
    "\n",
    "data_utils.insert_data('models', data)"
   ]
  },
  {
   "cell_type": "markdown",
   "id": "333d5843-43f1-4e0b-afab-2f02ea714c9e",
   "metadata": {},
   "source": [
    "#### Deploy logged model as stream endpoint"
   ]
  },
  {
   "cell_type": "code",
   "execution_count": null,
   "id": "4a8a7e7a-60ee-4c73-a769-fba77edd50da",
   "metadata": {},
   "outputs": [],
   "source": [
    "# how to add a tag to model to associate with model_id\n",
    "\n",
    "scoring_file = './model_serving/score.py' # update this\n",
    "deploy.deploy(model_name, scoring_file)\n",
    "\n",
    "# maybe\n",
    "test_deployment.test_deployment(model_name)"
   ]
  },
  {
   "cell_type": "markdown",
   "id": "df70ab04-b6be-4ce7-8f3c-3be98d1c7245",
   "metadata": {},
   "source": [
    "#### Get AzureML model info from model_id (get endpoint_name from model_id)"
   ]
  },
  {
   "cell_type": "code",
   "execution_count": 8,
   "id": "cfff14d3-bf79-4f36-8647-cf6347fc5a4f",
   "metadata": {},
   "outputs": [],
   "source": [
    "ml_client = MLClient(subscription_id=\"156ffac2-0545-4d4e-aab3-f89b83635d04\",\n",
    "resource_group=\"defaultresourcegroup-wus2\",\n",
    "workspace_name=\"pivot\", credential=DefaultAzureCredential())\n",
    "ws = Workspace.from_config('./model_serving/config.json')"
   ]
  },
  {
   "cell_type": "code",
   "execution_count": 9,
   "id": "8bfc8582-5b82-4aec-b7b1-a5361d758e83",
   "metadata": {},
   "outputs": [
    {
     "ename": "AttributeError",
     "evalue": "'Run' object has no attribute 'get_models'",
     "output_type": "error",
     "traceback": [
      "\u001b[0;31m---------------------------------------------------------------------------\u001b[0m",
      "\u001b[0;31mAttributeError\u001b[0m                            Traceback (most recent call last)",
      "Cell \u001b[0;32mIn[9], line 12\u001b[0m\n\u001b[1;32m     10\u001b[0m models \u001b[38;5;241m=\u001b[39m []\n\u001b[1;32m     11\u001b[0m \u001b[38;5;28;01mfor\u001b[39;00m run \u001b[38;5;129;01min\u001b[39;00m runs:\n\u001b[0;32m---> 12\u001b[0m     run_models \u001b[38;5;241m=\u001b[39m \u001b[43mrun\u001b[49m\u001b[38;5;241;43m.\u001b[39;49m\u001b[43mget_models\u001b[49m()\n\u001b[1;32m     13\u001b[0m     models\u001b[38;5;241m.\u001b[39mextend(run_models)\n",
      "\u001b[0;31mAttributeError\u001b[0m: 'Run' object has no attribute 'get_models'"
     ]
    }
   ],
   "source": [
    "experiment_name = config['experiment_name']\n",
    "run_name = 'basemodel'\n",
    "\n",
    "experiment = Experiment(workspace=ws, name=experiment_name)\n",
    "# run = Run(experiment=experiment, run_id=run_name)\n",
    "\n",
    "# Get a list of all models in the experiment\n",
    "# models = Model.list(workspace=ws, experiment_name=experiment_name)\n",
    "runs = experiment.get_runs()\n",
    "models = []\n",
    "for run in runs:\n",
    "    run_models = run.get_models()\n",
    "    models.extend(run_models)"
   ]
  },
  {
   "cell_type": "code",
   "execution_count": 10,
   "id": "afe30bb8-65d7-417e-812d-3cb0cffd4479",
   "metadata": {},
   "outputs": [
    {
     "data": {
      "text/html": [
       "<table style=\"width:100%\"><tr><th>Name</th><th>Workspace</th><th>Report Page</th><th>Docs Page</th></tr><tr><td>adt-pivot</td><td>pivot</td><td><a href=\"https://ml.azure.com/experiments/id/728af546-4739-45d8-846a-8be2cefcf1ef?wsid=/subscriptions/156ffac2-0545-4d4e-aab3-f89b83635d04/resourcegroups/defaultresourcegroup-wus2/workspaces/pivot&amp;tid=f6b6dd5b-f02f-441a-99a0-162ac5060bd2\" target=\"_blank\" rel=\"noopener\">Link to Azure Machine Learning studio</a></td><td><a href=\"https://docs.microsoft.com/en-us/python/api/azureml-core/azureml.core.experiment.Experiment?view=azure-ml-py\" target=\"_blank\" rel=\"noopener\">Link to Documentation</a></td></tr></table>"
      ],
      "text/plain": [
       "Experiment(Name: adt-pivot,\n",
       "Workspace: pivot)"
      ]
     },
     "execution_count": 10,
     "metadata": {},
     "output_type": "execute_result"
    }
   ],
   "source": [
    "experiment"
   ]
  },
  {
   "cell_type": "code",
   "execution_count": 11,
   "id": "2f28e762-462d-4eca-9407-ac185a91a33c",
   "metadata": {},
   "outputs": [
    {
     "name": "stdout",
     "output_type": "stream",
     "text": [
      "Run(Experiment: adt-pivot,\n",
      "Id: 3ce8d4e5-6343-4d44-be1e-e9c99b3df968,\n",
      "Type: None,\n",
      "Status: Completed)\n",
      "Run(Experiment: adt-pivot,\n",
      "Id: 0f5b3a2b-fde9-401b-bdaa-31ed72ecc95c,\n",
      "Type: None,\n",
      "Status: Completed)\n"
     ]
    }
   ],
   "source": [
    "# get_runs() returns all runs in reverse chronological order (first is most recent)\n",
    "for i in experiment.get_runs():\n",
    "    print(i)"
   ]
  },
  {
   "cell_type": "code",
   "execution_count": 16,
   "id": "30d7e2b4-7fe4-4da2-9602-8ffaa747a519",
   "metadata": {},
   "outputs": [],
   "source": [
    "runs = []\n",
    "for i in experiment.get_runs():\n",
    "    runs.append(i)"
   ]
  },
  {
   "cell_type": "code",
   "execution_count": 23,
   "id": "fc8ff5d0-da12-4388-9da1-b201b3284507",
   "metadata": {},
   "outputs": [
    {
     "data": {
      "text/plain": [
       "{}"
      ]
     },
     "execution_count": 23,
     "metadata": {},
     "output_type": "execute_result"
    }
   ],
   "source": [
    "runs[0].get_metrics()"
   ]
  },
  {
   "cell_type": "code",
   "execution_count": null,
   "id": "44ee5c5d-acd9-4ffc-9fbf-951d471c6b92",
   "metadata": {},
   "outputs": [],
   "source": [
    "for run in ml_client.jobs.list():\n",
    "    print(\"Name\",run.display_name)\n",
    "    print(\"Type\",run.type)\n",
    "    print(\"Compute\",run.compute)\n",
    "    print(\"Status\",run.status)"
   ]
  },
  {
   "cell_type": "code",
   "execution_count": null,
   "id": "cee910a9-4748-451e-8d11-4424b5ea2f42",
   "metadata": {},
   "outputs": [],
   "source": [
    "endpoint_name = "
   ]
  },
  {
   "cell_type": "code",
   "execution_count": null,
   "id": "333a7950-4639-4e22-b996-66fc77785f9f",
   "metadata": {},
   "outputs": [],
   "source": [
    "# write a function\n",
    "def get_model_info(model_id):\n",
    "    return endpoint_name #, artifacts maybe"
   ]
  },
  {
   "cell_type": "markdown",
   "id": "8dfaeebc-4092-45c8-9616-aa708e9236a8",
   "metadata": {},
   "source": [
    "#### Call endpoint and make predictions given pd.DataFrame with cols: IMAGE_ID, BLOB_FILEPATH"
   ]
  },
  {
   "cell_type": "code",
   "execution_count": 8,
   "id": "bf495d25-7f49-4f93-8105-8f229b172b0d",
   "metadata": {},
   "outputs": [],
   "source": [
    "# Need to figure out how to get 'azureml-model-deployment' from endpoint_name \n",
    "# Used in get_predictions()"
   ]
  },
  {
   "cell_type": "code",
   "execution_count": 5,
   "id": "a90a9a0c-28eb-49af-b48c-56c58d2670ca",
   "metadata": {},
   "outputs": [],
   "source": [
    "# sample input\n",
    "df = pd.DataFrame({'IMAGE_ID': [1, 2, 3], \n",
    "                   'BLOB_FILEPATH': ['D20160524T225721_IFCB107/IFCB107D20160524T225721P00213.png', \n",
    "                                     'D20160524T225721_IFCB107/IFCB107D20160524T225721P00575.png', \n",
    "                                     'D20160524T225721_IFCB107/IFCB107D20160524T225721P00561.png']})"
   ]
  },
  {
   "cell_type": "code",
   "execution_count": 6,
   "id": "78165bf6-774b-48b5-b485-53898efe9a50",
   "metadata": {},
   "outputs": [
    {
     "data": {
      "text/html": [
       "<div>\n",
       "<style scoped>\n",
       "    .dataframe tbody tr th:only-of-type {\n",
       "        vertical-align: middle;\n",
       "    }\n",
       "\n",
       "    .dataframe tbody tr th {\n",
       "        vertical-align: top;\n",
       "    }\n",
       "\n",
       "    .dataframe thead th {\n",
       "        text-align: right;\n",
       "    }\n",
       "</style>\n",
       "<table border=\"1\" class=\"dataframe\">\n",
       "  <thead>\n",
       "    <tr style=\"text-align: right;\">\n",
       "      <th></th>\n",
       "      <th>IMAGE_ID</th>\n",
       "      <th>BLOB_FILEPATH</th>\n",
       "    </tr>\n",
       "  </thead>\n",
       "  <tbody>\n",
       "    <tr>\n",
       "      <th>0</th>\n",
       "      <td>1</td>\n",
       "      <td>D20160524T225721_IFCB107/IFCB107D20160524T2257...</td>\n",
       "    </tr>\n",
       "    <tr>\n",
       "      <th>1</th>\n",
       "      <td>2</td>\n",
       "      <td>D20160524T225721_IFCB107/IFCB107D20160524T2257...</td>\n",
       "    </tr>\n",
       "    <tr>\n",
       "      <th>2</th>\n",
       "      <td>3</td>\n",
       "      <td>D20160524T225721_IFCB107/IFCB107D20160524T2257...</td>\n",
       "    </tr>\n",
       "  </tbody>\n",
       "</table>\n",
       "</div>"
      ],
      "text/plain": [
       "   IMAGE_ID                                      BLOB_FILEPATH\n",
       "0         1  D20160524T225721_IFCB107/IFCB107D20160524T2257...\n",
       "1         2  D20160524T225721_IFCB107/IFCB107D20160524T2257...\n",
       "2         3  D20160524T225721_IFCB107/IFCB107D20160524T2257..."
      ]
     },
     "execution_count": 6,
     "metadata": {},
     "output_type": "execute_result"
    }
   ],
   "source": [
    "df"
   ]
  },
  {
   "cell_type": "code",
   "execution_count": 12,
   "id": "0eb5a926-9758-4e05-a38a-935059ebf263",
   "metadata": {},
   "outputs": [],
   "source": [
    "# endpoint_name = get_model_info(m_id)\n",
    "scoring_uri = config['scoring_uri'].format(endpoint_name='basemodel-endpoint')\n",
    "api_key = config['api_key']"
   ]
  },
  {
   "cell_type": "code",
   "execution_count": 22,
   "id": "cee8e468-6a27-4175-99d9-4497a62fe0c2",
   "metadata": {},
   "outputs": [
    {
     "data": {
      "text/html": [
       "<div>\n",
       "<style scoped>\n",
       "    .dataframe tbody tr th:only-of-type {\n",
       "        vertical-align: middle;\n",
       "    }\n",
       "\n",
       "    .dataframe tbody tr th {\n",
       "        vertical-align: top;\n",
       "    }\n",
       "\n",
       "    .dataframe thead th {\n",
       "        text-align: right;\n",
       "    }\n",
       "</style>\n",
       "<table border=\"1\" class=\"dataframe\">\n",
       "  <thead>\n",
       "    <tr style=\"text-align: right;\">\n",
       "      <th></th>\n",
       "      <th>IMAGE_ID</th>\n",
       "      <th>BLOB_FILEPATH</th>\n",
       "      <th>cloud_urls</th>\n",
       "    </tr>\n",
       "  </thead>\n",
       "  <tbody>\n",
       "    <tr>\n",
       "      <th>0</th>\n",
       "      <td>1</td>\n",
       "      <td>D20160524T225721_IFCB107/IFCB107D20160524T2257...</td>\n",
       "      <td>https://ifcb.blob.core.windows.net/naames/NAAM...</td>\n",
       "    </tr>\n",
       "    <tr>\n",
       "      <th>1</th>\n",
       "      <td>2</td>\n",
       "      <td>D20160524T225721_IFCB107/IFCB107D20160524T2257...</td>\n",
       "      <td>https://ifcb.blob.core.windows.net/naames/NAAM...</td>\n",
       "    </tr>\n",
       "    <tr>\n",
       "      <th>2</th>\n",
       "      <td>3</td>\n",
       "      <td>D20160524T225721_IFCB107/IFCB107D20160524T2257...</td>\n",
       "      <td>https://ifcb.blob.core.windows.net/naames/NAAM...</td>\n",
       "    </tr>\n",
       "  </tbody>\n",
       "</table>\n",
       "</div>"
      ],
      "text/plain": [
       "   IMAGE_ID                                      BLOB_FILEPATH  \\\n",
       "0         1  D20160524T225721_IFCB107/IFCB107D20160524T2257...   \n",
       "1         2  D20160524T225721_IFCB107/IFCB107D20160524T2257...   \n",
       "2         3  D20160524T225721_IFCB107/IFCB107D20160524T2257...   \n",
       "\n",
       "                                          cloud_urls  \n",
       "0  https://ifcb.blob.core.windows.net/naames/NAAM...  \n",
       "1  https://ifcb.blob.core.windows.net/naames/NAAM...  \n",
       "2  https://ifcb.blob.core.windows.net/naames/NAAM...  "
      ]
     },
     "execution_count": 22,
     "metadata": {},
     "output_type": "execute_result"
    }
   ],
   "source": [
    "df['cloud_urls'] = df.BLOB_FILEPATH.apply(lambda x: config['cloud_url'].format(filepath=x))\n",
    "df"
   ]
  },
  {
   "cell_type": "code",
   "execution_count": 29,
   "id": "249a47fb-4d0a-4c54-a136-02c1708145f9",
   "metadata": {},
   "outputs": [
    {
     "data": {
      "text/plain": [
       "<module 'model_serving.prediction' from '/Users/aditis/Documents/DATA590/PIVOT/PIVOT/model_serving/prediction.py'>"
      ]
     },
     "execution_count": 29,
     "metadata": {},
     "output_type": "execute_result"
    }
   ],
   "source": [
    "from model_serving import prediction\n",
    "import importlib\n",
    "importlib.reload(prediction)"
   ]
  },
  {
   "cell_type": "code",
   "execution_count": 30,
   "id": "589ae210-dc69-4809-aa9b-af0952a1a399",
   "metadata": {},
   "outputs": [
    {
     "name": "stdout",
     "output_type": "stream",
     "text": [
      "<Response [200]>\n",
      "[[0.0031898769084364176, 2.0788617355327332e-11, 8.588602213421836e-05, 0.00017344176012557, 8.921755068058701e-08, 0.0032710987143218517, 8.093526048469357e-06, 0.9575332403182983, 0.03550129383802414, 0.00023710746609140188], [0.007550970651209354, 5.126950100020622e-07, 0.00035927206045016646, 0.002601270331069827, 2.5344577352370834e-06, 0.20422795414924622, 0.0010179296368733048, 0.7188515663146973, 0.06120515614748001, 0.004182853270322084], [0.00013524151290766895, 1.200628485520383e-11, 1.257793337572366e-05, 0.00022038634051568806, 2.6521347535890527e-05, 0.00010345028567826375, 1.8474192131634481e-07, 0.390915185213089, 0.00037548429099842906, 0.6082109212875366]]\n"
     ]
    },
    {
     "data": {
      "text/html": [
       "<div>\n",
       "<style scoped>\n",
       "    .dataframe tbody tr th:only-of-type {\n",
       "        vertical-align: middle;\n",
       "    }\n",
       "\n",
       "    .dataframe tbody tr th {\n",
       "        vertical-align: top;\n",
       "    }\n",
       "\n",
       "    .dataframe thead th {\n",
       "        text-align: right;\n",
       "    }\n",
       "</style>\n",
       "<table border=\"1\" class=\"dataframe\">\n",
       "  <thead>\n",
       "    <tr style=\"text-align: right;\">\n",
       "      <th></th>\n",
       "      <th>i_id</th>\n",
       "      <th>probs</th>\n",
       "    </tr>\n",
       "  </thead>\n",
       "  <tbody>\n",
       "    <tr>\n",
       "      <th>0</th>\n",
       "      <td>1</td>\n",
       "      <td>[0.0031898769084364176, 2.0788617355327332e-11...</td>\n",
       "    </tr>\n",
       "    <tr>\n",
       "      <th>1</th>\n",
       "      <td>2</td>\n",
       "      <td>[0.007550970651209354, 5.126950100020622e-07, ...</td>\n",
       "    </tr>\n",
       "    <tr>\n",
       "      <th>2</th>\n",
       "      <td>3</td>\n",
       "      <td>[0.00013524151290766895, 1.200628485520383e-11...</td>\n",
       "    </tr>\n",
       "  </tbody>\n",
       "</table>\n",
       "</div>"
      ],
      "text/plain": [
       "   i_id                                              probs\n",
       "0     1  [0.0031898769084364176, 2.0788617355327332e-11...\n",
       "1     2  [0.007550970651209354, 5.126950100020622e-07, ...\n",
       "2     3  [0.00013524151290766895, 1.200628485520383e-11..."
      ]
     },
     "execution_count": 30,
     "metadata": {},
     "output_type": "execute_result"
    }
   ],
   "source": [
    "preds = prediction.predict(df, scoring_uri, api_key)\n",
    "preds"
   ]
  },
  {
   "cell_type": "markdown",
   "id": "e2433301-de18-4daa-813d-db1934bfd046",
   "metadata": {},
   "source": [
    "#### Convert predictions to correct format (m_id, i_id, class_prob, predlabel) --> dic"
   ]
  },
  {
   "cell_type": "code",
   "execution_count": 14,
   "id": "31e4b9b2-b64c-4348-a0e7-78d58db65c1f",
   "metadata": {},
   "outputs": [
    {
     "data": {
      "text/html": [
       "<div>\n",
       "<style scoped>\n",
       "    .dataframe tbody tr th:only-of-type {\n",
       "        vertical-align: middle;\n",
       "    }\n",
       "\n",
       "    .dataframe tbody tr th {\n",
       "        vertical-align: top;\n",
       "    }\n",
       "\n",
       "    .dataframe thead th {\n",
       "        text-align: right;\n",
       "    }\n",
       "</style>\n",
       "<table border=\"1\" class=\"dataframe\">\n",
       "  <thead>\n",
       "    <tr style=\"text-align: right;\">\n",
       "      <th></th>\n",
       "      <th>label</th>\n",
       "      <th>class</th>\n",
       "    </tr>\n",
       "  </thead>\n",
       "  <tbody>\n",
       "    <tr>\n",
       "      <th>0</th>\n",
       "      <td>0</td>\n",
       "      <td>Chloro</td>\n",
       "    </tr>\n",
       "    <tr>\n",
       "      <th>1</th>\n",
       "      <td>1</td>\n",
       "      <td>Cilliate</td>\n",
       "    </tr>\n",
       "    <tr>\n",
       "      <th>2</th>\n",
       "      <td>2</td>\n",
       "      <td>Crypto</td>\n",
       "    </tr>\n",
       "    <tr>\n",
       "      <th>3</th>\n",
       "      <td>3</td>\n",
       "      <td>Diatom</td>\n",
       "    </tr>\n",
       "    <tr>\n",
       "      <th>4</th>\n",
       "      <td>4</td>\n",
       "      <td>Dictyo</td>\n",
       "    </tr>\n",
       "    <tr>\n",
       "      <th>5</th>\n",
       "      <td>5</td>\n",
       "      <td>Dinoflagellate</td>\n",
       "    </tr>\n",
       "    <tr>\n",
       "      <th>6</th>\n",
       "      <td>6</td>\n",
       "      <td>Eugleno</td>\n",
       "    </tr>\n",
       "    <tr>\n",
       "      <th>7</th>\n",
       "      <td>7</td>\n",
       "      <td>Other</td>\n",
       "    </tr>\n",
       "    <tr>\n",
       "      <th>8</th>\n",
       "      <td>8</td>\n",
       "      <td>Prymnesio</td>\n",
       "    </tr>\n",
       "    <tr>\n",
       "      <th>9</th>\n",
       "      <td>9</td>\n",
       "      <td>NaN</td>\n",
       "    </tr>\n",
       "  </tbody>\n",
       "</table>\n",
       "</div>"
      ],
      "text/plain": [
       "   label           class\n",
       "0      0          Chloro\n",
       "1      1        Cilliate\n",
       "2      2          Crypto\n",
       "3      3          Diatom\n",
       "4      4          Dictyo\n",
       "5      5  Dinoflagellate\n",
       "6      6         Eugleno\n",
       "7      7           Other\n",
       "8      8       Prymnesio\n",
       "9      9             NaN"
      ]
     },
     "execution_count": 14,
     "metadata": {},
     "output_type": "execute_result"
    }
   ],
   "source": [
    "classes = pd.DataFrame({'label': [0, 1, 2, 3, 4, 5, 6, 7, 8, 9], \n",
    "                        'class': ['Chloro',\n",
    "                                  'Cilliate',\n",
    "                                  'Crypto',\n",
    "                                  'Diatom',\n",
    "                                  'Dictyo',\n",
    "                                  'Dinoflagellate',\n",
    "                                  'Eugleno',\n",
    "                                  'Other',\n",
    "                                  'Prymnesio',\n",
    "                                  np.nan]})\n",
    "classes"
   ]
  },
  {
   "cell_type": "code",
   "execution_count": 66,
   "id": "1be02c21-5cd3-45b9-8dfa-59b422b8278f",
   "metadata": {},
   "outputs": [],
   "source": [
    "# turn this into function \n",
    "preds['predlabel'] = preds.probs.apply(lambda x: classes[classes.label == pd.Series(x).idxmax()]['class'].values[0])\n",
    "#"
   ]
  },
  {
   "cell_type": "code",
   "execution_count": 67,
   "id": "9a144cee-9a7c-4136-a2c4-65105cba1e76",
   "metadata": {},
   "outputs": [
    {
     "data": {
      "text/html": [
       "<div>\n",
       "<style scoped>\n",
       "    .dataframe tbody tr th:only-of-type {\n",
       "        vertical-align: middle;\n",
       "    }\n",
       "\n",
       "    .dataframe tbody tr th {\n",
       "        vertical-align: top;\n",
       "    }\n",
       "\n",
       "    .dataframe thead th {\n",
       "        text-align: right;\n",
       "    }\n",
       "</style>\n",
       "<table border=\"1\" class=\"dataframe\">\n",
       "  <thead>\n",
       "    <tr style=\"text-align: right;\">\n",
       "      <th></th>\n",
       "      <th>i_id</th>\n",
       "      <th>probs</th>\n",
       "      <th>predlabel</th>\n",
       "    </tr>\n",
       "  </thead>\n",
       "  <tbody>\n",
       "    <tr>\n",
       "      <th>0</th>\n",
       "      <td>1</td>\n",
       "      <td>[0.0031898769084364176, 2.0788617355327332e-11...</td>\n",
       "      <td>Other</td>\n",
       "    </tr>\n",
       "    <tr>\n",
       "      <th>1</th>\n",
       "      <td>2</td>\n",
       "      <td>[0.007550970651209354, 5.126950100020622e-07, ...</td>\n",
       "      <td>Other</td>\n",
       "    </tr>\n",
       "    <tr>\n",
       "      <th>2</th>\n",
       "      <td>3</td>\n",
       "      <td>[0.00013524151290766895, 1.200628485520383e-11...</td>\n",
       "      <td>NaN</td>\n",
       "    </tr>\n",
       "  </tbody>\n",
       "</table>\n",
       "</div>"
      ],
      "text/plain": [
       "   i_id                                              probs predlabel\n",
       "0     1  [0.0031898769084364176, 2.0788617355327332e-11...     Other\n",
       "1     2  [0.007550970651209354, 5.126950100020622e-07, ...     Other\n",
       "2     3  [0.00013524151290766895, 1.200628485520383e-11...       NaN"
      ]
     },
     "execution_count": 67,
     "metadata": {},
     "output_type": "execute_result"
    }
   ],
   "source": [
    "preds"
   ]
  },
  {
   "cell_type": "markdown",
   "id": "1b3d79b0-7ed4-472f-91f4-bed9c4d6614d",
   "metadata": {},
   "source": [
    "#### Insert predictions into predictions table"
   ]
  },
  {
   "cell_type": "code",
   "execution_count": null,
   "id": "50622352-cfde-46ad-b0de-5fee9d8ab5f7",
   "metadata": {},
   "outputs": [],
   "source": [
    "data = \n",
    "insert_data(predictions, data)"
   ]
  },
  {
   "cell_type": "code",
   "execution_count": 30,
   "id": "6ff15274-8923-40e7-abb1-cbdd0866a3d6",
   "metadata": {},
   "outputs": [],
   "source": [
    "probs = [1, 2, 3, 4, 5, 6, 7, 8, 9, 10]"
   ]
  },
  {
   "cell_type": "code",
   "execution_count": 28,
   "id": "8412260e-6c72-4f36-ac4d-8dc6c24926d0",
   "metadata": {},
   "outputs": [
    {
     "data": {
      "text/plain": [
       "array(['Chloro', 'Cilliate', 'Crypto', 'Diatom', 'Dictyo',\n",
       "       'Dinoflagellate', 'Eugleno', 'Other', 'Prymnesio', nan],\n",
       "      dtype=object)"
      ]
     },
     "execution_count": 28,
     "metadata": {},
     "output_type": "execute_result"
    }
   ],
   "source": [
    "classes['class'].values"
   ]
  },
  {
   "cell_type": "code",
   "execution_count": 31,
   "id": "77acec0e-b681-4f49-89f1-ef3a5a8792be",
   "metadata": {},
   "outputs": [
    {
     "data": {
      "text/plain": [
       "{'Chloro': 1,\n",
       " 'Cilliate': 2,\n",
       " 'Crypto': 3,\n",
       " 'Diatom': 4,\n",
       " 'Dictyo': 5,\n",
       " 'Dinoflagellate': 6,\n",
       " 'Eugleno': 7,\n",
       " 'Other': 8,\n",
       " 'Prymnesio': 9,\n",
       " nan: 10}"
      ]
     },
     "execution_count": 31,
     "metadata": {},
     "output_type": "execute_result"
    }
   ],
   "source": [
    "{classes['class'].values[i]: probs[i] for i in range(10)}"
   ]
  },
  {
   "cell_type": "code",
   "execution_count": null,
   "id": "69a61b06-b346-4371-b710-549122c9906e",
   "metadata": {},
   "outputs": [],
   "source": []
  },
  {
   "cell_type": "code",
   "execution_count": 11,
   "id": "d8456837-690e-41fa-bcbd-4e56a96fc095",
   "metadata": {},
   "outputs": [
    {
     "data": {
      "text/plain": [
       "'https://endpoint_name.westus2.inference.ml.azure.com/score'"
      ]
     },
     "execution_count": 11,
     "metadata": {},
     "output_type": "execute_result"
    }
   ],
   "source": [
    "scoring_uri"
   ]
  },
  {
   "cell_type": "code",
   "execution_count": 31,
   "id": "c21993f7-b27d-4552-bdab-b7643642abd3",
   "metadata": {},
   "outputs": [
    {
     "data": {
      "text/plain": [
       "'/Users/aditis/Documents/DATA590/PIVOT/PIVOT'"
      ]
     },
     "execution_count": 31,
     "metadata": {},
     "output_type": "execute_result"
    }
   ],
   "source": [
    "os.getcwd()"
   ]
  },
  {
   "cell_type": "code",
   "execution_count": null,
   "id": "101343c0-87ac-424b-a2f5-1f83f8d1ac5c",
   "metadata": {},
   "outputs": [],
   "source": [
    "# execute_stored_procedure('Images_To_Predict.sql')"
   ]
  },
  {
   "cell_type": "code",
   "execution_count": 37,
   "id": "7f3663ff-5e1e-49d1-857c-8956cf2a11df",
   "metadata": {},
   "outputs": [],
   "source": [
    "os.chdir('./model_serving/')"
   ]
  },
  {
   "cell_type": "code",
   "execution_count": 38,
   "id": "6a426e95-2398-4934-9395-1a8a651915ad",
   "metadata": {},
   "outputs": [
    {
     "data": {
      "text/plain": [
       "'/Users/aditis/Documents/DATA590/PIVOT/PIVOT/model_serving'"
      ]
     },
     "execution_count": 38,
     "metadata": {},
     "output_type": "execute_result"
    }
   ],
   "source": [
    "os.getcwd()"
   ]
  },
  {
   "cell_type": "code",
   "execution_count": 34,
   "id": "5bc586b4-8f89-4f45-a7d2-19e99c7504c8",
   "metadata": {},
   "outputs": [
    {
     "ename": "ImportError",
     "evalue": "cannot import name 'get_predictions' from 'model_utils' (/Users/aditis/Documents/DATA590/PIVOT/PIVOT/model_serving/model_utils.py)",
     "output_type": "error",
     "traceback": [
      "\u001b[0;31m---------------------------------------------------------------------------\u001b[0m",
      "\u001b[0;31mImportError\u001b[0m                               Traceback (most recent call last)",
      "Cell \u001b[0;32mIn[34], line 1\u001b[0m\n\u001b[0;32m----> 1\u001b[0m \u001b[38;5;28;01mfrom\u001b[39;00m \u001b[38;5;21;01mmodel_utils\u001b[39;00m \u001b[38;5;28;01mimport\u001b[39;00m get_predictions\n",
      "\u001b[0;31mImportError\u001b[0m: cannot import name 'get_predictions' from 'model_utils' (/Users/aditis/Documents/DATA590/PIVOT/PIVOT/model_serving/model_utils.py)"
     ]
    }
   ],
   "source": [
    "from model_utils import get_predictions"
   ]
  },
  {
   "cell_type": "code",
   "execution_count": 64,
   "id": "106c8d2b-4431-4f08-a0a0-74ef5d4a53ec",
   "metadata": {},
   "outputs": [],
   "source": [
    "def get_predictions(df, scoring_uri=scoring_uri, api_key=api_key):\n",
    "    \"\"\"\n",
    "    df: columns [IMAGE_ID, BLOB_FILEPATH]\n",
    "    scoring_uri:\n",
    "    api_key:\n",
    "    \"\"\"\n",
    "    with open(\"../model_serving/config.yaml\") as f:\n",
    "        config = yaml.load(f, Loader=yaml.FullLoader)\n",
    "    \n",
    "    df['cloud_urls'] = df.BLOB_FILEPATH.apply(lambda x: config['cloud_url'].format(filepath=x))\n",
    "    \n",
    "    preds = prediction.predict(df, scoring_uri, api_key)\n",
    "    \n",
    "    classes = pd.DataFrame({'label': [1, 2, 3, 4, 5, 6, 7, 8, 9, 10], \n",
    "                    'class': ['Chloro',\n",
    "                                'Cilliate',\n",
    "                                'Crypto',\n",
    "                                'Diatom',\n",
    "                                'Dictyo',\n",
    "                                'Dinoflagellate',\n",
    "                                'Eugleno',\n",
    "                                'Other',\n",
    "                                'Prymnesio',\n",
    "                                np.nan]})\n",
    "    \n",
    "    preds['probs'] = preds.probs.apply(lambda x: {classes['class'].values[i]: x[i] for i in range(9)})\n",
    "    \n",
    "    preds['predlabel'] = preds.probs.apply(lambda x: list(x.keys())[pd.Series(x.values()).idxmax()])\n",
    "    \n",
    "    return preds"
   ]
  },
  {
   "cell_type": "code",
   "execution_count": 65,
   "id": "50dda6f3-aeff-4f0f-b5f9-c9a82447b69a",
   "metadata": {},
   "outputs": [
    {
     "name": "stdout",
     "output_type": "stream",
     "text": [
      "<Response [200]>\n",
      "[[0.0031898769084364176, 2.0788617355327332e-11, 8.588602213421836e-05, 0.00017344176012557, 8.921755068058701e-08, 0.0032710987143218517, 8.093526048469357e-06, 0.9575332403182983, 0.03550129383802414, 0.00023710746609140188], [0.007550970651209354, 5.126950100020622e-07, 0.00035927206045016646, 0.002601270331069827, 2.5344577352370834e-06, 0.20422795414924622, 0.0010179296368733048, 0.7188515663146973, 0.06120515614748001, 0.004182853270322084], [0.00013524151290766895, 1.200628485520383e-11, 1.257793337572366e-05, 0.00022038634051568806, 2.6521347535890527e-05, 0.00010345028567826375, 1.8474192131634481e-07, 0.390915185213089, 0.00037548429099842906, 0.6082109212875366]]\n"
     ]
    }
   ],
   "source": [
    "resp = get_predictions(df)"
   ]
  },
  {
   "cell_type": "code",
   "execution_count": 66,
   "id": "a5f892bc-bb5c-480c-9c07-9216fe3cc200",
   "metadata": {},
   "outputs": [
    {
     "data": {
      "text/html": [
       "<div>\n",
       "<style scoped>\n",
       "    .dataframe tbody tr th:only-of-type {\n",
       "        vertical-align: middle;\n",
       "    }\n",
       "\n",
       "    .dataframe tbody tr th {\n",
       "        vertical-align: top;\n",
       "    }\n",
       "\n",
       "    .dataframe thead th {\n",
       "        text-align: right;\n",
       "    }\n",
       "</style>\n",
       "<table border=\"1\" class=\"dataframe\">\n",
       "  <thead>\n",
       "    <tr style=\"text-align: right;\">\n",
       "      <th></th>\n",
       "      <th>i_id</th>\n",
       "      <th>probs</th>\n",
       "      <th>predlabel</th>\n",
       "    </tr>\n",
       "  </thead>\n",
       "  <tbody>\n",
       "    <tr>\n",
       "      <th>0</th>\n",
       "      <td>1</td>\n",
       "      <td>{'Chloro': 0.0031898769084364176, 'Cilliate': ...</td>\n",
       "      <td>Other</td>\n",
       "    </tr>\n",
       "    <tr>\n",
       "      <th>1</th>\n",
       "      <td>2</td>\n",
       "      <td>{'Chloro': 0.007550970651209354, 'Cilliate': 5...</td>\n",
       "      <td>Other</td>\n",
       "    </tr>\n",
       "    <tr>\n",
       "      <th>2</th>\n",
       "      <td>3</td>\n",
       "      <td>{'Chloro': 0.00013524151290766895, 'Cilliate':...</td>\n",
       "      <td>Other</td>\n",
       "    </tr>\n",
       "  </tbody>\n",
       "</table>\n",
       "</div>"
      ],
      "text/plain": [
       "   i_id                                              probs predlabel\n",
       "0     1  {'Chloro': 0.0031898769084364176, 'Cilliate': ...     Other\n",
       "1     2  {'Chloro': 0.007550970651209354, 'Cilliate': 5...     Other\n",
       "2     3  {'Chloro': 0.00013524151290766895, 'Cilliate':...     Other"
      ]
     },
     "execution_count": 66,
     "metadata": {},
     "output_type": "execute_result"
    }
   ],
   "source": [
    "resp"
   ]
  },
  {
   "cell_type": "code",
   "execution_count": null,
   "id": "cdd53e04-1f7f-4b75-ad63-2f62c42ec8b9",
   "metadata": {},
   "outputs": [],
   "source": []
  },
  {
   "cell_type": "code",
   "execution_count": null,
   "id": "351902f2-8a1b-45d8-b837-ebf31d93fe87",
   "metadata": {},
   "outputs": [],
   "source": []
  },
  {
   "cell_type": "code",
   "execution_count": null,
   "id": "601eff73-3208-40fa-9c3c-b7639f6ea2bd",
   "metadata": {},
   "outputs": [],
   "source": []
  }
 ],
 "metadata": {
  "kernelspec": {
   "display_name": "Python 3 (ipykernel)",
   "language": "python",
   "name": "python3"
  },
  "language_info": {
   "codemirror_mode": {
    "name": "ipython",
    "version": 3
   },
   "file_extension": ".py",
   "mimetype": "text/x-python",
   "name": "python",
   "nbconvert_exporter": "python",
   "pygments_lexer": "ipython3",
   "version": "3.9.18"
  }
 },
 "nbformat": 4,
 "nbformat_minor": 5
}
