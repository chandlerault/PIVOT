{
 "cells": [
  {
   "cell_type": "markdown",
   "id": "589d5b49-eaec-44b7-b14f-0146f30769f5",
   "metadata": {},
   "source": [
    "1. Log a new model on MLflow and connect to AzureML\n",
    "2. Insert ???\n",
    "3. Deploy logged model as stream endpoint\n",
    "4. Get AzureML model info from model_id (get endpoint_name from model_id)\n",
    "5. Call endpoint and make predictions given pd.DataFrame with cols: IMAGE_ID, BLOB_FILEPATH\n",
    "6. Convert predictions to correct format (m_id, i_id, class_prob, predlabel) --> dic\n",
    "7. Insert predictions into predictions table"
   ]
  },
  {
   "cell_type": "code",
   "execution_count": 13,
   "id": "d0048bb0-1b7f-44ab-93ed-b422fdaafd73",
   "metadata": {},
   "outputs": [],
   "source": [
    "import json\n",
    "import sys\n",
    "from tqdm.auto import trange, tqdm\n",
    "import concurrent.futures\n",
    "import yaml\n",
    "import os\n",
    "from json import JSONEncoder\n",
    "import requests\n",
    "\n",
    "import numpy as np\n",
    "import pandas as pd\n",
    "import cv2\n",
    "import imageio\n",
    "\n",
    "from azure.storage.blob import BlobServiceClient, ContainerClient, BlobClient\n",
    "from azure.identity import DefaultAzureCredential\n",
    "from azure.ai.ml import MLClient\n",
    "from azure.ai.ml.entities import (\n",
    "    ManagedOnlineEndpoint,\n",
    "    ManagedOnlineDeployment,\n",
    "    Model as AzureMLModel,\n",
    "    Environment,\n",
    "    CodeConfiguration,\n",
    ")\n",
    "from azureml.core.webservice import AciWebservice, Webservice\n",
    "from azureml.core import Workspace, Model, Experiment, Run\n",
    "from azureml.core.model import InferenceConfig\n",
    "\n",
    "import tensorflow as tf\n",
    "from tensorflow.keras.models import Model as KerasModel, model_from_json\n",
    "from tensorflow.keras.optimizers import Adam\n",
    "from keras.callbacks import Callback\n",
    "\n",
    "import mlflow\n",
    "import mlflow.keras\n",
    "\n",
    "# from model_serving import prediction\n",
    "# from model_serving import mlflow_log\n",
    "# with open(\"./model_serving/config.yaml\") as f:\n",
    "#     config = yaml.load(f, Loader=yaml.FullLoader)"
   ]
  },
  {
   "cell_type": "markdown",
   "id": "44977173-2782-415d-8969-225643614eb3",
   "metadata": {},
   "source": [
    "#### Log a new model on MLflow and connect to AzureML"
   ]
  },
  {
   "cell_type": "code",
   "execution_count": null,
   "id": "49f69be7-b0b6-4a15-998b-f38d6bc6bdf2",
   "metadata": {},
   "outputs": [],
   "source": [
    "model = # load_model that was trained using sql_utils.get_train_df() ????\n",
    "ml_client = MLClient.from_config(credential=DefaultAzureCredential())\n",
    "run_name = 'basemodel' # change each time obv\n",
    "\n",
    "mlflow_log.log_model(model, ml_client, run_name) "
   ]
  },
  {
   "cell_type": "markdown",
   "id": "9c445857-1e58-4fe0-acfb-d2c829912ebe",
   "metadata": {},
   "source": [
    "#### Now insert ???"
   ]
  },
  {
   "cell_type": "code",
   "execution_count": null,
   "id": "2bd092b6-d817-4763-982b-9d418c93bbdb",
   "metadata": {},
   "outputs": [],
   "source": [
    "models = pd.DataFrame(app_utils.get_models())\n",
    "model_id = models.m_id.max() + 1\n",
    "model_name = run_name\n",
    "data = [{'model_name': model_name, \n",
    "         'm_id': model_id}]"
   ]
  },
  {
   "cell_type": "markdown",
   "id": "333d5843-43f1-4e0b-afab-2f02ea714c9e",
   "metadata": {},
   "source": [
    "#### Deploy logged model as stream endpoint"
   ]
  },
  {
   "cell_type": "code",
   "execution_count": null,
   "id": "4a8a7e7a-60ee-4c73-a769-fba77edd50da",
   "metadata": {},
   "outputs": [],
   "source": [
    "# how to add a tag to model to associate with model_id\n",
    "\n",
    "scoring_file = './model_serving/score.py' # update this\n",
    "deploy.deploy(model_name, scoring_file)\n",
    "\n",
    "# maybe\n",
    "test_deployment.test_deployment(model_name)"
   ]
  },
  {
   "cell_type": "markdown",
   "id": "df70ab04-b6be-4ce7-8f3c-3be98d1c7245",
   "metadata": {},
   "source": [
    "#### Get AzureML model info from model_id (get endpoint_name from model_id)"
   ]
  },
  {
   "cell_type": "code",
   "execution_count": 8,
   "id": "cfff14d3-bf79-4f36-8647-cf6347fc5a4f",
   "metadata": {},
   "outputs": [],
   "source": [
    "ml_client = MLClient(subscription_id=\"156ffac2-0545-4d4e-aab3-f89b83635d04\",\n",
    "resource_group=\"defaultresourcegroup-wus2\",\n",
    "workspace_name=\"pivot\", credential=DefaultAzureCredential())\n",
    "ws = Workspace.from_config('../model_serving/config.json')"
   ]
  },
  {
   "cell_type": "code",
   "execution_count": 9,
   "id": "8bfc8582-5b82-4aec-b7b1-a5361d758e83",
   "metadata": {},
   "outputs": [
    {
     "ename": "AttributeError",
     "evalue": "'Run' object has no attribute 'get_models'",
     "output_type": "error",
     "traceback": [
      "\u001b[0;31m---------------------------------------------------------------------------\u001b[0m",
      "\u001b[0;31mAttributeError\u001b[0m                            Traceback (most recent call last)",
      "Cell \u001b[0;32mIn[9], line 12\u001b[0m\n\u001b[1;32m     10\u001b[0m models \u001b[38;5;241m=\u001b[39m []\n\u001b[1;32m     11\u001b[0m \u001b[38;5;28;01mfor\u001b[39;00m run \u001b[38;5;129;01min\u001b[39;00m runs:\n\u001b[0;32m---> 12\u001b[0m     run_models \u001b[38;5;241m=\u001b[39m \u001b[43mrun\u001b[49m\u001b[38;5;241;43m.\u001b[39;49m\u001b[43mget_models\u001b[49m()\n\u001b[1;32m     13\u001b[0m     models\u001b[38;5;241m.\u001b[39mextend(run_models)\n",
      "\u001b[0;31mAttributeError\u001b[0m: 'Run' object has no attribute 'get_models'"
     ]
    }
   ],
   "source": [
    "experiment_name = config['experiment_name']\n",
    "run_name = 'basemodel'\n",
    "\n",
    "experiment = Experiment(workspace=ws, name=experiment_name)\n",
    "# run = Run(experiment=experiment, run_id=run_name)\n",
    "\n",
    "# Get a list of all models in the experiment\n",
    "# models = Model.list(workspace=ws, experiment_name=experiment_name)\n",
    "runs = experiment.get_runs()\n",
    "models = []\n",
    "for run in runs:\n",
    "    run_models = run.get_models()\n",
    "    models.extend(run_models)"
   ]
  },
  {
   "cell_type": "code",
   "execution_count": 10,
   "id": "afe30bb8-65d7-417e-812d-3cb0cffd4479",
   "metadata": {},
   "outputs": [
    {
     "data": {
      "text/html": [
       "<table style=\"width:100%\"><tr><th>Name</th><th>Workspace</th><th>Report Page</th><th>Docs Page</th></tr><tr><td>adt-pivot</td><td>pivot</td><td><a href=\"https://ml.azure.com/experiments/id/728af546-4739-45d8-846a-8be2cefcf1ef?wsid=/subscriptions/156ffac2-0545-4d4e-aab3-f89b83635d04/resourcegroups/defaultresourcegroup-wus2/workspaces/pivot&amp;tid=f6b6dd5b-f02f-441a-99a0-162ac5060bd2\" target=\"_blank\" rel=\"noopener\">Link to Azure Machine Learning studio</a></td><td><a href=\"https://docs.microsoft.com/en-us/python/api/azureml-core/azureml.core.experiment.Experiment?view=azure-ml-py\" target=\"_blank\" rel=\"noopener\">Link to Documentation</a></td></tr></table>"
      ],
      "text/plain": [
       "Experiment(Name: adt-pivot,\n",
       "Workspace: pivot)"
      ]
     },
     "execution_count": 10,
     "metadata": {},
     "output_type": "execute_result"
    }
   ],
   "source": [
    "experiment"
   ]
  },
  {
   "cell_type": "code",
   "execution_count": 11,
   "id": "2f28e762-462d-4eca-9407-ac185a91a33c",
   "metadata": {},
   "outputs": [
    {
     "name": "stdout",
     "output_type": "stream",
     "text": [
      "Run(Experiment: adt-pivot,\n",
      "Id: 3ce8d4e5-6343-4d44-be1e-e9c99b3df968,\n",
      "Type: None,\n",
      "Status: Completed)\n",
      "Run(Experiment: adt-pivot,\n",
      "Id: 0f5b3a2b-fde9-401b-bdaa-31ed72ecc95c,\n",
      "Type: None,\n",
      "Status: Completed)\n"
     ]
    }
   ],
   "source": [
    "# get_runs() returns all runs in reverse chronological order (first is most recent)\n",
    "for i in experiment.get_runs():\n",
    "    print(i)"
   ]
  },
  {
   "cell_type": "code",
   "execution_count": 16,
   "id": "30d7e2b4-7fe4-4da2-9602-8ffaa747a519",
   "metadata": {},
   "outputs": [],
   "source": [
    "runs = []\n",
    "for i in experiment.get_runs():\n",
    "    runs.append(i)"
   ]
  },
  {
   "cell_type": "code",
   "execution_count": 23,
   "id": "fc8ff5d0-da12-4388-9da1-b201b3284507",
   "metadata": {},
   "outputs": [
    {
     "data": {
      "text/plain": [
       "{}"
      ]
     },
     "execution_count": 23,
     "metadata": {},
     "output_type": "execute_result"
    }
   ],
   "source": [
    "runs[0].get_metrics()"
   ]
  },
  {
   "cell_type": "code",
   "execution_count": null,
   "id": "44ee5c5d-acd9-4ffc-9fbf-951d471c6b92",
   "metadata": {},
   "outputs": [],
   "source": [
    "for run in ml_client.jobs.list():\n",
    "    print(\"Name\",run.display_name)\n",
    "    print(\"Type\",run.type)\n",
    "    print(\"Compute\",run.compute)\n",
    "    print(\"Status\",run.status)"
   ]
  },
  {
   "cell_type": "code",
   "execution_count": null,
   "id": "cee910a9-4748-451e-8d11-4424b5ea2f42",
   "metadata": {},
   "outputs": [],
   "source": [
    "endpoint_name = "
   ]
  },
  {
   "cell_type": "code",
   "execution_count": null,
   "id": "333a7950-4639-4e22-b996-66fc77785f9f",
   "metadata": {},
   "outputs": [],
   "source": [
    "# write a function\n",
    "def get_model_info(model_id):\n",
    "    return endpoint_name #, artifacts maybe"
   ]
  },
  {
   "cell_type": "markdown",
   "id": "8dfaeebc-4092-45c8-9616-aa708e9236a8",
   "metadata": {},
   "source": [
    "#### Call endpoint and make predictions given pd.DataFrame with cols: IMAGE_ID, BLOB_FILEPATH"
   ]
  },
  {
   "cell_type": "code",
   "execution_count": 8,
   "id": "bf495d25-7f49-4f93-8105-8f229b172b0d",
   "metadata": {},
   "outputs": [],
   "source": [
    "# Need to figure out how to get 'azureml-model-deployment' from endpoint_name \n",
    "# Used in get_predictions()"
   ]
  },
  {
   "cell_type": "code",
   "execution_count": 3,
   "id": "a90a9a0c-28eb-49af-b48c-56c58d2670ca",
   "metadata": {},
   "outputs": [],
   "source": [
    "# sample input\n",
    "df = pd.DataFrame({'IMAGE_ID': [1, 2, 3], \n",
    "                   'BLOB_FILEPATH': ['D20160524T225721_IFCB107/IFCB107D20160524T225721P00213.png', \n",
    "                                     'D20160524T225721_IFCB107/IFCB107D20160524T225721P00575.png', \n",
    "                                     'D20160524T225721_IFCB107/IFCB107D20160524T225721P00561.png']})"
   ]
  },
  {
   "cell_type": "code",
   "execution_count": 4,
   "id": "78165bf6-774b-48b5-b485-53898efe9a50",
   "metadata": {},
   "outputs": [
    {
     "data": {
      "text/html": [
       "<div>\n",
       "<style scoped>\n",
       "    .dataframe tbody tr th:only-of-type {\n",
       "        vertical-align: middle;\n",
       "    }\n",
       "\n",
       "    .dataframe tbody tr th {\n",
       "        vertical-align: top;\n",
       "    }\n",
       "\n",
       "    .dataframe thead th {\n",
       "        text-align: right;\n",
       "    }\n",
       "</style>\n",
       "<table border=\"1\" class=\"dataframe\">\n",
       "  <thead>\n",
       "    <tr style=\"text-align: right;\">\n",
       "      <th></th>\n",
       "      <th>IMAGE_ID</th>\n",
       "      <th>BLOB_FILEPATH</th>\n",
       "    </tr>\n",
       "  </thead>\n",
       "  <tbody>\n",
       "    <tr>\n",
       "      <th>0</th>\n",
       "      <td>1</td>\n",
       "      <td>D20160524T225721_IFCB107/IFCB107D20160524T2257...</td>\n",
       "    </tr>\n",
       "    <tr>\n",
       "      <th>1</th>\n",
       "      <td>2</td>\n",
       "      <td>D20160524T225721_IFCB107/IFCB107D20160524T2257...</td>\n",
       "    </tr>\n",
       "    <tr>\n",
       "      <th>2</th>\n",
       "      <td>3</td>\n",
       "      <td>D20160524T225721_IFCB107/IFCB107D20160524T2257...</td>\n",
       "    </tr>\n",
       "  </tbody>\n",
       "</table>\n",
       "</div>"
      ],
      "text/plain": [
       "   IMAGE_ID                                      BLOB_FILEPATH\n",
       "0         1  D20160524T225721_IFCB107/IFCB107D20160524T2257...\n",
       "1         2  D20160524T225721_IFCB107/IFCB107D20160524T2257...\n",
       "2         3  D20160524T225721_IFCB107/IFCB107D20160524T2257..."
      ]
     },
     "execution_count": 4,
     "metadata": {},
     "output_type": "execute_result"
    }
   ],
   "source": [
    "df"
   ]
  },
  {
   "cell_type": "code",
   "execution_count": 12,
   "id": "0eb5a926-9758-4e05-a38a-935059ebf263",
   "metadata": {},
   "outputs": [],
   "source": [
    "# endpoint_name = get_model_info(m_id)\n",
    "scoring_uri = config['scoring_uri'].format(endpoint_name='basemodel-endpoint')\n",
    "api_key = config['api_key']"
   ]
  },
  {
   "cell_type": "code",
   "execution_count": 22,
   "id": "cee8e468-6a27-4175-99d9-4497a62fe0c2",
   "metadata": {},
   "outputs": [
    {
     "data": {
      "text/html": [
       "<div>\n",
       "<style scoped>\n",
       "    .dataframe tbody tr th:only-of-type {\n",
       "        vertical-align: middle;\n",
       "    }\n",
       "\n",
       "    .dataframe tbody tr th {\n",
       "        vertical-align: top;\n",
       "    }\n",
       "\n",
       "    .dataframe thead th {\n",
       "        text-align: right;\n",
       "    }\n",
       "</style>\n",
       "<table border=\"1\" class=\"dataframe\">\n",
       "  <thead>\n",
       "    <tr style=\"text-align: right;\">\n",
       "      <th></th>\n",
       "      <th>IMAGE_ID</th>\n",
       "      <th>BLOB_FILEPATH</th>\n",
       "      <th>cloud_urls</th>\n",
       "    </tr>\n",
       "  </thead>\n",
       "  <tbody>\n",
       "    <tr>\n",
       "      <th>0</th>\n",
       "      <td>1</td>\n",
       "      <td>D20160524T225721_IFCB107/IFCB107D20160524T2257...</td>\n",
       "      <td>https://ifcb.blob.core.windows.net/naames/NAAM...</td>\n",
       "    </tr>\n",
       "    <tr>\n",
       "      <th>1</th>\n",
       "      <td>2</td>\n",
       "      <td>D20160524T225721_IFCB107/IFCB107D20160524T2257...</td>\n",
       "      <td>https://ifcb.blob.core.windows.net/naames/NAAM...</td>\n",
       "    </tr>\n",
       "    <tr>\n",
       "      <th>2</th>\n",
       "      <td>3</td>\n",
       "      <td>D20160524T225721_IFCB107/IFCB107D20160524T2257...</td>\n",
       "      <td>https://ifcb.blob.core.windows.net/naames/NAAM...</td>\n",
       "    </tr>\n",
       "  </tbody>\n",
       "</table>\n",
       "</div>"
      ],
      "text/plain": [
       "   IMAGE_ID                                      BLOB_FILEPATH  \\\n",
       "0         1  D20160524T225721_IFCB107/IFCB107D20160524T2257...   \n",
       "1         2  D20160524T225721_IFCB107/IFCB107D20160524T2257...   \n",
       "2         3  D20160524T225721_IFCB107/IFCB107D20160524T2257...   \n",
       "\n",
       "                                          cloud_urls  \n",
       "0  https://ifcb.blob.core.windows.net/naames/NAAM...  \n",
       "1  https://ifcb.blob.core.windows.net/naames/NAAM...  \n",
       "2  https://ifcb.blob.core.windows.net/naames/NAAM...  "
      ]
     },
     "execution_count": 22,
     "metadata": {},
     "output_type": "execute_result"
    }
   ],
   "source": [
    "# df['cloud_urls'] = df.BLOB_FILEPATH.apply(lambda x: config['cloud_url'].format(filepath=x))\n",
    "# df"
   ]
  },
  {
   "cell_type": "code",
   "execution_count": null,
   "id": "249a47fb-4d0a-4c54-a136-02c1708145f9",
   "metadata": {},
   "outputs": [],
   "source": []
  },
  {
   "cell_type": "code",
   "execution_count": 30,
   "id": "589ae210-dc69-4809-aa9b-af0952a1a399",
   "metadata": {},
   "outputs": [
    {
     "name": "stdout",
     "output_type": "stream",
     "text": [
      "<Response [200]>\n",
      "[[0.0031898769084364176, 2.0788617355327332e-11, 8.588602213421836e-05, 0.00017344176012557, 8.921755068058701e-08, 0.0032710987143218517, 8.093526048469357e-06, 0.9575332403182983, 0.03550129383802414, 0.00023710746609140188], [0.007550970651209354, 5.126950100020622e-07, 0.00035927206045016646, 0.002601270331069827, 2.5344577352370834e-06, 0.20422795414924622, 0.0010179296368733048, 0.7188515663146973, 0.06120515614748001, 0.004182853270322084], [0.00013524151290766895, 1.200628485520383e-11, 1.257793337572366e-05, 0.00022038634051568806, 2.6521347535890527e-05, 0.00010345028567826375, 1.8474192131634481e-07, 0.390915185213089, 0.00037548429099842906, 0.6082109212875366]]\n"
     ]
    },
    {
     "data": {
      "text/html": [
       "<div>\n",
       "<style scoped>\n",
       "    .dataframe tbody tr th:only-of-type {\n",
       "        vertical-align: middle;\n",
       "    }\n",
       "\n",
       "    .dataframe tbody tr th {\n",
       "        vertical-align: top;\n",
       "    }\n",
       "\n",
       "    .dataframe thead th {\n",
       "        text-align: right;\n",
       "    }\n",
       "</style>\n",
       "<table border=\"1\" class=\"dataframe\">\n",
       "  <thead>\n",
       "    <tr style=\"text-align: right;\">\n",
       "      <th></th>\n",
       "      <th>i_id</th>\n",
       "      <th>probs</th>\n",
       "    </tr>\n",
       "  </thead>\n",
       "  <tbody>\n",
       "    <tr>\n",
       "      <th>0</th>\n",
       "      <td>1</td>\n",
       "      <td>[0.0031898769084364176, 2.0788617355327332e-11...</td>\n",
       "    </tr>\n",
       "    <tr>\n",
       "      <th>1</th>\n",
       "      <td>2</td>\n",
       "      <td>[0.007550970651209354, 5.126950100020622e-07, ...</td>\n",
       "    </tr>\n",
       "    <tr>\n",
       "      <th>2</th>\n",
       "      <td>3</td>\n",
       "      <td>[0.00013524151290766895, 1.200628485520383e-11...</td>\n",
       "    </tr>\n",
       "  </tbody>\n",
       "</table>\n",
       "</div>"
      ],
      "text/plain": [
       "   i_id                                              probs\n",
       "0     1  [0.0031898769084364176, 2.0788617355327332e-11...\n",
       "1     2  [0.007550970651209354, 5.126950100020622e-07, ...\n",
       "2     3  [0.00013524151290766895, 1.200628485520383e-11..."
      ]
     },
     "execution_count": 30,
     "metadata": {},
     "output_type": "execute_result"
    }
   ],
   "source": [
    "preds = prediction.predict(df, scoring_uri, api_key)\n",
    "preds"
   ]
  },
  {
   "cell_type": "markdown",
   "id": "e2433301-de18-4daa-813d-db1934bfd046",
   "metadata": {},
   "source": [
    "#### Convert predictions to correct format (m_id, i_id, class_prob, predlabel) --> dic"
   ]
  },
  {
   "cell_type": "code",
   "execution_count": null,
   "id": "31e4b9b2-b64c-4348-a0e7-78d58db65c1f",
   "metadata": {},
   "outputs": [],
   "source": [
    "classes = ['Chloro',\n",
    "          'Cilliate',\n",
    "          'Crypto',\n",
    "          'Diatom',\n",
    "          'Dictyo',\n",
    "          'Dinoflagellate',\n",
    "          'Eugleno',\n",
    "          'Other',\n",
    "          'Prymnesio',\n",
    "          'Unidentifiable']\n",
    "\n",
    "preds['class_prob'] = preds.probs.apply(lambda x: x[pd.Series(x).idxmax()])\n",
    "preds['predlabel'] = preds.probs.apply(lambda x: classes[pd.Series(x).idxmax()])\n",
    "preds['m_id'] = [m_id] * len(preds)"
   ]
  },
  {
   "cell_type": "code",
   "execution_count": null,
   "id": "1be02c21-5cd3-45b9-8dfa-59b422b8278f",
   "metadata": {},
   "outputs": [],
   "source": []
  },
  {
   "cell_type": "code",
   "execution_count": 43,
   "id": "9a144cee-9a7c-4136-a2c4-65105cba1e76",
   "metadata": {},
   "outputs": [],
   "source": [
    "preds = get_predictions(df, 1)"
   ]
  },
  {
   "cell_type": "code",
   "execution_count": 44,
   "id": "50622352-cfde-46ad-b0de-5fee9d8ab5f7",
   "metadata": {},
   "outputs": [
    {
     "data": {
      "text/plain": [
       "[{'i_id': 1,\n",
       "  'class_prob': 0.9575332403182983,\n",
       "  'predlabel': 'Other',\n",
       "  'm_id': 1},\n",
       " {'i_id': 2,\n",
       "  'class_prob': 0.7188515663146973,\n",
       "  'predlabel': 'Other',\n",
       "  'm_id': 1},\n",
       " {'i_id': 3,\n",
       "  'class_prob': 0.6082109212875366,\n",
       "  'predlabel': 'Unidentifiable',\n",
       "  'm_id': 1}]"
      ]
     },
     "execution_count": 44,
     "metadata": {},
     "output_type": "execute_result"
    }
   ],
   "source": [
    "preds"
   ]
  },
  {
   "cell_type": "markdown",
   "id": "d727ee95-0a35-4bec-b0de-1d0e2cd9e0d5",
   "metadata": {},
   "source": [
    "#### Getting test data, getting feature vectors"
   ]
  },
  {
   "cell_type": "code",
   "execution_count": 72,
   "id": "8412260e-6c72-4f36-ac4d-8dc6c24926d0",
   "metadata": {},
   "outputs": [],
   "source": [
    "test = sql_utils.run_sql_query(\n",
    "\"\"\"\n",
    "WITH test_images AS (\n",
    "    SELECT DISTINCT I_Id\n",
    "    FROM metrics\n",
    "    WHERE m_id = 0\n",
    ")\n",
    "SELECT I.I_ID, I.filepath\n",
    "FROM images AS I\n",
    "INNER JOIN test_images AS TI ON TI.I_Id = I.I_ID;\n",
    "\"\"\"\n",
    ")"
   ]
  },
  {
   "cell_type": "code",
   "execution_count": 88,
   "id": "77acec0e-b681-4f49-89f1-ef3a5a8792be",
   "metadata": {},
   "outputs": [
    {
     "data": {
      "text/html": [
       "<div>\n",
       "<style scoped>\n",
       "    .dataframe tbody tr th:only-of-type {\n",
       "        vertical-align: middle;\n",
       "    }\n",
       "\n",
       "    .dataframe tbody tr th {\n",
       "        vertical-align: top;\n",
       "    }\n",
       "\n",
       "    .dataframe thead th {\n",
       "        text-align: right;\n",
       "    }\n",
       "</style>\n",
       "<table border=\"1\" class=\"dataframe\">\n",
       "  <thead>\n",
       "    <tr style=\"text-align: right;\">\n",
       "      <th></th>\n",
       "      <th>I_ID</th>\n",
       "      <th>filepath</th>\n",
       "      <th>cloud_urls</th>\n",
       "    </tr>\n",
       "  </thead>\n",
       "  <tbody>\n",
       "    <tr>\n",
       "      <th>0</th>\n",
       "      <td>399781</td>\n",
       "      <td>NAAMES_ml/D20160524T225721_IFCB107/IFCB107D201...</td>\n",
       "      <td>https://ifcb.blob.core.windows.net/naames/NAAM...</td>\n",
       "    </tr>\n",
       "    <tr>\n",
       "      <th>1</th>\n",
       "      <td>399802</td>\n",
       "      <td>NAAMES_ml/D20160524T225721_IFCB107/IFCB107D201...</td>\n",
       "      <td>https://ifcb.blob.core.windows.net/naames/NAAM...</td>\n",
       "    </tr>\n",
       "    <tr>\n",
       "      <th>2</th>\n",
       "      <td>399803</td>\n",
       "      <td>NAAMES_ml/D20160524T225721_IFCB107/IFCB107D201...</td>\n",
       "      <td>https://ifcb.blob.core.windows.net/naames/NAAM...</td>\n",
       "    </tr>\n",
       "    <tr>\n",
       "      <th>3</th>\n",
       "      <td>399808</td>\n",
       "      <td>NAAMES_ml/D20160524T225721_IFCB107/IFCB107D201...</td>\n",
       "      <td>https://ifcb.blob.core.windows.net/naames/NAAM...</td>\n",
       "    </tr>\n",
       "    <tr>\n",
       "      <th>4</th>\n",
       "      <td>399815</td>\n",
       "      <td>NAAMES_ml/D20160524T225721_IFCB107/IFCB107D201...</td>\n",
       "      <td>https://ifcb.blob.core.windows.net/naames/NAAM...</td>\n",
       "    </tr>\n",
       "    <tr>\n",
       "      <th>...</th>\n",
       "      <td>...</td>\n",
       "      <td>...</td>\n",
       "      <td>...</td>\n",
       "    </tr>\n",
       "    <tr>\n",
       "      <th>99995</th>\n",
       "      <td>1382617</td>\n",
       "      <td>NAAMES_ml/D20151105T224631_IFCB107/IFCB107D201...</td>\n",
       "      <td>https://ifcb.blob.core.windows.net/naames/NAAM...</td>\n",
       "    </tr>\n",
       "    <tr>\n",
       "      <th>99996</th>\n",
       "      <td>1382633</td>\n",
       "      <td>NAAMES_ml/D20151105T224631_IFCB107/IFCB107D201...</td>\n",
       "      <td>https://ifcb.blob.core.windows.net/naames/NAAM...</td>\n",
       "    </tr>\n",
       "    <tr>\n",
       "      <th>99997</th>\n",
       "      <td>1382642</td>\n",
       "      <td>NAAMES_ml/D20151105T224631_IFCB107/IFCB107D201...</td>\n",
       "      <td>https://ifcb.blob.core.windows.net/naames/NAAM...</td>\n",
       "    </tr>\n",
       "    <tr>\n",
       "      <th>99998</th>\n",
       "      <td>1382654</td>\n",
       "      <td>NAAMES_ml/D20151105T224631_IFCB107/IFCB107D201...</td>\n",
       "      <td>https://ifcb.blob.core.windows.net/naames/NAAM...</td>\n",
       "    </tr>\n",
       "    <tr>\n",
       "      <th>99999</th>\n",
       "      <td>1382658</td>\n",
       "      <td>NAAMES_ml/D20151105T224631_IFCB107/IFCB107D201...</td>\n",
       "      <td>https://ifcb.blob.core.windows.net/naames/NAAM...</td>\n",
       "    </tr>\n",
       "  </tbody>\n",
       "</table>\n",
       "<p>100000 rows × 3 columns</p>\n",
       "</div>"
      ],
      "text/plain": [
       "          I_ID                                           filepath  \\\n",
       "0       399781  NAAMES_ml/D20160524T225721_IFCB107/IFCB107D201...   \n",
       "1       399802  NAAMES_ml/D20160524T225721_IFCB107/IFCB107D201...   \n",
       "2       399803  NAAMES_ml/D20160524T225721_IFCB107/IFCB107D201...   \n",
       "3       399808  NAAMES_ml/D20160524T225721_IFCB107/IFCB107D201...   \n",
       "4       399815  NAAMES_ml/D20160524T225721_IFCB107/IFCB107D201...   \n",
       "...        ...                                                ...   \n",
       "99995  1382617  NAAMES_ml/D20151105T224631_IFCB107/IFCB107D201...   \n",
       "99996  1382633  NAAMES_ml/D20151105T224631_IFCB107/IFCB107D201...   \n",
       "99997  1382642  NAAMES_ml/D20151105T224631_IFCB107/IFCB107D201...   \n",
       "99998  1382654  NAAMES_ml/D20151105T224631_IFCB107/IFCB107D201...   \n",
       "99999  1382658  NAAMES_ml/D20151105T224631_IFCB107/IFCB107D201...   \n",
       "\n",
       "                                              cloud_urls  \n",
       "0      https://ifcb.blob.core.windows.net/naames/NAAM...  \n",
       "1      https://ifcb.blob.core.windows.net/naames/NAAM...  \n",
       "2      https://ifcb.blob.core.windows.net/naames/NAAM...  \n",
       "3      https://ifcb.blob.core.windows.net/naames/NAAM...  \n",
       "4      https://ifcb.blob.core.windows.net/naames/NAAM...  \n",
       "...                                                  ...  \n",
       "99995  https://ifcb.blob.core.windows.net/naames/NAAM...  \n",
       "99996  https://ifcb.blob.core.windows.net/naames/NAAM...  \n",
       "99997  https://ifcb.blob.core.windows.net/naames/NAAM...  \n",
       "99998  https://ifcb.blob.core.windows.net/naames/NAAM...  \n",
       "99999  https://ifcb.blob.core.windows.net/naames/NAAM...  \n",
       "\n",
       "[100000 rows x 3 columns]"
      ]
     },
     "execution_count": 88,
     "metadata": {},
     "output_type": "execute_result"
    }
   ],
   "source": [
    "test"
   ]
  },
  {
   "cell_type": "code",
   "execution_count": 79,
   "id": "5731448d-0e3d-4832-b3ad-80f6e6bab56c",
   "metadata": {},
   "outputs": [
    {
     "name": "stdout",
     "output_type": "stream",
     "text": [
      "Model: \"model\"\n",
      "_________________________________________________________________\n",
      " Layer (type)                Output Shape              Param #   \n",
      "=================================================================\n",
      " input_2 (InputLayer)        [(None, 128, 128, 1)]     0         \n",
      "                                                                 \n",
      " conv2d_10 (Conv2D)          (None, 128, 128, 32)      320       \n",
      "                                                                 \n",
      " activation_12 (Activation)  (None, 128, 128, 32)      0         \n",
      "                                                                 \n",
      " batch_normalization_11 (Bat  (None, 128, 128, 32)     128       \n",
      " chNormalization)                                                \n",
      "                                                                 \n",
      " conv2d_11 (Conv2D)          (None, 128, 128, 16)      4624      \n",
      "                                                                 \n",
      " activation_13 (Activation)  (None, 128, 128, 16)      0         \n",
      "                                                                 \n",
      " batch_normalization_12 (Bat  (None, 128, 128, 16)     64        \n",
      " chNormalization)                                                \n",
      "                                                                 \n",
      " max_pooling2d_4 (MaxPooling  (None, 42, 42, 16)       0         \n",
      " 2D)                                                             \n",
      "                                                                 \n",
      " conv2d_12 (Conv2D)          (None, 42, 42, 64)        9280      \n",
      "                                                                 \n",
      " activation_14 (Activation)  (None, 42, 42, 64)        0         \n",
      "                                                                 \n",
      " batch_normalization_13 (Bat  (None, 42, 42, 64)       256       \n",
      " chNormalization)                                                \n",
      "                                                                 \n",
      " conv2d_13 (Conv2D)          (None, 42, 42, 32)        18464     \n",
      "                                                                 \n",
      " activation_15 (Activation)  (None, 42, 42, 32)        0         \n",
      "                                                                 \n",
      " batch_normalization_14 (Bat  (None, 42, 42, 32)       128       \n",
      " chNormalization)                                                \n",
      "                                                                 \n",
      " max_pooling2d_5 (MaxPooling  (None, 14, 14, 32)       0         \n",
      " 2D)                                                             \n",
      "                                                                 \n",
      " conv2d_14 (Conv2D)          (None, 14, 14, 128)       36992     \n",
      "                                                                 \n",
      " activation_16 (Activation)  (None, 14, 14, 128)       0         \n",
      "                                                                 \n",
      " batch_normalization_15 (Bat  (None, 14, 14, 128)      512       \n",
      " chNormalization)                                                \n",
      "                                                                 \n",
      " conv2d_15 (Conv2D)          (None, 14, 14, 128)       147584    \n",
      "                                                                 \n",
      " activation_17 (Activation)  (None, 14, 14, 128)       0         \n",
      "                                                                 \n",
      " batch_normalization_16 (Bat  (None, 14, 14, 128)      512       \n",
      " chNormalization)                                                \n",
      "                                                                 \n",
      " conv2d_16 (Conv2D)          (None, 14, 14, 64)        73792     \n",
      "                                                                 \n",
      " activation_18 (Activation)  (None, 14, 14, 64)        0         \n",
      "                                                                 \n",
      " batch_normalization_17 (Bat  (None, 14, 14, 64)       256       \n",
      " chNormalization)                                                \n",
      "                                                                 \n",
      " max_pooling2d_6 (MaxPooling  (None, 4, 4, 64)         0         \n",
      " 2D)                                                             \n",
      "                                                                 \n",
      " conv2d_17 (Conv2D)          (None, 4, 4, 256)         147712    \n",
      "                                                                 \n",
      " activation_19 (Activation)  (None, 4, 4, 256)         0         \n",
      "                                                                 \n",
      " batch_normalization_18 (Bat  (None, 4, 4, 256)        1024      \n",
      " chNormalization)                                                \n",
      "                                                                 \n",
      " conv2d_18 (Conv2D)          (None, 4, 4, 256)         590080    \n",
      "                                                                 \n",
      " activation_20 (Activation)  (None, 4, 4, 256)         0         \n",
      "                                                                 \n",
      " batch_normalization_19 (Bat  (None, 4, 4, 256)        1024      \n",
      " chNormalization)                                                \n",
      "                                                                 \n",
      " conv2d_19 (Conv2D)          (None, 4, 4, 128)         295040    \n",
      "                                                                 \n",
      " activation_21 (Activation)  (None, 4, 4, 128)         0         \n",
      "                                                                 \n",
      " batch_normalization_20 (Bat  (None, 4, 4, 128)        512       \n",
      " chNormalization)                                                \n",
      "                                                                 \n",
      " max_pooling2d_7 (MaxPooling  (None, 1, 1, 128)        0         \n",
      " 2D)                                                             \n",
      "                                                                 \n",
      " flatten_1 (Flatten)         (None, 128)               0         \n",
      "                                                                 \n",
      " dense_4 (Dense)             (None, 512)               66048     \n",
      "                                                                 \n",
      " activation_22 (Activation)  (None, 512)               0         \n",
      "                                                                 \n",
      " batch_normalization_21 (Bat  (None, 512)              2048      \n",
      " chNormalization)                                                \n",
      "                                                                 \n",
      " dropout_2 (Dropout)         (None, 512)               0         \n",
      "                                                                 \n",
      " dense_5 (Dense)             (None, 1000)              513000    \n",
      "                                                                 \n",
      " activation_23 (Activation)  (None, 1000)              0         \n",
      "                                                                 \n",
      " dense_6 (Dense)             (None, 1000)              1001000   \n",
      "                                                                 \n",
      " dropout_3 (Dropout)         (None, 1000)              0         \n",
      "                                                                 \n",
      "=================================================================\n",
      "Total params: 2,910,400\n",
      "Trainable params: 2,907,168\n",
      "Non-trainable params: 3,232\n",
      "_________________________________________________________________\n"
     ]
    }
   ],
   "source": [
    "# Load the model architecture from JSON file\n",
    "json_file_path = './ml-workflow/model_ckpt/model-cnn-v1-b3.json'\n",
    "with open(json_file_path, 'r') as json_file:\n",
    "    loaded_model_json = json_file.read()\n",
    "\n",
    "loaded_model = model_from_json(loaded_model_json)\n",
    "\n",
    "# Load the model weights from H5 file\n",
    "h5_file_path = './ml-workflow/model_ckpt/model-cnn-v1-b3.h5'\n",
    "loaded_model.load_weights(h5_file_path)\n",
    "\n",
    "# Remove the last layer\n",
    "loaded_model = KerasModel(inputs=loaded_model.input, outputs=loaded_model.layers[-2].output)\n",
    "\n",
    "# Print the summary\n",
    "loaded_model.summary()"
   ]
  },
  {
   "cell_type": "code",
   "execution_count": 89,
   "id": "8aca5cc0-b992-44bf-8d3c-6d48e6e0082c",
   "metadata": {},
   "outputs": [],
   "source": [
    "test['cloud_urls'] = test.filepath.apply(lambda x: \"https://ifcb.blob.core.windows.net/naames/{filepath}\".format(filepath=x))\n",
    "\n",
    "cloud_urls = df.cloud_urls.values\n",
    "data = []\n",
    "for c_url in cloud_urls:\n",
    "    data.append(preprocess_input(np.expand_dims(imageio.v2.imread(c_url), axis=-1)))"
   ]
  },
  {
   "cell_type": "code",
   "execution_count": 97,
   "id": "b56d483e-6b39-48f9-ae63-6270db35b67c",
   "metadata": {},
   "outputs": [
    {
     "data": {
      "text/plain": [
       "(128, 128, 1)"
      ]
     },
     "execution_count": 97,
     "metadata": {},
     "output_type": "execute_result"
    }
   ],
   "source": [
    "data[0].shape"
   ]
  },
  {
   "cell_type": "code",
   "execution_count": 98,
   "id": "d97e72eb-440c-4295-b793-705a4640d324",
   "metadata": {},
   "outputs": [
    {
     "ename": "ValueError",
     "evalue": "in user code:\n\n    File \"/Users/aditis/opt/anaconda3/lib/python3.9/site-packages/keras/engine/training.py\", line 2041, in predict_function  *\n        return step_function(self, iterator)\n    File \"/Users/aditis/opt/anaconda3/lib/python3.9/site-packages/keras/engine/training.py\", line 2027, in step_function  **\n        outputs = model.distribute_strategy.run(run_step, args=(data,))\n    File \"/Users/aditis/opt/anaconda3/lib/python3.9/site-packages/keras/engine/training.py\", line 2015, in run_step  **\n        outputs = model.predict_step(data)\n    File \"/Users/aditis/opt/anaconda3/lib/python3.9/site-packages/keras/engine/training.py\", line 1983, in predict_step\n        return self(x, training=False)\n    File \"/Users/aditis/opt/anaconda3/lib/python3.9/site-packages/keras/utils/traceback_utils.py\", line 70, in error_handler\n        raise e.with_traceback(filtered_tb) from None\n    File \"/Users/aditis/opt/anaconda3/lib/python3.9/site-packages/keras/engine/input_spec.py\", line 216, in assert_input_compatibility\n        raise ValueError(\n\n    ValueError: Layer \"model\" expects 1 input(s), but it received 3 input tensors. Inputs received: [<tf.Tensor 'IteratorGetNext:0' shape=(32, 128, 1) dtype=uint8>, <tf.Tensor 'IteratorGetNext:1' shape=(32, 128, 1) dtype=uint8>, <tf.Tensor 'IteratorGetNext:2' shape=(32, 128, 1) dtype=uint8>]\n",
     "output_type": "error",
     "traceback": [
      "\u001b[0;31m---------------------------------------------------------------------------\u001b[0m",
      "\u001b[0;31mValueError\u001b[0m                                Traceback (most recent call last)",
      "Cell \u001b[0;32mIn[98], line 1\u001b[0m\n\u001b[0;32m----> 1\u001b[0m \u001b[43mloaded_model\u001b[49m\u001b[38;5;241;43m.\u001b[39;49m\u001b[43mpredict\u001b[49m\u001b[43m(\u001b[49m\u001b[43mdata\u001b[49m\u001b[43m[\u001b[49m\u001b[43m:\u001b[49m\u001b[38;5;241;43m3\u001b[39;49m\u001b[43m]\u001b[49m\u001b[43m)\u001b[49m\n",
      "File \u001b[0;32m~/opt/anaconda3/lib/python3.9/site-packages/keras/utils/traceback_utils.py:70\u001b[0m, in \u001b[0;36mfilter_traceback.<locals>.error_handler\u001b[0;34m(*args, **kwargs)\u001b[0m\n\u001b[1;32m     67\u001b[0m     filtered_tb \u001b[38;5;241m=\u001b[39m _process_traceback_frames(e\u001b[38;5;241m.\u001b[39m__traceback__)\n\u001b[1;32m     68\u001b[0m     \u001b[38;5;66;03m# To get the full stack trace, call:\u001b[39;00m\n\u001b[1;32m     69\u001b[0m     \u001b[38;5;66;03m# `tf.debugging.disable_traceback_filtering()`\u001b[39;00m\n\u001b[0;32m---> 70\u001b[0m     \u001b[38;5;28;01mraise\u001b[39;00m e\u001b[38;5;241m.\u001b[39mwith_traceback(filtered_tb) \u001b[38;5;28;01mfrom\u001b[39;00m \u001b[38;5;28;01mNone\u001b[39;00m\n\u001b[1;32m     71\u001b[0m \u001b[38;5;28;01mfinally\u001b[39;00m:\n\u001b[1;32m     72\u001b[0m     \u001b[38;5;28;01mdel\u001b[39;00m filtered_tb\n",
      "File \u001b[0;32m/var/folders/th/b_mjqyv10_dcrv1zkmhlvjrr0000gn/T/__autograph_generated_file1lf5kq4l.py:15\u001b[0m, in \u001b[0;36mouter_factory.<locals>.inner_factory.<locals>.tf__predict_function\u001b[0;34m(iterator)\u001b[0m\n\u001b[1;32m     13\u001b[0m \u001b[38;5;28;01mtry\u001b[39;00m:\n\u001b[1;32m     14\u001b[0m     do_return \u001b[38;5;241m=\u001b[39m \u001b[38;5;28;01mTrue\u001b[39;00m\n\u001b[0;32m---> 15\u001b[0m     retval_ \u001b[38;5;241m=\u001b[39m ag__\u001b[38;5;241m.\u001b[39mconverted_call(ag__\u001b[38;5;241m.\u001b[39mld(step_function), (ag__\u001b[38;5;241m.\u001b[39mld(\u001b[38;5;28mself\u001b[39m), ag__\u001b[38;5;241m.\u001b[39mld(iterator)), \u001b[38;5;28;01mNone\u001b[39;00m, fscope)\n\u001b[1;32m     16\u001b[0m \u001b[38;5;28;01mexcept\u001b[39;00m:\n\u001b[1;32m     17\u001b[0m     do_return \u001b[38;5;241m=\u001b[39m \u001b[38;5;28;01mFalse\u001b[39;00m\n",
      "\u001b[0;31mValueError\u001b[0m: in user code:\n\n    File \"/Users/aditis/opt/anaconda3/lib/python3.9/site-packages/keras/engine/training.py\", line 2041, in predict_function  *\n        return step_function(self, iterator)\n    File \"/Users/aditis/opt/anaconda3/lib/python3.9/site-packages/keras/engine/training.py\", line 2027, in step_function  **\n        outputs = model.distribute_strategy.run(run_step, args=(data,))\n    File \"/Users/aditis/opt/anaconda3/lib/python3.9/site-packages/keras/engine/training.py\", line 2015, in run_step  **\n        outputs = model.predict_step(data)\n    File \"/Users/aditis/opt/anaconda3/lib/python3.9/site-packages/keras/engine/training.py\", line 1983, in predict_step\n        return self(x, training=False)\n    File \"/Users/aditis/opt/anaconda3/lib/python3.9/site-packages/keras/utils/traceback_utils.py\", line 70, in error_handler\n        raise e.with_traceback(filtered_tb) from None\n    File \"/Users/aditis/opt/anaconda3/lib/python3.9/site-packages/keras/engine/input_spec.py\", line 216, in assert_input_compatibility\n        raise ValueError(\n\n    ValueError: Layer \"model\" expects 1 input(s), but it received 3 input tensors. Inputs received: [<tf.Tensor 'IteratorGetNext:0' shape=(32, 128, 1) dtype=uint8>, <tf.Tensor 'IteratorGetNext:1' shape=(32, 128, 1) dtype=uint8>, <tf.Tensor 'IteratorGetNext:2' shape=(32, 128, 1) dtype=uint8>]\n"
     ]
    }
   ],
   "source": [
    "loaded_model.predict(data[:3])"
   ]
  },
  {
   "cell_type": "code",
   "execution_count": 62,
   "id": "69a61b06-b346-4371-b710-549122c9906e",
   "metadata": {},
   "outputs": [
    {
     "data": {
      "text/plain": [
       "<module 'utils.sql_utils' from '/Users/aditis/Documents/DATA590/PIVOT/PIVOT/utils/sql_utils.py'>"
      ]
     },
     "execution_count": 62,
     "metadata": {},
     "output_type": "execute_result"
    }
   ],
   "source": [
    "import importlib\n",
    "importlib.reload(sql_utils)"
   ]
  },
  {
   "cell_type": "code",
   "execution_count": null,
   "id": "d8456837-690e-41fa-bcbd-4e56a96fc095",
   "metadata": {},
   "outputs": [],
   "source": []
  },
  {
   "cell_type": "code",
   "execution_count": 61,
   "id": "c21993f7-b27d-4552-bdab-b7643642abd3",
   "metadata": {},
   "outputs": [],
   "source": [
    "from utils import sql_utils"
   ]
  },
  {
   "cell_type": "code",
   "execution_count": null,
   "id": "101343c0-87ac-424b-a2f5-1f83f8d1ac5c",
   "metadata": {},
   "outputs": [],
   "source": [
    "\"https://ifcb.blob.core.windows.net/naames/{filepath}\""
   ]
  },
  {
   "cell_type": "code",
   "execution_count": 65,
   "id": "7f3663ff-5e1e-49d1-857c-8956cf2a11df",
   "metadata": {},
   "outputs": [
    {
     "ename": "DatabaseError",
     "evalue": "(2812, b\"Could not find stored procedure 'GENERATE_IMAGES_TO_METRIZE'.DB-Lib error message 20018, severity 16:\\nGeneral SQL Server error: Check messages from the SQL Server\\n\")",
     "output_type": "error",
     "traceback": [
      "\u001b[0;31m---------------------------------------------------------------------------\u001b[0m",
      "\u001b[0;31mMSSQLDatabaseException\u001b[0m                    Traceback (most recent call last)",
      "File \u001b[0;32msrc/pymssql/_pymssql.pyx:440\u001b[0m, in \u001b[0;36mpymssql._pymssql.Cursor.callproc\u001b[0;34m()\u001b[0m\n",
      "File \u001b[0;32msrc/pymssql/_mssql.pyx:1780\u001b[0m, in \u001b[0;36mpymssql._mssql.MSSQLStoredProcedure.execute\u001b[0;34m()\u001b[0m\n",
      "File \u001b[0;32msrc/pymssql/_mssql.pyx:1815\u001b[0m, in \u001b[0;36mpymssql._mssql.check_cancel_and_raise\u001b[0;34m()\u001b[0m\n",
      "File \u001b[0;32msrc/pymssql/_mssql.pyx:1861\u001b[0m, in \u001b[0;36mpymssql._mssql.raise_MSSQLDatabaseException\u001b[0;34m()\u001b[0m\n",
      "\u001b[0;31mMSSQLDatabaseException\u001b[0m: (2812, b\"Could not find stored procedure 'GENERATE_IMAGES_TO_METRIZE'.DB-Lib error message 20018, severity 16:\\nGeneral SQL Server error: Check messages from the SQL Server\\n\")",
      "\nDuring handling of the above exception, another exception occurred:\n",
      "\u001b[0;31mDatabaseError\u001b[0m                             Traceback (most recent call last)",
      "Cell \u001b[0;32mIn[65], line 1\u001b[0m\n\u001b[0;32m----> 1\u001b[0m \u001b[43msql_utils\u001b[49m\u001b[38;5;241;43m.\u001b[39;49m\u001b[43mget_images_to_metrize\u001b[49m\u001b[43m(\u001b[49m\u001b[38;5;241;43m1\u001b[39;49m\u001b[43m,\u001b[49m\u001b[43m \u001b[49m\u001b[38;5;241;43m1\u001b[39;49m\u001b[43m)\u001b[49m\n",
      "File \u001b[0;32m~/Documents/DATA590/PIVOT/PIVOT/utils/sql_utils.py:35\u001b[0m, in \u001b[0;36mget_images_to_metrize\u001b[0;34m(model_id, dissimilarity_id, server_args)\u001b[0m\n\u001b[1;32m     30\u001b[0m \u001b[38;5;66;03m# Call stored procedure for getting metric data\u001b[39;00m\n\u001b[1;32m     31\u001b[0m args \u001b[38;5;241m=\u001b[39m OrderedDict([\n\u001b[1;32m     32\u001b[0m     (\u001b[38;5;124m\"\u001b[39m\u001b[38;5;124mMODEL_ID\u001b[39m\u001b[38;5;124m\"\u001b[39m, model_id),\n\u001b[1;32m     33\u001b[0m     (\u001b[38;5;124m\"\u001b[39m\u001b[38;5;124mD_METRIC_ID\u001b[39m\u001b[38;5;124m\"\u001b[39m, dissimilarity_id)\n\u001b[1;32m     34\u001b[0m ])\n\u001b[0;32m---> 35\u001b[0m df \u001b[38;5;241m=\u001b[39m \u001b[43mexecute_stored_procedure\u001b[49m\u001b[43m(\u001b[49m\u001b[43msp\u001b[49m\u001b[38;5;241;43m=\u001b[39;49m\u001b[38;5;124;43m\"\u001b[39;49m\u001b[38;5;124;43mGENERATE_IMAGES_TO_METRIZE\u001b[39;49m\u001b[38;5;124;43m\"\u001b[39;49m\u001b[43m,\u001b[49m\u001b[43m \u001b[49m\u001b[43margs\u001b[49m\u001b[38;5;241;43m=\u001b[39;49m\u001b[43margs\u001b[49m\u001b[43m,\u001b[49m\u001b[43m \u001b[49m\u001b[43mserver_args\u001b[49m\u001b[38;5;241;43m=\u001b[39;49m\u001b[43mserver_args\u001b[49m\u001b[43m)\u001b[49m\n\u001b[1;32m     36\u001b[0m \u001b[38;5;28;01mreturn\u001b[39;00m df\n",
      "File \u001b[0;32m~/Documents/DATA590/PIVOT/PIVOT/utils/sql_utils.py:395\u001b[0m, in \u001b[0;36mexecute_stored_procedure\u001b[0;34m(sp, args, server_args)\u001b[0m\n\u001b[1;32m    393\u001b[0m     arg_tuples \u001b[38;5;241m=\u001b[39m \u001b[38;5;28mtuple\u001b[39m([args[k] \u001b[38;5;28;01mfor\u001b[39;00m k \u001b[38;5;129;01min\u001b[39;00m \u001b[38;5;28mlist\u001b[39m(args\u001b[38;5;241m.\u001b[39mkeys())])\n\u001b[1;32m    394\u001b[0m     \u001b[38;5;66;03m# execute stored procedure\u001b[39;00m\n\u001b[0;32m--> 395\u001b[0m     \u001b[43mcursor\u001b[49m\u001b[38;5;241;43m.\u001b[39;49m\u001b[43mcallproc\u001b[49m\u001b[43m(\u001b[49m\u001b[43msp\u001b[49m\u001b[43m,\u001b[49m\u001b[43m \u001b[49m\u001b[43marg_tuples\u001b[49m\u001b[43m)\u001b[49m\n\u001b[1;32m    397\u001b[0m \u001b[38;5;66;03m# Fetch the results\u001b[39;00m\n\u001b[1;32m    398\u001b[0m \u001b[38;5;28;01mtry\u001b[39;00m:\n",
      "File \u001b[0;32msrc/pymssql/_pymssql.pyx:443\u001b[0m, in \u001b[0;36mpymssql._pymssql.Cursor.callproc\u001b[0;34m()\u001b[0m\n",
      "\u001b[0;31mDatabaseError\u001b[0m: (2812, b\"Could not find stored procedure 'GENERATE_IMAGES_TO_METRIZE'.DB-Lib error message 20018, severity 16:\\nGeneral SQL Server error: Check messages from the SQL Server\\n\")"
     ]
    }
   ],
   "source": [
    "sql_utils.get_images_to_metrize(1, 1)"
   ]
  },
  {
   "cell_type": "code",
   "execution_count": null,
   "id": "6a426e95-2398-4934-9395-1a8a651915ad",
   "metadata": {},
   "outputs": [],
   "source": []
  },
  {
   "cell_type": "code",
   "execution_count": null,
   "id": "5bc586b4-8f89-4f45-a7d2-19e99c7504c8",
   "metadata": {},
   "outputs": [],
   "source": []
  },
  {
   "cell_type": "code",
   "execution_count": null,
   "id": "106c8d2b-4431-4f08-a0a0-74ef5d4a53ec",
   "metadata": {},
   "outputs": [],
   "source": []
  },
  {
   "cell_type": "code",
   "execution_count": null,
   "id": "97416a76-9655-407a-a1d7-79202cbb0b8f",
   "metadata": {},
   "outputs": [],
   "source": []
  },
  {
   "cell_type": "code",
   "execution_count": null,
   "id": "50dda6f3-aeff-4f0f-b5f9-c9a82447b69a",
   "metadata": {},
   "outputs": [],
   "source": []
  },
  {
   "cell_type": "code",
   "execution_count": null,
   "id": "a5f892bc-bb5c-480c-9c07-9216fe3cc200",
   "metadata": {},
   "outputs": [],
   "source": []
  },
  {
   "cell_type": "code",
   "execution_count": null,
   "id": "cdd53e04-1f7f-4b75-ad63-2f62c42ec8b9",
   "metadata": {},
   "outputs": [],
   "source": []
  },
  {
   "cell_type": "code",
   "execution_count": null,
   "id": "351902f2-8a1b-45d8-b837-ebf31d93fe87",
   "metadata": {},
   "outputs": [],
   "source": []
  },
  {
   "cell_type": "code",
   "execution_count": null,
   "id": "601eff73-3208-40fa-9c3c-b7639f6ea2bd",
   "metadata": {},
   "outputs": [],
   "source": []
  }
 ],
 "metadata": {
  "kernelspec": {
   "display_name": "Python 3 (ipykernel)",
   "language": "python",
   "name": "python3"
  },
  "language_info": {
   "codemirror_mode": {
    "name": "ipython",
    "version": 3
   },
   "file_extension": ".py",
   "mimetype": "text/x-python",
   "name": "python",
   "nbconvert_exporter": "python",
   "pygments_lexer": "ipython3",
   "version": "3.9.18"
  }
 },
 "nbformat": 4,
 "nbformat_minor": 5
}
