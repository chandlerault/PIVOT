{
 "cells": [
  {
   "cell_type": "code",
   "execution_count": 1,
   "id": "575d1d0e",
   "metadata": {},
   "outputs": [
    {
     "data": {
      "text/plain": [
       "<module 'utils.insert_data' from 'C:\\\\Users\\\\ysman\\\\Desktop\\\\Capstone\\\\PIVOT\\\\notebooks\\\\../PIVOT\\\\utils\\\\insert_data.py'>"
      ]
     },
     "execution_count": 1,
     "metadata": {},
     "output_type": "execute_result"
    }
   ],
   "source": [
    "import matplotlib.pyplot as plt\n",
    "import pandas as pd\n",
    "import numpy as np\n",
    "import os\n",
    "\n",
    "import azure.storage.blob\n",
    "from azure.storage.blob import BlobServiceClient, BlobClient, ContainerClient\n",
    "\n",
    "import sys\n",
    "sys.path.append('../PIVOT/') # point to wherever the ml-workflow directory is\n",
    "\n",
    "import utils.data_utils as du\n",
    "import utils.insert_data as idu\n",
    "import utils.sql_utils as sq\n",
    "\n",
    "from tqdm.auto import trange, tqdm\n",
    "import concurrent.futures\n",
    "\n",
    "# Need to comment out gray_image = cv2.cvtColor(ri, cv2.COLOR_BGR2GRAY) in du.prepocess_input\n",
    "# gray_image = ri\n",
    "from importlib import reload\n",
    "reload(du)\n",
    "reload(idu)\n"
   ]
  },
  {
   "cell_type": "code",
   "execution_count": 56,
   "id": "febbf045",
   "metadata": {},
   "outputs": [
    {
     "name": "stderr",
     "output_type": "stream",
     "text": [
      "C:\\Users\\ysman\\AppData\\Local\\Temp\\ipykernel_17204\\2612457103.py:1: UserWarning: The query returned empty.\n",
      "  sq.run_sql_query(\"select * from Images;\")\n"
     ]
    }
   ],
   "source": [
    "sq.run_sql_query(\"select * from Images;\")"
   ]
  },
  {
   "cell_type": "markdown",
   "id": "a558f59a",
   "metadata": {},
   "source": [
    "# Load in the training data for cnn-v1-b3 model"
   ]
  },
  {
   "cell_type": "code",
   "execution_count": 96,
   "id": "2036b47b",
   "metadata": {},
   "outputs": [
    {
     "data": {
      "text/html": [
       "<div>\n",
       "<style scoped>\n",
       "    .dataframe tbody tr th:only-of-type {\n",
       "        vertical-align: middle;\n",
       "    }\n",
       "\n",
       "    .dataframe tbody tr th {\n",
       "        vertical-align: top;\n",
       "    }\n",
       "\n",
       "    .dataframe thead th {\n",
       "        text-align: right;\n",
       "    }\n",
       "</style>\n",
       "<table border=\"1\" class=\"dataframe\">\n",
       "  <thead>\n",
       "    <tr style=\"text-align: right;\">\n",
       "      <th></th>\n",
       "      <th>full_path</th>\n",
       "      <th>high_group</th>\n",
       "      <th>pred_label</th>\n",
       "      <th>true_label</th>\n",
       "      <th>is_correct</th>\n",
       "      <th>0</th>\n",
       "      <th>1</th>\n",
       "      <th>2</th>\n",
       "      <th>3</th>\n",
       "      <th>4</th>\n",
       "      <th>5</th>\n",
       "      <th>6</th>\n",
       "      <th>7</th>\n",
       "      <th>8</th>\n",
       "      <th>9</th>\n",
       "      <th>top_5</th>\n",
       "    </tr>\n",
       "  </thead>\n",
       "  <tbody>\n",
       "    <tr>\n",
       "      <th>0</th>\n",
       "      <td>/home/azureuser/data/NAAMES_ml/D20160513T22082...</td>\n",
       "      <td>Other</td>\n",
       "      <td>7</td>\n",
       "      <td>7</td>\n",
       "      <td>1</td>\n",
       "      <td>0.000018</td>\n",
       "      <td>1.146114e-18</td>\n",
       "      <td>2.892286e-07</td>\n",
       "      <td>0.000010</td>\n",
       "      <td>4.914940e-13</td>\n",
       "      <td>0.003955</td>\n",
       "      <td>1.792351e-06</td>\n",
       "      <td>0.995379</td>\n",
       "      <td>0.000604</td>\n",
       "      <td>0.000033</td>\n",
       "      <td>1</td>\n",
       "    </tr>\n",
       "    <tr>\n",
       "      <th>1</th>\n",
       "      <td>/home/azureuser/data/NAAMES_ml/D20180402T13445...</td>\n",
       "      <td>Other</td>\n",
       "      <td>0</td>\n",
       "      <td>7</td>\n",
       "      <td>0</td>\n",
       "      <td>0.539550</td>\n",
       "      <td>1.456711e-04</td>\n",
       "      <td>4.600495e-09</td>\n",
       "      <td>0.000224</td>\n",
       "      <td>1.425122e-01</td>\n",
       "      <td>0.006822</td>\n",
       "      <td>3.214117e-11</td>\n",
       "      <td>0.083037</td>\n",
       "      <td>0.226862</td>\n",
       "      <td>0.000847</td>\n",
       "      <td>1</td>\n",
       "    </tr>\n",
       "    <tr>\n",
       "      <th>2</th>\n",
       "      <td>/home/azureuser/data/NAAMES_ml/D20160528T22330...</td>\n",
       "      <td>Other</td>\n",
       "      <td>7</td>\n",
       "      <td>7</td>\n",
       "      <td>1</td>\n",
       "      <td>0.000120</td>\n",
       "      <td>5.510693e-15</td>\n",
       "      <td>2.841731e-05</td>\n",
       "      <td>0.000075</td>\n",
       "      <td>6.837943e-09</td>\n",
       "      <td>0.000447</td>\n",
       "      <td>6.920837e-07</td>\n",
       "      <td>0.994058</td>\n",
       "      <td>0.000086</td>\n",
       "      <td>0.005186</td>\n",
       "      <td>1</td>\n",
       "    </tr>\n",
       "    <tr>\n",
       "      <th>3</th>\n",
       "      <td>/home/azureuser/data/NAAMES_ml/D20160531T08382...</td>\n",
       "      <td>Other</td>\n",
       "      <td>7</td>\n",
       "      <td>7</td>\n",
       "      <td>1</td>\n",
       "      <td>0.000241</td>\n",
       "      <td>2.925888e-11</td>\n",
       "      <td>4.873408e-06</td>\n",
       "      <td>0.003934</td>\n",
       "      <td>2.065363e-09</td>\n",
       "      <td>0.273014</td>\n",
       "      <td>1.542221e-04</td>\n",
       "      <td>0.718308</td>\n",
       "      <td>0.000597</td>\n",
       "      <td>0.003748</td>\n",
       "      <td>1</td>\n",
       "    </tr>\n",
       "    <tr>\n",
       "      <th>4</th>\n",
       "      <td>/home/azureuser/data/NAAMES_ml/D20160526T21432...</td>\n",
       "      <td>Diatom</td>\n",
       "      <td>3</td>\n",
       "      <td>3</td>\n",
       "      <td>1</td>\n",
       "      <td>0.000313</td>\n",
       "      <td>4.062050e-14</td>\n",
       "      <td>6.139785e-05</td>\n",
       "      <td>0.710152</td>\n",
       "      <td>2.181512e-10</td>\n",
       "      <td>0.000211</td>\n",
       "      <td>4.933558e-06</td>\n",
       "      <td>0.287664</td>\n",
       "      <td>0.000222</td>\n",
       "      <td>0.001372</td>\n",
       "      <td>1</td>\n",
       "    </tr>\n",
       "  </tbody>\n",
       "</table>\n",
       "</div>"
      ],
      "text/plain": [
       "                                           full_path high_group  pred_label  \\\n",
       "0  /home/azureuser/data/NAAMES_ml/D20160513T22082...      Other           7   \n",
       "1  /home/azureuser/data/NAAMES_ml/D20180402T13445...      Other           0   \n",
       "2  /home/azureuser/data/NAAMES_ml/D20160528T22330...      Other           7   \n",
       "3  /home/azureuser/data/NAAMES_ml/D20160531T08382...      Other           7   \n",
       "4  /home/azureuser/data/NAAMES_ml/D20160526T21432...     Diatom           3   \n",
       "\n",
       "   true_label  is_correct         0             1             2         3  \\\n",
       "0           7           1  0.000018  1.146114e-18  2.892286e-07  0.000010   \n",
       "1           7           0  0.539550  1.456711e-04  4.600495e-09  0.000224   \n",
       "2           7           1  0.000120  5.510693e-15  2.841731e-05  0.000075   \n",
       "3           7           1  0.000241  2.925888e-11  4.873408e-06  0.003934   \n",
       "4           3           1  0.000313  4.062050e-14  6.139785e-05  0.710152   \n",
       "\n",
       "              4         5             6         7         8         9  top_5  \n",
       "0  4.914940e-13  0.003955  1.792351e-06  0.995379  0.000604  0.000033      1  \n",
       "1  1.425122e-01  0.006822  3.214117e-11  0.083037  0.226862  0.000847      1  \n",
       "2  6.837943e-09  0.000447  6.920837e-07  0.994058  0.000086  0.005186      1  \n",
       "3  2.065363e-09  0.273014  1.542221e-04  0.718308  0.000597  0.003748      1  \n",
       "4  2.181512e-10  0.000211  4.933558e-06  0.287664  0.000222  0.001372      1  "
      ]
     },
     "execution_count": 96,
     "metadata": {},
     "output_type": "execute_result"
    }
   ],
   "source": [
    "train_data = pd.read_csv(\"../PIVOT/data/model-summary-cnn-v1-b3.csv\")\n",
    "train_data.head()"
   ]
  },
  {
   "cell_type": "code",
   "execution_count": 105,
   "id": "c1ee6fe3",
   "metadata": {},
   "outputs": [
    {
     "data": {
      "text/plain": [
       "True"
      ]
     },
     "execution_count": 105,
     "metadata": {},
     "output_type": "execute_result"
    }
   ],
   "source": [
    "np.all(train_data[list(np.arange(10).astype(int).astype(str))].idxmax(axis=1).astype(int) == train_data.pred_label)"
   ]
  },
  {
   "cell_type": "markdown",
   "id": "44b13b2b",
   "metadata": {},
   "source": [
    "### Get the order of the class labels and replace the `np.nan` with `Unidentifiable`."
   ]
  },
  {
   "cell_type": "code",
   "execution_count": 50,
   "id": "b2099645",
   "metadata": {},
   "outputs": [
    {
     "data": {
      "text/plain": [
       "['Chloro',\n",
       " 'Cilliate',\n",
       " 'Crypto',\n",
       " 'Diatom',\n",
       " 'Dictyo',\n",
       " 'Dinoflagellate',\n",
       " 'Eugleno',\n",
       " 'Other',\n",
       " 'Prymnesio',\n",
       " 'Unidentifiable']"
      ]
     },
     "execution_count": 50,
     "metadata": {},
     "output_type": "execute_result"
    }
   ],
   "source": [
    "class_labels = train_data.drop_duplicates(subset = ['true_label', 'high_group']).sort_values(by=\"true_label\")['high_group'].values\n",
    "class_labels[-1] = \"Unidentifiable\"\n",
    "class_labels = list(class_labels)\n",
    "\n",
    "class_labels"
   ]
  },
  {
   "cell_type": "markdown",
   "id": "12ee0c66",
   "metadata": {},
   "source": [
    "### Extract the filepath for blob storage and rename the 0-9 index probabilities with their respective class_labels."
   ]
  },
  {
   "cell_type": "code",
   "execution_count": 106,
   "id": "a7a229d6",
   "metadata": {},
   "outputs": [],
   "source": [
    "train_data[\"filepath\"] = train_data['full_path'].str.split(\"data/\", expand=True)[1]"
   ]
  },
  {
   "cell_type": "code",
   "execution_count": 52,
   "id": "c4b3dae2",
   "metadata": {},
   "outputs": [
    {
     "data": {
      "text/html": [
       "<div>\n",
       "<style scoped>\n",
       "    .dataframe tbody tr th:only-of-type {\n",
       "        vertical-align: middle;\n",
       "    }\n",
       "\n",
       "    .dataframe tbody tr th {\n",
       "        vertical-align: top;\n",
       "    }\n",
       "\n",
       "    .dataframe thead th {\n",
       "        text-align: right;\n",
       "    }\n",
       "</style>\n",
       "<table border=\"1\" class=\"dataframe\">\n",
       "  <thead>\n",
       "    <tr style=\"text-align: right;\">\n",
       "      <th></th>\n",
       "      <th>full_path</th>\n",
       "      <th>high_group</th>\n",
       "      <th>pred_label</th>\n",
       "      <th>true_label</th>\n",
       "      <th>is_correct</th>\n",
       "      <th>0</th>\n",
       "      <th>1</th>\n",
       "      <th>2</th>\n",
       "      <th>3</th>\n",
       "      <th>4</th>\n",
       "      <th>5</th>\n",
       "      <th>6</th>\n",
       "      <th>7</th>\n",
       "      <th>8</th>\n",
       "      <th>9</th>\n",
       "      <th>top_5</th>\n",
       "      <th>filepath</th>\n",
       "    </tr>\n",
       "  </thead>\n",
       "  <tbody>\n",
       "    <tr>\n",
       "      <th>0</th>\n",
       "      <td>/home/azureuser/data/NAAMES_ml/D20160513T22082...</td>\n",
       "      <td>Other</td>\n",
       "      <td>7</td>\n",
       "      <td>7</td>\n",
       "      <td>1</td>\n",
       "      <td>0.000018</td>\n",
       "      <td>1.146114e-18</td>\n",
       "      <td>2.892286e-07</td>\n",
       "      <td>0.000010</td>\n",
       "      <td>4.914940e-13</td>\n",
       "      <td>0.003955</td>\n",
       "      <td>1.792351e-06</td>\n",
       "      <td>0.995379</td>\n",
       "      <td>0.000604</td>\n",
       "      <td>0.000033</td>\n",
       "      <td>1</td>\n",
       "      <td>NAAMES_ml/D20160513T220825_IFCB107/IFCB107D201...</td>\n",
       "    </tr>\n",
       "    <tr>\n",
       "      <th>1</th>\n",
       "      <td>/home/azureuser/data/NAAMES_ml/D20180402T13445...</td>\n",
       "      <td>Other</td>\n",
       "      <td>0</td>\n",
       "      <td>7</td>\n",
       "      <td>0</td>\n",
       "      <td>0.539550</td>\n",
       "      <td>1.456711e-04</td>\n",
       "      <td>4.600495e-09</td>\n",
       "      <td>0.000224</td>\n",
       "      <td>1.425122e-01</td>\n",
       "      <td>0.006822</td>\n",
       "      <td>3.214117e-11</td>\n",
       "      <td>0.083037</td>\n",
       "      <td>0.226862</td>\n",
       "      <td>0.000847</td>\n",
       "      <td>1</td>\n",
       "      <td>NAAMES_ml/D20180402T134458_IFCB107/IFCB107D201...</td>\n",
       "    </tr>\n",
       "    <tr>\n",
       "      <th>2</th>\n",
       "      <td>/home/azureuser/data/NAAMES_ml/D20160528T22330...</td>\n",
       "      <td>Other</td>\n",
       "      <td>7</td>\n",
       "      <td>7</td>\n",
       "      <td>1</td>\n",
       "      <td>0.000120</td>\n",
       "      <td>5.510693e-15</td>\n",
       "      <td>2.841731e-05</td>\n",
       "      <td>0.000075</td>\n",
       "      <td>6.837943e-09</td>\n",
       "      <td>0.000447</td>\n",
       "      <td>6.920837e-07</td>\n",
       "      <td>0.994058</td>\n",
       "      <td>0.000086</td>\n",
       "      <td>0.005186</td>\n",
       "      <td>1</td>\n",
       "      <td>NAAMES_ml/D20160528T223306_IFCB107/IFCB107D201...</td>\n",
       "    </tr>\n",
       "    <tr>\n",
       "      <th>3</th>\n",
       "      <td>/home/azureuser/data/NAAMES_ml/D20160531T08382...</td>\n",
       "      <td>Other</td>\n",
       "      <td>7</td>\n",
       "      <td>7</td>\n",
       "      <td>1</td>\n",
       "      <td>0.000241</td>\n",
       "      <td>2.925888e-11</td>\n",
       "      <td>4.873408e-06</td>\n",
       "      <td>0.003934</td>\n",
       "      <td>2.065363e-09</td>\n",
       "      <td>0.273014</td>\n",
       "      <td>1.542221e-04</td>\n",
       "      <td>0.718308</td>\n",
       "      <td>0.000597</td>\n",
       "      <td>0.003748</td>\n",
       "      <td>1</td>\n",
       "      <td>NAAMES_ml/D20160531T083824_IFCB107/IFCB107D201...</td>\n",
       "    </tr>\n",
       "    <tr>\n",
       "      <th>4</th>\n",
       "      <td>/home/azureuser/data/NAAMES_ml/D20160526T21432...</td>\n",
       "      <td>Diatom</td>\n",
       "      <td>3</td>\n",
       "      <td>3</td>\n",
       "      <td>1</td>\n",
       "      <td>0.000313</td>\n",
       "      <td>4.062050e-14</td>\n",
       "      <td>6.139785e-05</td>\n",
       "      <td>0.710152</td>\n",
       "      <td>2.181512e-10</td>\n",
       "      <td>0.000211</td>\n",
       "      <td>4.933558e-06</td>\n",
       "      <td>0.287664</td>\n",
       "      <td>0.000222</td>\n",
       "      <td>0.001372</td>\n",
       "      <td>1</td>\n",
       "      <td>NAAMES_ml/D20160526T214329_IFCB107/IFCB107D201...</td>\n",
       "    </tr>\n",
       "  </tbody>\n",
       "</table>\n",
       "</div>"
      ],
      "text/plain": [
       "                                           full_path high_group  pred_label  \\\n",
       "0  /home/azureuser/data/NAAMES_ml/D20160513T22082...      Other           7   \n",
       "1  /home/azureuser/data/NAAMES_ml/D20180402T13445...      Other           0   \n",
       "2  /home/azureuser/data/NAAMES_ml/D20160528T22330...      Other           7   \n",
       "3  /home/azureuser/data/NAAMES_ml/D20160531T08382...      Other           7   \n",
       "4  /home/azureuser/data/NAAMES_ml/D20160526T21432...     Diatom           3   \n",
       "\n",
       "   true_label  is_correct         0             1             2         3  \\\n",
       "0           7           1  0.000018  1.146114e-18  2.892286e-07  0.000010   \n",
       "1           7           0  0.539550  1.456711e-04  4.600495e-09  0.000224   \n",
       "2           7           1  0.000120  5.510693e-15  2.841731e-05  0.000075   \n",
       "3           7           1  0.000241  2.925888e-11  4.873408e-06  0.003934   \n",
       "4           3           1  0.000313  4.062050e-14  6.139785e-05  0.710152   \n",
       "\n",
       "              4         5             6         7         8         9  top_5  \\\n",
       "0  4.914940e-13  0.003955  1.792351e-06  0.995379  0.000604  0.000033      1   \n",
       "1  1.425122e-01  0.006822  3.214117e-11  0.083037  0.226862  0.000847      1   \n",
       "2  6.837943e-09  0.000447  6.920837e-07  0.994058  0.000086  0.005186      1   \n",
       "3  2.065363e-09  0.273014  1.542221e-04  0.718308  0.000597  0.003748      1   \n",
       "4  2.181512e-10  0.000211  4.933558e-06  0.287664  0.000222  0.001372      1   \n",
       "\n",
       "                                            filepath  \n",
       "0  NAAMES_ml/D20160513T220825_IFCB107/IFCB107D201...  \n",
       "1  NAAMES_ml/D20180402T134458_IFCB107/IFCB107D201...  \n",
       "2  NAAMES_ml/D20160528T223306_IFCB107/IFCB107D201...  \n",
       "3  NAAMES_ml/D20160531T083824_IFCB107/IFCB107D201...  \n",
       "4  NAAMES_ml/D20160526T214329_IFCB107/IFCB107D201...  "
      ]
     },
     "execution_count": 52,
     "metadata": {},
     "output_type": "execute_result"
    }
   ],
   "source": [
    "train_data.head()"
   ]
  },
  {
   "cell_type": "code",
   "execution_count": 107,
   "id": "51d640b3",
   "metadata": {},
   "outputs": [
    {
     "data": {
      "text/html": [
       "<div>\n",
       "<style scoped>\n",
       "    .dataframe tbody tr th:only-of-type {\n",
       "        vertical-align: middle;\n",
       "    }\n",
       "\n",
       "    .dataframe tbody tr th {\n",
       "        vertical-align: top;\n",
       "    }\n",
       "\n",
       "    .dataframe thead th {\n",
       "        text-align: right;\n",
       "    }\n",
       "</style>\n",
       "<table border=\"1\" class=\"dataframe\">\n",
       "  <thead>\n",
       "    <tr style=\"text-align: right;\">\n",
       "      <th></th>\n",
       "      <th>filepath</th>\n",
       "      <th>pred_label</th>\n",
       "      <th>Chloro</th>\n",
       "      <th>Cilliate</th>\n",
       "      <th>Crypto</th>\n",
       "      <th>Diatom</th>\n",
       "      <th>Dictyo</th>\n",
       "      <th>Dinoflagellate</th>\n",
       "      <th>Eugleno</th>\n",
       "      <th>Other</th>\n",
       "      <th>Prymnesio</th>\n",
       "      <th>Unidentifiable</th>\n",
       "    </tr>\n",
       "  </thead>\n",
       "  <tbody>\n",
       "    <tr>\n",
       "      <th>0</th>\n",
       "      <td>NAAMES_ml/D20160513T220825_IFCB107/IFCB107D201...</td>\n",
       "      <td>7</td>\n",
       "      <td>0.000018</td>\n",
       "      <td>1.146114e-18</td>\n",
       "      <td>2.892286e-07</td>\n",
       "      <td>0.000010</td>\n",
       "      <td>4.914940e-13</td>\n",
       "      <td>0.003955</td>\n",
       "      <td>1.792351e-06</td>\n",
       "      <td>0.995379</td>\n",
       "      <td>0.000604</td>\n",
       "      <td>0.000033</td>\n",
       "    </tr>\n",
       "    <tr>\n",
       "      <th>1</th>\n",
       "      <td>NAAMES_ml/D20180402T134458_IFCB107/IFCB107D201...</td>\n",
       "      <td>0</td>\n",
       "      <td>0.539550</td>\n",
       "      <td>1.456711e-04</td>\n",
       "      <td>4.600495e-09</td>\n",
       "      <td>0.000224</td>\n",
       "      <td>1.425122e-01</td>\n",
       "      <td>0.006822</td>\n",
       "      <td>3.214117e-11</td>\n",
       "      <td>0.083037</td>\n",
       "      <td>0.226862</td>\n",
       "      <td>0.000847</td>\n",
       "    </tr>\n",
       "    <tr>\n",
       "      <th>2</th>\n",
       "      <td>NAAMES_ml/D20160528T223306_IFCB107/IFCB107D201...</td>\n",
       "      <td>7</td>\n",
       "      <td>0.000120</td>\n",
       "      <td>5.510693e-15</td>\n",
       "      <td>2.841731e-05</td>\n",
       "      <td>0.000075</td>\n",
       "      <td>6.837943e-09</td>\n",
       "      <td>0.000447</td>\n",
       "      <td>6.920837e-07</td>\n",
       "      <td>0.994058</td>\n",
       "      <td>0.000086</td>\n",
       "      <td>0.005186</td>\n",
       "    </tr>\n",
       "    <tr>\n",
       "      <th>3</th>\n",
       "      <td>NAAMES_ml/D20160531T083824_IFCB107/IFCB107D201...</td>\n",
       "      <td>7</td>\n",
       "      <td>0.000241</td>\n",
       "      <td>2.925888e-11</td>\n",
       "      <td>4.873408e-06</td>\n",
       "      <td>0.003934</td>\n",
       "      <td>2.065363e-09</td>\n",
       "      <td>0.273014</td>\n",
       "      <td>1.542221e-04</td>\n",
       "      <td>0.718308</td>\n",
       "      <td>0.000597</td>\n",
       "      <td>0.003748</td>\n",
       "    </tr>\n",
       "    <tr>\n",
       "      <th>4</th>\n",
       "      <td>NAAMES_ml/D20160526T214329_IFCB107/IFCB107D201...</td>\n",
       "      <td>3</td>\n",
       "      <td>0.000313</td>\n",
       "      <td>4.062050e-14</td>\n",
       "      <td>6.139785e-05</td>\n",
       "      <td>0.710152</td>\n",
       "      <td>2.181512e-10</td>\n",
       "      <td>0.000211</td>\n",
       "      <td>4.933558e-06</td>\n",
       "      <td>0.287664</td>\n",
       "      <td>0.000222</td>\n",
       "      <td>0.001372</td>\n",
       "    </tr>\n",
       "  </tbody>\n",
       "</table>\n",
       "</div>"
      ],
      "text/plain": [
       "                                            filepath  pred_label    Chloro  \\\n",
       "0  NAAMES_ml/D20160513T220825_IFCB107/IFCB107D201...           7  0.000018   \n",
       "1  NAAMES_ml/D20180402T134458_IFCB107/IFCB107D201...           0  0.539550   \n",
       "2  NAAMES_ml/D20160528T223306_IFCB107/IFCB107D201...           7  0.000120   \n",
       "3  NAAMES_ml/D20160531T083824_IFCB107/IFCB107D201...           7  0.000241   \n",
       "4  NAAMES_ml/D20160526T214329_IFCB107/IFCB107D201...           3  0.000313   \n",
       "\n",
       "       Cilliate        Crypto    Diatom        Dictyo  Dinoflagellate  \\\n",
       "0  1.146114e-18  2.892286e-07  0.000010  4.914940e-13        0.003955   \n",
       "1  1.456711e-04  4.600495e-09  0.000224  1.425122e-01        0.006822   \n",
       "2  5.510693e-15  2.841731e-05  0.000075  6.837943e-09        0.000447   \n",
       "3  2.925888e-11  4.873408e-06  0.003934  2.065363e-09        0.273014   \n",
       "4  4.062050e-14  6.139785e-05  0.710152  2.181512e-10        0.000211   \n",
       "\n",
       "        Eugleno     Other  Prymnesio  Unidentifiable  \n",
       "0  1.792351e-06  0.995379   0.000604        0.000033  \n",
       "1  3.214117e-11  0.083037   0.226862        0.000847  \n",
       "2  6.920837e-07  0.994058   0.000086        0.005186  \n",
       "3  1.542221e-04  0.718308   0.000597        0.003748  \n",
       "4  4.933558e-06  0.287664   0.000222        0.001372  "
      ]
     },
     "execution_count": 107,
     "metadata": {},
     "output_type": "execute_result"
    }
   ],
   "source": [
    "use_cols = [\"filepath\", 'pred_label'] + list(np.arange(10).astype(int).astype(str))\n",
    "train_df = train_data[use_cols]\n",
    "train_df = train_df.rename(columns = dict(zip(list(np.arange(10).astype(int).astype(str)),class_labels)))\n",
    "del train_data\n",
    "train_df.head()"
   ]
  },
  {
   "cell_type": "code",
   "execution_count": 54,
   "id": "0a4b994f",
   "metadata": {},
   "outputs": [],
   "source": [
    "train_df_fp = train_df[['filepath']].to_dict(orient='records')"
   ]
  },
  {
   "cell_type": "code",
   "execution_count": 110,
   "id": "6c836e53",
   "metadata": {},
   "outputs": [],
   "source": [
    "# convert pred_label to string\n",
    "pred_labels = train_df.pred_label.apply(lambda x: class_labels[x])\n",
    "train_df['pred_label'] = pred_labels"
   ]
  },
  {
   "cell_type": "code",
   "execution_count": 112,
   "id": "dc385566",
   "metadata": {},
   "outputs": [
    {
     "data": {
      "text/html": [
       "<div>\n",
       "<style scoped>\n",
       "    .dataframe tbody tr th:only-of-type {\n",
       "        vertical-align: middle;\n",
       "    }\n",
       "\n",
       "    .dataframe tbody tr th {\n",
       "        vertical-align: top;\n",
       "    }\n",
       "\n",
       "    .dataframe thead th {\n",
       "        text-align: right;\n",
       "    }\n",
       "</style>\n",
       "<table border=\"1\" class=\"dataframe\">\n",
       "  <thead>\n",
       "    <tr style=\"text-align: right;\">\n",
       "      <th></th>\n",
       "      <th>filepath</th>\n",
       "      <th>pred_label</th>\n",
       "      <th>Chloro</th>\n",
       "      <th>Cilliate</th>\n",
       "      <th>Crypto</th>\n",
       "      <th>Diatom</th>\n",
       "      <th>Dictyo</th>\n",
       "      <th>Dinoflagellate</th>\n",
       "      <th>Eugleno</th>\n",
       "      <th>Other</th>\n",
       "      <th>Prymnesio</th>\n",
       "      <th>Unidentifiable</th>\n",
       "    </tr>\n",
       "  </thead>\n",
       "  <tbody>\n",
       "    <tr>\n",
       "      <th>0</th>\n",
       "      <td>NAAMES_ml/D20160513T220825_IFCB107/IFCB107D201...</td>\n",
       "      <td>Other</td>\n",
       "      <td>0.000018</td>\n",
       "      <td>1.146114e-18</td>\n",
       "      <td>2.892286e-07</td>\n",
       "      <td>0.000010</td>\n",
       "      <td>4.914940e-13</td>\n",
       "      <td>0.003955</td>\n",
       "      <td>1.792351e-06</td>\n",
       "      <td>0.995379</td>\n",
       "      <td>0.000604</td>\n",
       "      <td>0.000033</td>\n",
       "    </tr>\n",
       "    <tr>\n",
       "      <th>1</th>\n",
       "      <td>NAAMES_ml/D20180402T134458_IFCB107/IFCB107D201...</td>\n",
       "      <td>Chloro</td>\n",
       "      <td>0.539550</td>\n",
       "      <td>1.456711e-04</td>\n",
       "      <td>4.600495e-09</td>\n",
       "      <td>0.000224</td>\n",
       "      <td>1.425122e-01</td>\n",
       "      <td>0.006822</td>\n",
       "      <td>3.214117e-11</td>\n",
       "      <td>0.083037</td>\n",
       "      <td>0.226862</td>\n",
       "      <td>0.000847</td>\n",
       "    </tr>\n",
       "    <tr>\n",
       "      <th>2</th>\n",
       "      <td>NAAMES_ml/D20160528T223306_IFCB107/IFCB107D201...</td>\n",
       "      <td>Other</td>\n",
       "      <td>0.000120</td>\n",
       "      <td>5.510693e-15</td>\n",
       "      <td>2.841731e-05</td>\n",
       "      <td>0.000075</td>\n",
       "      <td>6.837943e-09</td>\n",
       "      <td>0.000447</td>\n",
       "      <td>6.920837e-07</td>\n",
       "      <td>0.994058</td>\n",
       "      <td>0.000086</td>\n",
       "      <td>0.005186</td>\n",
       "    </tr>\n",
       "    <tr>\n",
       "      <th>3</th>\n",
       "      <td>NAAMES_ml/D20160531T083824_IFCB107/IFCB107D201...</td>\n",
       "      <td>Other</td>\n",
       "      <td>0.000241</td>\n",
       "      <td>2.925888e-11</td>\n",
       "      <td>4.873408e-06</td>\n",
       "      <td>0.003934</td>\n",
       "      <td>2.065363e-09</td>\n",
       "      <td>0.273014</td>\n",
       "      <td>1.542221e-04</td>\n",
       "      <td>0.718308</td>\n",
       "      <td>0.000597</td>\n",
       "      <td>0.003748</td>\n",
       "    </tr>\n",
       "    <tr>\n",
       "      <th>4</th>\n",
       "      <td>NAAMES_ml/D20160526T214329_IFCB107/IFCB107D201...</td>\n",
       "      <td>Diatom</td>\n",
       "      <td>0.000313</td>\n",
       "      <td>4.062050e-14</td>\n",
       "      <td>6.139785e-05</td>\n",
       "      <td>0.710152</td>\n",
       "      <td>2.181512e-10</td>\n",
       "      <td>0.000211</td>\n",
       "      <td>4.933558e-06</td>\n",
       "      <td>0.287664</td>\n",
       "      <td>0.000222</td>\n",
       "      <td>0.001372</td>\n",
       "    </tr>\n",
       "  </tbody>\n",
       "</table>\n",
       "</div>"
      ],
      "text/plain": [
       "                                            filepath pred_label    Chloro  \\\n",
       "0  NAAMES_ml/D20160513T220825_IFCB107/IFCB107D201...      Other  0.000018   \n",
       "1  NAAMES_ml/D20180402T134458_IFCB107/IFCB107D201...     Chloro  0.539550   \n",
       "2  NAAMES_ml/D20160528T223306_IFCB107/IFCB107D201...      Other  0.000120   \n",
       "3  NAAMES_ml/D20160531T083824_IFCB107/IFCB107D201...      Other  0.000241   \n",
       "4  NAAMES_ml/D20160526T214329_IFCB107/IFCB107D201...     Diatom  0.000313   \n",
       "\n",
       "       Cilliate        Crypto    Diatom        Dictyo  Dinoflagellate  \\\n",
       "0  1.146114e-18  2.892286e-07  0.000010  4.914940e-13        0.003955   \n",
       "1  1.456711e-04  4.600495e-09  0.000224  1.425122e-01        0.006822   \n",
       "2  5.510693e-15  2.841731e-05  0.000075  6.837943e-09        0.000447   \n",
       "3  2.925888e-11  4.873408e-06  0.003934  2.065363e-09        0.273014   \n",
       "4  4.062050e-14  6.139785e-05  0.710152  2.181512e-10        0.000211   \n",
       "\n",
       "        Eugleno     Other  Prymnesio  Unidentifiable  \n",
       "0  1.792351e-06  0.995379   0.000604        0.000033  \n",
       "1  3.214117e-11  0.083037   0.226862        0.000847  \n",
       "2  6.920837e-07  0.994058   0.000086        0.005186  \n",
       "3  1.542221e-04  0.718308   0.000597        0.003748  \n",
       "4  4.933558e-06  0.287664   0.000222        0.001372  "
      ]
     },
     "execution_count": 112,
     "metadata": {},
     "output_type": "execute_result"
    }
   ],
   "source": [
    "train_df.head()"
   ]
  },
  {
   "cell_type": "markdown",
   "id": "33b5c388",
   "metadata": {},
   "source": [
    "### Insert train data filepaths to SQL."
   ]
  },
  {
   "cell_type": "code",
   "execution_count": null,
   "id": "1c99fda4",
   "metadata": {
    "scrolled": false
   },
   "outputs": [],
   "source": [
    "idu.initial_ingestion(image_filepaths=train_df.filepath.values)"
   ]
  },
  {
   "cell_type": "code",
   "execution_count": 67,
   "id": "0a43da81",
   "metadata": {},
   "outputs": [],
   "source": [
    "images_that_no_exist = [\n",
    "    \"NAAMES_ml/D20160513T121618_IFCB107/IFCB107D20160513T121618P01929.png\",\n",
    "    \"NAAMES_ml/D20160513T121618_IFCB107/IFCB107D20160513T121618P02763.png\",\n",
    "    \"NAAMES_ml/D20160513T121618_IFCB107/IFCB107D20160513T121618P00606.png\",\n",
    "    \"NAAMES_ml/D20160513T121618_IFCB107/IFCB107D20160513T121618P03858.png\",\n",
    "    \"NAAMES_ml/D20160513T121618_IFCB107/IFCB107D20160513T121618P01726.png\",\n",
    "]"
   ]
  },
  {
   "cell_type": "code",
   "execution_count": 76,
   "id": "96849536",
   "metadata": {},
   "outputs": [
    {
     "data": {
      "text/plain": [
       "0"
      ]
     },
     "execution_count": 76,
     "metadata": {},
     "output_type": "execute_result"
    }
   ],
   "source": [
    "image_ids = sq.run_sql_query(\"select * from images;\")\n",
    "\n",
    "remaining_images = list(set(train_df.filepath.values) - set(image_ids.filepath.values) - set(images_that_no_exist))\n",
    "len(remaining_images)"
   ]
  },
  {
   "cell_type": "markdown",
   "id": "2cc09890",
   "metadata": {},
   "source": [
    "Insert images that failed the first time around"
   ]
  },
  {
   "cell_type": "code",
   "execution_count": null,
   "id": "c5e7e006",
   "metadata": {},
   "outputs": [],
   "source": [
    "idu.initial_ingestion(image_filepaths=remaining_images)"
   ]
  },
  {
   "cell_type": "markdown",
   "id": "1401bf59",
   "metadata": {},
   "source": [
    "### Gather I_IDs for each of the imagery we inserted. Then, join the with the class probs and insert the predictions into the Predictions table"
   ]
  },
  {
   "cell_type": "code",
   "execution_count": 82,
   "id": "44c9144f",
   "metadata": {},
   "outputs": [
    {
     "data": {
      "text/plain": [
       "(399775, 2)"
      ]
     },
     "execution_count": 82,
     "metadata": {},
     "output_type": "execute_result"
    }
   ],
   "source": [
    "image_ids.shape"
   ]
  },
  {
   "cell_type": "code",
   "execution_count": 83,
   "id": "5e0695e8",
   "metadata": {},
   "outputs": [
    {
     "data": {
      "text/plain": [
       "(399780, 11)"
      ]
     },
     "execution_count": 83,
     "metadata": {},
     "output_type": "execute_result"
    }
   ],
   "source": [
    "train_df.shape"
   ]
  },
  {
   "cell_type": "code",
   "execution_count": 152,
   "id": "742b4492",
   "metadata": {},
   "outputs": [],
   "source": [
    "train_df_merged = train_df.merge(image_ids, on=\"filepath\", how=\"inner\").sort_values(by=\"i_id\")"
   ]
  },
  {
   "cell_type": "code",
   "execution_count": 237,
   "id": "81f935a3",
   "metadata": {},
   "outputs": [
    {
     "name": "stdout",
     "output_type": "stream",
     "text": [
      "(399775, 13)\n"
     ]
    },
    {
     "data": {
      "text/html": [
       "<div>\n",
       "<style scoped>\n",
       "    .dataframe tbody tr th:only-of-type {\n",
       "        vertical-align: middle;\n",
       "    }\n",
       "\n",
       "    .dataframe tbody tr th {\n",
       "        vertical-align: top;\n",
       "    }\n",
       "\n",
       "    .dataframe thead th {\n",
       "        text-align: right;\n",
       "    }\n",
       "</style>\n",
       "<table border=\"1\" class=\"dataframe\">\n",
       "  <thead>\n",
       "    <tr style=\"text-align: right;\">\n",
       "      <th></th>\n",
       "      <th>filepath</th>\n",
       "      <th>pred_label</th>\n",
       "      <th>Chloro</th>\n",
       "      <th>Cilliate</th>\n",
       "      <th>Crypto</th>\n",
       "      <th>Diatom</th>\n",
       "      <th>Dictyo</th>\n",
       "      <th>Dinoflagellate</th>\n",
       "      <th>Eugleno</th>\n",
       "      <th>Other</th>\n",
       "      <th>Prymnesio</th>\n",
       "      <th>Unidentifiable</th>\n",
       "      <th>i_id</th>\n",
       "    </tr>\n",
       "  </thead>\n",
       "  <tbody>\n",
       "    <tr>\n",
       "      <th>19000</th>\n",
       "      <td>NAAMES_ml/D20151107T140949_IFCB107/IFCB107D201...</td>\n",
       "      <td>Unidentifiable</td>\n",
       "      <td>0.00000120</td>\n",
       "      <td>0.00000001</td>\n",
       "      <td>0.00000002</td>\n",
       "      <td>0.00003709</td>\n",
       "      <td>0.00000141</td>\n",
       "      <td>0.00002146</td>\n",
       "      <td>0.00000000</td>\n",
       "      <td>0.01926701</td>\n",
       "      <td>0.00008079</td>\n",
       "      <td>0.98059100</td>\n",
       "      <td>1</td>\n",
       "    </tr>\n",
       "    <tr>\n",
       "      <th>19001</th>\n",
       "      <td>NAAMES_ml/D20160519T044744_IFCB107/IFCB107D201...</td>\n",
       "      <td>Chloro</td>\n",
       "      <td>0.53398550</td>\n",
       "      <td>0.00000000</td>\n",
       "      <td>0.03066084</td>\n",
       "      <td>0.00009367</td>\n",
       "      <td>0.00000002</td>\n",
       "      <td>0.00664890</td>\n",
       "      <td>0.00011772</td>\n",
       "      <td>0.42713898</td>\n",
       "      <td>0.00028626</td>\n",
       "      <td>0.00106817</td>\n",
       "      <td>2</td>\n",
       "    </tr>\n",
       "    <tr>\n",
       "      <th>19002</th>\n",
       "      <td>NAAMES_ml/D20160528T220927_IFCB107/IFCB107D201...</td>\n",
       "      <td>Other</td>\n",
       "      <td>0.00003250</td>\n",
       "      <td>0.00000000</td>\n",
       "      <td>0.00000030</td>\n",
       "      <td>0.00012561</td>\n",
       "      <td>0.00000000</td>\n",
       "      <td>0.05113956</td>\n",
       "      <td>0.00001469</td>\n",
       "      <td>0.93242340</td>\n",
       "      <td>0.01558691</td>\n",
       "      <td>0.00067707</td>\n",
       "      <td>3</td>\n",
       "    </tr>\n",
       "    <tr>\n",
       "      <th>19003</th>\n",
       "      <td>NAAMES_ml/D20160517T095745_IFCB107/IFCB107D201...</td>\n",
       "      <td>Other</td>\n",
       "      <td>0.00146442</td>\n",
       "      <td>0.00000003</td>\n",
       "      <td>0.00064200</td>\n",
       "      <td>0.00134276</td>\n",
       "      <td>0.00000061</td>\n",
       "      <td>0.07592753</td>\n",
       "      <td>0.00017256</td>\n",
       "      <td>0.73473006</td>\n",
       "      <td>0.18398885</td>\n",
       "      <td>0.00173112</td>\n",
       "      <td>4</td>\n",
       "    </tr>\n",
       "    <tr>\n",
       "      <th>19004</th>\n",
       "      <td>NAAMES_ml/D20160513T005054_IFCB107/IFCB107D201...</td>\n",
       "      <td>Other</td>\n",
       "      <td>0.00000250</td>\n",
       "      <td>0.00000000</td>\n",
       "      <td>0.00000001</td>\n",
       "      <td>0.00000465</td>\n",
       "      <td>0.00000000</td>\n",
       "      <td>0.00342124</td>\n",
       "      <td>0.00000075</td>\n",
       "      <td>0.99601930</td>\n",
       "      <td>0.00054119</td>\n",
       "      <td>0.00001038</td>\n",
       "      <td>5</td>\n",
       "    </tr>\n",
       "  </tbody>\n",
       "</table>\n",
       "</div>"
      ],
      "text/plain": [
       "                                                filepath      pred_label  \\\n",
       "19000  NAAMES_ml/D20151107T140949_IFCB107/IFCB107D201...  Unidentifiable   \n",
       "19001  NAAMES_ml/D20160519T044744_IFCB107/IFCB107D201...          Chloro   \n",
       "19002  NAAMES_ml/D20160528T220927_IFCB107/IFCB107D201...           Other   \n",
       "19003  NAAMES_ml/D20160517T095745_IFCB107/IFCB107D201...           Other   \n",
       "19004  NAAMES_ml/D20160513T005054_IFCB107/IFCB107D201...           Other   \n",
       "\n",
       "          Chloro   Cilliate     Crypto     Diatom     Dictyo  Dinoflagellate  \\\n",
       "19000 0.00000120 0.00000001 0.00000002 0.00003709 0.00000141      0.00002146   \n",
       "19001 0.53398550 0.00000000 0.03066084 0.00009367 0.00000002      0.00664890   \n",
       "19002 0.00003250 0.00000000 0.00000030 0.00012561 0.00000000      0.05113956   \n",
       "19003 0.00146442 0.00000003 0.00064200 0.00134276 0.00000061      0.07592753   \n",
       "19004 0.00000250 0.00000000 0.00000001 0.00000465 0.00000000      0.00342124   \n",
       "\n",
       "         Eugleno      Other  Prymnesio  Unidentifiable  i_id  \n",
       "19000 0.00000000 0.01926701 0.00008079      0.98059100     1  \n",
       "19001 0.00011772 0.42713898 0.00028626      0.00106817     2  \n",
       "19002 0.00001469 0.93242340 0.01558691      0.00067707     3  \n",
       "19003 0.00017256 0.73473006 0.18398885      0.00173112     4  \n",
       "19004 0.00000075 0.99601930 0.00054119      0.00001038     5  "
      ]
     },
     "execution_count": 237,
     "metadata": {},
     "output_type": "execute_result"
    }
   ],
   "source": [
    "print(train_df_merged.shape)\n",
    "train_df_merged.head()"
   ]
  },
  {
   "cell_type": "code",
   "execution_count": 223,
   "id": "f5e263b5",
   "metadata": {},
   "outputs": [],
   "source": [
    "# combine the class_probs into 1 dictionary per image\n",
    "prob_dicts = (train_df_merged[class_labels]\n",
    "              .rename(columns = dict(zip(class_labels, list(np.arange(10).astype(int)))))\n",
    "              .to_dict(orient = 'records')\n",
    "             )"
   ]
  },
  {
   "cell_type": "code",
   "execution_count": 236,
   "id": "dd19a7a1",
   "metadata": {},
   "outputs": [
    {
     "data": {
      "text/html": [
       "<div>\n",
       "<style scoped>\n",
       "    .dataframe tbody tr th:only-of-type {\n",
       "        vertical-align: middle;\n",
       "    }\n",
       "\n",
       "    .dataframe tbody tr th {\n",
       "        vertical-align: top;\n",
       "    }\n",
       "\n",
       "    .dataframe thead th {\n",
       "        text-align: right;\n",
       "    }\n",
       "</style>\n",
       "<table border=\"1\" class=\"dataframe\">\n",
       "  <thead>\n",
       "    <tr style=\"text-align: right;\">\n",
       "      <th></th>\n",
       "      <th>m_id</th>\n",
       "      <th>i_id</th>\n",
       "      <th>class_prob</th>\n",
       "      <th>pred_label</th>\n",
       "    </tr>\n",
       "  </thead>\n",
       "  <tbody>\n",
       "    <tr>\n",
       "      <th>19000</th>\n",
       "      <td>1</td>\n",
       "      <td>1</td>\n",
       "      <td>{0: 1.2007497e-06, 1: 9.2799395e-09, 2: 1.8873...</td>\n",
       "      <td>Unidentifiable</td>\n",
       "    </tr>\n",
       "    <tr>\n",
       "      <th>19001</th>\n",
       "      <td>1</td>\n",
       "      <td>2</td>\n",
       "      <td>{0: 0.5339855, 1: 1.2086762e-10, 2: 0.03066084...</td>\n",
       "      <td>Chloro</td>\n",
       "    </tr>\n",
       "    <tr>\n",
       "      <th>19002</th>\n",
       "      <td>1</td>\n",
       "      <td>3</td>\n",
       "      <td>{0: 3.2504617e-05, 1: 1.1344883e-11, 2: 2.9553...</td>\n",
       "      <td>Other</td>\n",
       "    </tr>\n",
       "    <tr>\n",
       "      <th>19003</th>\n",
       "      <td>1</td>\n",
       "      <td>4</td>\n",
       "      <td>{0: 0.0014644222, 1: 2.9109668e-08, 2: 0.00064...</td>\n",
       "      <td>Other</td>\n",
       "    </tr>\n",
       "    <tr>\n",
       "      <th>19004</th>\n",
       "      <td>1</td>\n",
       "      <td>5</td>\n",
       "      <td>{0: 2.5031059e-06, 1: 6.138133999999999e-20, 2...</td>\n",
       "      <td>Other</td>\n",
       "    </tr>\n",
       "  </tbody>\n",
       "</table>\n",
       "</div>"
      ],
      "text/plain": [
       "       m_id  i_id                                         class_prob  \\\n",
       "19000     1     1  {0: 1.2007497e-06, 1: 9.2799395e-09, 2: 1.8873...   \n",
       "19001     1     2  {0: 0.5339855, 1: 1.2086762e-10, 2: 0.03066084...   \n",
       "19002     1     3  {0: 3.2504617e-05, 1: 1.1344883e-11, 2: 2.9553...   \n",
       "19003     1     4  {0: 0.0014644222, 1: 2.9109668e-08, 2: 0.00064...   \n",
       "19004     1     5  {0: 2.5031059e-06, 1: 6.138133999999999e-20, 2...   \n",
       "\n",
       "           pred_label  \n",
       "19000  Unidentifiable  \n",
       "19001          Chloro  \n",
       "19002           Other  \n",
       "19003           Other  \n",
       "19004           Other  "
      ]
     },
     "execution_count": 236,
     "metadata": {},
     "output_type": "execute_result"
    }
   ],
   "source": [
    "# Gather the necessary variables in the right order for inserting into the Predictions Table\n",
    "pred_table_train = train_df_merged[['i_id', 'pred_label']]\n",
    "pred_table_train['class_prob'] = np.array(prob_dicts, dtype=str)\n",
    "# assign model id as 1\n",
    "pred_table_train['m_id'] = 1\n",
    "# reorder for insertion\n",
    "pred_table_train = pred_table_train[['m_id', 'i_id', 'class_prob', 'pred_label']]\n",
    "\n",
    "pred_table_train.head()"
   ]
  },
  {
   "cell_type": "markdown",
   "id": "68aa8cc1",
   "metadata": {},
   "source": [
    "#### Insert model into models table first."
   ]
  },
  {
   "cell_type": "code",
   "execution_count": 242,
   "id": "e67cb56b",
   "metadata": {},
   "outputs": [
    {
     "data": {
      "text/plain": [
       "Decimal('1')"
      ]
     },
     "execution_count": 242,
     "metadata": {},
     "output_type": "execute_result"
    }
   ],
   "source": [
    "cnn_class_map = dict(zip(list(np.arange(10).astype(int)),class_labels))\n",
    "\n",
    "du.insert_data(table_name='models', data = {\"model_name\":\"model-cnn-v1-b3\",\n",
    "                                            \"model_link\": \"https://basemodel-endpoint.westus2.inference.ml.azure.com/score\",\n",
    "                                            \"class_map\": str(cnn_class_map)\n",
    "})"
   ]
  },
  {
   "cell_type": "code",
   "execution_count": 243,
   "id": "5529ccb2",
   "metadata": {},
   "outputs": [
    {
     "data": {
      "text/html": [
       "<div>\n",
       "<style scoped>\n",
       "    .dataframe tbody tr th:only-of-type {\n",
       "        vertical-align: middle;\n",
       "    }\n",
       "\n",
       "    .dataframe tbody tr th {\n",
       "        vertical-align: top;\n",
       "    }\n",
       "\n",
       "    .dataframe thead th {\n",
       "        text-align: right;\n",
       "    }\n",
       "</style>\n",
       "<table border=\"1\" class=\"dataframe\">\n",
       "  <thead>\n",
       "    <tr style=\"text-align: right;\">\n",
       "      <th></th>\n",
       "      <th>m_id</th>\n",
       "      <th>model_name</th>\n",
       "      <th>model_link</th>\n",
       "      <th>class_map</th>\n",
       "    </tr>\n",
       "  </thead>\n",
       "  <tbody>\n",
       "    <tr>\n",
       "      <th>0</th>\n",
       "      <td>1</td>\n",
       "      <td>model-cnn-v1-b3</td>\n",
       "      <td>https://basemodel-endpoint.westus2.inference.m...</td>\n",
       "      <td>{0: 'Chloro', 1: 'Cilliate', 2: 'Crypto', 3: '...</td>\n",
       "    </tr>\n",
       "  </tbody>\n",
       "</table>\n",
       "</div>"
      ],
      "text/plain": [
       "   m_id       model_name                                         model_link  \\\n",
       "0     1  model-cnn-v1-b3  https://basemodel-endpoint.westus2.inference.m...   \n",
       "\n",
       "                                           class_map  \n",
       "0  {0: 'Chloro', 1: 'Cilliate', 2: 'Crypto', 3: '...  "
      ]
     },
     "execution_count": 243,
     "metadata": {},
     "output_type": "execute_result"
    }
   ],
   "source": [
    "sq.run_sql_query(\"select * from models;\")"
   ]
  },
  {
   "cell_type": "markdown",
   "id": "e13922a6",
   "metadata": {},
   "source": [
    "You can read in the str(dictionary) to python with ast.literal_eval(string)\n",
    "```python\n",
    "    import ast\n",
    "    ast.literal_eval(string)\n",
    "```"
   ]
  },
  {
   "cell_type": "markdown",
   "id": "6a8111c1",
   "metadata": {},
   "source": [
    "#### Insert the raw data into predictions"
   ]
  },
  {
   "cell_type": "code",
   "execution_count": 252,
   "id": "c4b0733a",
   "metadata": {},
   "outputs": [],
   "source": [
    "a = sq.run_sql_query(\"select top(10) * from predictions;\")"
   ]
  },
  {
   "cell_type": "code",
   "execution_count": 244,
   "id": "25d6469e",
   "metadata": {},
   "outputs": [],
   "source": [
    "pred_table_train_lst = pred_table_train.to_dict(orient='records')"
   ]
  },
  {
   "cell_type": "code",
   "execution_count": 249,
   "id": "35ff02fd",
   "metadata": {},
   "outputs": [
    {
     "data": {
      "application/vnd.jupyter.widget-view+json": {
       "model_id": "55e1f049273b4ad39f98362b7fcc917c",
       "version_major": 2,
       "version_minor": 0
      },
      "text/plain": [
       "0it [00:00, ?it/s]"
      ]
     },
     "metadata": {},
     "output_type": "display_data"
    }
   ],
   "source": [
    "idu.bulk_insert_data(table_name=\"predictions\", data=pred_table_train_lst)"
   ]
  },
  {
   "cell_type": "code",
   "execution_count": 238,
   "id": "28e4ee31",
   "metadata": {},
   "outputs": [
    {
     "data": {
      "text/html": [
       "<div>\n",
       "<style scoped>\n",
       "    .dataframe tbody tr th:only-of-type {\n",
       "        vertical-align: middle;\n",
       "    }\n",
       "\n",
       "    .dataframe tbody tr th {\n",
       "        vertical-align: top;\n",
       "    }\n",
       "\n",
       "    .dataframe thead th {\n",
       "        text-align: right;\n",
       "    }\n",
       "</style>\n",
       "<table border=\"1\" class=\"dataframe\">\n",
       "  <thead>\n",
       "    <tr style=\"text-align: right;\">\n",
       "      <th></th>\n",
       "      <th>column_name</th>\n",
       "      <th>data_type</th>\n",
       "      <th>character_maximum_length</th>\n",
       "    </tr>\n",
       "  </thead>\n",
       "  <tbody>\n",
       "    <tr>\n",
       "      <th>0</th>\n",
       "      <td>m_id</td>\n",
       "      <td>int</td>\n",
       "      <td>NaN</td>\n",
       "    </tr>\n",
       "    <tr>\n",
       "      <th>1</th>\n",
       "      <td>model_name</td>\n",
       "      <td>varchar</td>\n",
       "      <td>255.00000000</td>\n",
       "    </tr>\n",
       "    <tr>\n",
       "      <th>2</th>\n",
       "      <td>model_link</td>\n",
       "      <td>varchar</td>\n",
       "      <td>-1.00000000</td>\n",
       "    </tr>\n",
       "    <tr>\n",
       "      <th>3</th>\n",
       "      <td>class_map</td>\n",
       "      <td>varchar</td>\n",
       "      <td>-1.00000000</td>\n",
       "    </tr>\n",
       "  </tbody>\n",
       "</table>\n",
       "</div>"
      ],
      "text/plain": [
       "  column_name data_type  character_maximum_length\n",
       "0        m_id       int                       NaN\n",
       "1  model_name   varchar              255.00000000\n",
       "2  model_link   varchar               -1.00000000\n",
       "3   class_map   varchar               -1.00000000"
      ]
     },
     "execution_count": 238,
     "metadata": {},
     "output_type": "execute_result"
    }
   ],
   "source": [
    "sq.run_sql_query(\"\"\"\n",
    "SELECT column_name, data_type, character_maximum_length\n",
    "FROM information_schema.columns\n",
    "WHERE table_name = 'models';\n",
    "\"\"\")"
   ]
  },
  {
   "cell_type": "markdown",
   "id": "35a7705f",
   "metadata": {},
   "source": [
    "# Checkout Non-Train Data"
   ]
  },
  {
   "cell_type": "code",
   "execution_count": 177,
   "id": "1e952be6",
   "metadata": {},
   "outputs": [
    {
     "name": "stdout",
     "output_type": "stream",
     "text": [
      "(1056000, 15)\n"
     ]
    },
    {
     "data": {
      "text/html": [
       "<div>\n",
       "<style scoped>\n",
       "    .dataframe tbody tr th:only-of-type {\n",
       "        vertical-align: middle;\n",
       "    }\n",
       "\n",
       "    .dataframe tbody tr th {\n",
       "        vertical-align: top;\n",
       "    }\n",
       "\n",
       "    .dataframe thead th {\n",
       "        text-align: right;\n",
       "    }\n",
       "</style>\n",
       "<table border=\"1\" class=\"dataframe\">\n",
       "  <thead>\n",
       "    <tr style=\"text-align: right;\">\n",
       "      <th></th>\n",
       "      <th>Index</th>\n",
       "      <th>image_path</th>\n",
       "      <th>pred_label</th>\n",
       "      <th>pred_class</th>\n",
       "      <th>index</th>\n",
       "      <th>0</th>\n",
       "      <th>1</th>\n",
       "      <th>2</th>\n",
       "      <th>3</th>\n",
       "      <th>4</th>\n",
       "      <th>5</th>\n",
       "      <th>6</th>\n",
       "      <th>7</th>\n",
       "      <th>8</th>\n",
       "      <th>9</th>\n",
       "    </tr>\n",
       "  </thead>\n",
       "  <tbody>\n",
       "    <tr>\n",
       "      <th>0</th>\n",
       "      <td>0</td>\n",
       "      <td>/Users/alisonchase/Documents/IFCB/NAAMES/NAAME...</td>\n",
       "      <td>7</td>\n",
       "      <td>Other</td>\n",
       "      <td>0</td>\n",
       "      <td>0.00318988</td>\n",
       "      <td>0.00000000</td>\n",
       "      <td>0.00008589</td>\n",
       "      <td>0.00017344</td>\n",
       "      <td>0.00000009</td>\n",
       "      <td>0.00327110</td>\n",
       "      <td>0.00000809</td>\n",
       "      <td>0.95753310</td>\n",
       "      <td>0.03550129</td>\n",
       "      <td>0.00023711</td>\n",
       "    </tr>\n",
       "    <tr>\n",
       "      <th>1</th>\n",
       "      <td>1</td>\n",
       "      <td>/Users/alisonchase/Documents/IFCB/NAAMES/NAAME...</td>\n",
       "      <td>7</td>\n",
       "      <td>Other</td>\n",
       "      <td>1</td>\n",
       "      <td>0.00755106</td>\n",
       "      <td>0.00000051</td>\n",
       "      <td>0.00035928</td>\n",
       "      <td>0.00260129</td>\n",
       "      <td>0.00000253</td>\n",
       "      <td>0.20422825</td>\n",
       "      <td>0.00101794</td>\n",
       "      <td>0.71885103</td>\n",
       "      <td>0.06120521</td>\n",
       "      <td>0.00418288</td>\n",
       "    </tr>\n",
       "    <tr>\n",
       "      <th>2</th>\n",
       "      <td>2</td>\n",
       "      <td>/Users/alisonchase/Documents/IFCB/NAAMES/NAAME...</td>\n",
       "      <td>9</td>\n",
       "      <td>None</td>\n",
       "      <td>2</td>\n",
       "      <td>0.00013524</td>\n",
       "      <td>0.00000000</td>\n",
       "      <td>0.00001258</td>\n",
       "      <td>0.00022039</td>\n",
       "      <td>0.00002652</td>\n",
       "      <td>0.00010345</td>\n",
       "      <td>0.00000018</td>\n",
       "      <td>0.39091730</td>\n",
       "      <td>0.00037549</td>\n",
       "      <td>0.60820890</td>\n",
       "    </tr>\n",
       "    <tr>\n",
       "      <th>3</th>\n",
       "      <td>3</td>\n",
       "      <td>/Users/alisonchase/Documents/IFCB/NAAMES/NAAME...</td>\n",
       "      <td>7</td>\n",
       "      <td>Other</td>\n",
       "      <td>3</td>\n",
       "      <td>0.00112294</td>\n",
       "      <td>0.00000000</td>\n",
       "      <td>0.00004770</td>\n",
       "      <td>0.00016701</td>\n",
       "      <td>0.00000000</td>\n",
       "      <td>0.01313227</td>\n",
       "      <td>0.00001304</td>\n",
       "      <td>0.98447030</td>\n",
       "      <td>0.00025867</td>\n",
       "      <td>0.00078803</td>\n",
       "    </tr>\n",
       "    <tr>\n",
       "      <th>4</th>\n",
       "      <td>4</td>\n",
       "      <td>/Users/alisonchase/Documents/IFCB/NAAMES/NAAME...</td>\n",
       "      <td>7</td>\n",
       "      <td>Other</td>\n",
       "      <td>4</td>\n",
       "      <td>0.00010031</td>\n",
       "      <td>0.00000001</td>\n",
       "      <td>0.00000009</td>\n",
       "      <td>0.00810581</td>\n",
       "      <td>0.00000001</td>\n",
       "      <td>0.34370705</td>\n",
       "      <td>0.00002030</td>\n",
       "      <td>0.64535946</td>\n",
       "      <td>0.00038832</td>\n",
       "      <td>0.00231878</td>\n",
       "    </tr>\n",
       "  </tbody>\n",
       "</table>\n",
       "</div>"
      ],
      "text/plain": [
       "   Index                                         image_path  pred_label  \\\n",
       "0      0  /Users/alisonchase/Documents/IFCB/NAAMES/NAAME...           7   \n",
       "1      1  /Users/alisonchase/Documents/IFCB/NAAMES/NAAME...           7   \n",
       "2      2  /Users/alisonchase/Documents/IFCB/NAAMES/NAAME...           9   \n",
       "3      3  /Users/alisonchase/Documents/IFCB/NAAMES/NAAME...           7   \n",
       "4      4  /Users/alisonchase/Documents/IFCB/NAAMES/NAAME...           7   \n",
       "\n",
       "  pred_class  index          0          1          2          3          4  \\\n",
       "0      Other      0 0.00318988 0.00000000 0.00008589 0.00017344 0.00000009   \n",
       "1      Other      1 0.00755106 0.00000051 0.00035928 0.00260129 0.00000253   \n",
       "2       None      2 0.00013524 0.00000000 0.00001258 0.00022039 0.00002652   \n",
       "3      Other      3 0.00112294 0.00000000 0.00004770 0.00016701 0.00000000   \n",
       "4      Other      4 0.00010031 0.00000001 0.00000009 0.00810581 0.00000001   \n",
       "\n",
       "           5          6          7          8          9  \n",
       "0 0.00327110 0.00000809 0.95753310 0.03550129 0.00023711  \n",
       "1 0.20422825 0.00101794 0.71885103 0.06120521 0.00418288  \n",
       "2 0.00010345 0.00000018 0.39091730 0.00037549 0.60820890  \n",
       "3 0.01313227 0.00001304 0.98447030 0.00025867 0.00078803  \n",
       "4 0.34370705 0.00002030 0.64535946 0.00038832 0.00231878  "
      ]
     },
     "execution_count": 177,
     "metadata": {},
     "output_type": "execute_result"
    }
   ],
   "source": [
    "# load all new data\n",
    "new_data = pd.read_parquet(\"../PIVOT/data/inventory_df_with_probs.parquet.gzip\")\n",
    "\n",
    "print(new_data.shape)\n",
    "new_data.head()"
   ]
  },
  {
   "cell_type": "code",
   "execution_count": 201,
   "id": "0f36bc3f",
   "metadata": {},
   "outputs": [],
   "source": [
    "# extract the bloc storage path\n",
    "new_data['filepath'] = new_data.image_path.str.split(\"NAAMES/\", expand=True)[1]\n",
    "# remove data that was already in train\n",
    "new_df = new_data.drop(columns = ['image_path']).merge(image_ids, on ='filepath', how ='outer', indicator=True).query('_merge==\"left_only\"')\n",
    "# gather only necessary columns\n",
    "new_df = new_df.drop(columns = ['Index', 'pred_class', 'index', 'i_id', '_merge'])\n",
    "# convert pred_label into int\n",
    "new_df['pred_label'] = new_df['pred_label'].astype(int)\n",
    "# convert pred_label to string that will be written to sql\n",
    "pred_labels = new_df.pred_label.apply(lambda x: class_labels[x])\n",
    "new_df['pred_label'] = pred_labels"
   ]
  },
  {
   "cell_type": "code",
   "execution_count": 259,
   "id": "5235d811",
   "metadata": {},
   "outputs": [
    {
     "data": {
      "text/html": [
       "<div>\n",
       "<style scoped>\n",
       "    .dataframe tbody tr th:only-of-type {\n",
       "        vertical-align: middle;\n",
       "    }\n",
       "\n",
       "    .dataframe tbody tr th {\n",
       "        vertical-align: top;\n",
       "    }\n",
       "\n",
       "    .dataframe thead th {\n",
       "        text-align: right;\n",
       "    }\n",
       "</style>\n",
       "<table border=\"1\" class=\"dataframe\">\n",
       "  <thead>\n",
       "    <tr style=\"text-align: right;\">\n",
       "      <th></th>\n",
       "      <th>pred_label</th>\n",
       "      <th>0</th>\n",
       "      <th>1</th>\n",
       "      <th>2</th>\n",
       "      <th>3</th>\n",
       "      <th>4</th>\n",
       "      <th>5</th>\n",
       "      <th>6</th>\n",
       "      <th>7</th>\n",
       "      <th>8</th>\n",
       "      <th>9</th>\n",
       "      <th>filepath</th>\n",
       "    </tr>\n",
       "  </thead>\n",
       "  <tbody>\n",
       "    <tr>\n",
       "      <th>0</th>\n",
       "      <td>Other</td>\n",
       "      <td>0.00318988</td>\n",
       "      <td>0.00000000</td>\n",
       "      <td>0.00008589</td>\n",
       "      <td>0.00017344</td>\n",
       "      <td>0.00000009</td>\n",
       "      <td>0.00327110</td>\n",
       "      <td>0.00000809</td>\n",
       "      <td>0.95753310</td>\n",
       "      <td>0.03550129</td>\n",
       "      <td>0.00023711</td>\n",
       "      <td>NAAMES_ml/D20160524T225721_IFCB107/IFCB107D201...</td>\n",
       "    </tr>\n",
       "    <tr>\n",
       "      <th>1</th>\n",
       "      <td>Other</td>\n",
       "      <td>0.00755106</td>\n",
       "      <td>0.00000051</td>\n",
       "      <td>0.00035928</td>\n",
       "      <td>0.00260129</td>\n",
       "      <td>0.00000253</td>\n",
       "      <td>0.20422825</td>\n",
       "      <td>0.00101794</td>\n",
       "      <td>0.71885103</td>\n",
       "      <td>0.06120521</td>\n",
       "      <td>0.00418288</td>\n",
       "      <td>NAAMES_ml/D20160524T225721_IFCB107/IFCB107D201...</td>\n",
       "    </tr>\n",
       "    <tr>\n",
       "      <th>2</th>\n",
       "      <td>Unidentifiable</td>\n",
       "      <td>0.00013524</td>\n",
       "      <td>0.00000000</td>\n",
       "      <td>0.00001258</td>\n",
       "      <td>0.00022039</td>\n",
       "      <td>0.00002652</td>\n",
       "      <td>0.00010345</td>\n",
       "      <td>0.00000018</td>\n",
       "      <td>0.39091730</td>\n",
       "      <td>0.00037549</td>\n",
       "      <td>0.60820890</td>\n",
       "      <td>NAAMES_ml/D20160524T225721_IFCB107/IFCB107D201...</td>\n",
       "    </tr>\n",
       "    <tr>\n",
       "      <th>3</th>\n",
       "      <td>Other</td>\n",
       "      <td>0.00112294</td>\n",
       "      <td>0.00000000</td>\n",
       "      <td>0.00004770</td>\n",
       "      <td>0.00016701</td>\n",
       "      <td>0.00000000</td>\n",
       "      <td>0.01313227</td>\n",
       "      <td>0.00001304</td>\n",
       "      <td>0.98447030</td>\n",
       "      <td>0.00025867</td>\n",
       "      <td>0.00078803</td>\n",
       "      <td>NAAMES_ml/D20160524T225721_IFCB107/IFCB107D201...</td>\n",
       "    </tr>\n",
       "    <tr>\n",
       "      <th>4</th>\n",
       "      <td>Other</td>\n",
       "      <td>0.00010031</td>\n",
       "      <td>0.00000001</td>\n",
       "      <td>0.00000009</td>\n",
       "      <td>0.00810581</td>\n",
       "      <td>0.00000001</td>\n",
       "      <td>0.34370705</td>\n",
       "      <td>0.00002030</td>\n",
       "      <td>0.64535946</td>\n",
       "      <td>0.00038832</td>\n",
       "      <td>0.00231878</td>\n",
       "      <td>NAAMES_ml/D20160524T225721_IFCB107/IFCB107D201...</td>\n",
       "    </tr>\n",
       "  </tbody>\n",
       "</table>\n",
       "</div>"
      ],
      "text/plain": [
       "       pred_label          0          1          2          3          4  \\\n",
       "0           Other 0.00318988 0.00000000 0.00008589 0.00017344 0.00000009   \n",
       "1           Other 0.00755106 0.00000051 0.00035928 0.00260129 0.00000253   \n",
       "2  Unidentifiable 0.00013524 0.00000000 0.00001258 0.00022039 0.00002652   \n",
       "3           Other 0.00112294 0.00000000 0.00004770 0.00016701 0.00000000   \n",
       "4           Other 0.00010031 0.00000001 0.00000009 0.00810581 0.00000001   \n",
       "\n",
       "           5          6          7          8          9  \\\n",
       "0 0.00327110 0.00000809 0.95753310 0.03550129 0.00023711   \n",
       "1 0.20422825 0.00101794 0.71885103 0.06120521 0.00418288   \n",
       "2 0.00010345 0.00000018 0.39091730 0.00037549 0.60820890   \n",
       "3 0.01313227 0.00001304 0.98447030 0.00025867 0.00078803   \n",
       "4 0.34370705 0.00002030 0.64535946 0.00038832 0.00231878   \n",
       "\n",
       "                                            filepath  \n",
       "0  NAAMES_ml/D20160524T225721_IFCB107/IFCB107D201...  \n",
       "1  NAAMES_ml/D20160524T225721_IFCB107/IFCB107D201...  \n",
       "2  NAAMES_ml/D20160524T225721_IFCB107/IFCB107D201...  \n",
       "3  NAAMES_ml/D20160524T225721_IFCB107/IFCB107D201...  \n",
       "4  NAAMES_ml/D20160524T225721_IFCB107/IFCB107D201...  "
      ]
     },
     "execution_count": 259,
     "metadata": {},
     "output_type": "execute_result"
    }
   ],
   "source": [
    "new_df.head()"
   ]
  },
  {
   "cell_type": "markdown",
   "id": "115a20ee",
   "metadata": {},
   "source": [
    "#### Insert table to images"
   ]
  },
  {
   "cell_type": "code",
   "execution_count": 210,
   "id": "ac33905b",
   "metadata": {},
   "outputs": [],
   "source": [
    "new_imagepaths = new_df[['filepath']].to_dict(orient=\"records\")"
   ]
  },
  {
   "cell_type": "code",
   "execution_count": 214,
   "id": "65d9b327",
   "metadata": {},
   "outputs": [
    {
     "data": {
      "application/vnd.jupyter.widget-view+json": {
       "model_id": "7e2b454076f04e958680c37b40447f08",
       "version_major": 2,
       "version_minor": 0
      },
      "text/plain": [
       "0it [00:00, ?it/s]"
      ]
     },
     "metadata": {},
     "output_type": "display_data"
    },
    {
     "name": "stdout",
     "output_type": "stream",
     "text": [
      "CPU times: total: 27.7 s\n",
      "Wall time: 6min 37s\n"
     ]
    }
   ],
   "source": [
    "%%time\n",
    "idu.bulk_insert_data(table_name=\"images\", data=new_imagepaths)"
   ]
  },
  {
   "cell_type": "code",
   "execution_count": 216,
   "id": "e3478786",
   "metadata": {},
   "outputs": [],
   "source": [
    "image_ids = sq.run_sql_query(\"select * from images;\")"
   ]
  },
  {
   "cell_type": "code",
   "execution_count": 217,
   "id": "9e4744c4",
   "metadata": {},
   "outputs": [
    {
     "data": {
      "text/html": [
       "<div>\n",
       "<style scoped>\n",
       "    .dataframe tbody tr th:only-of-type {\n",
       "        vertical-align: middle;\n",
       "    }\n",
       "\n",
       "    .dataframe tbody tr th {\n",
       "        vertical-align: top;\n",
       "    }\n",
       "\n",
       "    .dataframe thead th {\n",
       "        text-align: right;\n",
       "    }\n",
       "</style>\n",
       "<table border=\"1\" class=\"dataframe\">\n",
       "  <thead>\n",
       "    <tr style=\"text-align: right;\">\n",
       "      <th></th>\n",
       "      <th>i_id</th>\n",
       "      <th>filepath</th>\n",
       "    </tr>\n",
       "  </thead>\n",
       "  <tbody>\n",
       "    <tr>\n",
       "      <th>0</th>\n",
       "      <td>1</td>\n",
       "      <td>NAAMES_ml/D20151107T140949_IFCB107/IFCB107D201...</td>\n",
       "    </tr>\n",
       "    <tr>\n",
       "      <th>1</th>\n",
       "      <td>2</td>\n",
       "      <td>NAAMES_ml/D20160519T044744_IFCB107/IFCB107D201...</td>\n",
       "    </tr>\n",
       "    <tr>\n",
       "      <th>2</th>\n",
       "      <td>3</td>\n",
       "      <td>NAAMES_ml/D20160528T220927_IFCB107/IFCB107D201...</td>\n",
       "    </tr>\n",
       "    <tr>\n",
       "      <th>3</th>\n",
       "      <td>4</td>\n",
       "      <td>NAAMES_ml/D20160517T095745_IFCB107/IFCB107D201...</td>\n",
       "    </tr>\n",
       "    <tr>\n",
       "      <th>4</th>\n",
       "      <td>5</td>\n",
       "      <td>NAAMES_ml/D20160513T005054_IFCB107/IFCB107D201...</td>\n",
       "    </tr>\n",
       "    <tr>\n",
       "      <th>...</th>\n",
       "      <td>...</td>\n",
       "      <td>...</td>\n",
       "    </tr>\n",
       "    <tr>\n",
       "      <th>1382662</th>\n",
       "      <td>1382664</td>\n",
       "      <td>NAAMES_ml/D20151105T224631_IFCB107/IFCB107D201...</td>\n",
       "    </tr>\n",
       "    <tr>\n",
       "      <th>1382663</th>\n",
       "      <td>1382665</td>\n",
       "      <td>NAAMES_ml/D20151105T224631_IFCB107/IFCB107D201...</td>\n",
       "    </tr>\n",
       "    <tr>\n",
       "      <th>1382664</th>\n",
       "      <td>1382666</td>\n",
       "      <td>NAAMES_ml/D20151105T224631_IFCB107/IFCB107D201...</td>\n",
       "    </tr>\n",
       "    <tr>\n",
       "      <th>1382665</th>\n",
       "      <td>1382667</td>\n",
       "      <td>NAAMES_ml/D20151105T224631_IFCB107/IFCB107D201...</td>\n",
       "    </tr>\n",
       "    <tr>\n",
       "      <th>1382666</th>\n",
       "      <td>1382668</td>\n",
       "      <td>NAAMES_ml/D20151105T224631_IFCB107/IFCB107D201...</td>\n",
       "    </tr>\n",
       "  </tbody>\n",
       "</table>\n",
       "<p>1382667 rows × 2 columns</p>\n",
       "</div>"
      ],
      "text/plain": [
       "            i_id                                           filepath\n",
       "0              1  NAAMES_ml/D20151107T140949_IFCB107/IFCB107D201...\n",
       "1              2  NAAMES_ml/D20160519T044744_IFCB107/IFCB107D201...\n",
       "2              3  NAAMES_ml/D20160528T220927_IFCB107/IFCB107D201...\n",
       "3              4  NAAMES_ml/D20160517T095745_IFCB107/IFCB107D201...\n",
       "4              5  NAAMES_ml/D20160513T005054_IFCB107/IFCB107D201...\n",
       "...          ...                                                ...\n",
       "1382662  1382664  NAAMES_ml/D20151105T224631_IFCB107/IFCB107D201...\n",
       "1382663  1382665  NAAMES_ml/D20151105T224631_IFCB107/IFCB107D201...\n",
       "1382664  1382666  NAAMES_ml/D20151105T224631_IFCB107/IFCB107D201...\n",
       "1382665  1382667  NAAMES_ml/D20151105T224631_IFCB107/IFCB107D201...\n",
       "1382666  1382668  NAAMES_ml/D20151105T224631_IFCB107/IFCB107D201...\n",
       "\n",
       "[1382667 rows x 2 columns]"
      ]
     },
     "execution_count": 217,
     "metadata": {},
     "output_type": "execute_result"
    }
   ],
   "source": [
    "image_ids"
   ]
  },
  {
   "cell_type": "markdown",
   "id": "43392b01",
   "metadata": {},
   "source": [
    "### Gather image_ids and prepare table for inserting into predictions"
   ]
  },
  {
   "cell_type": "code",
   "execution_count": 268,
   "id": "923d9648",
   "metadata": {},
   "outputs": [],
   "source": [
    "pred_table_new = new_df.merge(image_ids, on='filepath', how ='inner').sort_values(by=\"i_id\")"
   ]
  },
  {
   "cell_type": "code",
   "execution_count": 269,
   "id": "1216c81a",
   "metadata": {},
   "outputs": [
    {
     "data": {
      "text/html": [
       "<div>\n",
       "<style scoped>\n",
       "    .dataframe tbody tr th:only-of-type {\n",
       "        vertical-align: middle;\n",
       "    }\n",
       "\n",
       "    .dataframe tbody tr th {\n",
       "        vertical-align: top;\n",
       "    }\n",
       "\n",
       "    .dataframe thead th {\n",
       "        text-align: right;\n",
       "    }\n",
       "</style>\n",
       "<table border=\"1\" class=\"dataframe\">\n",
       "  <thead>\n",
       "    <tr style=\"text-align: right;\">\n",
       "      <th></th>\n",
       "      <th>pred_label</th>\n",
       "      <th>0</th>\n",
       "      <th>1</th>\n",
       "      <th>2</th>\n",
       "      <th>3</th>\n",
       "      <th>4</th>\n",
       "      <th>5</th>\n",
       "      <th>6</th>\n",
       "      <th>7</th>\n",
       "      <th>8</th>\n",
       "      <th>9</th>\n",
       "      <th>filepath</th>\n",
       "      <th>i_id</th>\n",
       "    </tr>\n",
       "  </thead>\n",
       "  <tbody>\n",
       "    <tr>\n",
       "      <th>0</th>\n",
       "      <td>Other</td>\n",
       "      <td>0.00318988</td>\n",
       "      <td>0.00000000</td>\n",
       "      <td>0.00008589</td>\n",
       "      <td>0.00017344</td>\n",
       "      <td>0.00000009</td>\n",
       "      <td>0.00327110</td>\n",
       "      <td>0.00000809</td>\n",
       "      <td>0.95753310</td>\n",
       "      <td>0.03550129</td>\n",
       "      <td>0.00023711</td>\n",
       "      <td>NAAMES_ml/D20160524T225721_IFCB107/IFCB107D201...</td>\n",
       "      <td>399777</td>\n",
       "    </tr>\n",
       "    <tr>\n",
       "      <th>1</th>\n",
       "      <td>Other</td>\n",
       "      <td>0.00755106</td>\n",
       "      <td>0.00000051</td>\n",
       "      <td>0.00035928</td>\n",
       "      <td>0.00260129</td>\n",
       "      <td>0.00000253</td>\n",
       "      <td>0.20422825</td>\n",
       "      <td>0.00101794</td>\n",
       "      <td>0.71885103</td>\n",
       "      <td>0.06120521</td>\n",
       "      <td>0.00418288</td>\n",
       "      <td>NAAMES_ml/D20160524T225721_IFCB107/IFCB107D201...</td>\n",
       "      <td>399778</td>\n",
       "    </tr>\n",
       "    <tr>\n",
       "      <th>2</th>\n",
       "      <td>Unidentifiable</td>\n",
       "      <td>0.00013524</td>\n",
       "      <td>0.00000000</td>\n",
       "      <td>0.00001258</td>\n",
       "      <td>0.00022039</td>\n",
       "      <td>0.00002652</td>\n",
       "      <td>0.00010345</td>\n",
       "      <td>0.00000018</td>\n",
       "      <td>0.39091730</td>\n",
       "      <td>0.00037549</td>\n",
       "      <td>0.60820890</td>\n",
       "      <td>NAAMES_ml/D20160524T225721_IFCB107/IFCB107D201...</td>\n",
       "      <td>399779</td>\n",
       "    </tr>\n",
       "    <tr>\n",
       "      <th>3</th>\n",
       "      <td>Other</td>\n",
       "      <td>0.00112294</td>\n",
       "      <td>0.00000000</td>\n",
       "      <td>0.00004770</td>\n",
       "      <td>0.00016701</td>\n",
       "      <td>0.00000000</td>\n",
       "      <td>0.01313227</td>\n",
       "      <td>0.00001304</td>\n",
       "      <td>0.98447030</td>\n",
       "      <td>0.00025867</td>\n",
       "      <td>0.00078803</td>\n",
       "      <td>NAAMES_ml/D20160524T225721_IFCB107/IFCB107D201...</td>\n",
       "      <td>399780</td>\n",
       "    </tr>\n",
       "    <tr>\n",
       "      <th>4</th>\n",
       "      <td>Other</td>\n",
       "      <td>0.00010031</td>\n",
       "      <td>0.00000001</td>\n",
       "      <td>0.00000009</td>\n",
       "      <td>0.00810581</td>\n",
       "      <td>0.00000001</td>\n",
       "      <td>0.34370705</td>\n",
       "      <td>0.00002030</td>\n",
       "      <td>0.64535946</td>\n",
       "      <td>0.00038832</td>\n",
       "      <td>0.00231878</td>\n",
       "      <td>NAAMES_ml/D20160524T225721_IFCB107/IFCB107D201...</td>\n",
       "      <td>399781</td>\n",
       "    </tr>\n",
       "  </tbody>\n",
       "</table>\n",
       "</div>"
      ],
      "text/plain": [
       "       pred_label          0          1          2          3          4  \\\n",
       "0           Other 0.00318988 0.00000000 0.00008589 0.00017344 0.00000009   \n",
       "1           Other 0.00755106 0.00000051 0.00035928 0.00260129 0.00000253   \n",
       "2  Unidentifiable 0.00013524 0.00000000 0.00001258 0.00022039 0.00002652   \n",
       "3           Other 0.00112294 0.00000000 0.00004770 0.00016701 0.00000000   \n",
       "4           Other 0.00010031 0.00000001 0.00000009 0.00810581 0.00000001   \n",
       "\n",
       "           5          6          7          8          9  \\\n",
       "0 0.00327110 0.00000809 0.95753310 0.03550129 0.00023711   \n",
       "1 0.20422825 0.00101794 0.71885103 0.06120521 0.00418288   \n",
       "2 0.00010345 0.00000018 0.39091730 0.00037549 0.60820890   \n",
       "3 0.01313227 0.00001304 0.98447030 0.00025867 0.00078803   \n",
       "4 0.34370705 0.00002030 0.64535946 0.00038832 0.00231878   \n",
       "\n",
       "                                            filepath    i_id  \n",
       "0  NAAMES_ml/D20160524T225721_IFCB107/IFCB107D201...  399777  \n",
       "1  NAAMES_ml/D20160524T225721_IFCB107/IFCB107D201...  399778  \n",
       "2  NAAMES_ml/D20160524T225721_IFCB107/IFCB107D201...  399779  \n",
       "3  NAAMES_ml/D20160524T225721_IFCB107/IFCB107D201...  399780  \n",
       "4  NAAMES_ml/D20160524T225721_IFCB107/IFCB107D201...  399781  "
      ]
     },
     "execution_count": 269,
     "metadata": {},
     "output_type": "execute_result"
    }
   ],
   "source": [
    "pred_table_new.head()"
   ]
  },
  {
   "cell_type": "code",
   "execution_count": 270,
   "id": "d3a8d4d9",
   "metadata": {},
   "outputs": [],
   "source": [
    "# combine the class_probs into 1 dictionary per image\n",
    "prob_dicts_new = (pred_table_new[list(np.arange(10).astype(int).astype(str))]\n",
    "              .rename(columns = dict(zip(list(np.arange(10).astype(int).astype(str)), list(np.arange(10).astype(int)))))\n",
    "              .to_dict(orient = 'records')\n",
    "             )"
   ]
  },
  {
   "cell_type": "code",
   "execution_count": 272,
   "id": "3b60b286",
   "metadata": {},
   "outputs": [
    {
     "name": "stderr",
     "output_type": "stream",
     "text": [
      "C:\\Users\\ysman\\AppData\\Local\\Temp\\ipykernel_17204\\2025785591.py:3: SettingWithCopyWarning: \n",
      "A value is trying to be set on a copy of a slice from a DataFrame.\n",
      "Try using .loc[row_indexer,col_indexer] = value instead\n",
      "\n",
      "See the caveats in the documentation: https://pandas.pydata.org/pandas-docs/stable/user_guide/indexing.html#returning-a-view-versus-a-copy\n",
      "  pred_table_new['class_prob'] = np.array(prob_dicts_new, dtype=str)\n",
      "C:\\Users\\ysman\\AppData\\Local\\Temp\\ipykernel_17204\\2025785591.py:5: SettingWithCopyWarning: \n",
      "A value is trying to be set on a copy of a slice from a DataFrame.\n",
      "Try using .loc[row_indexer,col_indexer] = value instead\n",
      "\n",
      "See the caveats in the documentation: https://pandas.pydata.org/pandas-docs/stable/user_guide/indexing.html#returning-a-view-versus-a-copy\n",
      "  pred_table_new['m_id'] = 1\n"
     ]
    },
    {
     "data": {
      "text/html": [
       "<div>\n",
       "<style scoped>\n",
       "    .dataframe tbody tr th:only-of-type {\n",
       "        vertical-align: middle;\n",
       "    }\n",
       "\n",
       "    .dataframe tbody tr th {\n",
       "        vertical-align: top;\n",
       "    }\n",
       "\n",
       "    .dataframe thead th {\n",
       "        text-align: right;\n",
       "    }\n",
       "</style>\n",
       "<table border=\"1\" class=\"dataframe\">\n",
       "  <thead>\n",
       "    <tr style=\"text-align: right;\">\n",
       "      <th></th>\n",
       "      <th>m_id</th>\n",
       "      <th>i_id</th>\n",
       "      <th>class_prob</th>\n",
       "      <th>pred_label</th>\n",
       "    </tr>\n",
       "  </thead>\n",
       "  <tbody>\n",
       "    <tr>\n",
       "      <th>0</th>\n",
       "      <td>1</td>\n",
       "      <td>399777</td>\n",
       "      <td>{0: 0.0031898795, 1: 2.0788812e-11, 2: 8.58863...</td>\n",
       "      <td>Other</td>\n",
       "    </tr>\n",
       "    <tr>\n",
       "      <th>1</th>\n",
       "      <td>1</td>\n",
       "      <td>399778</td>\n",
       "      <td>{0: 0.007551055, 1: 5.1269853e-07, 2: 0.000359...</td>\n",
       "      <td>Other</td>\n",
       "    </tr>\n",
       "    <tr>\n",
       "      <th>2</th>\n",
       "      <td>1</td>\n",
       "      <td>399779</td>\n",
       "      <td>{0: 0.00013524287, 1: 1.2006405e-11, 2: 1.2578...</td>\n",
       "      <td>Unidentifiable</td>\n",
       "    </tr>\n",
       "    <tr>\n",
       "      <th>3</th>\n",
       "      <td>1</td>\n",
       "      <td>399780</td>\n",
       "      <td>{0: 0.0011229421, 1: 1.05487035e-14, 2: 4.7695...</td>\n",
       "      <td>Other</td>\n",
       "    </tr>\n",
       "    <tr>\n",
       "      <th>4</th>\n",
       "      <td>1</td>\n",
       "      <td>399781</td>\n",
       "      <td>{0: 0.00010030835, 1: 7.8161495e-09, 2: 8.5463...</td>\n",
       "      <td>Other</td>\n",
       "    </tr>\n",
       "  </tbody>\n",
       "</table>\n",
       "</div>"
      ],
      "text/plain": [
       "   m_id    i_id                                         class_prob  \\\n",
       "0     1  399777  {0: 0.0031898795, 1: 2.0788812e-11, 2: 8.58863...   \n",
       "1     1  399778  {0: 0.007551055, 1: 5.1269853e-07, 2: 0.000359...   \n",
       "2     1  399779  {0: 0.00013524287, 1: 1.2006405e-11, 2: 1.2578...   \n",
       "3     1  399780  {0: 0.0011229421, 1: 1.05487035e-14, 2: 4.7695...   \n",
       "4     1  399781  {0: 0.00010030835, 1: 7.8161495e-09, 2: 8.5463...   \n",
       "\n",
       "       pred_label  \n",
       "0           Other  \n",
       "1           Other  \n",
       "2  Unidentifiable  \n",
       "3           Other  \n",
       "4           Other  "
      ]
     },
     "execution_count": 272,
     "metadata": {},
     "output_type": "execute_result"
    }
   ],
   "source": [
    "# Gather the necessary variables in the right order for inserting into the Predictions Table\n",
    "pred_table_new = pred_table_new[['i_id', 'pred_label']]\n",
    "pred_table_new['class_prob'] = np.array(prob_dicts_new, dtype=str)\n",
    "# assign model id as 1\n",
    "pred_table_new['m_id'] = 1\n",
    "# reorder for insertion\n",
    "pred_table_new = pred_table_new[['m_id', 'i_id', 'class_prob', 'pred_label']]\n",
    "\n",
    "pred_table_new.head()"
   ]
  },
  {
   "cell_type": "code",
   "execution_count": 273,
   "id": "6e586b21",
   "metadata": {},
   "outputs": [],
   "source": [
    "pred_table_new_lst = pred_table_new.to_dict(orient='records')"
   ]
  },
  {
   "cell_type": "code",
   "execution_count": 274,
   "id": "9aa20672",
   "metadata": {},
   "outputs": [
    {
     "data": {
      "text/plain": [
       "982892"
      ]
     },
     "execution_count": 274,
     "metadata": {},
     "output_type": "execute_result"
    }
   ],
   "source": [
    "len(pred_table_new_lst)"
   ]
  },
  {
   "cell_type": "code",
   "execution_count": 275,
   "id": "5a8e0168",
   "metadata": {},
   "outputs": [
    {
     "data": {
      "application/vnd.jupyter.widget-view+json": {
       "model_id": "73282a9502124c8fb723e4279f2428e3",
       "version_major": 2,
       "version_minor": 0
      },
      "text/plain": [
       "0it [00:00, ?it/s]"
      ]
     },
     "metadata": {},
     "output_type": "display_data"
    }
   ],
   "source": [
    "idu.bulk_insert_data(table_name=\"predictions\", data=pred_table_new_lst)"
   ]
  },
  {
   "cell_type": "markdown",
   "id": "51b0b232",
   "metadata": {},
   "source": [
    "# Put Random Subset for test evaluation"
   ]
  },
  {
   "cell_type": "markdown",
   "id": "c4563906",
   "metadata": {},
   "source": [
    "Insert into dissimilarity and model table first to prevent FK errors."
   ]
  },
  {
   "cell_type": "code",
   "execution_count": null,
   "id": "90434dab",
   "metadata": {},
   "outputs": [],
   "source": [
    "# insert 0 representing random test_data\n",
    "sq.run_sql_query(\n",
    "\"\"\"\n",
    "SET IDENTITY_INSERT dissimilarity ON;\n",
    "\n",
    "INSERT INTO dissimilarity (d_id, name, formula)\n",
    "VALUES (0, 'random_sample', 'none');\n",
    "SET IDENTITY_INSERT dissimilarity OFF;\n",
    "\"\"\"\n",
    ")"
   ]
  },
  {
   "cell_type": "code",
   "execution_count": 312,
   "id": "f49e232b",
   "metadata": {},
   "outputs": [
    {
     "name": "stderr",
     "output_type": "stream",
     "text": [
      "C:\\Users\\ysman\\AppData\\Local\\Temp\\ipykernel_17204\\580666205.py:2: UserWarning: The query returned empty.\n",
      "  sq.run_sql_query(\n"
     ]
    }
   ],
   "source": [
    "# insert 0 representing test_data\n",
    "sq.run_sql_query(\n",
    "\"\"\"\n",
    "SET IDENTITY_INSERT models ON;\n",
    "\n",
    "\n",
    "INSERT INTO models (m_id, model_name, model_link, class_map)\n",
    "VALUES (0, 'random_sample', 'none', 'none');\n",
    "SET IDENTITY_INSERT models OFF;\n",
    "\"\"\"\n",
    ")"
   ]
  },
  {
   "cell_type": "markdown",
   "id": "c3d556bd",
   "metadata": {},
   "source": [
    "Run stored procedure to gather test set of 100,000 images."
   ]
  },
  {
   "cell_type": "code",
   "execution_count": 372,
   "id": "6ca1dcba",
   "metadata": {},
   "outputs": [
    {
     "name": "stdout",
     "output_type": "stream",
     "text": [
      "Using preset file to create procedure GENERATE_RANDOM_TEST_SET: C:\\Users\\ysman\\Desktop\\Capstone\\PIVOT\\PIVOT\\utils\\stored_procedures\\Generate_Random_Test_Set.sql\n"
     ]
    }
   ],
   "source": [
    "sq.create_alter_stored_procedure('GENERATE_RANDOM_TEST_SET')"
   ]
  },
  {
   "cell_type": "markdown",
   "id": "730a161d",
   "metadata": {},
   "source": [
    "Get list of train_ids that can't be used for metric evaluation."
   ]
  },
  {
   "cell_type": "code",
   "execution_count": 305,
   "id": "e12b3996",
   "metadata": {},
   "outputs": [],
   "source": [
    "train_ids = [i for i in range(1, 399777)]"
   ]
  },
  {
   "cell_type": "code",
   "execution_count": 373,
   "id": "f3cc5579",
   "metadata": {},
   "outputs": [
    {
     "name": "stdout",
     "output_type": "stream",
     "text": [
      "Using argument workaround with execute because IMAGE_IDS has length 2687326.\n"
     ]
    }
   ],
   "source": [
    "sq.generate_random_evaluation_set(train_ids = train_ids)"
   ]
  },
  {
   "cell_type": "code",
   "execution_count": 377,
   "id": "7ea82ea2",
   "metadata": {},
   "outputs": [
    {
     "data": {
      "text/html": [
       "<div>\n",
       "<style scoped>\n",
       "    .dataframe tbody tr th:only-of-type {\n",
       "        vertical-align: middle;\n",
       "    }\n",
       "\n",
       "    .dataframe tbody tr th {\n",
       "        vertical-align: top;\n",
       "    }\n",
       "\n",
       "    .dataframe thead th {\n",
       "        text-align: right;\n",
       "    }\n",
       "</style>\n",
       "<table border=\"1\" class=\"dataframe\">\n",
       "  <thead>\n",
       "    <tr style=\"text-align: right;\">\n",
       "      <th></th>\n",
       "      <th></th>\n",
       "    </tr>\n",
       "  </thead>\n",
       "  <tbody>\n",
       "    <tr>\n",
       "      <th>0</th>\n",
       "      <td>100000</td>\n",
       "    </tr>\n",
       "  </tbody>\n",
       "</table>\n",
       "</div>"
      ],
      "text/plain": [
       "         \n",
       "0  100000"
      ]
     },
     "execution_count": 377,
     "metadata": {},
     "output_type": "execute_result"
    }
   ],
   "source": [
    "sq.run_sql_query(\"select count(*) from metrics;\")"
   ]
  },
  {
   "cell_type": "markdown",
   "id": "f3e896d5",
   "metadata": {},
   "source": [
    "### Prepare for insertion into the Metrics table"
   ]
  },
  {
   "cell_type": "markdown",
   "id": "32b791b2",
   "metadata": {},
   "source": [
    "Insert methods into the dissimilarity table."
   ]
  },
  {
   "cell_type": "code",
   "execution_count": 378,
   "id": "e8572645",
   "metadata": {},
   "outputs": [
    {
     "name": "stderr",
     "output_type": "stream",
     "text": [
      "C:\\Users\\ysman\\AppData\\Local\\Temp\\ipykernel_17204\\2236948168.py:1: UserWarning: The query returned empty.\n",
      "  sq.run_sql_query(\n"
     ]
    }
   ],
   "source": [
    "sq.run_sql_query(\n",
    "\"\"\"\n",
    "INSERT INTO dissimilarity (name, formula)\n",
    "VALUES ('entropy', '-x.T @ np.nan_to_num(np.log(x))')\n",
    "\"\"\"\n",
    ")"
   ]
  },
  {
   "cell_type": "code",
   "execution_count": 379,
   "id": "9579ca38",
   "metadata": {},
   "outputs": [
    {
     "data": {
      "text/html": [
       "<div>\n",
       "<style scoped>\n",
       "    .dataframe tbody tr th:only-of-type {\n",
       "        vertical-align: middle;\n",
       "    }\n",
       "\n",
       "    .dataframe tbody tr th {\n",
       "        vertical-align: top;\n",
       "    }\n",
       "\n",
       "    .dataframe thead th {\n",
       "        text-align: right;\n",
       "    }\n",
       "</style>\n",
       "<table border=\"1\" class=\"dataframe\">\n",
       "  <thead>\n",
       "    <tr style=\"text-align: right;\">\n",
       "      <th></th>\n",
       "      <th>d_id</th>\n",
       "      <th>name</th>\n",
       "      <th>formula</th>\n",
       "    </tr>\n",
       "  </thead>\n",
       "  <tbody>\n",
       "    <tr>\n",
       "      <th>0</th>\n",
       "      <td>0</td>\n",
       "      <td>random_sample</td>\n",
       "      <td>none</td>\n",
       "    </tr>\n",
       "    <tr>\n",
       "      <th>1</th>\n",
       "      <td>1</td>\n",
       "      <td>entropy</td>\n",
       "      <td>-x.T @ np.nan_to_num(np.log(x))</td>\n",
       "    </tr>\n",
       "  </tbody>\n",
       "</table>\n",
       "</div>"
      ],
      "text/plain": [
       "   d_id           name                          formula\n",
       "0     0  random_sample                             none\n",
       "1     1        entropy  -x.T @ np.nan_to_num(np.log(x))"
      ]
     },
     "execution_count": 379,
     "metadata": {},
     "output_type": "execute_result"
    }
   ],
   "source": [
    "sq.run_sql_query(\"select * from dissimilarity\")"
   ]
  },
  {
   "cell_type": "markdown",
   "id": "e36ddc27",
   "metadata": {},
   "source": [
    "### train_data"
   ]
  },
  {
   "cell_type": "code",
   "execution_count": 386,
   "id": "59f3f8a3",
   "metadata": {},
   "outputs": [],
   "source": [
    "def least_confident_score(x):\n",
    "    return 1 - np.max(x)\n",
    "\n",
    "def least_margin_score(x):\n",
    "    sort_x = np.sort(x)\n",
    "    return 1 - (sort_x[-1] - sort_x[-2])\n",
    "\n",
    "def entropy_score(x):\n",
    "    return -x.T @ np.nan_to_num(np.log(x))\n",
    "def get_score(x, f):\n",
    "    try:\n",
    "        s = f(x)\n",
    "    except:\n",
    "        print(f\"Error computing {f.__name__}\")\n",
    "        s = -1\n",
    "    return s"
   ]
  },
  {
   "cell_type": "code",
   "execution_count": 380,
   "id": "ef0a1aa1",
   "metadata": {},
   "outputs": [
    {
     "data": {
      "text/html": [
       "<div>\n",
       "<style scoped>\n",
       "    .dataframe tbody tr th:only-of-type {\n",
       "        vertical-align: middle;\n",
       "    }\n",
       "\n",
       "    .dataframe tbody tr th {\n",
       "        vertical-align: top;\n",
       "    }\n",
       "\n",
       "    .dataframe thead th {\n",
       "        text-align: right;\n",
       "    }\n",
       "</style>\n",
       "<table border=\"1\" class=\"dataframe\">\n",
       "  <thead>\n",
       "    <tr style=\"text-align: right;\">\n",
       "      <th></th>\n",
       "      <th>filepath</th>\n",
       "      <th>pred_label</th>\n",
       "      <th>Chloro</th>\n",
       "      <th>Cilliate</th>\n",
       "      <th>Crypto</th>\n",
       "      <th>Diatom</th>\n",
       "      <th>Dictyo</th>\n",
       "      <th>Dinoflagellate</th>\n",
       "      <th>Eugleno</th>\n",
       "      <th>Other</th>\n",
       "      <th>Prymnesio</th>\n",
       "      <th>Unidentifiable</th>\n",
       "      <th>i_id</th>\n",
       "    </tr>\n",
       "  </thead>\n",
       "  <tbody>\n",
       "    <tr>\n",
       "      <th>19000</th>\n",
       "      <td>NAAMES_ml/D20151107T140949_IFCB107/IFCB107D201...</td>\n",
       "      <td>Unidentifiable</td>\n",
       "      <td>0.00000120</td>\n",
       "      <td>0.00000001</td>\n",
       "      <td>0.00000002</td>\n",
       "      <td>0.00003709</td>\n",
       "      <td>0.00000141</td>\n",
       "      <td>0.00002146</td>\n",
       "      <td>0.00000000</td>\n",
       "      <td>0.01926701</td>\n",
       "      <td>0.00008079</td>\n",
       "      <td>0.98059100</td>\n",
       "      <td>1</td>\n",
       "    </tr>\n",
       "    <tr>\n",
       "      <th>19001</th>\n",
       "      <td>NAAMES_ml/D20160519T044744_IFCB107/IFCB107D201...</td>\n",
       "      <td>Chloro</td>\n",
       "      <td>0.53398550</td>\n",
       "      <td>0.00000000</td>\n",
       "      <td>0.03066084</td>\n",
       "      <td>0.00009367</td>\n",
       "      <td>0.00000002</td>\n",
       "      <td>0.00664890</td>\n",
       "      <td>0.00011772</td>\n",
       "      <td>0.42713898</td>\n",
       "      <td>0.00028626</td>\n",
       "      <td>0.00106817</td>\n",
       "      <td>2</td>\n",
       "    </tr>\n",
       "    <tr>\n",
       "      <th>19002</th>\n",
       "      <td>NAAMES_ml/D20160528T220927_IFCB107/IFCB107D201...</td>\n",
       "      <td>Other</td>\n",
       "      <td>0.00003250</td>\n",
       "      <td>0.00000000</td>\n",
       "      <td>0.00000030</td>\n",
       "      <td>0.00012561</td>\n",
       "      <td>0.00000000</td>\n",
       "      <td>0.05113956</td>\n",
       "      <td>0.00001469</td>\n",
       "      <td>0.93242340</td>\n",
       "      <td>0.01558691</td>\n",
       "      <td>0.00067707</td>\n",
       "      <td>3</td>\n",
       "    </tr>\n",
       "    <tr>\n",
       "      <th>19003</th>\n",
       "      <td>NAAMES_ml/D20160517T095745_IFCB107/IFCB107D201...</td>\n",
       "      <td>Other</td>\n",
       "      <td>0.00146442</td>\n",
       "      <td>0.00000003</td>\n",
       "      <td>0.00064200</td>\n",
       "      <td>0.00134276</td>\n",
       "      <td>0.00000061</td>\n",
       "      <td>0.07592753</td>\n",
       "      <td>0.00017256</td>\n",
       "      <td>0.73473006</td>\n",
       "      <td>0.18398885</td>\n",
       "      <td>0.00173112</td>\n",
       "      <td>4</td>\n",
       "    </tr>\n",
       "    <tr>\n",
       "      <th>19004</th>\n",
       "      <td>NAAMES_ml/D20160513T005054_IFCB107/IFCB107D201...</td>\n",
       "      <td>Other</td>\n",
       "      <td>0.00000250</td>\n",
       "      <td>0.00000000</td>\n",
       "      <td>0.00000001</td>\n",
       "      <td>0.00000465</td>\n",
       "      <td>0.00000000</td>\n",
       "      <td>0.00342124</td>\n",
       "      <td>0.00000075</td>\n",
       "      <td>0.99601930</td>\n",
       "      <td>0.00054119</td>\n",
       "      <td>0.00001038</td>\n",
       "      <td>5</td>\n",
       "    </tr>\n",
       "  </tbody>\n",
       "</table>\n",
       "</div>"
      ],
      "text/plain": [
       "                                                filepath      pred_label  \\\n",
       "19000  NAAMES_ml/D20151107T140949_IFCB107/IFCB107D201...  Unidentifiable   \n",
       "19001  NAAMES_ml/D20160519T044744_IFCB107/IFCB107D201...          Chloro   \n",
       "19002  NAAMES_ml/D20160528T220927_IFCB107/IFCB107D201...           Other   \n",
       "19003  NAAMES_ml/D20160517T095745_IFCB107/IFCB107D201...           Other   \n",
       "19004  NAAMES_ml/D20160513T005054_IFCB107/IFCB107D201...           Other   \n",
       "\n",
       "          Chloro   Cilliate     Crypto     Diatom     Dictyo  Dinoflagellate  \\\n",
       "19000 0.00000120 0.00000001 0.00000002 0.00003709 0.00000141      0.00002146   \n",
       "19001 0.53398550 0.00000000 0.03066084 0.00009367 0.00000002      0.00664890   \n",
       "19002 0.00003250 0.00000000 0.00000030 0.00012561 0.00000000      0.05113956   \n",
       "19003 0.00146442 0.00000003 0.00064200 0.00134276 0.00000061      0.07592753   \n",
       "19004 0.00000250 0.00000000 0.00000001 0.00000465 0.00000000      0.00342124   \n",
       "\n",
       "         Eugleno      Other  Prymnesio  Unidentifiable  i_id  \n",
       "19000 0.00000000 0.01926701 0.00008079      0.98059100     1  \n",
       "19001 0.00011772 0.42713898 0.00028626      0.00106817     2  \n",
       "19002 0.00001469 0.93242340 0.01558691      0.00067707     3  \n",
       "19003 0.00017256 0.73473006 0.18398885      0.00173112     4  \n",
       "19004 0.00000075 0.99601930 0.00054119      0.00001038     5  "
      ]
     },
     "execution_count": 380,
     "metadata": {},
     "output_type": "execute_result"
    }
   ],
   "source": [
    "train_df_merged.head()"
   ]
  },
  {
   "cell_type": "code",
   "execution_count": 388,
   "id": "d9109393",
   "metadata": {},
   "outputs": [
    {
     "name": "stderr",
     "output_type": "stream",
     "text": [
      "<timed exec>:2: SettingWithCopyWarning: \n",
      "A value is trying to be set on a copy of a slice from a DataFrame.\n",
      "Try using .loc[row_indexer,col_indexer] = value instead\n",
      "\n",
      "See the caveats in the documentation: https://pandas.pydata.org/pandas-docs/stable/user_guide/indexing.html#returning-a-view-versus-a-copy\n",
      "<timed exec>:3: SettingWithCopyWarning: \n",
      "A value is trying to be set on a copy of a slice from a DataFrame.\n",
      "Try using .loc[row_indexer,col_indexer] = value instead\n",
      "\n",
      "See the caveats in the documentation: https://pandas.pydata.org/pandas-docs/stable/user_guide/indexing.html#returning-a-view-versus-a-copy\n",
      "C:\\Users\\ysman\\anaconda3\\envs\\pivot-modAL\\lib\\site-packages\\pandas\\core\\arraylike.py:396: RuntimeWarning: divide by zero encountered in log\n",
      "  result = getattr(ufunc, method)(*inputs, **kwargs)\n"
     ]
    },
    {
     "name": "stdout",
     "output_type": "stream",
     "text": [
      "CPU times: total: 59.9 s\n",
      "Wall time: 1min\n"
     ]
    },
    {
     "name": "stderr",
     "output_type": "stream",
     "text": [
      "<timed exec>:4: SettingWithCopyWarning: \n",
      "A value is trying to be set on a copy of a slice from a DataFrame.\n",
      "Try using .loc[row_indexer,col_indexer] = value instead\n",
      "\n",
      "See the caveats in the documentation: https://pandas.pydata.org/pandas-docs/stable/user_guide/indexing.html#returning-a-view-versus-a-copy\n"
     ]
    }
   ],
   "source": [
    "%%time\n",
    "entropy_train = train_df_merged[['i_id']]\n",
    "entropy_train['m_id'] = 1\n",
    "entropy_train['d_id'] = 1\n",
    "entropy_train['d_value'] = train_df_merged[class_labels].apply(lambda x: get_score(x,entropy_score), axis=1)\n"
   ]
  },
  {
   "cell_type": "code",
   "execution_count": 400,
   "id": "1b7adbca",
   "metadata": {},
   "outputs": [
    {
     "data": {
      "application/vnd.jupyter.widget-view+json": {
       "model_id": "d04617e25e7b423c80b788d170f398f2",
       "version_major": 2,
       "version_minor": 0
      },
      "text/plain": [
       "0it [00:00, ?it/s]"
      ]
     },
     "metadata": {},
     "output_type": "display_data"
    },
    {
     "name": "stdout",
     "output_type": "stream",
     "text": [
      "CPU times: total: 16.6 s\n",
      "Wall time: 3min 27s\n"
     ]
    }
   ],
   "source": [
    "%%time\n",
    "idu.bulk_insert_data(table_name=\"metrics\", data=entropy_train.to_dict(orient='records'))"
   ]
  },
  {
   "cell_type": "markdown",
   "id": "0fe18afa",
   "metadata": {},
   "source": [
    "## New images"
   ]
  },
  {
   "cell_type": "code",
   "execution_count": 4,
   "id": "6785d2c9",
   "metadata": {},
   "outputs": [
    {
     "data": {
      "text/plain": [
       "(1056000, 8)"
      ]
     },
     "execution_count": 4,
     "metadata": {},
     "output_type": "execute_result"
    }
   ],
   "source": [
    "new_scores= pd.read_parquet(\"../pivot/data/inventory_df_with_scores.parquet.gzip\")\n",
    "new_scores.shape"
   ]
  },
  {
   "cell_type": "code",
   "execution_count": 6,
   "id": "e407c2c4",
   "metadata": {},
   "outputs": [
    {
     "data": {
      "text/html": [
       "<div>\n",
       "<style scoped>\n",
       "    .dataframe tbody tr th:only-of-type {\n",
       "        vertical-align: middle;\n",
       "    }\n",
       "\n",
       "    .dataframe tbody tr th {\n",
       "        vertical-align: top;\n",
       "    }\n",
       "\n",
       "    .dataframe thead th {\n",
       "        text-align: right;\n",
       "    }\n",
       "</style>\n",
       "<table border=\"1\" class=\"dataframe\">\n",
       "  <thead>\n",
       "    <tr style=\"text-align: right;\">\n",
       "      <th></th>\n",
       "      <th>Index</th>\n",
       "      <th>image_path</th>\n",
       "      <th>pred_label</th>\n",
       "      <th>pred_class</th>\n",
       "      <th>index</th>\n",
       "      <th>entropy_score</th>\n",
       "      <th>least_confident_score</th>\n",
       "      <th>least_margin_score</th>\n",
       "    </tr>\n",
       "  </thead>\n",
       "  <tbody>\n",
       "    <tr>\n",
       "      <th>1055995</th>\n",
       "      <td>1103035</td>\n",
       "      <td>/Users/alisonchase/Documents/IFCB/NAAMES/NAAME...</td>\n",
       "      <td>2</td>\n",
       "      <td>Crypto</td>\n",
       "      <td>1103035</td>\n",
       "      <td>0.234404</td>\n",
       "      <td>0.057854</td>\n",
       "      <td>0.112909</td>\n",
       "    </tr>\n",
       "    <tr>\n",
       "      <th>1055996</th>\n",
       "      <td>1103036</td>\n",
       "      <td>/Users/alisonchase/Documents/IFCB/NAAMES/NAAME...</td>\n",
       "      <td>7</td>\n",
       "      <td>Other</td>\n",
       "      <td>1103036</td>\n",
       "      <td>1.129720</td>\n",
       "      <td>0.399378</td>\n",
       "      <td>0.606505</td>\n",
       "    </tr>\n",
       "    <tr>\n",
       "      <th>1055997</th>\n",
       "      <td>1103037</td>\n",
       "      <td>/Users/alisonchase/Documents/IFCB/NAAMES/NAAME...</td>\n",
       "      <td>7</td>\n",
       "      <td>Other</td>\n",
       "      <td>1103037</td>\n",
       "      <td>1.289111</td>\n",
       "      <td>0.385930</td>\n",
       "      <td>0.545256</td>\n",
       "    </tr>\n",
       "    <tr>\n",
       "      <th>1055998</th>\n",
       "      <td>1103038</td>\n",
       "      <td>/Users/alisonchase/Documents/IFCB/NAAMES/NAAME...</td>\n",
       "      <td>0</td>\n",
       "      <td>Chloro</td>\n",
       "      <td>1103038</td>\n",
       "      <td>0.526977</td>\n",
       "      <td>0.174938</td>\n",
       "      <td>0.332709</td>\n",
       "    </tr>\n",
       "    <tr>\n",
       "      <th>1055999</th>\n",
       "      <td>1103039</td>\n",
       "      <td>/Users/alisonchase/Documents/IFCB/NAAMES/NAAME...</td>\n",
       "      <td>7</td>\n",
       "      <td>Other</td>\n",
       "      <td>1103039</td>\n",
       "      <td>0.795194</td>\n",
       "      <td>0.474722</td>\n",
       "      <td>0.931747</td>\n",
       "    </tr>\n",
       "  </tbody>\n",
       "</table>\n",
       "</div>"
      ],
      "text/plain": [
       "           Index                                         image_path  \\\n",
       "1055995  1103035  /Users/alisonchase/Documents/IFCB/NAAMES/NAAME...   \n",
       "1055996  1103036  /Users/alisonchase/Documents/IFCB/NAAMES/NAAME...   \n",
       "1055997  1103037  /Users/alisonchase/Documents/IFCB/NAAMES/NAAME...   \n",
       "1055998  1103038  /Users/alisonchase/Documents/IFCB/NAAMES/NAAME...   \n",
       "1055999  1103039  /Users/alisonchase/Documents/IFCB/NAAMES/NAAME...   \n",
       "\n",
       "         pred_label pred_class    index  entropy_score  least_confident_score  \\\n",
       "1055995           2     Crypto  1103035       0.234404               0.057854   \n",
       "1055996           7      Other  1103036       1.129720               0.399378   \n",
       "1055997           7      Other  1103037       1.289111               0.385930   \n",
       "1055998           0     Chloro  1103038       0.526977               0.174938   \n",
       "1055999           7      Other  1103039       0.795194               0.474722   \n",
       "\n",
       "         least_margin_score  \n",
       "1055995            0.112909  \n",
       "1055996            0.606505  \n",
       "1055997            0.545256  \n",
       "1055998            0.332709  \n",
       "1055999            0.931747  "
      ]
     },
     "execution_count": 6,
     "metadata": {},
     "output_type": "execute_result"
    }
   ],
   "source": [
    "new_scores.tail()"
   ]
  },
  {
   "cell_type": "code",
   "execution_count": 12,
   "id": "1a3fd61d",
   "metadata": {},
   "outputs": [
    {
     "data": {
      "text/plain": [
       "(1382667, 2)"
      ]
     },
     "execution_count": 12,
     "metadata": {},
     "output_type": "execute_result"
    }
   ],
   "source": [
    "# gather IDs for images\n",
    "image_ids = sq.run_sql_query(\"select * from images;\")\n",
    "image_ids.shape"
   ]
  },
  {
   "cell_type": "code",
   "execution_count": 24,
   "id": "cc7060f5",
   "metadata": {},
   "outputs": [],
   "source": [
    "train_subset = new_scores[['filepath', 'entropy_score']].merge(image_ids, on='filepath', how='inner').query(\"i_id<=399776\")"
   ]
  },
  {
   "cell_type": "code",
   "execution_count": 23,
   "id": "97255f78",
   "metadata": {},
   "outputs": [
    {
     "name": "stdout",
     "output_type": "stream",
     "text": [
      "(982892, 4)\n"
     ]
    },
    {
     "data": {
      "text/html": [
       "<div>\n",
       "<style scoped>\n",
       "    .dataframe tbody tr th:only-of-type {\n",
       "        vertical-align: middle;\n",
       "    }\n",
       "\n",
       "    .dataframe tbody tr th {\n",
       "        vertical-align: top;\n",
       "    }\n",
       "\n",
       "    .dataframe thead th {\n",
       "        text-align: right;\n",
       "    }\n",
       "</style>\n",
       "<table border=\"1\" class=\"dataframe\">\n",
       "  <thead>\n",
       "    <tr style=\"text-align: right;\">\n",
       "      <th></th>\n",
       "      <th>i_id</th>\n",
       "      <th>m_id</th>\n",
       "      <th>d_id</th>\n",
       "      <th>d_value</th>\n",
       "    </tr>\n",
       "  </thead>\n",
       "  <tbody>\n",
       "    <tr>\n",
       "      <th>0</th>\n",
       "      <td>399777</td>\n",
       "      <td>1</td>\n",
       "      <td>1</td>\n",
       "      <td>0.201498</td>\n",
       "    </tr>\n",
       "    <tr>\n",
       "      <th>1</th>\n",
       "      <td>399778</td>\n",
       "      <td>1</td>\n",
       "      <td>1</td>\n",
       "      <td>0.817881</td>\n",
       "    </tr>\n",
       "    <tr>\n",
       "      <th>2</th>\n",
       "      <td>399779</td>\n",
       "      <td>1</td>\n",
       "      <td>1</td>\n",
       "      <td>0.676992</td>\n",
       "    </tr>\n",
       "    <tr>\n",
       "      <th>3</th>\n",
       "      <td>399780</td>\n",
       "      <td>1</td>\n",
       "      <td>1</td>\n",
       "      <td>0.089775</td>\n",
       "    </tr>\n",
       "    <tr>\n",
       "      <th>4</th>\n",
       "      <td>399781</td>\n",
       "      <td>1</td>\n",
       "      <td>1</td>\n",
       "      <td>0.706994</td>\n",
       "    </tr>\n",
       "  </tbody>\n",
       "</table>\n",
       "</div>"
      ],
      "text/plain": [
       "     i_id  m_id  d_id   d_value\n",
       "0  399777     1     1  0.201498\n",
       "1  399778     1     1  0.817881\n",
       "2  399779     1     1  0.676992\n",
       "3  399780     1     1  0.089775\n",
       "4  399781     1     1  0.706994"
      ]
     },
     "execution_count": 23,
     "metadata": {},
     "output_type": "execute_result"
    }
   ],
   "source": [
    "# join image IDs to table and remove train data that might overlap\n",
    "new_scores['filepath'] = new_scores['image_path'].str.split(\"NAAMES/\", expand=True)[1]\n",
    "entropy_new = new_scores[['filepath', 'entropy_score']].merge(image_ids, on='filepath', how='inner').query(\"i_id>399776\")\n",
    "\n",
    "# assign model and d_id\n",
    "entropy_new['m_id'] = 1\n",
    "entropy_new['d_id'] = 1\n",
    "# reorder to relevant info\n",
    "entropy_new = entropy_new.rename(columns={\"entropy_score\":\"d_value\"})[['i_id','m_id', 'd_id', 'd_value']]\n",
    "print(entropy_new.shape)\n",
    "entropy_new.head()"
   ]
  },
  {
   "cell_type": "code",
   "execution_count": 27,
   "id": "0a3734f5",
   "metadata": {},
   "outputs": [
    {
     "data": {
      "application/vnd.jupyter.widget-view+json": {
       "model_id": "73a81fa659924930accd09dd4e392277",
       "version_major": 2,
       "version_minor": 0
      },
      "text/plain": [
       "0it [00:00, ?it/s]"
      ]
     },
     "metadata": {},
     "output_type": "display_data"
    },
    {
     "name": "stdout",
     "output_type": "stream",
     "text": [
      "CPU times: total: 27.8 s\n",
      "Wall time: 8min 38s\n"
     ]
    }
   ],
   "source": [
    "%%time\n",
    "idu.bulk_insert_data(table_name=\"metrics\", data=entropy_new.to_dict(orient='records'))"
   ]
  },
  {
   "cell_type": "code",
   "execution_count": 32,
   "id": "66aeaee3",
   "metadata": {},
   "outputs": [],
   "source": [
    "import utils"
   ]
  },
  {
   "cell_type": "code",
   "execution_count": 33,
   "id": "022b3ad7",
   "metadata": {},
   "outputs": [
    {
     "data": {
      "text/plain": [
       "<module 'utils' from 'C:\\\\Users\\\\ysman\\\\Desktop\\\\Capstone\\\\PIVOT\\\\notebooks\\\\../PIVOT\\\\utils\\\\__init__.py'>"
      ]
     },
     "execution_count": 33,
     "metadata": {},
     "output_type": "execute_result"
    }
   ],
   "source": [
    "reload(utils)"
   ]
  },
  {
   "cell_type": "code",
   "execution_count": 36,
   "id": "17d475a9",
   "metadata": {},
   "outputs": [
    {
     "name": "stdout",
     "output_type": "stream",
     "text": [
      "Using custom file to create procedure GENERATE_IMAGES_TO_PREDICT: ../pivot/utils/stored_procedures/Images_To_Predict.sql\n"
     ]
    }
   ],
   "source": [
    "sq.create_alter_stored_procedure('GENERATE_IMAGES_TO_PREDICT', file_path='../pivot/utils/stored_procedures/Images_To_Predict.sql' )"
   ]
  },
  {
   "cell_type": "code",
   "execution_count": 37,
   "id": "236b6752",
   "metadata": {},
   "outputs": [
    {
     "name": "stdout",
     "output_type": "stream",
     "text": [
      "Using custom file to create procedure GENERATE_IMAGES_TO_METRIZE: ../pivot/utils/stored_procedures/Images_To_Metrize.sql\n"
     ]
    }
   ],
   "source": [
    "sq.create_alter_stored_procedure('GENERATE_IMAGES_TO_METRIZE', file_path='../pivot/utils/stored_procedures/Images_To_Metrize.sql' )"
   ]
  },
  {
   "cell_type": "markdown",
   "id": "0e22f2ab",
   "metadata": {},
   "source": [
    "# Load the Existing Labels for Train Data"
   ]
  },
  {
   "cell_type": "code",
   "execution_count": 41,
   "id": "c8f4e52f",
   "metadata": {},
   "outputs": [],
   "source": [
    "train_data = pd.read_csv(\"../PIVOT/data/model-summary-cnn-v1-b3.csv\")\n",
    "train_data[\"filepath\"] = train_data['full_path'].str.split(\"data/\", expand=True)[1]"
   ]
  },
  {
   "cell_type": "code",
   "execution_count": 43,
   "id": "d394ac7d",
   "metadata": {},
   "outputs": [],
   "source": [
    "train_data = train_data[['filepath', 'true_label']].merge(image_ids, on='filepath', how='inner')"
   ]
  },
  {
   "cell_type": "code",
   "execution_count": 44,
   "id": "adc57740",
   "metadata": {
    "scrolled": false
   },
   "outputs": [
    {
     "data": {
      "text/plain": [
       "(399775, 3)"
      ]
     },
     "execution_count": 44,
     "metadata": {},
     "output_type": "execute_result"
    }
   ],
   "source": [
    "train_data.shape"
   ]
  },
  {
   "cell_type": "markdown",
   "id": "ffb60589",
   "metadata": {},
   "source": [
    "Gather the class label mapping from the `models` table."
   ]
  },
  {
   "cell_type": "code",
   "execution_count": 49,
   "id": "73e61d41",
   "metadata": {},
   "outputs": [],
   "source": [
    "class_map = sq.run_sql_query(\"select * from models where m_id = 1;\")"
   ]
  },
  {
   "cell_type": "code",
   "execution_count": 65,
   "id": "8002b4a4",
   "metadata": {},
   "outputs": [
    {
     "data": {
      "text/plain": [
       "{0: 'Chloro',\n",
       " 1: 'Cilliate',\n",
       " 2: 'Crypto',\n",
       " 3: 'Diatom',\n",
       " 4: 'Dictyo',\n",
       " 5: 'Dinoflagellate',\n",
       " 6: 'Eugleno',\n",
       " 7: 'Other',\n",
       " 8: 'Prymnesio',\n",
       " 9: 'Unidentifiable'}"
      ]
     },
     "execution_count": 65,
     "metadata": {},
     "output_type": "execute_result"
    }
   ],
   "source": [
    "import ast\n",
    "class_map = ast.literal_eval(class_map.class_map[0])\n",
    "class_map"
   ]
  },
  {
   "cell_type": "code",
   "execution_count": 63,
   "id": "5880e349",
   "metadata": {},
   "outputs": [],
   "source": [
    "# use mapper to convert ints to varchar labels.\n",
    "train_data['label'] = train_data['true_label'].map(class_map)"
   ]
  },
  {
   "cell_type": "markdown",
   "id": "952dc72e",
   "metadata": {},
   "source": [
    "Insert an \"unknown labeler\" to the users table to allow us to insert the training data labels with their respective experience.\n",
    "I set it as 3 because I assume it was grad students who did it. "
   ]
  },
  {
   "cell_type": "code",
   "execution_count": 68,
   "id": "646436d8",
   "metadata": {},
   "outputs": [
    {
     "name": "stderr",
     "output_type": "stream",
     "text": [
      "C:\\Users\\ysman\\AppData\\Local\\Temp\\ipykernel_10404\\2769406685.py:1: UserWarning: The query returned empty.\n",
      "  sq.run_sql_query(\"\"\"\n"
     ]
    }
   ],
   "source": [
    "sq.run_sql_query(\"\"\"\n",
    "Insert into users (email, name, experience, lab)\n",
    "VALUES ('initial@unknown.com', 'Initial Labelers', 3, 'Labelers who annotated data for model cnn-v1-b3');\n",
    "\"\"\")"
   ]
  },
  {
   "cell_type": "code",
   "execution_count": 69,
   "id": "19873fd8",
   "metadata": {},
   "outputs": [
    {
     "data": {
      "text/html": [
       "<div>\n",
       "<style scoped>\n",
       "    .dataframe tbody tr th:only-of-type {\n",
       "        vertical-align: middle;\n",
       "    }\n",
       "\n",
       "    .dataframe tbody tr th {\n",
       "        vertical-align: top;\n",
       "    }\n",
       "\n",
       "    .dataframe thead th {\n",
       "        text-align: right;\n",
       "    }\n",
       "</style>\n",
       "<table border=\"1\" class=\"dataframe\">\n",
       "  <thead>\n",
       "    <tr style=\"text-align: right;\">\n",
       "      <th></th>\n",
       "      <th>u_id</th>\n",
       "      <th>email</th>\n",
       "      <th>name</th>\n",
       "      <th>experience</th>\n",
       "      <th>lab</th>\n",
       "    </tr>\n",
       "  </thead>\n",
       "  <tbody>\n",
       "    <tr>\n",
       "      <th>0</th>\n",
       "      <td>1</td>\n",
       "      <td>initial@unknown.com</td>\n",
       "      <td>Initial Labelers</td>\n",
       "      <td>3</td>\n",
       "      <td>Labelers who annotated data for model cnn-v1-b3</td>\n",
       "    </tr>\n",
       "  </tbody>\n",
       "</table>\n",
       "</div>"
      ],
      "text/plain": [
       "   u_id                email              name  experience  \\\n",
       "0     1  initial@unknown.com  Initial Labelers           3   \n",
       "\n",
       "                                               lab  \n",
       "0  Labelers who annotated data for model cnn-v1-b3  "
      ]
     },
     "execution_count": 69,
     "metadata": {},
     "output_type": "execute_result"
    }
   ],
   "source": [
    "sq.run_sql_query(\"select * from users;\")"
   ]
  },
  {
   "cell_type": "markdown",
   "id": "53845895",
   "metadata": {},
   "source": [
    "Get the schema for `labels`."
   ]
  },
  {
   "cell_type": "code",
   "execution_count": 58,
   "id": "05e53113",
   "metadata": {},
   "outputs": [
    {
     "data": {
      "text/html": [
       "<div>\n",
       "<style scoped>\n",
       "    .dataframe tbody tr th:only-of-type {\n",
       "        vertical-align: middle;\n",
       "    }\n",
       "\n",
       "    .dataframe tbody tr th {\n",
       "        vertical-align: top;\n",
       "    }\n",
       "\n",
       "    .dataframe thead th {\n",
       "        text-align: right;\n",
       "    }\n",
       "</style>\n",
       "<table border=\"1\" class=\"dataframe\">\n",
       "  <thead>\n",
       "    <tr style=\"text-align: right;\">\n",
       "      <th></th>\n",
       "      <th>column_name</th>\n",
       "      <th>data_type</th>\n",
       "      <th>character_maximum_length</th>\n",
       "    </tr>\n",
       "  </thead>\n",
       "  <tbody>\n",
       "    <tr>\n",
       "      <th>0</th>\n",
       "      <td>i_id</td>\n",
       "      <td>int</td>\n",
       "      <td>NaN</td>\n",
       "    </tr>\n",
       "    <tr>\n",
       "      <th>1</th>\n",
       "      <td>u_id</td>\n",
       "      <td>int</td>\n",
       "      <td>NaN</td>\n",
       "    </tr>\n",
       "    <tr>\n",
       "      <th>2</th>\n",
       "      <td>weight</td>\n",
       "      <td>int</td>\n",
       "      <td>NaN</td>\n",
       "    </tr>\n",
       "    <tr>\n",
       "      <th>3</th>\n",
       "      <td>date</td>\n",
       "      <td>datetime</td>\n",
       "      <td>NaN</td>\n",
       "    </tr>\n",
       "    <tr>\n",
       "      <th>4</th>\n",
       "      <td>label</td>\n",
       "      <td>varchar</td>\n",
       "      <td>255.0</td>\n",
       "    </tr>\n",
       "  </tbody>\n",
       "</table>\n",
       "</div>"
      ],
      "text/plain": [
       "  column_name data_type  character_maximum_length\n",
       "0        i_id       int                       NaN\n",
       "1        u_id       int                       NaN\n",
       "2      weight       int                       NaN\n",
       "3        date  datetime                       NaN\n",
       "4       label   varchar                     255.0"
      ]
     },
     "execution_count": 58,
     "metadata": {},
     "output_type": "execute_result"
    }
   ],
   "source": [
    "sq.run_sql_query(\"\"\"\n",
    "SELECT column_name, data_type, character_maximum_length\n",
    "FROM information_schema.columns\n",
    "WHERE table_name = 'labels';\n",
    "\"\"\")"
   ]
  },
  {
   "cell_type": "markdown",
   "id": "e3e4acef",
   "metadata": {},
   "source": [
    "Now, let's assing the u_id for each of these labels to be 1."
   ]
  },
  {
   "cell_type": "code",
   "execution_count": 70,
   "id": "b79dba7e",
   "metadata": {},
   "outputs": [],
   "source": [
    "from datetime import datetime"
   ]
  },
  {
   "cell_type": "code",
   "execution_count": 86,
   "id": "7cbcb177",
   "metadata": {},
   "outputs": [
    {
     "data": {
      "text/html": [
       "<div>\n",
       "<style scoped>\n",
       "    .dataframe tbody tr th:only-of-type {\n",
       "        vertical-align: middle;\n",
       "    }\n",
       "\n",
       "    .dataframe tbody tr th {\n",
       "        vertical-align: top;\n",
       "    }\n",
       "\n",
       "    .dataframe thead th {\n",
       "        text-align: right;\n",
       "    }\n",
       "</style>\n",
       "<table border=\"1\" class=\"dataframe\">\n",
       "  <thead>\n",
       "    <tr style=\"text-align: right;\">\n",
       "      <th></th>\n",
       "      <th>i_id</th>\n",
       "      <th>u_id</th>\n",
       "      <th>weight</th>\n",
       "      <th>date</th>\n",
       "      <th>label</th>\n",
       "    </tr>\n",
       "  </thead>\n",
       "  <tbody>\n",
       "    <tr>\n",
       "      <th>0</th>\n",
       "      <td>16001</td>\n",
       "      <td>1</td>\n",
       "      <td>3</td>\n",
       "      <td>2023-01-01 00:00:00</td>\n",
       "      <td>Other</td>\n",
       "    </tr>\n",
       "    <tr>\n",
       "      <th>1</th>\n",
       "      <td>16002</td>\n",
       "      <td>1</td>\n",
       "      <td>3</td>\n",
       "      <td>2023-01-01 00:00:00</td>\n",
       "      <td>Other</td>\n",
       "    </tr>\n",
       "    <tr>\n",
       "      <th>2</th>\n",
       "      <td>16003</td>\n",
       "      <td>1</td>\n",
       "      <td>3</td>\n",
       "      <td>2023-01-01 00:00:00</td>\n",
       "      <td>Other</td>\n",
       "    </tr>\n",
       "    <tr>\n",
       "      <th>3</th>\n",
       "      <td>16004</td>\n",
       "      <td>1</td>\n",
       "      <td>3</td>\n",
       "      <td>2023-01-01 00:00:00</td>\n",
       "      <td>Other</td>\n",
       "    </tr>\n",
       "    <tr>\n",
       "      <th>4</th>\n",
       "      <td>16005</td>\n",
       "      <td>1</td>\n",
       "      <td>3</td>\n",
       "      <td>2023-01-01 00:00:00</td>\n",
       "      <td>Diatom</td>\n",
       "    </tr>\n",
       "  </tbody>\n",
       "</table>\n",
       "</div>"
      ],
      "text/plain": [
       "    i_id  u_id  weight                 date   label\n",
       "0  16001     1       3  2023-01-01 00:00:00   Other\n",
       "1  16002     1       3  2023-01-01 00:00:00   Other\n",
       "2  16003     1       3  2023-01-01 00:00:00   Other\n",
       "3  16004     1       3  2023-01-01 00:00:00   Other\n",
       "4  16005     1       3  2023-01-01 00:00:00  Diatom"
      ]
     },
     "execution_count": 86,
     "metadata": {},
     "output_type": "execute_result"
    }
   ],
   "source": [
    "train_data['u_id'] = 1\n",
    "# default user experience is 3\n",
    "train_data['weight'] = 3\n",
    "# set labeling date to last year\n",
    "train_data['date'] = str(datetime(2023, 1, 1, 0, 0, 0))\n",
    "\n",
    "# reorder columns\n",
    "train_data = train_data[['i_id', 'u_id', 'weight', 'date','label']]\n",
    "\n",
    "train_data.head()"
   ]
  },
  {
   "cell_type": "code",
   "execution_count": 87,
   "id": "7921d50d",
   "metadata": {},
   "outputs": [
    {
     "data": {
      "application/vnd.jupyter.widget-view+json": {
       "model_id": "7611f03263a94d9586a997d65b9f4305",
       "version_major": 2,
       "version_minor": 0
      },
      "text/plain": [
       "0it [00:00, ?it/s]"
      ]
     },
     "metadata": {},
     "output_type": "display_data"
    },
    {
     "name": "stdout",
     "output_type": "stream",
     "text": [
      "CPU times: total: 54.2 s\n",
      "Wall time: 4min 23s\n"
     ]
    }
   ],
   "source": [
    "%%time\n",
    "# insert into labels\n",
    "idu.bulk_insert_data(table_name=\"labels\", data=train_data.to_dict(orient='records'))"
   ]
  },
  {
   "cell_type": "code",
   "execution_count": null,
   "id": "fc2ba8f9",
   "metadata": {},
   "outputs": [],
   "source": []
  }
 ],
 "metadata": {
  "kernelspec": {
   "display_name": "pivot-modAL",
   "language": "python",
   "name": "pivot-modal"
  },
  "language_info": {
   "codemirror_mode": {
    "name": "ipython",
    "version": 3
   },
   "file_extension": ".py",
   "mimetype": "text/x-python",
   "name": "python",
   "nbconvert_exporter": "python",
   "pygments_lexer": "ipython3",
   "version": "3.10.13"
  }
 },
 "nbformat": 4,
 "nbformat_minor": 5
}
