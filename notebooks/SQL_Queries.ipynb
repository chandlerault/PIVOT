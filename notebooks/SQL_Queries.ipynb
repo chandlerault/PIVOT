{
 "cells": [
  {
   "cell_type": "markdown",
   "id": "819b60dc",
   "metadata": {},
   "source": [
    "# Goal\n",
    "\n",
    "This notebooks shows how to execute queries and stored procedures using `PIVOT/utils/sql_utils/`."
   ]
  },
  {
   "cell_type": "markdown",
   "id": "ab1cbdc0",
   "metadata": {},
   "source": [
    "## 0. Set Up\n",
    "---\n",
    "To begin, we'll need to import all necessary modules. This should come installed with the virtual environment provided by [`environment.yml`](../environment.yml).\n",
    "\n",
    "If not, please install the modules with the following commands:\n",
    "\n",
    "```bash\n",
    "pip install <module_name>\n",
    "```\n",
    "\n",
    "or \n",
    "\n",
    "```bash\n",
    "conda install <module_name>\n",
    "```\n",
    "\n",
    "Note that we have a major dependencies on `pymssql`, which is a Python wrapper for SQL integration. More detailts can be found [here](https://pymssql.readthedocs.io/en/stable/index.html). Another option is the newer [PYODBC](https://learn.microsoft.com/en-us/sql/connect/python/pyodbc/python-sql-driver-pyodbc?view=sql-server-ver16), however, we picked PYMSSQL because it doesn't required additional installations of system-specific drivers. However, PYMSSQL is now maintained by a volunteer network of developers. So, bugs may take longer to be resolved.\n",
    "\n",
    "Additionally, you must have the correct authentication keys for Azure SQL in `./PIVOT/config/config.yaml`!\n",
    "\n",
    "You can ignore the safely ignore the warning `WARNING streamlit.runtime.caching.cache_data_api: No runtime found, using MemoryCacheStorageManager` as this is something only for when Streamlit is running.\n"
   ]
  },
  {
   "cell_type": "code",
   "execution_count": 2,
   "id": "b7e3bb5d",
   "metadata": {},
   "outputs": [
    {
     "name": "stderr",
     "output_type": "stream",
     "text": [
      "2024-03-13 12:29:51.341 WARNING streamlit.runtime.caching.cache_data_api: No runtime found, using MemoryCacheStorageManager\n",
      "2024-03-13 12:29:51.344 WARNING streamlit.runtime.caching.cache_data_api: No runtime found, using MemoryCacheStorageManager\n"
     ]
    },
    {
     "data": {
      "text/plain": [
       "<module 'utils.sql_utils' from 'C:\\\\Users\\\\ysman\\\\Desktop\\\\Capstone\\\\PIVOT\\\\notebooks\\\\../PIVOT\\\\utils\\\\sql_utils.py'>"
      ]
     },
     "execution_count": 2,
     "metadata": {},
     "output_type": "execute_result"
    }
   ],
   "source": [
    "import sys\n",
    "# import sql_utils from the PIVOT app\n",
    "sys.path.append('../PIVOT/')\n",
    "import utils.sql_utils as sq\n",
    "from importlib import reload\n",
    "reload(sq)"
   ]
  },
  {
   "cell_type": "markdown",
   "id": "05d1396a",
   "metadata": {},
   "source": [
    "## 1. Example Commands"
   ]
  },
  {
   "cell_type": "markdown",
   "id": "6ba1f221",
   "metadata": {},
   "source": [
    "To start, we can run any given SQL query with the `sq.run_sql_query()`. \n",
    "\n",
    "NOTE: If no queries have been run in the past 24 hours, the Azure SQL might become dormant and take a while to load. If this is the case, then any query will output the error:\n",
    "\n",
    "```\n",
    "OperationalError: (40613, b'DB-Lib error message 20018, severity 20:\\nGeneral SQL Server error: Check messages from the SQL Server\\nDB-Lib error message 20002, severity 9:\\nAdaptive Server connection failed (capstoneservercjault.database.windows.net)\\nDB-Lib error message 20002, severity 9:\\nAdaptive Server connection failed (capstoneservercjault.database.windows.net)\\n')\n",
    "```\n",
    "\n",
    "If you encounter this, **please rerun the command after waiting 30 seconds** until the system turns on. As such, it is recommended that before doing any complex queries, please run a simple query such as the following to check whether the system is active."
   ]
  },
  {
   "cell_type": "markdown",
   "id": "a1397859",
   "metadata": {},
   "source": [
    "The following command find the count of all labels so far."
   ]
  },
  {
   "cell_type": "code",
   "execution_count": 6,
   "id": "b1291185",
   "metadata": {},
   "outputs": [
    {
     "data": {
      "text/html": [
       "<div>\n",
       "<style scoped>\n",
       "    .dataframe tbody tr th:only-of-type {\n",
       "        vertical-align: middle;\n",
       "    }\n",
       "\n",
       "    .dataframe tbody tr th {\n",
       "        vertical-align: top;\n",
       "    }\n",
       "\n",
       "    .dataframe thead th {\n",
       "        text-align: right;\n",
       "    }\n",
       "</style>\n",
       "<table border=\"1\" class=\"dataframe\">\n",
       "  <thead>\n",
       "    <tr style=\"text-align: right;\">\n",
       "      <th></th>\n",
       "      <th></th>\n",
       "    </tr>\n",
       "  </thead>\n",
       "  <tbody>\n",
       "    <tr>\n",
       "      <th>0</th>\n",
       "      <td>399998</td>\n",
       "    </tr>\n",
       "  </tbody>\n",
       "</table>\n",
       "</div>"
      ],
      "text/plain": [
       "         \n",
       "0  399998"
      ]
     },
     "execution_count": 6,
     "metadata": {},
     "output_type": "execute_result"
    }
   ],
   "source": [
    "sq.run_sql_query(\"Select count(*) from Labels;\")"
   ]
  },
  {
   "cell_type": "markdown",
   "id": "6274cc48",
   "metadata": {},
   "source": [
    "This next query shows how to gather table metadata for the `Predictions` table."
   ]
  },
  {
   "cell_type": "code",
   "execution_count": 8,
   "id": "f730d1c5",
   "metadata": {},
   "outputs": [
    {
     "data": {
      "text/html": [
       "<div>\n",
       "<style scoped>\n",
       "    .dataframe tbody tr th:only-of-type {\n",
       "        vertical-align: middle;\n",
       "    }\n",
       "\n",
       "    .dataframe tbody tr th {\n",
       "        vertical-align: top;\n",
       "    }\n",
       "\n",
       "    .dataframe thead th {\n",
       "        text-align: right;\n",
       "    }\n",
       "</style>\n",
       "<table border=\"1\" class=\"dataframe\">\n",
       "  <thead>\n",
       "    <tr style=\"text-align: right;\">\n",
       "      <th></th>\n",
       "      <th>COLUMN_NAME</th>\n",
       "      <th>DATA_TYPE</th>\n",
       "      <th>IS_NULLABLE</th>\n",
       "      <th>COLUMN_DEFAULT</th>\n",
       "    </tr>\n",
       "  </thead>\n",
       "  <tbody>\n",
       "    <tr>\n",
       "      <th>0</th>\n",
       "      <td>m_id</td>\n",
       "      <td>int</td>\n",
       "      <td>NO</td>\n",
       "      <td>None</td>\n",
       "    </tr>\n",
       "    <tr>\n",
       "      <th>1</th>\n",
       "      <td>i_id</td>\n",
       "      <td>int</td>\n",
       "      <td>NO</td>\n",
       "      <td>None</td>\n",
       "    </tr>\n",
       "    <tr>\n",
       "      <th>2</th>\n",
       "      <td>class_prob</td>\n",
       "      <td>varchar</td>\n",
       "      <td>YES</td>\n",
       "      <td>None</td>\n",
       "    </tr>\n",
       "    <tr>\n",
       "      <th>3</th>\n",
       "      <td>pred_label</td>\n",
       "      <td>varchar</td>\n",
       "      <td>YES</td>\n",
       "      <td>None</td>\n",
       "    </tr>\n",
       "  </tbody>\n",
       "</table>\n",
       "</div>"
      ],
      "text/plain": [
       "  COLUMN_NAME DATA_TYPE IS_NULLABLE COLUMN_DEFAULT\n",
       "0        m_id       int          NO           None\n",
       "1        i_id       int          NO           None\n",
       "2  class_prob   varchar         YES           None\n",
       "3  pred_label   varchar         YES           None"
      ]
     },
     "execution_count": 8,
     "metadata": {},
     "output_type": "execute_result"
    }
   ],
   "source": [
    "sq.run_sql_query(\n",
    "\"\"\"\n",
    "SELECT COLUMN_NAME, DATA_TYPE, IS_NULLABLE, COLUMN_DEFAULT\n",
    "FROM INFORMATION_SCHEMA.COLUMNS\n",
    "WHERE TABLE_NAME = 'predictions';\n",
    "\"\"\"\n",
    ")"
   ]
  },
  {
   "cell_type": "markdown",
   "id": "e1536a81",
   "metadata": {},
   "source": [
    "## 2. Stored Procedures\n",
    "---\n",
    "Stored procedures are precompiled SQL queries or statements that are stored in a database. They allow you to group one or more SQL statements into a single unit and execute them whenever needed by calling the procedure rather than rewriting the same SQL code multiple times.\n",
    "\n",
    "In our case, stored procedures offer several advantages:\n",
    "\n",
    "**Modularity**: They promote modular programming practices by encapsulating SQL code into reusable units.\n",
    "\n",
    "**Performance**: Since stored procedures are precompiled and stored in the database, they can enhance performance by reducing the overhead of parsing and compiling SQL statements each time they are executed.\n",
    "\n",
    "**Consistency and Maintainability**: They promote consistency in database operations by ensuring that the same logic is applied consistently across different applications. Additionally, if changes are needed, you only need to modify the stored procedure rather than updating the SQL code in multiple places.\n",
    "\n",
    "**Security**: Stored procedures can help improve security by controlling access to data through a well-defined interface. Users can be granted permissions to execute stored procedures without giving them direct access to underlying tables. Note, we HAVE NOT set up this functionality but it is something to look into.\n",
    "\n",
    "**Reduced Network Traffic**: By executing complex operations on the database server, stored procedures can reduce the amount of data transferred between the database server and client applications, thereby minimizing network traffic.\n"
   ]
  },
  {
   "cell_type": "markdown",
   "id": "7a266c07",
   "metadata": {},
   "source": [
    "To get a list of all stored procedures in the system, please run the following query:"
   ]
  },
  {
   "cell_type": "code",
   "execution_count": 13,
   "id": "f1ffb838",
   "metadata": {},
   "outputs": [
    {
     "data": {
      "text/html": [
       "<div>\n",
       "<style scoped>\n",
       "    .dataframe tbody tr th:only-of-type {\n",
       "        vertical-align: middle;\n",
       "    }\n",
       "\n",
       "    .dataframe tbody tr th {\n",
       "        vertical-align: top;\n",
       "    }\n",
       "\n",
       "    .dataframe thead th {\n",
       "        text-align: right;\n",
       "    }\n",
       "</style>\n",
       "<table border=\"1\" class=\"dataframe\">\n",
       "  <thead>\n",
       "    <tr style=\"text-align: right;\">\n",
       "      <th></th>\n",
       "      <th>ProcedureName</th>\n",
       "      <th>CreateDate</th>\n",
       "      <th>ModifyDate</th>\n",
       "    </tr>\n",
       "  </thead>\n",
       "  <tbody>\n",
       "    <tr>\n",
       "      <th>0</th>\n",
       "      <td>AL_RANKINGS</td>\n",
       "      <td>2024-01-28 03:51:35.657</td>\n",
       "      <td>2024-02-28 03:44:22.757</td>\n",
       "    </tr>\n",
       "    <tr>\n",
       "      <th>1</th>\n",
       "      <td>GENERATE_RANDOM_TEST_SET</td>\n",
       "      <td>2024-01-28 09:49:52.003</td>\n",
       "      <td>2024-02-05 09:17:59.247</td>\n",
       "    </tr>\n",
       "    <tr>\n",
       "      <th>2</th>\n",
       "      <td>MODEL_EVALUATION_MAX_CONSENSUS_FILTERING</td>\n",
       "      <td>2024-01-28 10:40:44.150</td>\n",
       "      <td>2024-02-28 03:47:02.803</td>\n",
       "    </tr>\n",
       "    <tr>\n",
       "      <th>3</th>\n",
       "      <td>MODEL_EVALUATION_NON_TEST</td>\n",
       "      <td>2024-01-28 18:34:04.107</td>\n",
       "      <td>2024-01-28 18:34:04.107</td>\n",
       "    </tr>\n",
       "    <tr>\n",
       "      <th>4</th>\n",
       "      <td>AL_TRAIN_SET</td>\n",
       "      <td>2024-01-29 02:09:27.330</td>\n",
       "      <td>2024-01-29 02:09:27.330</td>\n",
       "    </tr>\n",
       "    <tr>\n",
       "      <th>5</th>\n",
       "      <td>GENERATE_IMAGES_TO_PREDICT</td>\n",
       "      <td>2024-02-06 00:30:00.193</td>\n",
       "      <td>2024-02-06 00:30:00.193</td>\n",
       "    </tr>\n",
       "    <tr>\n",
       "      <th>6</th>\n",
       "      <td>GENERATE_IMAGES_TO_METRIZE</td>\n",
       "      <td>2024-02-06 00:30:25.440</td>\n",
       "      <td>2024-02-06 00:30:25.440</td>\n",
       "    </tr>\n",
       "  </tbody>\n",
       "</table>\n",
       "</div>"
      ],
      "text/plain": [
       "                              ProcedureName              CreateDate  \\\n",
       "0                               AL_RANKINGS 2024-01-28 03:51:35.657   \n",
       "1                  GENERATE_RANDOM_TEST_SET 2024-01-28 09:49:52.003   \n",
       "2  MODEL_EVALUATION_MAX_CONSENSUS_FILTERING 2024-01-28 10:40:44.150   \n",
       "3                 MODEL_EVALUATION_NON_TEST 2024-01-28 18:34:04.107   \n",
       "4                              AL_TRAIN_SET 2024-01-29 02:09:27.330   \n",
       "5                GENERATE_IMAGES_TO_PREDICT 2024-02-06 00:30:00.193   \n",
       "6                GENERATE_IMAGES_TO_METRIZE 2024-02-06 00:30:25.440   \n",
       "\n",
       "               ModifyDate  \n",
       "0 2024-02-28 03:44:22.757  \n",
       "1 2024-02-05 09:17:59.247  \n",
       "2 2024-02-28 03:47:02.803  \n",
       "3 2024-01-28 18:34:04.107  \n",
       "4 2024-01-29 02:09:27.330  \n",
       "5 2024-02-06 00:30:00.193  \n",
       "6 2024-02-06 00:30:25.440  "
      ]
     },
     "execution_count": 13,
     "metadata": {},
     "output_type": "execute_result"
    }
   ],
   "source": [
    "check_procedures = \"\"\"\n",
    "    SELECT \n",
    "        name AS 'ProcedureName',\n",
    "        create_date AS 'CreateDate',\n",
    "        modify_date AS 'ModifyDate'\n",
    "    FROM \n",
    "        sys.procedures;\n",
    "\"\"\"\n",
    "sq.run_sql_query(check_procedures)"
   ]
  },
  {
   "cell_type": "markdown",
   "id": "38ff3bc9",
   "metadata": {},
   "source": [
    "We've wrote several stored procedures in `../PIVOT/utils/stored_procedures`. Specifically:\n",
    "\n",
    "* `AL_RANKINGS`: Stored at [Labeling_Ranking.sql](../PIVOT/utils/stored_procedures/Labeling_Ranking.sql), this stored procedure returns sets of image metadata for either evaluation or retraining purpose using random sample or a known, precomputed active learning (AL) method. \n",
    "\n",
    "* `MODEL_EVALUATION_NON_TEST`: Stored at [Model_Evaluation_NonTest.sql](../PIVOT/utils/stored_procedures/Model_Evaluation_NonTest.sql), this returns the image metadata for all non-test image data.\n",
    "\n",
    "* `MODEL_EVALUATION_MAX_CONSENSUS_FILTERING`: Stored at [Model_Evaluation_Filtering.sql](../PIVOT/utils/stored_procedures/Model_Evaluation_Filtering.sql), this returns the image metadata for all test image data.\n",
    "\n",
    "* `AL_TRAIN_SET`: Stored at [Model_Training.sql](../PIVOT/utils/stored_procedures/Model_Training.sql), this returns all the image metadata for images to use for training.\n",
    "\n",
    "* `GENERATE_RANDOM_TEST_SET`: Stored at [Generate_Random_Test_Set.sql](../PIVOT/utils/stored_procedures/Generate_Random_Test_Set.sql), called only once, this generate an initial set of test data from the 5M images in BLOB.\n",
    "\n",
    "* `GENERATE_IMAGES_TO_PREDICT`: Stored at [Images_To_Predict.sql](../PIVOT/utils/stored_procedures/Images_To_Predict.sql), this generates image metadata for images that are in the `Images` table but haven't had model predictions.\n",
    "\n",
    "* `GENERATE_IMAGES_TO_METRIZE`: Stored at [Images_To_Metrize.sql](../PIVOT/utils/stored_procedures/Images_To_Metrize.sql), this generate image metadata for images that haven't had AL metrics like entropy calculated for them.\n"
   ]
  },
  {
   "cell_type": "markdown",
   "id": "1f011a76",
   "metadata": {},
   "source": [
    "Note that a majority of these stored procedures have prebuilt wrapper functions that take in a set # of arguments and should only be called in that manner. For example, getting the images to label should be called with the `get_label_rank_df()` function, which internally calls the `AL_RANKINGS` stored procedure (SP).\n",
    "Additionally:\n",
    "* `get_images_to_metrize()` get new images for metric calculation based on model and dissimilarity ID and calls the `GENERATE_IMAGES_TO_METRIZE` stored prodecure.\n",
    "* `get_images_to_predict()` get new images for model predictions based on model ID and calls the `GENERATE_IMAGES_TO_PREDICT` stored procedure.\n",
    "* `generate_random_evaluation_set()` generate a random evaluation set for model testing and calls the `GENERATE_RANDOM_TEST_SET` stored procedure.\n",
    "* `get_test_set_df()` get labeled test data and predictions for model evaluation and calls the `MODEL_EVALUATION_MAX_CONSENSUS_FILTERING` stored procedure.\n",
    "* `get_train_df()`: Get a DataFrame for model training based on model, dissimilarity ID, and class labels and calls the `AL_TRAIN_SET` stored procedure."
   ]
  },
  {
   "cell_type": "code",
   "execution_count": 14,
   "id": "a9080025",
   "metadata": {},
   "outputs": [],
   "source": [
    "df = sq.get_label_rank_df(model_id=1,dissimilarity_id=1,batch_size=5,)"
   ]
  },
  {
   "cell_type": "code",
   "execution_count": 15,
   "id": "f6d723af",
   "metadata": {},
   "outputs": [
    {
     "data": {
      "text/html": [
       "<div>\n",
       "<style scoped>\n",
       "    .dataframe tbody tr th:only-of-type {\n",
       "        vertical-align: middle;\n",
       "    }\n",
       "\n",
       "    .dataframe tbody tr th {\n",
       "        vertical-align: top;\n",
       "    }\n",
       "\n",
       "    .dataframe thead th {\n",
       "        text-align: right;\n",
       "    }\n",
       "</style>\n",
       "<table border=\"1\" class=\"dataframe\">\n",
       "  <thead>\n",
       "    <tr style=\"text-align: right;\">\n",
       "      <th></th>\n",
       "      <th>IMAGE_ID</th>\n",
       "      <th>BLOB_FILEPATH</th>\n",
       "      <th>UNCERTAINTY</th>\n",
       "      <th>PRED_LABEL</th>\n",
       "      <th>PROBS</th>\n",
       "      <th>RANK_SCORE</th>\n",
       "    </tr>\n",
       "  </thead>\n",
       "  <tbody>\n",
       "    <tr>\n",
       "      <th>0</th>\n",
       "      <td>1301298</td>\n",
       "      <td>NAAMES_ml/D20160602T164019_IFCB107/IFCB107D201...</td>\n",
       "      <td>2.067445</td>\n",
       "      <td>Other</td>\n",
       "      <td>{'Chloro': 0.016140414, 'Cilliate': 0.00167912...</td>\n",
       "      <td>2.067445</td>\n",
       "    </tr>\n",
       "    <tr>\n",
       "      <th>1</th>\n",
       "      <td>638839</td>\n",
       "      <td>NAAMES_ml/D20170829T221958_IFCB107/IFCB107D201...</td>\n",
       "      <td>1.952166</td>\n",
       "      <td>Crypto</td>\n",
       "      <td>{'Chloro': 0.051081363, 'Cilliate': 0.00090885...</td>\n",
       "      <td>1.952166</td>\n",
       "    </tr>\n",
       "    <tr>\n",
       "      <th>2</th>\n",
       "      <td>1073933</td>\n",
       "      <td>NAAMES_ml/D20170920T174345_IFCB107/IFCB107D201...</td>\n",
       "      <td>1.918797</td>\n",
       "      <td>Cilliate</td>\n",
       "      <td>{'Chloro': 0.22434974, 'Cilliate': 0.2447636, ...</td>\n",
       "      <td>1.918797</td>\n",
       "    </tr>\n",
       "    <tr>\n",
       "      <th>0</th>\n",
       "      <td>400252</td>\n",
       "      <td>NAAMES_ml/D20160524T225721_IFCB107/IFCB107D201...</td>\n",
       "      <td>1.000000</td>\n",
       "      <td>Unidentifiable</td>\n",
       "      <td>{'Chloro': 0.0001842739, 'Cilliate': 3.9586052...</td>\n",
       "      <td>1.000000</td>\n",
       "    </tr>\n",
       "    <tr>\n",
       "      <th>1</th>\n",
       "      <td>400268</td>\n",
       "      <td>NAAMES_ml/D20160524T225721_IFCB107/IFCB107D201...</td>\n",
       "      <td>1.000000</td>\n",
       "      <td>Other</td>\n",
       "      <td>{'Chloro': 0.024367146, 'Cilliate': 4.281957e-...</td>\n",
       "      <td>1.000000</td>\n",
       "    </tr>\n",
       "  </tbody>\n",
       "</table>\n",
       "</div>"
      ],
      "text/plain": [
       "   IMAGE_ID                                      BLOB_FILEPATH  UNCERTAINTY  \\\n",
       "0   1301298  NAAMES_ml/D20160602T164019_IFCB107/IFCB107D201...     2.067445   \n",
       "1    638839  NAAMES_ml/D20170829T221958_IFCB107/IFCB107D201...     1.952166   \n",
       "2   1073933  NAAMES_ml/D20170920T174345_IFCB107/IFCB107D201...     1.918797   \n",
       "0    400252  NAAMES_ml/D20160524T225721_IFCB107/IFCB107D201...     1.000000   \n",
       "1    400268  NAAMES_ml/D20160524T225721_IFCB107/IFCB107D201...     1.000000   \n",
       "\n",
       "       PRED_LABEL                                              PROBS  \\\n",
       "0           Other  {'Chloro': 0.016140414, 'Cilliate': 0.00167912...   \n",
       "1          Crypto  {'Chloro': 0.051081363, 'Cilliate': 0.00090885...   \n",
       "2        Cilliate  {'Chloro': 0.22434974, 'Cilliate': 0.2447636, ...   \n",
       "0  Unidentifiable  {'Chloro': 0.0001842739, 'Cilliate': 3.9586052...   \n",
       "1           Other  {'Chloro': 0.024367146, 'Cilliate': 4.281957e-...   \n",
       "\n",
       "   RANK_SCORE  \n",
       "0    2.067445  \n",
       "1    1.952166  \n",
       "2    1.918797  \n",
       "0    1.000000  \n",
       "1    1.000000  "
      ]
     },
     "execution_count": 15,
     "metadata": {},
     "output_type": "execute_result"
    }
   ],
   "source": [
    "df.head()"
   ]
  },
  {
   "cell_type": "code",
   "execution_count": 6,
   "id": "31e190d8",
   "metadata": {},
   "outputs": [
    {
     "data": {
      "text/html": [
       "<div>\n",
       "<style scoped>\n",
       "    .dataframe tbody tr th:only-of-type {\n",
       "        vertical-align: middle;\n",
       "    }\n",
       "\n",
       "    .dataframe tbody tr th {\n",
       "        vertical-align: top;\n",
       "    }\n",
       "\n",
       "    .dataframe thead th {\n",
       "        text-align: right;\n",
       "    }\n",
       "</style>\n",
       "<table border=\"1\" class=\"dataframe\">\n",
       "  <thead>\n",
       "    <tr style=\"text-align: right;\">\n",
       "      <th></th>\n",
       "      <th>IMAGE_ID</th>\n",
       "      <th>PRED_LABEL</th>\n",
       "      <th>CONSENSUS</th>\n",
       "    </tr>\n",
       "  </thead>\n",
       "  <tbody>\n",
       "    <tr>\n",
       "      <th>0</th>\n",
       "      <td>3</td>\n",
       "      <td>Confirmed Label A</td>\n",
       "      <td>Confirmed Label A</td>\n",
       "    </tr>\n",
       "  </tbody>\n",
       "</table>\n",
       "</div>"
      ],
      "text/plain": [
       "   IMAGE_ID         PRED_LABEL          CONSENSUS\n",
       "0         3  Confirmed Label A  Confirmed Label A"
      ]
     },
     "execution_count": 6,
     "metadata": {},
     "output_type": "execute_result"
    }
   ],
   "source": [
    "sq.get_test_set_df(model_id=1, minimum_percent=0.0, sp_name='MODEL_EVALUATION_NON_TEST')"
   ]
  },
  {
   "cell_type": "markdown",
   "id": "472779c7",
   "metadata": {},
   "source": [
    "If you need to update any stored procedures, please modify the source file and run the following command: `create_alter_stored_procedure()`."
   ]
  },
  {
   "cell_type": "code",
   "execution_count": 18,
   "id": "625cb4e2",
   "metadata": {},
   "outputs": [
    {
     "name": "stdout",
     "output_type": "stream",
     "text": [
      "Using preset file to create procedure AL_TRAIN_SET: C:\\Users\\ysman\\Desktop\\Capstone\\PIVOT\\PIVOT\\utils\\stored_procedures\\Model_Training.sql\n"
     ]
    }
   ],
   "source": [
    "sq.create_alter_stored_procedure('AL_TRAIN_SET')"
   ]
  },
  {
   "cell_type": "markdown",
   "id": "da42125c",
   "metadata": {},
   "source": [
    "If you need to add a new stored procedure, please save the file in `../PIVOT/utils/stored_procedures/` and update the relevant file paths and argument types inside the `../PIVOT/utils/sql_constants.py`."
   ]
  },
  {
   "cell_type": "markdown",
   "id": "517197a8",
   "metadata": {},
   "source": [
    "### NOTE: Do not delete any records from the labels using `run_sql_query`. Instead, use the `delete_labels_cleanup()` function.\n",
    "\n",
    "This is because each time the a new label is inserted, the corresponding metric is decayed by a set constant. So, if the label is removed, it needs to revert the metric to the point prior to insertion."
   ]
  },
  {
   "cell_type": "code",
   "execution_count": null,
   "id": "5d8a5ee9",
   "metadata": {},
   "outputs": [],
   "source": []
  }
 ],
 "metadata": {
  "kernelspec": {
   "display_name": "pivot-modAL",
   "language": "python",
   "name": "pivot-modal"
  },
  "language_info": {
   "codemirror_mode": {
    "name": "ipython",
    "version": 3
   },
   "file_extension": ".py",
   "mimetype": "text/x-python",
   "name": "python",
   "nbconvert_exporter": "python",
   "pygments_lexer": "ipython3",
   "version": "3.10.13"
  }
 },
 "nbformat": 4,
 "nbformat_minor": 5
}
