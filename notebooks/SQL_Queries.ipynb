{
 "cells": [
  {
   "cell_type": "code",
   "execution_count": 2,
   "id": "f434f980",
   "metadata": {},
   "outputs": [],
   "source": [
    "import pymssql\n",
    "import pandas\n",
    "import yaml\n",
    "\n",
    "import sys\n",
    "from pathlib import Path\n",
    "sys.path.append('C:\\\\Users\\\\ysman\\\\Desktop\\\\Capstone\\\\PIVOT\\\\PIVOT')\n"
   ]
  },
  {
   "cell_type": "code",
   "execution_count": 18,
   "id": "62af07e2",
   "metadata": {},
   "outputs": [],
   "source": [
    "import utils"
   ]
  },
  {
   "cell_type": "code",
   "execution_count": 22,
   "id": "56bdc884",
   "metadata": {},
   "outputs": [],
   "source": [
    "from importlib import reload"
   ]
  },
  {
   "cell_type": "code",
   "execution_count": 3,
   "id": "702bef17",
   "metadata": {},
   "outputs": [],
   "source": [
    "import utils.sql_utils as sq"
   ]
  },
  {
   "cell_type": "code",
   "execution_count": 9,
   "id": "7daed67f",
   "metadata": {},
   "outputs": [],
   "source": [
    "sys.path.append(parent_dir)"
   ]
  },
  {
   "cell_type": "code",
   "execution_count": 4,
   "id": "1132fc1d",
   "metadata": {},
   "outputs": [],
   "source": [
    "%load_ext autoreload\n",
    "%autoreload 2"
   ]
  },
  {
   "cell_type": "code",
   "execution_count": 11,
   "id": "424cb082",
   "metadata": {},
   "outputs": [],
   "source": [
    "from importlib import reload"
   ]
  },
  {
   "cell_type": "code",
   "execution_count": 89,
   "id": "5a4ce5bd",
   "metadata": {},
   "outputs": [
    {
     "data": {
      "text/plain": [
       "<module 'sql_constants' from 'C:\\\\Users\\\\ysman\\\\Desktop\\\\Capstone\\\\PIVOT\\\\sql_constants.py'>"
      ]
     },
     "execution_count": 89,
     "metadata": {},
     "output_type": "execute_result"
    }
   ],
   "source": [
    "import sql_utils, sql_constants\n",
    "reload(sql_utils)\n",
    "reload(sql_constants)"
   ]
  },
  {
   "cell_type": "code",
   "execution_count": 78,
   "id": "a9080025",
   "metadata": {},
   "outputs": [],
   "source": [
    "df = sql_utils.get_label_rank_df(model_id=1,dissimilarity_id=1,batch_size=5,)"
   ]
  },
  {
   "cell_type": "code",
   "execution_count": 6,
   "id": "31e190d8",
   "metadata": {},
   "outputs": [
    {
     "data": {
      "text/html": [
       "<div>\n",
       "<style scoped>\n",
       "    .dataframe tbody tr th:only-of-type {\n",
       "        vertical-align: middle;\n",
       "    }\n",
       "\n",
       "    .dataframe tbody tr th {\n",
       "        vertical-align: top;\n",
       "    }\n",
       "\n",
       "    .dataframe thead th {\n",
       "        text-align: right;\n",
       "    }\n",
       "</style>\n",
       "<table border=\"1\" class=\"dataframe\">\n",
       "  <thead>\n",
       "    <tr style=\"text-align: right;\">\n",
       "      <th></th>\n",
       "      <th>IMAGE_ID</th>\n",
       "      <th>PRED_LABEL</th>\n",
       "      <th>CONSENSUS</th>\n",
       "    </tr>\n",
       "  </thead>\n",
       "  <tbody>\n",
       "    <tr>\n",
       "      <th>0</th>\n",
       "      <td>3</td>\n",
       "      <td>Confirmed Label A</td>\n",
       "      <td>Confirmed Label A</td>\n",
       "    </tr>\n",
       "  </tbody>\n",
       "</table>\n",
       "</div>"
      ],
      "text/plain": [
       "   IMAGE_ID         PRED_LABEL          CONSENSUS\n",
       "0         3  Confirmed Label A  Confirmed Label A"
      ]
     },
     "execution_count": 6,
     "metadata": {},
     "output_type": "execute_result"
    }
   ],
   "source": [
    "sq.get_test_set_df(model_id=1,minimum_percent=0.0, sp_name='MODEL_EVALUATION_NON_TEST')"
   ]
  },
  {
   "cell_type": "code",
   "execution_count": null,
   "id": "3b6495b6",
   "metadata": {},
   "outputs": [],
   "source": [
    "sql_utils.get_test_set_df(model_id=1,minimum_percent=0.0)"
   ]
  },
  {
   "cell_type": "code",
   "execution_count": 102,
   "id": "faa7cbfa",
   "metadata": {},
   "outputs": [
    {
     "ename": "IntegrityError",
     "evalue": "(547, b'The INSERT statement conflicted with the FOREIGN KEY constraint \"FK__labels__i_id__123EB7A3\". The conflict occurred in database \"capstoneazure\", table \"dbo.images\", column \\'i_id\\'.DB-Lib error message 20018, severity 16:\\nGeneral SQL Server error: Check messages from the SQL Server\\n')",
     "output_type": "error",
     "traceback": [
      "\u001b[1;31m---------------------------------------------------------------------------\u001b[0m",
      "\u001b[1;31mMSSQLDatabaseException\u001b[0m                    Traceback (most recent call last)",
      "File \u001b[1;32msrc\\\\pymssql\\\\_pymssql.pyx:459\u001b[0m, in \u001b[0;36mpymssql._pymssql.Cursor.execute\u001b[1;34m()\u001b[0m\n",
      "File \u001b[1;32msrc\\\\pymssql\\\\_mssql.pyx:1113\u001b[0m, in \u001b[0;36mpymssql._mssql.MSSQLConnection.execute_query\u001b[1;34m()\u001b[0m\n",
      "File \u001b[1;32msrc\\\\pymssql\\\\_mssql.pyx:1144\u001b[0m, in \u001b[0;36mpymssql._mssql.MSSQLConnection.execute_query\u001b[1;34m()\u001b[0m\n",
      "File \u001b[1;32msrc\\\\pymssql\\\\_mssql.pyx:1277\u001b[0m, in \u001b[0;36mpymssql._mssql.MSSQLConnection.format_and_run_query\u001b[1;34m()\u001b[0m\n",
      "File \u001b[1;32msrc\\\\pymssql\\\\_mssql.pyx:1815\u001b[0m, in \u001b[0;36mpymssql._mssql.check_cancel_and_raise\u001b[1;34m()\u001b[0m\n",
      "File \u001b[1;32msrc\\\\pymssql\\\\_mssql.pyx:1861\u001b[0m, in \u001b[0;36mpymssql._mssql.raise_MSSQLDatabaseException\u001b[1;34m()\u001b[0m\n",
      "\u001b[1;31mMSSQLDatabaseException\u001b[0m: (547, b'The INSERT statement conflicted with the FOREIGN KEY constraint \"FK__labels__i_id__123EB7A3\". The conflict occurred in database \"capstoneazure\", table \"dbo.images\", column \\'i_id\\'.DB-Lib error message 20018, severity 16:\\nGeneral SQL Server error: Check messages from the SQL Server\\n')",
      "\nDuring handling of the above exception, another exception occurred:\n",
      "\u001b[1;31mIntegrityError\u001b[0m                            Traceback (most recent call last)",
      "Cell \u001b[1;32mIn[102], line 1\u001b[0m\n\u001b[1;32m----> 1\u001b[0m \u001b[43msql_utils\u001b[49m\u001b[38;5;241;43m.\u001b[39;49m\u001b[43mrun_sql_query\u001b[49m\u001b[43m(\u001b[49m\n\u001b[0;32m      2\u001b[0m \u001b[38;5;250;43m    \u001b[39;49m\u001b[38;5;124;43;03m\"\"\"\u001b[39;49;00m\n\u001b[0;32m      3\u001b[0m \u001b[38;5;124;43;03m    Insert into labels (i_id, u_id, weight, date, label)\u001b[39;49;00m\n\u001b[0;32m      4\u001b[0m \u001b[38;5;124;43;03m    Values (4,2, 1, '2024-01-27 12:00:00', 'Confirmed Label A' );\u001b[39;49;00m\n\u001b[0;32m      5\u001b[0m \u001b[38;5;124;43;03m    \"\"\"\u001b[39;49;00m\u001b[43m)\u001b[49m\n",
      "File \u001b[1;32m~\\Desktop\\Capstone\\PIVOT\\sql_utils.py:390\u001b[0m, in \u001b[0;36mrun_sql_query\u001b[1;34m(query, server_args)\u001b[0m\n\u001b[0;32m    386\u001b[0m \u001b[38;5;28;01mwith\u001b[39;00m pymssql\u001b[38;5;241m.\u001b[39mconnect(server, user, password, database) \u001b[38;5;28;01mas\u001b[39;00m conn:\n\u001b[0;32m    387\u001b[0m     \u001b[38;5;66;03m# Create a cursor\u001b[39;00m\n\u001b[0;32m    388\u001b[0m     \u001b[38;5;28;01mwith\u001b[39;00m conn\u001b[38;5;241m.\u001b[39mcursor() \u001b[38;5;28;01mas\u001b[39;00m cursor:\n\u001b[0;32m    389\u001b[0m         \u001b[38;5;66;03m# Execute the stored procedure using the content of the SQL script\u001b[39;00m\n\u001b[1;32m--> 390\u001b[0m         \u001b[43mcursor\u001b[49m\u001b[38;5;241;43m.\u001b[39;49m\u001b[43mexecute\u001b[49m\u001b[43m(\u001b[49m\u001b[43mquery\u001b[49m\u001b[43m)\u001b[49m\n\u001b[0;32m    391\u001b[0m         \u001b[38;5;66;03m# Fetch the results\u001b[39;00m\n\u001b[0;32m    392\u001b[0m         \u001b[38;5;28;01mtry\u001b[39;00m:\n",
      "File \u001b[1;32msrc\\\\pymssql\\\\_pymssql.pyx:478\u001b[0m, in \u001b[0;36mpymssql._pymssql.Cursor.execute\u001b[1;34m()\u001b[0m\n",
      "\u001b[1;31mIntegrityError\u001b[0m: (547, b'The INSERT statement conflicted with the FOREIGN KEY constraint \"FK__labels__i_id__123EB7A3\". The conflict occurred in database \"capstoneazure\", table \"dbo.images\", column \\'i_id\\'.DB-Lib error message 20018, severity 16:\\nGeneral SQL Server error: Check messages from the SQL Server\\n')"
     ]
    }
   ],
   "source": [
    "sql_utils.run_sql_query(\n",
    "    \"\"\"\n",
    "    Insert into labels (i_id, u_id, weight, date, label)\n",
    "    Values (3,2, 1, '2024-01-27 12:00:00', 'Confirmed Label A' );\n",
    "    \"\"\")"
   ]
  },
  {
   "cell_type": "code",
   "execution_count": 79,
   "id": "2820490f",
   "metadata": {},
   "outputs": [
    {
     "data": {
      "text/html": [
       "<div>\n",
       "<style scoped>\n",
       "    .dataframe tbody tr th:only-of-type {\n",
       "        vertical-align: middle;\n",
       "    }\n",
       "\n",
       "    .dataframe tbody tr th {\n",
       "        vertical-align: top;\n",
       "    }\n",
       "\n",
       "    .dataframe thead th {\n",
       "        text-align: right;\n",
       "    }\n",
       "</style>\n",
       "<table border=\"1\" class=\"dataframe\">\n",
       "  <thead>\n",
       "    <tr style=\"text-align: right;\">\n",
       "      <th></th>\n",
       "      <th>IMAGE_ID</th>\n",
       "      <th>BLOB_FILEPATH</th>\n",
       "      <th>UNCERTAINTY</th>\n",
       "      <th>PRED_LABEL</th>\n",
       "      <th>PROBS</th>\n",
       "      <th>RANK_SCORE</th>\n",
       "    </tr>\n",
       "  </thead>\n",
       "  <tbody>\n",
       "    <tr>\n",
       "      <th>0</th>\n",
       "      <td>2</td>\n",
       "      <td>path/to/image2.jpg</td>\n",
       "      <td>0.6</td>\n",
       "      <td>Label B</td>\n",
       "      <td>0.8</td>\n",
       "      <td>0.455288</td>\n",
       "    </tr>\n",
       "    <tr>\n",
       "      <th>1</th>\n",
       "      <td>1</td>\n",
       "      <td>path/to/image1.jpg</td>\n",
       "      <td>0.5</td>\n",
       "      <td>Label A</td>\n",
       "      <td>0.9</td>\n",
       "      <td>0.435549</td>\n",
       "    </tr>\n",
       "    <tr>\n",
       "      <th>0</th>\n",
       "      <td>1</td>\n",
       "      <td>path/to/image1.jpg</td>\n",
       "      <td>1.0</td>\n",
       "      <td>Label A</td>\n",
       "      <td>0.9</td>\n",
       "      <td>0.871099</td>\n",
       "    </tr>\n",
       "    <tr>\n",
       "      <th>1</th>\n",
       "      <td>2</td>\n",
       "      <td>path/to/image2.jpg</td>\n",
       "      <td>1.0</td>\n",
       "      <td>Label B</td>\n",
       "      <td>0.8</td>\n",
       "      <td>0.758813</td>\n",
       "    </tr>\n",
       "  </tbody>\n",
       "</table>\n",
       "</div>"
      ],
      "text/plain": [
       "   IMAGE_ID       BLOB_FILEPATH  UNCERTAINTY PRED_LABEL PROBS  RANK_SCORE\n",
       "0         2  path/to/image2.jpg          0.6    Label B   0.8    0.455288\n",
       "1         1  path/to/image1.jpg          0.5    Label A   0.9    0.435549\n",
       "0         1  path/to/image1.jpg          1.0    Label A   0.9    0.871099\n",
       "1         2  path/to/image2.jpg          1.0    Label B   0.8    0.758813"
      ]
     },
     "execution_count": 79,
     "metadata": {},
     "output_type": "execute_result"
    }
   ],
   "source": [
    "df"
   ]
  },
  {
   "cell_type": "code",
   "execution_count": 31,
   "id": "e0db8ee5",
   "metadata": {},
   "outputs": [
    {
     "ename": "KeyError",
     "evalue": "'server'",
     "output_type": "error",
     "traceback": [
      "\u001b[1;31m---------------------------------------------------------------------------\u001b[0m",
      "\u001b[1;31mKeyError\u001b[0m                                  Traceback (most recent call last)",
      "Cell \u001b[1;32mIn[31], line 1\u001b[0m\n\u001b[1;32m----> 1\u001b[0m \u001b[43msq\u001b[49m\u001b[38;5;241;43m.\u001b[39;49m\u001b[43mrun_sql_query\u001b[49m\u001b[43m(\u001b[49m\u001b[38;5;124;43m\"\u001b[39;49m\u001b[38;5;124;43mselect * from labels;\u001b[39;49m\u001b[38;5;124;43m\"\u001b[39;49m\u001b[43m)\u001b[49m\n",
      "File \u001b[1;32m~\\Desktop\\Capstone\\PIVOT\\PIVOT\\utils\\sql_utils.py:431\u001b[0m, in \u001b[0;36mrun_sql_query\u001b[1;34m(query, server_args)\u001b[0m\n\u001b[0;32m    415\u001b[0m \u001b[38;5;250m\u001b[39m\u001b[38;5;124;03m\"\"\"\u001b[39;00m\n\u001b[0;32m    416\u001b[0m \u001b[38;5;124;03mExecute a SQL query on a database and return the results as a Pandas DataFrame.\u001b[39;00m\n\u001b[0;32m    417\u001b[0m \n\u001b[1;32m   (...)\u001b[0m\n\u001b[0;32m    428\u001b[0m \u001b[38;5;124;03m    pymssql.Error: If there is an error during the execution of the SQL query.\u001b[39;00m\n\u001b[0;32m    429\u001b[0m \u001b[38;5;124;03m\"\"\"\u001b[39;00m\n\u001b[0;32m    430\u001b[0m \u001b[38;5;66;03m# Get authentication strings\u001b[39;00m\n\u001b[1;32m--> 431\u001b[0m server, database, user, password \u001b[38;5;241m=\u001b[39m \u001b[43mget_server_arguments\u001b[49m\u001b[43m(\u001b[49m\u001b[43mserver_args\u001b[49m\u001b[38;5;241;43m=\u001b[39;49m\u001b[43mserver_args\u001b[49m\u001b[43m)\u001b[49m\n\u001b[0;32m    432\u001b[0m results \u001b[38;5;241m=\u001b[39m \u001b[38;5;28;01mNone\u001b[39;00m\n\u001b[0;32m    433\u001b[0m \u001b[38;5;66;03m# Establish a connection to the database\u001b[39;00m\n",
      "File \u001b[1;32m~\\Desktop\\Capstone\\PIVOT\\PIVOT\\utils\\sql_utils.py:285\u001b[0m, in \u001b[0;36mget_server_arguments\u001b[1;34m(server_args)\u001b[0m\n\u001b[0;32m    274\u001b[0m \u001b[38;5;250m\u001b[39m\u001b[38;5;124;03m\"\"\"\u001b[39;00m\n\u001b[0;32m    275\u001b[0m \u001b[38;5;124;03mReturns the server arguments for a secure connection to Azure SQL via Pymssql.\u001b[39;00m\n\u001b[0;32m    276\u001b[0m \n\u001b[1;32m   (...)\u001b[0m\n\u001b[0;32m    282\u001b[0m \u001b[38;5;124;03m    Tuple: a tuple containing the strings for server, database, username, and password\u001b[39;00m\n\u001b[0;32m    283\u001b[0m \u001b[38;5;124;03m\"\"\"\u001b[39;00m\n\u001b[0;32m    284\u001b[0m \u001b[38;5;66;03m# if new parameters are passed, load from dict or use config file\u001b[39;00m\n\u001b[1;32m--> 285\u001b[0m server \u001b[38;5;241m=\u001b[39m server_args\u001b[38;5;241m.\u001b[39mget(\u001b[38;5;124m'\u001b[39m\u001b[38;5;124mserver\u001b[39m\u001b[38;5;124m'\u001b[39m, \u001b[43mCONFIG\u001b[49m\u001b[43m[\u001b[49m\u001b[38;5;124;43m'\u001b[39;49m\u001b[38;5;124;43mserver\u001b[39;49m\u001b[38;5;124;43m'\u001b[39;49m\u001b[43m]\u001b[49m)\n\u001b[0;32m    286\u001b[0m database \u001b[38;5;241m=\u001b[39m server_args\u001b[38;5;241m.\u001b[39mget(\u001b[38;5;124m'\u001b[39m\u001b[38;5;124mdatabase\u001b[39m\u001b[38;5;124m'\u001b[39m, CONFIG[\u001b[38;5;124m'\u001b[39m\u001b[38;5;124mdatabase\u001b[39m\u001b[38;5;124m'\u001b[39m])\n\u001b[0;32m    287\u001b[0m user \u001b[38;5;241m=\u001b[39m server_args\u001b[38;5;241m.\u001b[39mget(\u001b[38;5;124m'\u001b[39m\u001b[38;5;124musername\u001b[39m\u001b[38;5;124m'\u001b[39m, CONFIG[\u001b[38;5;124m'\u001b[39m\u001b[38;5;124mdb_user\u001b[39m\u001b[38;5;124m'\u001b[39m])\n",
      "\u001b[1;31mKeyError\u001b[0m: 'server'"
     ]
    }
   ],
   "source": [
    "sq.run_sql_query(\"select * from labels;\")"
   ]
  },
  {
   "cell_type": "code",
   "execution_count": 97,
   "id": "f730d1c5",
   "metadata": {},
   "outputs": [
    {
     "data": {
      "text/html": [
       "<div>\n",
       "<style scoped>\n",
       "    .dataframe tbody tr th:only-of-type {\n",
       "        vertical-align: middle;\n",
       "    }\n",
       "\n",
       "    .dataframe tbody tr th {\n",
       "        vertical-align: top;\n",
       "    }\n",
       "\n",
       "    .dataframe thead th {\n",
       "        text-align: right;\n",
       "    }\n",
       "</style>\n",
       "<table border=\"1\" class=\"dataframe\">\n",
       "  <thead>\n",
       "    <tr style=\"text-align: right;\">\n",
       "      <th></th>\n",
       "      <th>COLUMN_NAME</th>\n",
       "      <th>DATA_TYPE</th>\n",
       "      <th>IS_NULLABLE</th>\n",
       "      <th>COLUMN_DEFAULT</th>\n",
       "    </tr>\n",
       "  </thead>\n",
       "  <tbody>\n",
       "    <tr>\n",
       "      <th>0</th>\n",
       "      <td>m_id</td>\n",
       "      <td>int</td>\n",
       "      <td>NO</td>\n",
       "      <td>None</td>\n",
       "    </tr>\n",
       "    <tr>\n",
       "      <th>1</th>\n",
       "      <td>i_id</td>\n",
       "      <td>int</td>\n",
       "      <td>NO</td>\n",
       "      <td>None</td>\n",
       "    </tr>\n",
       "    <tr>\n",
       "      <th>2</th>\n",
       "      <td>class_prob</td>\n",
       "      <td>varchar</td>\n",
       "      <td>YES</td>\n",
       "      <td>None</td>\n",
       "    </tr>\n",
       "    <tr>\n",
       "      <th>3</th>\n",
       "      <td>pred_label</td>\n",
       "      <td>varchar</td>\n",
       "      <td>YES</td>\n",
       "      <td>None</td>\n",
       "    </tr>\n",
       "  </tbody>\n",
       "</table>\n",
       "</div>"
      ],
      "text/plain": [
       "  COLUMN_NAME DATA_TYPE IS_NULLABLE COLUMN_DEFAULT\n",
       "0        m_id       int          NO           None\n",
       "1        i_id       int          NO           None\n",
       "2  class_prob   varchar         YES           None\n",
       "3  pred_label   varchar         YES           None"
      ]
     },
     "execution_count": 97,
     "metadata": {},
     "output_type": "execute_result"
    }
   ],
   "source": [
    "sql_utils.run_sql_query(\n",
    "\"\"\"\n",
    "SELECT COLUMN_NAME, DATA_TYPE, IS_NULLABLE, COLUMN_DEFAULT\n",
    "FROM INFORMATION_SCHEMA.COLUMNS\n",
    "WHERE TABLE_NAME = 'predictions';\n",
    "\"\"\"\n",
    ")"
   ]
  },
  {
   "cell_type": "code",
   "execution_count": 76,
   "id": "d85f8029",
   "metadata": {},
   "outputs": [
    {
     "name": "stderr",
     "output_type": "stream",
     "text": [
      "C:\\Users\\ysman\\AppData\\Local\\Temp\\ipykernel_11480\\1445388442.py:1: UserWarning: The query returned empty.\n",
      "  sql_utils.run_sql_query(\"\"\"\n"
     ]
    }
   ],
   "source": [
    "sql_utils.run_sql_query(\"\"\"\n",
    "UPDATE labels\n",
    "SET weight = weight / 10;\n",
    "\"\"\")"
   ]
  },
  {
   "cell_type": "code",
   "execution_count": 98,
   "id": "4276ce34",
   "metadata": {},
   "outputs": [
    {
     "name": "stderr",
     "output_type": "stream",
     "text": [
      "C:\\Users\\ysman\\AppData\\Local\\Temp\\ipykernel_11480\\3509736632.py:1: UserWarning: The query returned empty.\n",
      "  sql_utils.run_sql_query(\n"
     ]
    }
   ],
   "source": [
    "sql_utils.run_sql_query(\n",
    "    \"\"\"\n",
    "    Insert into predictions (m_id, i_id, class_prob, pred_label)\n",
    "    Values (1,4, '0.5', 'Confirmed Label A' );\n",
    "    \"\"\")"
   ]
  },
  {
   "cell_type": "code",
   "execution_count": 99,
   "id": "e1891a77",
   "metadata": {},
   "outputs": [
    {
     "data": {
      "text/html": [
       "<div>\n",
       "<style scoped>\n",
       "    .dataframe tbody tr th:only-of-type {\n",
       "        vertical-align: middle;\n",
       "    }\n",
       "\n",
       "    .dataframe tbody tr th {\n",
       "        vertical-align: top;\n",
       "    }\n",
       "\n",
       "    .dataframe thead th {\n",
       "        text-align: right;\n",
       "    }\n",
       "</style>\n",
       "<table border=\"1\" class=\"dataframe\">\n",
       "  <thead>\n",
       "    <tr style=\"text-align: right;\">\n",
       "      <th></th>\n",
       "      <th>m_id</th>\n",
       "      <th>i_id</th>\n",
       "      <th>class_prob</th>\n",
       "      <th>pred_label</th>\n",
       "    </tr>\n",
       "  </thead>\n",
       "  <tbody>\n",
       "    <tr>\n",
       "      <th>0</th>\n",
       "      <td>1</td>\n",
       "      <td>1</td>\n",
       "      <td>0.9</td>\n",
       "      <td>Label A</td>\n",
       "    </tr>\n",
       "    <tr>\n",
       "      <th>1</th>\n",
       "      <td>1</td>\n",
       "      <td>2</td>\n",
       "      <td>0.8</td>\n",
       "      <td>Label B</td>\n",
       "    </tr>\n",
       "    <tr>\n",
       "      <th>2</th>\n",
       "      <td>1</td>\n",
       "      <td>3</td>\n",
       "      <td>0.5</td>\n",
       "      <td>Confirmed Label A</td>\n",
       "    </tr>\n",
       "    <tr>\n",
       "      <th>3</th>\n",
       "      <td>2</td>\n",
       "      <td>1</td>\n",
       "      <td>0.7</td>\n",
       "      <td>Label C</td>\n",
       "    </tr>\n",
       "    <tr>\n",
       "      <th>4</th>\n",
       "      <td>2</td>\n",
       "      <td>2</td>\n",
       "      <td>0.6</td>\n",
       "      <td>Label D</td>\n",
       "    </tr>\n",
       "  </tbody>\n",
       "</table>\n",
       "</div>"
      ],
      "text/plain": [
       "   m_id  i_id class_prob         pred_label\n",
       "0     1     1        0.9            Label A\n",
       "1     1     2        0.8            Label B\n",
       "2     1     3        0.5  Confirmed Label A\n",
       "3     2     1        0.7            Label C\n",
       "4     2     2        0.6            Label D"
      ]
     },
     "execution_count": 99,
     "metadata": {},
     "output_type": "execute_result"
    }
   ],
   "source": [
    "sql_utils.run_sql_query(\"select * from predictions;\")"
   ]
  },
  {
   "cell_type": "code",
   "execution_count": 103,
   "id": "1adc62ed",
   "metadata": {},
   "outputs": [
    {
     "name": "stderr",
     "output_type": "stream",
     "text": [
      "C:\\Users\\ysman\\AppData\\Local\\Temp\\ipykernel_11480\\2975923993.py:1: UserWarning: The query returned empty.\n",
      "  sql_utils.run_sql_query(\"delete from metrics where i_id = 3 and d_id=0;\")\n"
     ]
    }
   ],
   "source": [
    "sql_utils.run_sql_query(\"delete from metrics where i_id = 3 and d_id=0;\")"
   ]
  },
  {
   "cell_type": "code",
   "execution_count": 104,
   "id": "4d169c08",
   "metadata": {},
   "outputs": [
    {
     "data": {
      "text/html": [
       "<div>\n",
       "<style scoped>\n",
       "    .dataframe tbody tr th:only-of-type {\n",
       "        vertical-align: middle;\n",
       "    }\n",
       "\n",
       "    .dataframe tbody tr th {\n",
       "        vertical-align: top;\n",
       "    }\n",
       "\n",
       "    .dataframe thead th {\n",
       "        text-align: right;\n",
       "    }\n",
       "</style>\n",
       "<table border=\"1\" class=\"dataframe\">\n",
       "  <thead>\n",
       "    <tr style=\"text-align: right;\">\n",
       "      <th></th>\n",
       "      <th>i_id</th>\n",
       "      <th>m_id</th>\n",
       "      <th>d_id</th>\n",
       "      <th>d_value</th>\n",
       "    </tr>\n",
       "  </thead>\n",
       "  <tbody>\n",
       "    <tr>\n",
       "      <th>0</th>\n",
       "      <td>1</td>\n",
       "      <td>0</td>\n",
       "      <td>0</td>\n",
       "      <td>1.0</td>\n",
       "    </tr>\n",
       "    <tr>\n",
       "      <th>1</th>\n",
       "      <td>2</td>\n",
       "      <td>0</td>\n",
       "      <td>0</td>\n",
       "      <td>1.0</td>\n",
       "    </tr>\n",
       "    <tr>\n",
       "      <th>2</th>\n",
       "      <td>6</td>\n",
       "      <td>0</td>\n",
       "      <td>0</td>\n",
       "      <td>1.0</td>\n",
       "    </tr>\n",
       "    <tr>\n",
       "      <th>3</th>\n",
       "      <td>7</td>\n",
       "      <td>0</td>\n",
       "      <td>0</td>\n",
       "      <td>1.0</td>\n",
       "    </tr>\n",
       "    <tr>\n",
       "      <th>4</th>\n",
       "      <td>1</td>\n",
       "      <td>1</td>\n",
       "      <td>1</td>\n",
       "      <td>0.5</td>\n",
       "    </tr>\n",
       "    <tr>\n",
       "      <th>5</th>\n",
       "      <td>2</td>\n",
       "      <td>1</td>\n",
       "      <td>1</td>\n",
       "      <td>0.6</td>\n",
       "    </tr>\n",
       "    <tr>\n",
       "      <th>6</th>\n",
       "      <td>1</td>\n",
       "      <td>2</td>\n",
       "      <td>2</td>\n",
       "      <td>0.4</td>\n",
       "    </tr>\n",
       "    <tr>\n",
       "      <th>7</th>\n",
       "      <td>2</td>\n",
       "      <td>2</td>\n",
       "      <td>2</td>\n",
       "      <td>0.3</td>\n",
       "    </tr>\n",
       "  </tbody>\n",
       "</table>\n",
       "</div>"
      ],
      "text/plain": [
       "   i_id  m_id  d_id  d_value\n",
       "0     1     0     0      1.0\n",
       "1     2     0     0      1.0\n",
       "2     6     0     0      1.0\n",
       "3     7     0     0      1.0\n",
       "4     1     1     1      0.5\n",
       "5     2     1     1      0.6\n",
       "6     1     2     2      0.4\n",
       "7     2     2     2      0.3"
      ]
     },
     "execution_count": 104,
     "metadata": {},
     "output_type": "execute_result"
    }
   ],
   "source": [
    "sql_utils.run_sql_query(\"select * from metrics;\")"
   ]
  },
  {
   "cell_type": "code",
   "execution_count": 48,
   "id": "04ffe114",
   "metadata": {},
   "outputs": [
    {
     "data": {
      "text/html": [
       "<div>\n",
       "<style scoped>\n",
       "    .dataframe tbody tr th:only-of-type {\n",
       "        vertical-align: middle;\n",
       "    }\n",
       "\n",
       "    .dataframe tbody tr th {\n",
       "        vertical-align: top;\n",
       "    }\n",
       "\n",
       "    .dataframe thead th {\n",
       "        text-align: right;\n",
       "    }\n",
       "</style>\n",
       "<table border=\"1\" class=\"dataframe\">\n",
       "  <thead>\n",
       "    <tr style=\"text-align: right;\">\n",
       "      <th></th>\n",
       "      <th>d_id</th>\n",
       "      <th>name</th>\n",
       "      <th>formula</th>\n",
       "    </tr>\n",
       "  </thead>\n",
       "  <tbody>\n",
       "    <tr>\n",
       "      <th>0</th>\n",
       "      <td>0</td>\n",
       "      <td>random_sample</td>\n",
       "      <td>none</td>\n",
       "    </tr>\n",
       "    <tr>\n",
       "      <th>1</th>\n",
       "      <td>1</td>\n",
       "      <td>Dissimilarity Metric A</td>\n",
       "      <td>Formula A</td>\n",
       "    </tr>\n",
       "    <tr>\n",
       "      <th>2</th>\n",
       "      <td>2</td>\n",
       "      <td>Dissimilarity Metric B</td>\n",
       "      <td>Formula B</td>\n",
       "    </tr>\n",
       "  </tbody>\n",
       "</table>\n",
       "</div>"
      ],
      "text/plain": [
       "   d_id                    name    formula\n",
       "0     0           random_sample       none\n",
       "1     1  Dissimilarity Metric A  Formula A\n",
       "2     2  Dissimilarity Metric B  Formula B"
      ]
     },
     "execution_count": 48,
     "metadata": {},
     "output_type": "execute_result"
    }
   ],
   "source": [
    "sql_utils.run_sql_query(\"select * from dissimilarity;\")"
   ]
  },
  {
   "cell_type": "code",
   "execution_count": 63,
   "id": "374a8e5e",
   "metadata": {},
   "outputs": [
    {
     "data": {
      "text/html": [
       "<div>\n",
       "<style scoped>\n",
       "    .dataframe tbody tr th:only-of-type {\n",
       "        vertical-align: middle;\n",
       "    }\n",
       "\n",
       "    .dataframe tbody tr th {\n",
       "        vertical-align: top;\n",
       "    }\n",
       "\n",
       "    .dataframe thead th {\n",
       "        text-align: right;\n",
       "    }\n",
       "</style>\n",
       "<table border=\"1\" class=\"dataframe\">\n",
       "  <thead>\n",
       "    <tr style=\"text-align: right;\">\n",
       "      <th></th>\n",
       "      <th>m_id</th>\n",
       "      <th>i_id</th>\n",
       "      <th>class_prob</th>\n",
       "      <th>pred_label</th>\n",
       "    </tr>\n",
       "  </thead>\n",
       "  <tbody>\n",
       "    <tr>\n",
       "      <th>0</th>\n",
       "      <td>1</td>\n",
       "      <td>1</td>\n",
       "      <td>0.9</td>\n",
       "      <td>Label A</td>\n",
       "    </tr>\n",
       "    <tr>\n",
       "      <th>1</th>\n",
       "      <td>1</td>\n",
       "      <td>2</td>\n",
       "      <td>0.8</td>\n",
       "      <td>Label B</td>\n",
       "    </tr>\n",
       "    <tr>\n",
       "      <th>2</th>\n",
       "      <td>2</td>\n",
       "      <td>1</td>\n",
       "      <td>0.7</td>\n",
       "      <td>Label C</td>\n",
       "    </tr>\n",
       "    <tr>\n",
       "      <th>3</th>\n",
       "      <td>2</td>\n",
       "      <td>2</td>\n",
       "      <td>0.6</td>\n",
       "      <td>Label D</td>\n",
       "    </tr>\n",
       "  </tbody>\n",
       "</table>\n",
       "</div>"
      ],
      "text/plain": [
       "   m_id  i_id class_prob pred_label\n",
       "0     1     1        0.9    Label A\n",
       "1     1     2        0.8    Label B\n",
       "2     2     1        0.7    Label C\n",
       "3     2     2        0.6    Label D"
      ]
     },
     "execution_count": 63,
     "metadata": {},
     "output_type": "execute_result"
    }
   ],
   "source": [
    "sql_utils.run_sql_query(\"select * from predictions;\")"
   ]
  },
  {
   "cell_type": "code",
   "execution_count": 47,
   "id": "b13660bc",
   "metadata": {},
   "outputs": [],
   "source": [
    "sql_utils.run_sql_query(\n",
    "\"\"\"\n",
    "SET IDENTITY_INSERT dissimilarity ON;\n",
    "\n",
    "\n",
    "INSERT INTO dissimilarity (d_id, name, formula)\n",
    "VALUES (0, 'random_sample', 'none');\n",
    "SET IDENTITY_INSERT dissimilarity OFF;\n",
    "\"\"\"\n",
    ")"
   ]
  },
  {
   "cell_type": "code",
   "execution_count": 45,
   "id": "ab7c0a4c",
   "metadata": {},
   "outputs": [
    {
     "name": "stdout",
     "output_type": "stream",
     "text": [
      "<class 'NameError'>\n"
     ]
    }
   ],
   "source": [
    "try:\n",
    "    print(hi)\n",
    "except Exception as e:\n",
    "    print(e."
   ]
  },
  {
   "cell_type": "code",
   "execution_count": 71,
   "id": "e0913392",
   "metadata": {},
   "outputs": [
    {
     "data": {
      "text/html": [
       "<div>\n",
       "<style scoped>\n",
       "    .dataframe tbody tr th:only-of-type {\n",
       "        vertical-align: middle;\n",
       "    }\n",
       "\n",
       "    .dataframe tbody tr th {\n",
       "        vertical-align: top;\n",
       "    }\n",
       "\n",
       "    .dataframe thead th {\n",
       "        text-align: right;\n",
       "    }\n",
       "</style>\n",
       "<table border=\"1\" class=\"dataframe\">\n",
       "  <thead>\n",
       "    <tr style=\"text-align: right;\">\n",
       "      <th></th>\n",
       "      <th>IMAGE_ID</th>\n",
       "      <th>BLOB_FILEPATH</th>\n",
       "      <th>UNCERTAINTY</th>\n",
       "      <th>PRED_LABEL</th>\n",
       "      <th>PROBS</th>\n",
       "      <th>M_ID</th>\n",
       "      <th>M_ID</th>\n",
       "      <th>D_ID</th>\n",
       "    </tr>\n",
       "  </thead>\n",
       "  <tbody>\n",
       "    <tr>\n",
       "      <th>0</th>\n",
       "      <td>1</td>\n",
       "      <td>path/to/image1.jpg</td>\n",
       "      <td>1.0</td>\n",
       "      <td>Label A</td>\n",
       "      <td>0.9</td>\n",
       "      <td>1</td>\n",
       "      <td>0</td>\n",
       "      <td>0</td>\n",
       "    </tr>\n",
       "    <tr>\n",
       "      <th>1</th>\n",
       "      <td>2</td>\n",
       "      <td>path/to/image2.jpg</td>\n",
       "      <td>1.0</td>\n",
       "      <td>Label B</td>\n",
       "      <td>0.8</td>\n",
       "      <td>1</td>\n",
       "      <td>0</td>\n",
       "      <td>0</td>\n",
       "    </tr>\n",
       "  </tbody>\n",
       "</table>\n",
       "</div>"
      ],
      "text/plain": [
       "   IMAGE_ID       BLOB_FILEPATH  UNCERTAINTY PRED_LABEL PROBS  M_ID  M_ID  \\\n",
       "0         1  path/to/image1.jpg          1.0    Label A   0.9     1     0   \n",
       "1         2  path/to/image2.jpg          1.0    Label B   0.8     1     0   \n",
       "\n",
       "   D_ID  \n",
       "0     0  \n",
       "1     0  "
      ]
     },
     "execution_count": 71,
     "metadata": {},
     "output_type": "execute_result"
    }
   ],
   "source": [
    "a  = sql_utils.run_sql_query(\"\"\"\n",
    "WITH LABEL_COUNTS AS (\n",
    "        SELECT\n",
    "            I_ID,\n",
    "            SUM(WEIGHT) AS W_COUNT\n",
    "        FROM LABELS\n",
    "        GROUP BY I_ID\n",
    "    )\n",
    "    SELECT\n",
    "           I.I_ID AS IMAGE_ID,\n",
    "           I.FILEPATH AS BLOB_FILEPATH,\n",
    "           M.D_VALUE AS UNCERTAINTY,\n",
    "           P.PRED_LABEL AS PRED_LABEL,\n",
    "           P.CLASS_PROB AS PROBS,\n",
    "           P.M_ID,\n",
    "           M.M_ID,\n",
    "           M.D_ID\n",
    "          -- IIF(L.W_COUNT < 10, (M.D_VALUE * EXP(-0.069 * L.W_COUNT)), 0) AS RANK_SCORE\n",
    "    FROM METRICS AS M\n",
    "    INNER JOIN IMAGES AS I\n",
    "        ON M.I_ID = I.I_ID\n",
    "    INNER JOIN PREDICTIONS AS P\n",
    "        ON M.I_ID = P.I_ID AND (M.M_ID = P.M_ID OR M.M_ID = 0) -- allow for test images that have M_ID=0\n",
    "    INNER JOIN LABEL_COUNTS AS L\n",
    "        ON M.I_ID = L.I_ID\n",
    "    WHERE\n",
    "          P.M_ID = 1\n",
    "      AND M.D_ID = 0\n",
    "    --ORDER BY RANK_SCORE DESC;\n",
    "\"\"\")\n",
    "\n",
    "check_fk = \"\"\"\n",
    "SELECT\n",
    "    fk.name AS ForeignKeyName,\n",
    "    tp.name AS ReferencedTable,\n",
    "    ref_cols.name AS ReferencedColumn,\n",
    "    tab.name AS TableName,\n",
    "    fk_cols.name AS ColumnName\n",
    "FROM\n",
    "    sys.foreign_keys AS fk\n",
    "JOIN\n",
    "    sys.tables AS tab ON fk.parent_object_id = tab.object_id\n",
    "JOIN\n",
    "    sys.tables AS tp ON fk.referenced_object_id = tp.object_id\n",
    "JOIN\n",
    "    sys.foreign_key_columns AS fkc ON fkc.constraint_object_id = fk.object_id\n",
    "JOIN\n",
    "    sys.columns AS fk_cols ON fk_cols.object_id = fkc.parent_object_id AND fk_cols.column_id = fkc.parent_column_id\n",
    "JOIN\n",
    "    sys.columns AS ref_cols ON ref_cols.object_id = fkc.referenced_object_id AND ref_cols.column_id = fkc.referenced_column_id\n",
    "WHERE\n",
    "    fk.name = 'FK__metrics__m_id__0F624AF8';\n",
    "\"\"\"\n",
    "a"
   ]
  },
  {
   "cell_type": "code",
   "execution_count": 62,
   "id": "e947953b",
   "metadata": {},
   "outputs": [
    {
     "data": {
      "text/html": [
       "<div>\n",
       "<style scoped>\n",
       "    .dataframe tbody tr th:only-of-type {\n",
       "        vertical-align: middle;\n",
       "    }\n",
       "\n",
       "    .dataframe tbody tr th {\n",
       "        vertical-align: top;\n",
       "    }\n",
       "\n",
       "    .dataframe thead th {\n",
       "        text-align: right;\n",
       "    }\n",
       "</style>\n",
       "<table border=\"1\" class=\"dataframe\">\n",
       "  <thead>\n",
       "    <tr style=\"text-align: right;\">\n",
       "      <th></th>\n",
       "      <th>IMAGE_ID</th>\n",
       "      <th>BLOB_FILEPATH</th>\n",
       "      <th>UNCERTAINTY</th>\n",
       "      <th>PRED_LABEL</th>\n",
       "      <th>PROBS</th>\n",
       "      <th>RANK_SCORE</th>\n",
       "    </tr>\n",
       "  </thead>\n",
       "  <tbody>\n",
       "    <tr>\n",
       "      <th>0</th>\n",
       "      <td>1</td>\n",
       "      <td>path/to/image1.jpg</td>\n",
       "      <td>1.0</td>\n",
       "      <td>Label C</td>\n",
       "      <td>0.7</td>\n",
       "      <td>0.0</td>\n",
       "    </tr>\n",
       "    <tr>\n",
       "      <th>1</th>\n",
       "      <td>2</td>\n",
       "      <td>path/to/image2.jpg</td>\n",
       "      <td>1.0</td>\n",
       "      <td>Label B</td>\n",
       "      <td>0.8</td>\n",
       "      <td>0.0</td>\n",
       "    </tr>\n",
       "  </tbody>\n",
       "</table>\n",
       "</div>"
      ],
      "text/plain": [
       "   IMAGE_ID       BLOB_FILEPATH  UNCERTAINTY PRED_LABEL PROBS  RANK_SCORE\n",
       "0         1  path/to/image1.jpg          1.0    Label C   0.7         0.0\n",
       "1         2  path/to/image2.jpg          1.0    Label B   0.8         0.0"
      ]
     },
     "execution_count": 62,
     "metadata": {},
     "output_type": "execute_result"
    }
   ],
   "source": [
    "a"
   ]
  },
  {
   "cell_type": "code",
   "execution_count": 52,
   "id": "42b92544",
   "metadata": {},
   "outputs": [],
   "source": [
    "sql_utils.generate_random_evaluation_set(5)"
   ]
  },
  {
   "cell_type": "code",
   "execution_count": 111,
   "id": "095e5003",
   "metadata": {},
   "outputs": [
    {
     "name": "stdout",
     "output_type": "stream",
     "text": [
      "shit\n"
     ]
    },
    {
     "data": {
      "text/html": [
       "<div>\n",
       "<style scoped>\n",
       "    .dataframe tbody tr th:only-of-type {\n",
       "        vertical-align: middle;\n",
       "    }\n",
       "\n",
       "    .dataframe tbody tr th {\n",
       "        vertical-align: top;\n",
       "    }\n",
       "\n",
       "    .dataframe thead th {\n",
       "        text-align: right;\n",
       "    }\n",
       "</style>\n",
       "<table border=\"1\" class=\"dataframe\">\n",
       "  <thead>\n",
       "    <tr style=\"text-align: right;\">\n",
       "      <th></th>\n",
       "      <th>IMAGE_ID</th>\n",
       "      <th>BLOB_FILEPATH</th>\n",
       "      <th>UNCERTAINTY</th>\n",
       "      <th>PRED_LABEL</th>\n",
       "      <th>PROBS</th>\n",
       "      <th>RANK_SCORE</th>\n",
       "    </tr>\n",
       "  </thead>\n",
       "  <tbody>\n",
       "    <tr>\n",
       "      <th>0</th>\n",
       "      <td>1</td>\n",
       "      <td>path/to/image1.jpg</td>\n",
       "      <td>0.5</td>\n",
       "      <td>Label A</td>\n",
       "      <td>0.9</td>\n",
       "      <td>0.0</td>\n",
       "    </tr>\n",
       "    <tr>\n",
       "      <th>1</th>\n",
       "      <td>2</td>\n",
       "      <td>path/to/image2.jpg</td>\n",
       "      <td>0.6</td>\n",
       "      <td>Label B</td>\n",
       "      <td>0.8</td>\n",
       "      <td>0.0</td>\n",
       "    </tr>\n",
       "  </tbody>\n",
       "</table>\n",
       "</div>"
      ],
      "text/plain": [
       "   IMAGE_ID       BLOB_FILEPATH  UNCERTAINTY PRED_LABEL PROBS  RANK_SCORE\n",
       "0         1  path/to/image1.jpg          0.5    Label A   0.9         0.0\n",
       "1         2  path/to/image2.jpg          0.6    Label B   0.8         0.0"
      ]
     },
     "execution_count": 111,
     "metadata": {},
     "output_type": "execute_result"
    }
   ],
   "source": [
    "sql_utils.execute_stored_procedure(\"AL_RANKINGS\", args=args)"
   ]
  },
  {
   "cell_type": "code",
   "execution_count": 114,
   "id": "cb218c3a",
   "metadata": {},
   "outputs": [
    {
     "name": "stdout",
     "output_type": "stream",
     "text": [
      "hi\n"
     ]
    }
   ],
   "source": [
    "if 1<= 2<=3:\n",
    "    print(\"hi\")"
   ]
  },
  {
   "cell_type": "code",
   "execution_count": 15,
   "id": "625cb4e2",
   "metadata": {},
   "outputs": [
    {
     "name": "stdout",
     "output_type": "stream",
     "text": [
      "Using preset file to create procedure GENERATE_RANDOM_TEST_SET: C:\\Users\\ysman\\Desktop\\Capstone\\PIVOT\\stored_procedures\\Generate_Random_Test_Set.sql\n"
     ]
    }
   ],
   "source": [
    "sql_utils.create_alter_stored_procedure('GENERATE_RANDOM_TEST_SET')"
   ]
  },
  {
   "cell_type": "code",
   "execution_count": null,
   "id": "890797c3",
   "metadata": {},
   "outputs": [],
   "source": [
    "sql_utils.create_alter_stored_procedure('AL_RANKINGS')"
   ]
  },
  {
   "cell_type": "code",
   "execution_count": 80,
   "id": "2d0ec388",
   "metadata": {},
   "outputs": [
    {
     "name": "stdout",
     "output_type": "stream",
     "text": [
      "Using preset file to create procedure MODEL_EVALUATION_MAX_CONSENSUS_FILTERING: C:\\Users\\ysman\\Desktop\\Capstone\\PIVOT\\stored_procedures\\Model_Evaluation_Filtering.sql\n"
     ]
    }
   ],
   "source": [
    "sql_utils.create_alter_stored_procedure('MODEL_EVALUATION_MAX_CONSENSUS_FILTERING')"
   ]
  },
  {
   "cell_type": "code",
   "execution_count": 88,
   "id": "683656e2",
   "metadata": {},
   "outputs": [
    {
     "name": "stdout",
     "output_type": "stream",
     "text": [
      "Using preset file to create procedure MODEL_EVALUATION_NON_TEST: C:\\Users\\ysman\\Desktop\\Capstone\\PIVOT\\stored_procedures\\Model_Evaluation_NonTest.sql\n"
     ]
    }
   ],
   "source": [
    "sql_utils.create_alter_stored_procedure('MODEL_EVALUATION_NON_TEST')"
   ]
  },
  {
   "cell_type": "code",
   "execution_count": 63,
   "id": "8be9c6e8",
   "metadata": {},
   "outputs": [],
   "source": [
    "from collections import OrderedDict\n",
    "args = OrderedDict([\n",
    "    (\"M_ID\", 1),\n",
    "    (\"D_ID\", 1),\n",
    "    (\"RELABEL_LAMBDA\", 0.069),\n",
    "    (\"BATCH_SIZE\", 3),\n",
    "])"
   ]
  },
  {
   "cell_type": "code",
   "execution_count": 74,
   "id": "1c8aff3b",
   "metadata": {},
   "outputs": [
    {
     "ename": "SyntaxError",
     "evalue": "invalid syntax (1904830851.py, line 1)",
     "output_type": "error",
     "traceback": [
      "\u001b[1;36m  Cell \u001b[1;32mIn[74], line 1\u001b[1;36m\u001b[0m\n\u001b[1;33m    (if df) and (if df):\u001b[0m\n\u001b[1;37m     ^\u001b[0m\n\u001b[1;31mSyntaxError\u001b[0m\u001b[1;31m:\u001b[0m invalid syntax\n"
     ]
    }
   ],
   "source": [
    "(if df) and (if df):"
   ]
  },
  {
   "cell_type": "code",
   "execution_count": 70,
   "id": "eaf635ac",
   "metadata": {},
   "outputs": [
    {
     "data": {
      "text/html": [
       "<div>\n",
       "<style scoped>\n",
       "    .dataframe tbody tr th:only-of-type {\n",
       "        vertical-align: middle;\n",
       "    }\n",
       "\n",
       "    .dataframe tbody tr th {\n",
       "        vertical-align: top;\n",
       "    }\n",
       "\n",
       "    .dataframe thead th {\n",
       "        text-align: right;\n",
       "    }\n",
       "</style>\n",
       "<table border=\"1\" class=\"dataframe\">\n",
       "  <thead>\n",
       "    <tr style=\"text-align: right;\">\n",
       "      <th></th>\n",
       "      <th>IMAGE_ID</th>\n",
       "      <th>BLOB_FILEPATH</th>\n",
       "      <th>UNCERTAINTY</th>\n",
       "      <th>PRED_LABEL</th>\n",
       "      <th>PROBS</th>\n",
       "      <th>RANK_SCORE</th>\n",
       "    </tr>\n",
       "  </thead>\n",
       "  <tbody>\n",
       "    <tr>\n",
       "      <th>0</th>\n",
       "      <td>2</td>\n",
       "      <td>path/to/image2.jpg</td>\n",
       "      <td>0.6</td>\n",
       "      <td>Label B</td>\n",
       "      <td>0.8</td>\n",
       "      <td>0.0</td>\n",
       "    </tr>\n",
       "    <tr>\n",
       "      <th>1</th>\n",
       "      <td>1</td>\n",
       "      <td>path/to/image1.jpg</td>\n",
       "      <td>0.5</td>\n",
       "      <td>Label A</td>\n",
       "      <td>0.9</td>\n",
       "      <td>0.0</td>\n",
       "    </tr>\n",
       "    <tr>\n",
       "      <th>0</th>\n",
       "      <td>2</td>\n",
       "      <td>path/to/image2.jpg</td>\n",
       "      <td>0.6</td>\n",
       "      <td>Label B</td>\n",
       "      <td>0.8</td>\n",
       "      <td>0.0</td>\n",
       "    </tr>\n",
       "    <tr>\n",
       "      <th>1</th>\n",
       "      <td>1</td>\n",
       "      <td>path/to/image1.jpg</td>\n",
       "      <td>0.5</td>\n",
       "      <td>Label A</td>\n",
       "      <td>0.9</td>\n",
       "      <td>0.0</td>\n",
       "    </tr>\n",
       "  </tbody>\n",
       "</table>\n",
       "</div>"
      ],
      "text/plain": [
       "   IMAGE_ID       BLOB_FILEPATH  UNCERTAINTY PRED_LABEL PROBS  RANK_SCORE\n",
       "0         2  path/to/image2.jpg          0.6    Label B   0.8         0.0\n",
       "1         1  path/to/image1.jpg          0.5    Label A   0.9         0.0\n",
       "0         2  path/to/image2.jpg          0.6    Label B   0.8         0.0\n",
       "1         1  path/to/image1.jpg          0.5    Label A   0.9         0.0"
      ]
     },
     "execution_count": 70,
     "metadata": {},
     "output_type": "execute_result"
    }
   ],
   "source": [
    "pd.concat([df, df],)"
   ]
  },
  {
   "cell_type": "code",
   "execution_count": 97,
   "id": "2cae4b44",
   "metadata": {},
   "outputs": [],
   "source": [
    "assert d"
   ]
  },
  {
   "cell_type": "code",
   "execution_count": 92,
   "id": "9d748590",
   "metadata": {},
   "outputs": [
    {
     "data": {
      "text/html": [
       "<div>\n",
       "<style scoped>\n",
       "    .dataframe tbody tr th:only-of-type {\n",
       "        vertical-align: middle;\n",
       "    }\n",
       "\n",
       "    .dataframe tbody tr th {\n",
       "        vertical-align: top;\n",
       "    }\n",
       "\n",
       "    .dataframe thead th {\n",
       "        text-align: right;\n",
       "    }\n",
       "</style>\n",
       "<table border=\"1\" class=\"dataframe\">\n",
       "  <thead>\n",
       "    <tr style=\"text-align: right;\">\n",
       "      <th></th>\n",
       "      <th>IMAGE_ID</th>\n",
       "      <th>BLOB_FILEPATH</th>\n",
       "      <th>UNCERTAINTY</th>\n",
       "      <th>PRED_LABEL</th>\n",
       "      <th>PROBS</th>\n",
       "      <th>RANK_SCORE</th>\n",
       "    </tr>\n",
       "  </thead>\n",
       "  <tbody>\n",
       "    <tr>\n",
       "      <th>0</th>\n",
       "      <td>1</td>\n",
       "      <td>path/to/image1.jpg</td>\n",
       "      <td>0.5</td>\n",
       "      <td>Label A</td>\n",
       "      <td>0.9</td>\n",
       "      <td>0.0</td>\n",
       "    </tr>\n",
       "    <tr>\n",
       "      <th>1</th>\n",
       "      <td>2</td>\n",
       "      <td>path/to/image2.jpg</td>\n",
       "      <td>0.6</td>\n",
       "      <td>Label B</td>\n",
       "      <td>0.8</td>\n",
       "      <td>0.0</td>\n",
       "    </tr>\n",
       "  </tbody>\n",
       "</table>\n",
       "</div>"
      ],
      "text/plain": [
       "   IMAGE_ID       BLOB_FILEPATH  UNCERTAINTY PRED_LABEL PROBS  RANK_SCORE\n",
       "0         1  path/to/image1.jpg          0.5    Label A   0.9         0.0\n",
       "1         2  path/to/image2.jpg          0.6    Label B   0.8         0.0"
      ]
     },
     "execution_count": 92,
     "metadata": {},
     "output_type": "execute_result"
    }
   ],
   "source": [
    "df"
   ]
  },
  {
   "cell_type": "code",
   "execution_count": 41,
   "id": "ba276e7a",
   "metadata": {},
   "outputs": [],
   "source": [
    "check_procedures = \"\"\"\n",
    "    SELECT \n",
    "        name AS 'ProcedureName',\n",
    "        create_date AS 'CreateDate',\n",
    "        modify_date AS 'ModifyDate'\n",
    "    FROM \n",
    "        sys.procedures;\n",
    "\"\"\""
   ]
  },
  {
   "cell_type": "code",
   "execution_count": 95,
   "id": "6b305d00",
   "metadata": {},
   "outputs": [
    {
     "name": "stdout",
     "output_type": "stream",
     "text": [
      "(('i_id', 3, None, None, None, None, None), ('u_id', 3, None, None, None, None, None), ('weight', 3, None, None, None, None, None), ('date', 4, None, None, None, None, None), ('label', 1, None, None, None, None, None))\n"
     ]
    },
    {
     "data": {
      "text/html": [
       "<div>\n",
       "<style scoped>\n",
       "    .dataframe tbody tr th:only-of-type {\n",
       "        vertical-align: middle;\n",
       "    }\n",
       "\n",
       "    .dataframe tbody tr th {\n",
       "        vertical-align: top;\n",
       "    }\n",
       "\n",
       "    .dataframe thead th {\n",
       "        text-align: right;\n",
       "    }\n",
       "</style>\n",
       "<table border=\"1\" class=\"dataframe\">\n",
       "  <thead>\n",
       "    <tr style=\"text-align: right;\">\n",
       "      <th></th>\n",
       "      <th>i_id</th>\n",
       "      <th>u_id</th>\n",
       "      <th>weight</th>\n",
       "      <th>date</th>\n",
       "      <th>label</th>\n",
       "    </tr>\n",
       "  </thead>\n",
       "  <tbody>\n",
       "    <tr>\n",
       "      <th>0</th>\n",
       "      <td>1</td>\n",
       "      <td>1</td>\n",
       "      <td>10</td>\n",
       "      <td>2024-01-26 10:00:00</td>\n",
       "      <td>Confirmed Label A</td>\n",
       "    </tr>\n",
       "    <tr>\n",
       "      <th>1</th>\n",
       "      <td>2</td>\n",
       "      <td>1</td>\n",
       "      <td>20</td>\n",
       "      <td>2024-01-26 11:00:00</td>\n",
       "      <td>Confirmed Label B</td>\n",
       "    </tr>\n",
       "    <tr>\n",
       "      <th>2</th>\n",
       "      <td>1</td>\n",
       "      <td>2</td>\n",
       "      <td>15</td>\n",
       "      <td>2024-01-26 12:00:00</td>\n",
       "      <td>Confirmed Label C</td>\n",
       "    </tr>\n",
       "    <tr>\n",
       "      <th>3</th>\n",
       "      <td>2</td>\n",
       "      <td>2</td>\n",
       "      <td>25</td>\n",
       "      <td>2024-01-26 13:00:00</td>\n",
       "      <td>Confirmed Label D</td>\n",
       "    </tr>\n",
       "  </tbody>\n",
       "</table>\n",
       "</div>"
      ],
      "text/plain": [
       "   i_id  u_id  weight                date              label\n",
       "0     1     1      10 2024-01-26 10:00:00  Confirmed Label A\n",
       "1     2     1      20 2024-01-26 11:00:00  Confirmed Label B\n",
       "2     1     2      15 2024-01-26 12:00:00  Confirmed Label C\n",
       "3     2     2      25 2024-01-26 13:00:00  Confirmed Label D"
      ]
     },
     "execution_count": 95,
     "metadata": {},
     "output_type": "execute_result"
    }
   ],
   "source": [
    "import pymssql\n",
    "\n",
    "server = 'capstoneservercjault.database.windows.net'\n",
    "user = 'CloudSA85da88d3'\n",
    "password = 'Passwordtest123'\n",
    "database = 'capstoneazure'\n",
    "\n",
    "\n",
    "with pymssql.connect(server, user, password, database) as conn:\n",
    "    with conn.cursor() as cursor:\n",
    "        cursor.execute(\"\"\"\n",
    "        select * from Labels;\n",
    "        \"\"\")\n",
    "#         row = cursor.fetchone()\n",
    "        row = cursor.fetchall()\n",
    "#         while row:\n",
    "#             print(\"SQL Server version:\", row[0])\n",
    "#             row = cursor.fetchone()\n",
    "        columns = [column[0] for column in cursor.description]\n",
    "        print(cursor.description)\n",
    "df = pd.DataFrame(row, columns=columns)\n",
    "df.head()"
   ]
  },
  {
   "cell_type": "code",
   "execution_count": 27,
   "id": "01f25a0f",
   "metadata": {},
   "outputs": [
    {
     "data": {
      "text/html": [
       "<div>\n",
       "<style scoped>\n",
       "    .dataframe tbody tr th:only-of-type {\n",
       "        vertical-align: middle;\n",
       "    }\n",
       "\n",
       "    .dataframe tbody tr th {\n",
       "        vertical-align: top;\n",
       "    }\n",
       "\n",
       "    .dataframe thead th {\n",
       "        text-align: right;\n",
       "    }\n",
       "</style>\n",
       "<table border=\"1\" class=\"dataframe\">\n",
       "  <thead>\n",
       "    <tr style=\"text-align: right;\">\n",
       "      <th></th>\n",
       "      <th>m_id</th>\n",
       "      <th>model_name</th>\n",
       "      <th>model_link</th>\n",
       "      <th>structure</th>\n",
       "      <th>weights</th>\n",
       "    </tr>\n",
       "  </thead>\n",
       "  <tbody>\n",
       "    <tr>\n",
       "      <th>0</th>\n",
       "      <td>1</td>\n",
       "      <td>Model A</td>\n",
       "      <td>http://link-to-modela.com</td>\n",
       "      <td>JSON structure A</td>\n",
       "      <td>Binary data A</td>\n",
       "    </tr>\n",
       "    <tr>\n",
       "      <th>1</th>\n",
       "      <td>2</td>\n",
       "      <td>Model B</td>\n",
       "      <td>http://link-to-modelb.com</td>\n",
       "      <td>JSON structure B</td>\n",
       "      <td>Binary data B</td>\n",
       "    </tr>\n",
       "  </tbody>\n",
       "</table>\n",
       "</div>"
      ],
      "text/plain": [
       "   m_id model_name                 model_link         structure        weights\n",
       "0     1    Model A  http://link-to-modela.com  JSON structure A  Binary data A\n",
       "1     2    Model B  http://link-to-modelb.com  JSON structure B  Binary data B"
      ]
     },
     "execution_count": 27,
     "metadata": {},
     "output_type": "execute_result"
    }
   ],
   "source": [
    "df"
   ]
  },
  {
   "cell_type": "code",
   "execution_count": null,
   "id": "5d8a5ee9",
   "metadata": {},
   "outputs": [],
   "source": []
  }
 ],
 "metadata": {
  "kernelspec": {
   "display_name": "pivot-modAL",
   "language": "python",
   "name": "pivot-modal"
  },
  "language_info": {
   "codemirror_mode": {
    "name": "ipython",
    "version": 3
   },
   "file_extension": ".py",
   "mimetype": "text/x-python",
   "name": "python",
   "nbconvert_exporter": "python",
   "pygments_lexer": "ipython3",
   "version": "3.10.13"
  }
 },
 "nbformat": 4,
 "nbformat_minor": 5
}
