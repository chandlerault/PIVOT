{
 "cells": [
  {
   "cell_type": "code",
   "execution_count": 2,
   "id": "f434f980",
   "metadata": {},
   "outputs": [],
   "source": [
    "import pymssql\n",
    "import pandas\n",
    "import yaml\n",
    "\n",
    "# CONFIG_FILE_PATH = 'config/config.yaml'\n",
    "# config = yaml.load(open(CONFIG_FILE_PATH, 'r', encoding='utf-8'), Loader=yaml.FullLoader)"
   ]
  },
  {
   "cell_type": "code",
   "execution_count": null,
   "id": "727a9056",
   "metadata": {},
   "outputs": [],
   "source": [
    "def get_label_rank_df(\n",
    "    model_id, # int\n",
    "    dissimilarity_id, # int\n",
    "    batch_size=100, # float\n",
    "    relabel_lambda=0.069, # float\n",
    "    random_ratio=0.5, # float\n",
    "):\n",
    "    \n",
    "    batch_size_d = int((1- random_ratio)*batch_size)\n",
    "    batch_size_r = batch_size - batch_size_d\n",
    "    \n",
    "    # call stored procedure 1 w/ D_ID\n",
    "    args = {\n",
    "        \"M_ID\": model_id,\n",
    "        \"D_ID\": dissimilarity_id,\n",
    "        \"BATCH_SIZE\": batch_size_d,\n",
    "        \"RELABEL_LAMBDA\": relabel_lambda,\n",
    "    }\n",
    "    d_df = get_data_sp(sp=\"AL_RANKINGS\", args)\n",
    "    \n",
    "    # call stored  procedure 1 w/ D_ID = 0 # represents random\n",
    "    args['D_ID'] = 0\n",
    "    args['BATCH_SIZE'] = batch_size_r\n",
    "    r_df = get_data_sp(sp=\"AL_RANKINGS\", args)\n",
    "    \n",
    "    full_df = pd.concat([d_df, r_df]) # might have duplicates but the chance is so low it doesn't matter\n",
    "    \n",
    "    return full_df\n",
    "    \n",
    "\n",
    "def get_data_sp(\n",
    "    sp=\"\", # string\n",
    "    args, # dict\n",
    "):\n",
    "    # load from config file\n",
    "    server = config['server']     # 'your_server.database.windows.net'\n",
    "    database = config['database'] #'your_database'\n",
    "    username = config['username'] # 'your_username'\n",
    "    password = config['password'] #'your_password'\n",
    "\n",
    "    # set up a connection to Azure\n",
    "    with pymssql.connect(server, user, password, database) as conn:\n",
    "        # set up a cursor object\n",
    "        with conn.cursor(as_dict=True) as cursor:\n",
    "            # gather variables for the stored procedure\n",
    "            arg_tuples = (args['M_ID'], args['D_ID'], args['RELABEL_LAMBDA'], args['BATCH_SIZE'])\n",
    "            # execute stored procedure\n",
    "            cursor.callproc(sp, arg_tuples)\n",
    "            \n",
    "            # Fetch the results into a Pandas DataFrame\n",
    "            df = pd.DataFrame(cursor.fetchall())\n",
    "#             columns = [column[0] for column in cursor.description]\n",
    "#             df = pd.DataFrame(cursor.fetchall(), columns=columns)\n",
    "    return df\n",
    "    \n",
    "    "
   ]
  },
  {
   "cell_type": "code",
   "execution_count": 4,
   "id": "1acd1315",
   "metadata": {},
   "outputs": [],
   "source": [
    "import sys\n",
    "from pathlib import Path\n",
    "\n",
    "# Get the path of the parent directory\n",
    "parent_dir = str(Path.cwd().parent)"
   ]
  },
  {
   "cell_type": "code",
   "execution_count": 9,
   "id": "f9b75816",
   "metadata": {},
   "outputs": [],
   "source": [
    "sys.path.append(parent_dir)"
   ]
  },
  {
   "cell_type": "code",
   "execution_count": 6,
   "id": "a1557f8d",
   "metadata": {},
   "outputs": [],
   "source": [
    "%load_ext autoreload\n",
    "%autoreload 2\n",
    "\n"
   ]
  },
  {
   "cell_type": "code",
   "execution_count": 11,
   "id": "4bf89e51",
   "metadata": {},
   "outputs": [],
   "source": [
    "from importlib import reload"
   ]
  },
  {
   "cell_type": "code",
   "execution_count": 26,
   "id": "5abe8439",
   "metadata": {},
   "outputs": [
    {
     "data": {
      "text/plain": [
       "<module 'sql_constants' from 'C:\\\\Users\\\\ysman\\\\Desktop\\\\Capstone\\\\PIVOT\\\\sql_constants.py'>"
      ]
     },
     "execution_count": 26,
     "metadata": {},
     "output_type": "execute_result"
    }
   ],
   "source": [
    "import sql_utils, sql_constants\n",
    "reload(sql_utils)\n",
    "reload(sql_constants)"
   ]
  },
  {
   "cell_type": "code",
   "execution_count": 78,
   "id": "037bf42b",
   "metadata": {},
   "outputs": [],
   "source": [
    "df = sql_utils.get_label_rank_df(model_id=1,dissimilarity_id=1,batch_size=5,)"
   ]
  },
  {
   "cell_type": "code",
   "execution_count": 85,
   "id": "9be68b3c",
   "metadata": {},
   "outputs": [
    {
     "data": {
      "text/html": [
       "<div>\n",
       "<style scoped>\n",
       "    .dataframe tbody tr th:only-of-type {\n",
       "        vertical-align: middle;\n",
       "    }\n",
       "\n",
       "    .dataframe tbody tr th {\n",
       "        vertical-align: top;\n",
       "    }\n",
       "\n",
       "    .dataframe thead th {\n",
       "        text-align: right;\n",
       "    }\n",
       "</style>\n",
       "<table border=\"1\" class=\"dataframe\">\n",
       "  <thead>\n",
       "    <tr style=\"text-align: right;\">\n",
       "      <th></th>\n",
       "      <th>IMAGE_ID</th>\n",
       "      <th>PRED_LABEL</th>\n",
       "      <th>CONSENSUS</th>\n",
       "    </tr>\n",
       "  </thead>\n",
       "  <tbody>\n",
       "    <tr>\n",
       "      <th>0</th>\n",
       "      <td>1</td>\n",
       "      <td>Label A</td>\n",
       "      <td>Confirmed Label A</td>\n",
       "    </tr>\n",
       "  </tbody>\n",
       "</table>\n",
       "</div>"
      ],
      "text/plain": [
       "   IMAGE_ID PRED_LABEL          CONSENSUS\n",
       "0         1    Label A  Confirmed Label A"
      ]
     },
     "execution_count": 85,
     "metadata": {},
     "output_type": "execute_result"
    }
   ],
   "source": [
    "sql_utils.get_test_set_df(model_id=1,minimum_percent=0.5)"
   ]
  },
  {
   "cell_type": "code",
   "execution_count": 84,
   "id": "6e91f16a",
   "metadata": {},
   "outputs": [
    {
     "name": "stderr",
     "output_type": "stream",
     "text": [
      "C:\\Users\\ysman\\AppData\\Local\\Temp\\ipykernel_11480\\2592373361.py:1: UserWarning: The query returned empty.\n",
      "  sql_utils.run_sql_query(\n"
     ]
    }
   ],
   "source": [
    "sql_utils.run_sql_query(\n",
    "    \"\"\"\n",
    "    Insert into labels (i_id, u_id, weight, date, label)\n",
    "    Values (1,2, 1, '2024-01-27 12:00:00', 'Confirmed Label A' );\n",
    "    \"\"\")"
   ]
  },
  {
   "cell_type": "code",
   "execution_count": 79,
   "id": "4ddc55d4",
   "metadata": {},
   "outputs": [
    {
     "data": {
      "text/html": [
       "<div>\n",
       "<style scoped>\n",
       "    .dataframe tbody tr th:only-of-type {\n",
       "        vertical-align: middle;\n",
       "    }\n",
       "\n",
       "    .dataframe tbody tr th {\n",
       "        vertical-align: top;\n",
       "    }\n",
       "\n",
       "    .dataframe thead th {\n",
       "        text-align: right;\n",
       "    }\n",
       "</style>\n",
       "<table border=\"1\" class=\"dataframe\">\n",
       "  <thead>\n",
       "    <tr style=\"text-align: right;\">\n",
       "      <th></th>\n",
       "      <th>IMAGE_ID</th>\n",
       "      <th>BLOB_FILEPATH</th>\n",
       "      <th>UNCERTAINTY</th>\n",
       "      <th>PRED_LABEL</th>\n",
       "      <th>PROBS</th>\n",
       "      <th>RANK_SCORE</th>\n",
       "    </tr>\n",
       "  </thead>\n",
       "  <tbody>\n",
       "    <tr>\n",
       "      <th>0</th>\n",
       "      <td>2</td>\n",
       "      <td>path/to/image2.jpg</td>\n",
       "      <td>0.6</td>\n",
       "      <td>Label B</td>\n",
       "      <td>0.8</td>\n",
       "      <td>0.455288</td>\n",
       "    </tr>\n",
       "    <tr>\n",
       "      <th>1</th>\n",
       "      <td>1</td>\n",
       "      <td>path/to/image1.jpg</td>\n",
       "      <td>0.5</td>\n",
       "      <td>Label A</td>\n",
       "      <td>0.9</td>\n",
       "      <td>0.435549</td>\n",
       "    </tr>\n",
       "    <tr>\n",
       "      <th>0</th>\n",
       "      <td>1</td>\n",
       "      <td>path/to/image1.jpg</td>\n",
       "      <td>1.0</td>\n",
       "      <td>Label A</td>\n",
       "      <td>0.9</td>\n",
       "      <td>0.871099</td>\n",
       "    </tr>\n",
       "    <tr>\n",
       "      <th>1</th>\n",
       "      <td>2</td>\n",
       "      <td>path/to/image2.jpg</td>\n",
       "      <td>1.0</td>\n",
       "      <td>Label B</td>\n",
       "      <td>0.8</td>\n",
       "      <td>0.758813</td>\n",
       "    </tr>\n",
       "  </tbody>\n",
       "</table>\n",
       "</div>"
      ],
      "text/plain": [
       "   IMAGE_ID       BLOB_FILEPATH  UNCERTAINTY PRED_LABEL PROBS  RANK_SCORE\n",
       "0         2  path/to/image2.jpg          0.6    Label B   0.8    0.455288\n",
       "1         1  path/to/image1.jpg          0.5    Label A   0.9    0.435549\n",
       "0         1  path/to/image1.jpg          1.0    Label A   0.9    0.871099\n",
       "1         2  path/to/image2.jpg          1.0    Label B   0.8    0.758813"
      ]
     },
     "execution_count": 79,
     "metadata": {},
     "output_type": "execute_result"
    }
   ],
   "source": [
    "df"
   ]
  },
  {
   "cell_type": "code",
   "execution_count": 77,
   "id": "0e42a9cd",
   "metadata": {},
   "outputs": [
    {
     "data": {
      "text/html": [
       "<div>\n",
       "<style scoped>\n",
       "    .dataframe tbody tr th:only-of-type {\n",
       "        vertical-align: middle;\n",
       "    }\n",
       "\n",
       "    .dataframe tbody tr th {\n",
       "        vertical-align: top;\n",
       "    }\n",
       "\n",
       "    .dataframe thead th {\n",
       "        text-align: right;\n",
       "    }\n",
       "</style>\n",
       "<table border=\"1\" class=\"dataframe\">\n",
       "  <thead>\n",
       "    <tr style=\"text-align: right;\">\n",
       "      <th></th>\n",
       "      <th>i_id</th>\n",
       "      <th>u_id</th>\n",
       "      <th>weight</th>\n",
       "      <th>date</th>\n",
       "      <th>label</th>\n",
       "    </tr>\n",
       "  </thead>\n",
       "  <tbody>\n",
       "    <tr>\n",
       "      <th>0</th>\n",
       "      <td>1</td>\n",
       "      <td>1</td>\n",
       "      <td>1</td>\n",
       "      <td>2024-01-26 10:00:00</td>\n",
       "      <td>Confirmed Label A</td>\n",
       "    </tr>\n",
       "    <tr>\n",
       "      <th>1</th>\n",
       "      <td>2</td>\n",
       "      <td>1</td>\n",
       "      <td>2</td>\n",
       "      <td>2024-01-26 11:00:00</td>\n",
       "      <td>Confirmed Label B</td>\n",
       "    </tr>\n",
       "    <tr>\n",
       "      <th>2</th>\n",
       "      <td>1</td>\n",
       "      <td>2</td>\n",
       "      <td>1</td>\n",
       "      <td>2024-01-26 12:00:00</td>\n",
       "      <td>Confirmed Label C</td>\n",
       "    </tr>\n",
       "    <tr>\n",
       "      <th>3</th>\n",
       "      <td>2</td>\n",
       "      <td>2</td>\n",
       "      <td>2</td>\n",
       "      <td>2024-01-26 13:00:00</td>\n",
       "      <td>Confirmed Label D</td>\n",
       "    </tr>\n",
       "  </tbody>\n",
       "</table>\n",
       "</div>"
      ],
      "text/plain": [
       "   i_id  u_id  weight                date              label\n",
       "0     1     1       1 2024-01-26 10:00:00  Confirmed Label A\n",
       "1     2     1       2 2024-01-26 11:00:00  Confirmed Label B\n",
       "2     1     2       1 2024-01-26 12:00:00  Confirmed Label C\n",
       "3     2     2       2 2024-01-26 13:00:00  Confirmed Label D"
      ]
     },
     "execution_count": 77,
     "metadata": {},
     "output_type": "execute_result"
    }
   ],
   "source": [
    "sql_utils.run_sql_query(\"select * from labels;\")"
   ]
  },
  {
   "cell_type": "code",
   "execution_count": null,
   "id": "4a5276bf",
   "metadata": {},
   "outputs": [],
   "source": []
  },
  {
   "cell_type": "code",
   "execution_count": 76,
   "id": "4519440f",
   "metadata": {},
   "outputs": [
    {
     "name": "stderr",
     "output_type": "stream",
     "text": [
      "C:\\Users\\ysman\\AppData\\Local\\Temp\\ipykernel_11480\\1445388442.py:1: UserWarning: The query returned empty.\n",
      "  sql_utils.run_sql_query(\"\"\"\n"
     ]
    }
   ],
   "source": [
    "sql_utils.run_sql_query(\"\"\"\n",
    "UPDATE labels\n",
    "SET weight = weight / 10;\n",
    "\"\"\")"
   ]
  },
  {
   "cell_type": "code",
   "execution_count": 53,
   "id": "be8f669b",
   "metadata": {},
   "outputs": [
    {
     "data": {
      "text/html": [
       "<div>\n",
       "<style scoped>\n",
       "    .dataframe tbody tr th:only-of-type {\n",
       "        vertical-align: middle;\n",
       "    }\n",
       "\n",
       "    .dataframe tbody tr th {\n",
       "        vertical-align: top;\n",
       "    }\n",
       "\n",
       "    .dataframe thead th {\n",
       "        text-align: right;\n",
       "    }\n",
       "</style>\n",
       "<table border=\"1\" class=\"dataframe\">\n",
       "  <thead>\n",
       "    <tr style=\"text-align: right;\">\n",
       "      <th></th>\n",
       "      <th>i_id</th>\n",
       "      <th>m_id</th>\n",
       "      <th>d_id</th>\n",
       "      <th>d_value</th>\n",
       "    </tr>\n",
       "  </thead>\n",
       "  <tbody>\n",
       "    <tr>\n",
       "      <th>0</th>\n",
       "      <td>1</td>\n",
       "      <td>0</td>\n",
       "      <td>0</td>\n",
       "      <td>1.0</td>\n",
       "    </tr>\n",
       "    <tr>\n",
       "      <th>1</th>\n",
       "      <td>2</td>\n",
       "      <td>0</td>\n",
       "      <td>0</td>\n",
       "      <td>1.0</td>\n",
       "    </tr>\n",
       "    <tr>\n",
       "      <th>2</th>\n",
       "      <td>3</td>\n",
       "      <td>0</td>\n",
       "      <td>0</td>\n",
       "      <td>1.0</td>\n",
       "    </tr>\n",
       "    <tr>\n",
       "      <th>3</th>\n",
       "      <td>6</td>\n",
       "      <td>0</td>\n",
       "      <td>0</td>\n",
       "      <td>1.0</td>\n",
       "    </tr>\n",
       "    <tr>\n",
       "      <th>4</th>\n",
       "      <td>7</td>\n",
       "      <td>0</td>\n",
       "      <td>0</td>\n",
       "      <td>1.0</td>\n",
       "    </tr>\n",
       "    <tr>\n",
       "      <th>5</th>\n",
       "      <td>1</td>\n",
       "      <td>1</td>\n",
       "      <td>1</td>\n",
       "      <td>0.5</td>\n",
       "    </tr>\n",
       "    <tr>\n",
       "      <th>6</th>\n",
       "      <td>2</td>\n",
       "      <td>1</td>\n",
       "      <td>1</td>\n",
       "      <td>0.6</td>\n",
       "    </tr>\n",
       "    <tr>\n",
       "      <th>7</th>\n",
       "      <td>1</td>\n",
       "      <td>2</td>\n",
       "      <td>2</td>\n",
       "      <td>0.4</td>\n",
       "    </tr>\n",
       "    <tr>\n",
       "      <th>8</th>\n",
       "      <td>2</td>\n",
       "      <td>2</td>\n",
       "      <td>2</td>\n",
       "      <td>0.3</td>\n",
       "    </tr>\n",
       "  </tbody>\n",
       "</table>\n",
       "</div>"
      ],
      "text/plain": [
       "   i_id  m_id  d_id  d_value\n",
       "0     1     0     0      1.0\n",
       "1     2     0     0      1.0\n",
       "2     3     0     0      1.0\n",
       "3     6     0     0      1.0\n",
       "4     7     0     0      1.0\n",
       "5     1     1     1      0.5\n",
       "6     2     1     1      0.6\n",
       "7     1     2     2      0.4\n",
       "8     2     2     2      0.3"
      ]
     },
     "execution_count": 53,
     "metadata": {},
     "output_type": "execute_result"
    }
   ],
   "source": [
    "sql_utils.run_sql_query(\"select * from metrics;\")"
   ]
  },
  {
   "cell_type": "code",
   "execution_count": 13,
   "id": "a0d1fd4f",
   "metadata": {},
   "outputs": [
    {
     "data": {
      "text/html": [
       "<div>\n",
       "<style scoped>\n",
       "    .dataframe tbody tr th:only-of-type {\n",
       "        vertical-align: middle;\n",
       "    }\n",
       "\n",
       "    .dataframe tbody tr th {\n",
       "        vertical-align: top;\n",
       "    }\n",
       "\n",
       "    .dataframe thead th {\n",
       "        text-align: right;\n",
       "    }\n",
       "</style>\n",
       "<table border=\"1\" class=\"dataframe\">\n",
       "  <thead>\n",
       "    <tr style=\"text-align: right;\">\n",
       "      <th></th>\n",
       "      <th>i_id</th>\n",
       "      <th>m_id</th>\n",
       "      <th>d_id</th>\n",
       "      <th>d_value</th>\n",
       "    </tr>\n",
       "  </thead>\n",
       "  <tbody>\n",
       "    <tr>\n",
       "      <th>0</th>\n",
       "      <td>1</td>\n",
       "      <td>1</td>\n",
       "      <td>1</td>\n",
       "      <td>0.5</td>\n",
       "    </tr>\n",
       "    <tr>\n",
       "      <th>1</th>\n",
       "      <td>2</td>\n",
       "      <td>1</td>\n",
       "      <td>1</td>\n",
       "      <td>0.6</td>\n",
       "    </tr>\n",
       "    <tr>\n",
       "      <th>2</th>\n",
       "      <td>1</td>\n",
       "      <td>2</td>\n",
       "      <td>2</td>\n",
       "      <td>0.4</td>\n",
       "    </tr>\n",
       "    <tr>\n",
       "      <th>3</th>\n",
       "      <td>2</td>\n",
       "      <td>2</td>\n",
       "      <td>2</td>\n",
       "      <td>0.3</td>\n",
       "    </tr>\n",
       "  </tbody>\n",
       "</table>\n",
       "</div>"
      ],
      "text/plain": [
       "   i_id  m_id  d_id  d_value\n",
       "0     1     1     1      0.5\n",
       "1     2     1     1      0.6\n",
       "2     1     2     2      0.4\n",
       "3     2     2     2      0.3"
      ]
     },
     "execution_count": 13,
     "metadata": {},
     "output_type": "execute_result"
    }
   ],
   "source": [
    "sql_utils.run_sql_query(\"select * from metrics;\")"
   ]
  },
  {
   "cell_type": "code",
   "execution_count": 48,
   "id": "bafdc2b0",
   "metadata": {},
   "outputs": [
    {
     "data": {
      "text/html": [
       "<div>\n",
       "<style scoped>\n",
       "    .dataframe tbody tr th:only-of-type {\n",
       "        vertical-align: middle;\n",
       "    }\n",
       "\n",
       "    .dataframe tbody tr th {\n",
       "        vertical-align: top;\n",
       "    }\n",
       "\n",
       "    .dataframe thead th {\n",
       "        text-align: right;\n",
       "    }\n",
       "</style>\n",
       "<table border=\"1\" class=\"dataframe\">\n",
       "  <thead>\n",
       "    <tr style=\"text-align: right;\">\n",
       "      <th></th>\n",
       "      <th>d_id</th>\n",
       "      <th>name</th>\n",
       "      <th>formula</th>\n",
       "    </tr>\n",
       "  </thead>\n",
       "  <tbody>\n",
       "    <tr>\n",
       "      <th>0</th>\n",
       "      <td>0</td>\n",
       "      <td>random_sample</td>\n",
       "      <td>none</td>\n",
       "    </tr>\n",
       "    <tr>\n",
       "      <th>1</th>\n",
       "      <td>1</td>\n",
       "      <td>Dissimilarity Metric A</td>\n",
       "      <td>Formula A</td>\n",
       "    </tr>\n",
       "    <tr>\n",
       "      <th>2</th>\n",
       "      <td>2</td>\n",
       "      <td>Dissimilarity Metric B</td>\n",
       "      <td>Formula B</td>\n",
       "    </tr>\n",
       "  </tbody>\n",
       "</table>\n",
       "</div>"
      ],
      "text/plain": [
       "   d_id                    name    formula\n",
       "0     0           random_sample       none\n",
       "1     1  Dissimilarity Metric A  Formula A\n",
       "2     2  Dissimilarity Metric B  Formula B"
      ]
     },
     "execution_count": 48,
     "metadata": {},
     "output_type": "execute_result"
    }
   ],
   "source": [
    "sql_utils.run_sql_query(\"select * from dissimilarity;\")"
   ]
  },
  {
   "cell_type": "code",
   "execution_count": 63,
   "id": "23456493",
   "metadata": {},
   "outputs": [
    {
     "data": {
      "text/html": [
       "<div>\n",
       "<style scoped>\n",
       "    .dataframe tbody tr th:only-of-type {\n",
       "        vertical-align: middle;\n",
       "    }\n",
       "\n",
       "    .dataframe tbody tr th {\n",
       "        vertical-align: top;\n",
       "    }\n",
       "\n",
       "    .dataframe thead th {\n",
       "        text-align: right;\n",
       "    }\n",
       "</style>\n",
       "<table border=\"1\" class=\"dataframe\">\n",
       "  <thead>\n",
       "    <tr style=\"text-align: right;\">\n",
       "      <th></th>\n",
       "      <th>m_id</th>\n",
       "      <th>i_id</th>\n",
       "      <th>class_prob</th>\n",
       "      <th>pred_label</th>\n",
       "    </tr>\n",
       "  </thead>\n",
       "  <tbody>\n",
       "    <tr>\n",
       "      <th>0</th>\n",
       "      <td>1</td>\n",
       "      <td>1</td>\n",
       "      <td>0.9</td>\n",
       "      <td>Label A</td>\n",
       "    </tr>\n",
       "    <tr>\n",
       "      <th>1</th>\n",
       "      <td>1</td>\n",
       "      <td>2</td>\n",
       "      <td>0.8</td>\n",
       "      <td>Label B</td>\n",
       "    </tr>\n",
       "    <tr>\n",
       "      <th>2</th>\n",
       "      <td>2</td>\n",
       "      <td>1</td>\n",
       "      <td>0.7</td>\n",
       "      <td>Label C</td>\n",
       "    </tr>\n",
       "    <tr>\n",
       "      <th>3</th>\n",
       "      <td>2</td>\n",
       "      <td>2</td>\n",
       "      <td>0.6</td>\n",
       "      <td>Label D</td>\n",
       "    </tr>\n",
       "  </tbody>\n",
       "</table>\n",
       "</div>"
      ],
      "text/plain": [
       "   m_id  i_id class_prob pred_label\n",
       "0     1     1        0.9    Label A\n",
       "1     1     2        0.8    Label B\n",
       "2     2     1        0.7    Label C\n",
       "3     2     2        0.6    Label D"
      ]
     },
     "execution_count": 63,
     "metadata": {},
     "output_type": "execute_result"
    }
   ],
   "source": [
    "sql_utils.run_sql_query(\"select * from predictions;\")"
   ]
  },
  {
   "cell_type": "code",
   "execution_count": 47,
   "id": "72ed849b",
   "metadata": {},
   "outputs": [],
   "source": [
    "sql_utils.run_sql_query(\n",
    "\"\"\"\n",
    "SET IDENTITY_INSERT dissimilarity ON;\n",
    "\n",
    "\n",
    "INSERT INTO dissimilarity (d_id, name, formula)\n",
    "VALUES (0, 'random_sample', 'none');\n",
    "SET IDENTITY_INSERT dissimilarity OFF;\n",
    "\"\"\"\n",
    ")"
   ]
  },
  {
   "cell_type": "code",
   "execution_count": 45,
   "id": "ac864edd",
   "metadata": {},
   "outputs": [
    {
     "name": "stdout",
     "output_type": "stream",
     "text": [
      "<class 'NameError'>\n"
     ]
    }
   ],
   "source": [
    "try:\n",
    "    print(hi)\n",
    "except Exception as e:\n",
    "    print(e."
   ]
  },
  {
   "cell_type": "code",
   "execution_count": 71,
   "id": "633ec16a",
   "metadata": {},
   "outputs": [
    {
     "data": {
      "text/html": [
       "<div>\n",
       "<style scoped>\n",
       "    .dataframe tbody tr th:only-of-type {\n",
       "        vertical-align: middle;\n",
       "    }\n",
       "\n",
       "    .dataframe tbody tr th {\n",
       "        vertical-align: top;\n",
       "    }\n",
       "\n",
       "    .dataframe thead th {\n",
       "        text-align: right;\n",
       "    }\n",
       "</style>\n",
       "<table border=\"1\" class=\"dataframe\">\n",
       "  <thead>\n",
       "    <tr style=\"text-align: right;\">\n",
       "      <th></th>\n",
       "      <th>IMAGE_ID</th>\n",
       "      <th>BLOB_FILEPATH</th>\n",
       "      <th>UNCERTAINTY</th>\n",
       "      <th>PRED_LABEL</th>\n",
       "      <th>PROBS</th>\n",
       "      <th>M_ID</th>\n",
       "      <th>M_ID</th>\n",
       "      <th>D_ID</th>\n",
       "    </tr>\n",
       "  </thead>\n",
       "  <tbody>\n",
       "    <tr>\n",
       "      <th>0</th>\n",
       "      <td>1</td>\n",
       "      <td>path/to/image1.jpg</td>\n",
       "      <td>1.0</td>\n",
       "      <td>Label A</td>\n",
       "      <td>0.9</td>\n",
       "      <td>1</td>\n",
       "      <td>0</td>\n",
       "      <td>0</td>\n",
       "    </tr>\n",
       "    <tr>\n",
       "      <th>1</th>\n",
       "      <td>2</td>\n",
       "      <td>path/to/image2.jpg</td>\n",
       "      <td>1.0</td>\n",
       "      <td>Label B</td>\n",
       "      <td>0.8</td>\n",
       "      <td>1</td>\n",
       "      <td>0</td>\n",
       "      <td>0</td>\n",
       "    </tr>\n",
       "  </tbody>\n",
       "</table>\n",
       "</div>"
      ],
      "text/plain": [
       "   IMAGE_ID       BLOB_FILEPATH  UNCERTAINTY PRED_LABEL PROBS  M_ID  M_ID  \\\n",
       "0         1  path/to/image1.jpg          1.0    Label A   0.9     1     0   \n",
       "1         2  path/to/image2.jpg          1.0    Label B   0.8     1     0   \n",
       "\n",
       "   D_ID  \n",
       "0     0  \n",
       "1     0  "
      ]
     },
     "execution_count": 71,
     "metadata": {},
     "output_type": "execute_result"
    }
   ],
   "source": [
    "a  = sql_utils.run_sql_query(\"\"\"\n",
    "WITH LABEL_COUNTS AS (\n",
    "        SELECT\n",
    "            I_ID,\n",
    "            SUM(WEIGHT) AS W_COUNT\n",
    "        FROM LABELS\n",
    "        GROUP BY I_ID\n",
    "    )\n",
    "    SELECT\n",
    "           I.I_ID AS IMAGE_ID,\n",
    "           I.FILEPATH AS BLOB_FILEPATH,\n",
    "           M.D_VALUE AS UNCERTAINTY,\n",
    "           P.PRED_LABEL AS PRED_LABEL,\n",
    "           P.CLASS_PROB AS PROBS,\n",
    "           P.M_ID,\n",
    "           M.M_ID,\n",
    "           M.D_ID\n",
    "          -- IIF(L.W_COUNT < 10, (M.D_VALUE * EXP(-0.069 * L.W_COUNT)), 0) AS RANK_SCORE\n",
    "    FROM METRICS AS M\n",
    "    INNER JOIN IMAGES AS I\n",
    "        ON M.I_ID = I.I_ID\n",
    "    INNER JOIN PREDICTIONS AS P\n",
    "        ON M.I_ID = P.I_ID AND (M.M_ID = P.M_ID OR M.M_ID = 0) -- allow for test images that have M_ID=0\n",
    "    INNER JOIN LABEL_COUNTS AS L\n",
    "        ON M.I_ID = L.I_ID\n",
    "    WHERE\n",
    "          P.M_ID = 1\n",
    "      AND M.D_ID = 0\n",
    "    --ORDER BY RANK_SCORE DESC;\n",
    "\"\"\")\n",
    "\n",
    "check_fk = \"\"\"\n",
    "SELECT\n",
    "    fk.name AS ForeignKeyName,\n",
    "    tp.name AS ReferencedTable,\n",
    "    ref_cols.name AS ReferencedColumn,\n",
    "    tab.name AS TableName,\n",
    "    fk_cols.name AS ColumnName\n",
    "FROM\n",
    "    sys.foreign_keys AS fk\n",
    "JOIN\n",
    "    sys.tables AS tab ON fk.parent_object_id = tab.object_id\n",
    "JOIN\n",
    "    sys.tables AS tp ON fk.referenced_object_id = tp.object_id\n",
    "JOIN\n",
    "    sys.foreign_key_columns AS fkc ON fkc.constraint_object_id = fk.object_id\n",
    "JOIN\n",
    "    sys.columns AS fk_cols ON fk_cols.object_id = fkc.parent_object_id AND fk_cols.column_id = fkc.parent_column_id\n",
    "JOIN\n",
    "    sys.columns AS ref_cols ON ref_cols.object_id = fkc.referenced_object_id AND ref_cols.column_id = fkc.referenced_column_id\n",
    "WHERE\n",
    "    fk.name = 'FK__metrics__m_id__0F624AF8';\n",
    "\"\"\"\n",
    "a"
   ]
  },
  {
   "cell_type": "code",
   "execution_count": 62,
   "id": "6fb96c81",
   "metadata": {},
   "outputs": [
    {
     "data": {
      "text/html": [
       "<div>\n",
       "<style scoped>\n",
       "    .dataframe tbody tr th:only-of-type {\n",
       "        vertical-align: middle;\n",
       "    }\n",
       "\n",
       "    .dataframe tbody tr th {\n",
       "        vertical-align: top;\n",
       "    }\n",
       "\n",
       "    .dataframe thead th {\n",
       "        text-align: right;\n",
       "    }\n",
       "</style>\n",
       "<table border=\"1\" class=\"dataframe\">\n",
       "  <thead>\n",
       "    <tr style=\"text-align: right;\">\n",
       "      <th></th>\n",
       "      <th>IMAGE_ID</th>\n",
       "      <th>BLOB_FILEPATH</th>\n",
       "      <th>UNCERTAINTY</th>\n",
       "      <th>PRED_LABEL</th>\n",
       "      <th>PROBS</th>\n",
       "      <th>RANK_SCORE</th>\n",
       "    </tr>\n",
       "  </thead>\n",
       "  <tbody>\n",
       "    <tr>\n",
       "      <th>0</th>\n",
       "      <td>1</td>\n",
       "      <td>path/to/image1.jpg</td>\n",
       "      <td>1.0</td>\n",
       "      <td>Label C</td>\n",
       "      <td>0.7</td>\n",
       "      <td>0.0</td>\n",
       "    </tr>\n",
       "    <tr>\n",
       "      <th>1</th>\n",
       "      <td>2</td>\n",
       "      <td>path/to/image2.jpg</td>\n",
       "      <td>1.0</td>\n",
       "      <td>Label B</td>\n",
       "      <td>0.8</td>\n",
       "      <td>0.0</td>\n",
       "    </tr>\n",
       "  </tbody>\n",
       "</table>\n",
       "</div>"
      ],
      "text/plain": [
       "   IMAGE_ID       BLOB_FILEPATH  UNCERTAINTY PRED_LABEL PROBS  RANK_SCORE\n",
       "0         1  path/to/image1.jpg          1.0    Label C   0.7         0.0\n",
       "1         2  path/to/image2.jpg          1.0    Label B   0.8         0.0"
      ]
     },
     "execution_count": 62,
     "metadata": {},
     "output_type": "execute_result"
    }
   ],
   "source": [
    "a"
   ]
  },
  {
   "cell_type": "code",
   "execution_count": 52,
   "id": "42feb83b",
   "metadata": {},
   "outputs": [],
   "source": [
    "sql_utils.generate_random_evaluation_set(5)"
   ]
  },
  {
   "cell_type": "code",
   "execution_count": 111,
   "id": "21f26930",
   "metadata": {},
   "outputs": [
    {
     "name": "stdout",
     "output_type": "stream",
     "text": [
      "shit\n"
     ]
    },
    {
     "data": {
      "text/html": [
       "<div>\n",
       "<style scoped>\n",
       "    .dataframe tbody tr th:only-of-type {\n",
       "        vertical-align: middle;\n",
       "    }\n",
       "\n",
       "    .dataframe tbody tr th {\n",
       "        vertical-align: top;\n",
       "    }\n",
       "\n",
       "    .dataframe thead th {\n",
       "        text-align: right;\n",
       "    }\n",
       "</style>\n",
       "<table border=\"1\" class=\"dataframe\">\n",
       "  <thead>\n",
       "    <tr style=\"text-align: right;\">\n",
       "      <th></th>\n",
       "      <th>IMAGE_ID</th>\n",
       "      <th>BLOB_FILEPATH</th>\n",
       "      <th>UNCERTAINTY</th>\n",
       "      <th>PRED_LABEL</th>\n",
       "      <th>PROBS</th>\n",
       "      <th>RANK_SCORE</th>\n",
       "    </tr>\n",
       "  </thead>\n",
       "  <tbody>\n",
       "    <tr>\n",
       "      <th>0</th>\n",
       "      <td>1</td>\n",
       "      <td>path/to/image1.jpg</td>\n",
       "      <td>0.5</td>\n",
       "      <td>Label A</td>\n",
       "      <td>0.9</td>\n",
       "      <td>0.0</td>\n",
       "    </tr>\n",
       "    <tr>\n",
       "      <th>1</th>\n",
       "      <td>2</td>\n",
       "      <td>path/to/image2.jpg</td>\n",
       "      <td>0.6</td>\n",
       "      <td>Label B</td>\n",
       "      <td>0.8</td>\n",
       "      <td>0.0</td>\n",
       "    </tr>\n",
       "  </tbody>\n",
       "</table>\n",
       "</div>"
      ],
      "text/plain": [
       "   IMAGE_ID       BLOB_FILEPATH  UNCERTAINTY PRED_LABEL PROBS  RANK_SCORE\n",
       "0         1  path/to/image1.jpg          0.5    Label A   0.9         0.0\n",
       "1         2  path/to/image2.jpg          0.6    Label B   0.8         0.0"
      ]
     },
     "execution_count": 111,
     "metadata": {},
     "output_type": "execute_result"
    }
   ],
   "source": [
    "sql_utils.execute_stored_procedure(\"AL_RANKINGS\", args=args)"
   ]
  },
  {
   "cell_type": "code",
   "execution_count": 114,
   "id": "e6d9e507",
   "metadata": {},
   "outputs": [
    {
     "name": "stdout",
     "output_type": "stream",
     "text": [
      "hi\n"
     ]
    }
   ],
   "source": [
    "if 1<= 2<=3:\n",
    "    print(\"hi\")"
   ]
  },
  {
   "cell_type": "code",
   "execution_count": 15,
   "id": "f958b305",
   "metadata": {},
   "outputs": [
    {
     "name": "stdout",
     "output_type": "stream",
     "text": [
      "Using preset file to create procedure GENERATE_RANDOM_TEST_SET: C:\\Users\\ysman\\Desktop\\Capstone\\PIVOT\\stored_procedures\\Generate_Random_Test_Set.sql\n"
     ]
    }
   ],
   "source": [
    "sql_utils.create_alter_stored_procedure('GENERATE_RANDOM_TEST_SET')"
   ]
  },
  {
   "cell_type": "code",
   "execution_count": null,
   "id": "b5e94712",
   "metadata": {},
   "outputs": [],
   "source": [
    "sql_utils.create_alter_stored_procedure('AL_RANKINGS')"
   ]
  },
  {
   "cell_type": "code",
   "execution_count": 80,
   "id": "b341df80",
   "metadata": {},
   "outputs": [
    {
     "name": "stdout",
     "output_type": "stream",
     "text": [
      "Using preset file to create procedure MODEL_EVALUATION_MAX_CONSENSUS_FILTERING: C:\\Users\\ysman\\Desktop\\Capstone\\PIVOT\\stored_procedures\\Model_Evaluation_Filtering.sql\n"
     ]
    }
   ],
   "source": [
    "sql_utils.create_alter_stored_procedure('MODEL_EVALUATION_MAX_CONSENSUS_FILTERING')"
   ]
  },
  {
   "cell_type": "code",
   "execution_count": 63,
   "id": "90157a90",
   "metadata": {},
   "outputs": [],
   "source": [
    "from collections import OrderedDict\n",
    "args = OrderedDict([\n",
    "    (\"M_ID\", 1),\n",
    "    (\"D_ID\", 1),\n",
    "    (\"RELABEL_LAMBDA\", 0.069),\n",
    "    (\"BATCH_SIZE\", 3),\n",
    "])"
   ]
  },
  {
   "cell_type": "code",
   "execution_count": 74,
   "id": "2c0e085c",
   "metadata": {},
   "outputs": [
    {
     "ename": "SyntaxError",
     "evalue": "invalid syntax (1904830851.py, line 1)",
     "output_type": "error",
     "traceback": [
      "\u001b[1;36m  Cell \u001b[1;32mIn[74], line 1\u001b[1;36m\u001b[0m\n\u001b[1;33m    (if df) and (if df):\u001b[0m\n\u001b[1;37m     ^\u001b[0m\n\u001b[1;31mSyntaxError\u001b[0m\u001b[1;31m:\u001b[0m invalid syntax\n"
     ]
    }
   ],
   "source": [
    "(if df) and (if df):"
   ]
  },
  {
   "cell_type": "code",
   "execution_count": 70,
   "id": "f743d0ea",
   "metadata": {},
   "outputs": [
    {
     "data": {
      "text/html": [
       "<div>\n",
       "<style scoped>\n",
       "    .dataframe tbody tr th:only-of-type {\n",
       "        vertical-align: middle;\n",
       "    }\n",
       "\n",
       "    .dataframe tbody tr th {\n",
       "        vertical-align: top;\n",
       "    }\n",
       "\n",
       "    .dataframe thead th {\n",
       "        text-align: right;\n",
       "    }\n",
       "</style>\n",
       "<table border=\"1\" class=\"dataframe\">\n",
       "  <thead>\n",
       "    <tr style=\"text-align: right;\">\n",
       "      <th></th>\n",
       "      <th>IMAGE_ID</th>\n",
       "      <th>BLOB_FILEPATH</th>\n",
       "      <th>UNCERTAINTY</th>\n",
       "      <th>PRED_LABEL</th>\n",
       "      <th>PROBS</th>\n",
       "      <th>RANK_SCORE</th>\n",
       "    </tr>\n",
       "  </thead>\n",
       "  <tbody>\n",
       "    <tr>\n",
       "      <th>0</th>\n",
       "      <td>2</td>\n",
       "      <td>path/to/image2.jpg</td>\n",
       "      <td>0.6</td>\n",
       "      <td>Label B</td>\n",
       "      <td>0.8</td>\n",
       "      <td>0.0</td>\n",
       "    </tr>\n",
       "    <tr>\n",
       "      <th>1</th>\n",
       "      <td>1</td>\n",
       "      <td>path/to/image1.jpg</td>\n",
       "      <td>0.5</td>\n",
       "      <td>Label A</td>\n",
       "      <td>0.9</td>\n",
       "      <td>0.0</td>\n",
       "    </tr>\n",
       "    <tr>\n",
       "      <th>0</th>\n",
       "      <td>2</td>\n",
       "      <td>path/to/image2.jpg</td>\n",
       "      <td>0.6</td>\n",
       "      <td>Label B</td>\n",
       "      <td>0.8</td>\n",
       "      <td>0.0</td>\n",
       "    </tr>\n",
       "    <tr>\n",
       "      <th>1</th>\n",
       "      <td>1</td>\n",
       "      <td>path/to/image1.jpg</td>\n",
       "      <td>0.5</td>\n",
       "      <td>Label A</td>\n",
       "      <td>0.9</td>\n",
       "      <td>0.0</td>\n",
       "    </tr>\n",
       "  </tbody>\n",
       "</table>\n",
       "</div>"
      ],
      "text/plain": [
       "   IMAGE_ID       BLOB_FILEPATH  UNCERTAINTY PRED_LABEL PROBS  RANK_SCORE\n",
       "0         2  path/to/image2.jpg          0.6    Label B   0.8         0.0\n",
       "1         1  path/to/image1.jpg          0.5    Label A   0.9         0.0\n",
       "0         2  path/to/image2.jpg          0.6    Label B   0.8         0.0\n",
       "1         1  path/to/image1.jpg          0.5    Label A   0.9         0.0"
      ]
     },
     "execution_count": 70,
     "metadata": {},
     "output_type": "execute_result"
    }
   ],
   "source": [
    "pd.concat([df, df],)"
   ]
  },
  {
   "cell_type": "code",
   "execution_count": 97,
   "id": "7d347627",
   "metadata": {},
   "outputs": [],
   "source": [
    "assert d"
   ]
  },
  {
   "cell_type": "code",
   "execution_count": 92,
   "id": "3da553d4",
   "metadata": {},
   "outputs": [
    {
     "data": {
      "text/html": [
       "<div>\n",
       "<style scoped>\n",
       "    .dataframe tbody tr th:only-of-type {\n",
       "        vertical-align: middle;\n",
       "    }\n",
       "\n",
       "    .dataframe tbody tr th {\n",
       "        vertical-align: top;\n",
       "    }\n",
       "\n",
       "    .dataframe thead th {\n",
       "        text-align: right;\n",
       "    }\n",
       "</style>\n",
       "<table border=\"1\" class=\"dataframe\">\n",
       "  <thead>\n",
       "    <tr style=\"text-align: right;\">\n",
       "      <th></th>\n",
       "      <th>IMAGE_ID</th>\n",
       "      <th>BLOB_FILEPATH</th>\n",
       "      <th>UNCERTAINTY</th>\n",
       "      <th>PRED_LABEL</th>\n",
       "      <th>PROBS</th>\n",
       "      <th>RANK_SCORE</th>\n",
       "    </tr>\n",
       "  </thead>\n",
       "  <tbody>\n",
       "    <tr>\n",
       "      <th>0</th>\n",
       "      <td>1</td>\n",
       "      <td>path/to/image1.jpg</td>\n",
       "      <td>0.5</td>\n",
       "      <td>Label A</td>\n",
       "      <td>0.9</td>\n",
       "      <td>0.0</td>\n",
       "    </tr>\n",
       "    <tr>\n",
       "      <th>1</th>\n",
       "      <td>2</td>\n",
       "      <td>path/to/image2.jpg</td>\n",
       "      <td>0.6</td>\n",
       "      <td>Label B</td>\n",
       "      <td>0.8</td>\n",
       "      <td>0.0</td>\n",
       "    </tr>\n",
       "  </tbody>\n",
       "</table>\n",
       "</div>"
      ],
      "text/plain": [
       "   IMAGE_ID       BLOB_FILEPATH  UNCERTAINTY PRED_LABEL PROBS  RANK_SCORE\n",
       "0         1  path/to/image1.jpg          0.5    Label A   0.9         0.0\n",
       "1         2  path/to/image2.jpg          0.6    Label B   0.8         0.0"
      ]
     },
     "execution_count": 92,
     "metadata": {},
     "output_type": "execute_result"
    }
   ],
   "source": [
    "df"
   ]
  },
  {
   "cell_type": "code",
   "execution_count": 41,
   "id": "6c598aaa",
   "metadata": {},
   "outputs": [],
   "source": [
    "check_procedures = \"\"\"\n",
    "    SELECT \n",
    "        name AS 'ProcedureName',\n",
    "        create_date AS 'CreateDate',\n",
    "        modify_date AS 'ModifyDate'\n",
    "    FROM \n",
    "        sys.procedures;\n",
    "\"\"\""
   ]
  },
  {
   "cell_type": "code",
   "execution_count": 95,
   "id": "6b305d00",
   "metadata": {},
   "outputs": [
    {
     "name": "stdout",
     "output_type": "stream",
     "text": [
      "(('i_id', 3, None, None, None, None, None), ('u_id', 3, None, None, None, None, None), ('weight', 3, None, None, None, None, None), ('date', 4, None, None, None, None, None), ('label', 1, None, None, None, None, None))\n"
     ]
    },
    {
     "data": {
      "text/html": [
       "<div>\n",
       "<style scoped>\n",
       "    .dataframe tbody tr th:only-of-type {\n",
       "        vertical-align: middle;\n",
       "    }\n",
       "\n",
       "    .dataframe tbody tr th {\n",
       "        vertical-align: top;\n",
       "    }\n",
       "\n",
       "    .dataframe thead th {\n",
       "        text-align: right;\n",
       "    }\n",
       "</style>\n",
       "<table border=\"1\" class=\"dataframe\">\n",
       "  <thead>\n",
       "    <tr style=\"text-align: right;\">\n",
       "      <th></th>\n",
       "      <th>i_id</th>\n",
       "      <th>u_id</th>\n",
       "      <th>weight</th>\n",
       "      <th>date</th>\n",
       "      <th>label</th>\n",
       "    </tr>\n",
       "  </thead>\n",
       "  <tbody>\n",
       "    <tr>\n",
       "      <th>0</th>\n",
       "      <td>1</td>\n",
       "      <td>1</td>\n",
       "      <td>10</td>\n",
       "      <td>2024-01-26 10:00:00</td>\n",
       "      <td>Confirmed Label A</td>\n",
       "    </tr>\n",
       "    <tr>\n",
       "      <th>1</th>\n",
       "      <td>2</td>\n",
       "      <td>1</td>\n",
       "      <td>20</td>\n",
       "      <td>2024-01-26 11:00:00</td>\n",
       "      <td>Confirmed Label B</td>\n",
       "    </tr>\n",
       "    <tr>\n",
       "      <th>2</th>\n",
       "      <td>1</td>\n",
       "      <td>2</td>\n",
       "      <td>15</td>\n",
       "      <td>2024-01-26 12:00:00</td>\n",
       "      <td>Confirmed Label C</td>\n",
       "    </tr>\n",
       "    <tr>\n",
       "      <th>3</th>\n",
       "      <td>2</td>\n",
       "      <td>2</td>\n",
       "      <td>25</td>\n",
       "      <td>2024-01-26 13:00:00</td>\n",
       "      <td>Confirmed Label D</td>\n",
       "    </tr>\n",
       "  </tbody>\n",
       "</table>\n",
       "</div>"
      ],
      "text/plain": [
       "   i_id  u_id  weight                date              label\n",
       "0     1     1      10 2024-01-26 10:00:00  Confirmed Label A\n",
       "1     2     1      20 2024-01-26 11:00:00  Confirmed Label B\n",
       "2     1     2      15 2024-01-26 12:00:00  Confirmed Label C\n",
       "3     2     2      25 2024-01-26 13:00:00  Confirmed Label D"
      ]
     },
     "execution_count": 95,
     "metadata": {},
     "output_type": "execute_result"
    }
   ],
   "source": [
    "import pymssql\n",
    "\n",
    "server = 'capstoneservercjault.database.windows.net'\n",
    "user = 'CloudSA85da88d3'\n",
    "password = 'Passwordtest123'\n",
    "database = 'capstoneazure'\n",
    "\n",
    "\n",
    "with pymssql.connect(server, user, password, database) as conn:\n",
    "    with conn.cursor() as cursor:\n",
    "        cursor.execute(\"\"\"\n",
    "        select * from Labels;\n",
    "        \"\"\")\n",
    "#         row = cursor.fetchone()\n",
    "        row = cursor.fetchall()\n",
    "#         while row:\n",
    "#             print(\"SQL Server version:\", row[0])\n",
    "#             row = cursor.fetchone()\n",
    "        columns = [column[0] for column in cursor.description]\n",
    "        print(cursor.description)\n",
    "df = pd.DataFrame(row, columns=columns)\n",
    "df.head()"
   ]
  },
  {
   "cell_type": "code",
   "execution_count": 27,
   "id": "01f25a0f",
   "metadata": {},
   "outputs": [
    {
     "data": {
      "text/html": [
       "<div>\n",
       "<style scoped>\n",
       "    .dataframe tbody tr th:only-of-type {\n",
       "        vertical-align: middle;\n",
       "    }\n",
       "\n",
       "    .dataframe tbody tr th {\n",
       "        vertical-align: top;\n",
       "    }\n",
       "\n",
       "    .dataframe thead th {\n",
       "        text-align: right;\n",
       "    }\n",
       "</style>\n",
       "<table border=\"1\" class=\"dataframe\">\n",
       "  <thead>\n",
       "    <tr style=\"text-align: right;\">\n",
       "      <th></th>\n",
       "      <th>m_id</th>\n",
       "      <th>model_name</th>\n",
       "      <th>model_link</th>\n",
       "      <th>structure</th>\n",
       "      <th>weights</th>\n",
       "    </tr>\n",
       "  </thead>\n",
       "  <tbody>\n",
       "    <tr>\n",
       "      <th>0</th>\n",
       "      <td>1</td>\n",
       "      <td>Model A</td>\n",
       "      <td>http://link-to-modela.com</td>\n",
       "      <td>JSON structure A</td>\n",
       "      <td>Binary data A</td>\n",
       "    </tr>\n",
       "    <tr>\n",
       "      <th>1</th>\n",
       "      <td>2</td>\n",
       "      <td>Model B</td>\n",
       "      <td>http://link-to-modelb.com</td>\n",
       "      <td>JSON structure B</td>\n",
       "      <td>Binary data B</td>\n",
       "    </tr>\n",
       "  </tbody>\n",
       "</table>\n",
       "</div>"
      ],
      "text/plain": [
       "   m_id model_name                 model_link         structure        weights\n",
       "0     1    Model A  http://link-to-modela.com  JSON structure A  Binary data A\n",
       "1     2    Model B  http://link-to-modelb.com  JSON structure B  Binary data B"
      ]
     },
     "execution_count": 27,
     "metadata": {},
     "output_type": "execute_result"
    }
   ],
   "source": [
    "df"
   ]
  },
  {
   "cell_type": "code",
   "execution_count": null,
   "id": "6a5777da",
   "metadata": {},
   "outputs": [],
   "source": []
  }
 ],
 "metadata": {
  "kernelspec": {
   "display_name": "pivot-modAL",
   "language": "python",
   "name": "pivot-modal"
  },
  "language_info": {
   "codemirror_mode": {
    "name": "ipython",
    "version": 3
   },
   "file_extension": ".py",
   "mimetype": "text/x-python",
   "name": "python",
   "nbconvert_exporter": "python",
   "pygments_lexer": "ipython3",
   "version": "3.10.13"
  }
 },
 "nbformat": 4,
 "nbformat_minor": 5
}
