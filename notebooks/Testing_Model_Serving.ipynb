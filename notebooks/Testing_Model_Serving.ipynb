{
 "cells": [
  {
   "cell_type": "markdown",
   "id": "c110bb5e-51ab-46c7-ae59-4987ceb8344e",
   "metadata": {},
   "source": [
    "## Testing Deployment\n",
    "\n",
    "In this notebook, we access the deployed model via its REST endpoint and make predictions using a small subset of test data. \n",
    "\n",
    "### Set-up\n",
    "---\n",
    "To begin, we'll need to import all necessary modules. This should come installed with the virtual environment provided by [`environment.yml`](../environment.yml).\n",
    "\n",
    "If not, please install the modules with the following commands:\n",
    "\n",
    "```bash\n",
    "pip install <module_name>\n",
    "```\n",
    "\n",
    "or \n",
    "\n",
    "```bash\n",
    "conda install <module_name>\n",
    "```"
   ]
  },
  {
   "cell_type": "code",
   "execution_count": 1,
   "id": "d0048bb0-1b7f-44ab-93ed-b422fdaafd73",
   "metadata": {},
   "outputs": [
    {
     "name": "stderr",
     "output_type": "stream",
     "text": [
      "2024-02-06 19:32:51.130703: I tensorflow/core/platform/cpu_feature_guard.cc:193] This TensorFlow binary is optimized with oneAPI Deep Neural Network Library (oneDNN) to use the following CPU instructions in performance-critical operations:  SSE4.1 SSE4.2\n",
      "To enable them in other operations, rebuild TensorFlow with the appropriate compiler flags.\n"
     ]
    }
   ],
   "source": [
    "import json\n",
    "import sys\n",
    "from tqdm.auto import trange, tqdm\n",
    "import concurrent.futures\n",
    "import yaml\n",
    "import os\n",
    "from json import JSONEncoder\n",
    "import requests\n",
    "\n",
    "import numpy as np\n",
    "import pandas as pd\n",
    "import cv2\n",
    "import imageio\n",
    "\n",
    "from azure.storage.blob import BlobServiceClient, ContainerClient, BlobClient\n",
    "from azure.identity import DefaultAzureCredential\n",
    "from azure.ai.ml import MLClient\n",
    "from azure.ai.ml.entities import (\n",
    "    ManagedOnlineEndpoint,\n",
    "    ManagedOnlineDeployment,\n",
    "    Model as AzureMLModel,\n",
    "    Environment,\n",
    "    CodeConfiguration,\n",
    ")\n",
    "from azureml.core.webservice import AciWebservice, Webservice\n",
    "from azureml.core import Workspace, Model, Experiment, Run\n",
    "from azureml.core.model import InferenceConfig\n",
    "\n",
    "import tensorflow as tf\n",
    "from tensorflow.keras.models import Model as KerasModel, model_from_json\n",
    "from tensorflow.keras.optimizers import Adam\n",
    "from keras.callbacks import Callback\n",
    "\n",
    "import mlflow\n",
    "import mlflow.keras\n",
    "\n",
    "from utils import model_utils\n",
    "from utils import sql_utils"
   ]
  },
  {
   "cell_type": "markdown",
   "id": "44977173-2782-415d-8969-225643614eb3",
   "metadata": {},
   "source": [
    "### 1. Log a new model on MLflow and connect to AzureML"
   ]
  },
  {
   "cell_type": "code",
   "execution_count": null,
   "id": "49f69be7-b0b6-4a15-998b-f38d6bc6bdf2",
   "metadata": {},
   "outputs": [],
   "source": [
    "# Load the model architecture from JSON file\n",
    "json_file_path = './ml-workflow/model_ckpt/model-cnn-v1-b3.json'\n",
    "with open(json_file_path, 'r') as json_file:\n",
    "    loaded_model_json = json_file.read()\n",
    "\n",
    "loaded_model = model_from_json(loaded_model_json)\n",
    "\n",
    "# Load the model weights from H5 file\n",
    "h5_file_path = './ml-workflow/model_ckpt/model-cnn-v1-b3.h5'\n",
    "loaded_model.load_weights(h5_file_path)\n",
    "\n",
    "ml_client = MLClient.from_config(credential=DefaultAzureCredential())\n",
    "run_name = 'basemodel' # change for each run\n",
    "\n",
    "mlflow_log.log_model(loaded_model, ml_client, run_name) "
   ]
  },
  {
   "cell_type": "markdown",
   "id": "333d5843-43f1-4e0b-afab-2f02ea714c9e",
   "metadata": {},
   "source": [
    "### 2. Deploy logged model as stream endpoint on Azure ML"
   ]
  },
  {
   "cell_type": "code",
   "execution_count": null,
   "id": "4a8a7e7a-60ee-4c73-a769-fba77edd50da",
   "metadata": {},
   "outputs": [],
   "source": [
    "# Add a tag to model to associate with model_id\n",
    "\n",
    "scoring_file = './model_serving/score.py' # update this\n",
    "deploy.deploy(model_name, scoring_file)\n",
    "\n",
    "# Optional: create a test deployment and test that deployment is active\n",
    "# test_deployment.test_deployment(model_name)"
   ]
  },
  {
   "cell_type": "markdown",
   "id": "df70ab04-b6be-4ce7-8f3c-3be98d1c7245",
   "metadata": {},
   "source": [
    "#### 2.1 Get AzureML model info from model_id (get endpoint_name from model_id)\n",
    "\n",
    "Access the model information from the model ID stored in database"
   ]
  },
  {
   "cell_type": "code",
   "execution_count": 8,
   "id": "cfff14d3-bf79-4f36-8647-cf6347fc5a4f",
   "metadata": {},
   "outputs": [],
   "source": [
    "ml_client = MLClient(subscription_id=\"156ffac2-0545-4d4e-aab3-f89b83635d04\",\n",
    "resource_group=\"defaultresourcegroup-wus2\",\n",
    "workspace_name=\"pivot\", credential=DefaultAzureCredential())\n",
    "ws = Workspace.from_config('../model_serving/config.json')"
   ]
  },
  {
   "cell_type": "code",
   "execution_count": 9,
   "id": "8bfc8582-5b82-4aec-b7b1-a5361d758e83",
   "metadata": {},
   "outputs": [
    {
     "ename": "AttributeError",
     "evalue": "'Run' object has no attribute 'get_models'",
     "output_type": "error",
     "traceback": [
      "\u001b[0;31m---------------------------------------------------------------------------\u001b[0m",
      "\u001b[0;31mAttributeError\u001b[0m                            Traceback (most recent call last)",
      "Cell \u001b[0;32mIn[9], line 12\u001b[0m\n\u001b[1;32m     10\u001b[0m models \u001b[38;5;241m=\u001b[39m []\n\u001b[1;32m     11\u001b[0m \u001b[38;5;28;01mfor\u001b[39;00m run \u001b[38;5;129;01min\u001b[39;00m runs:\n\u001b[0;32m---> 12\u001b[0m     run_models \u001b[38;5;241m=\u001b[39m \u001b[43mrun\u001b[49m\u001b[38;5;241;43m.\u001b[39;49m\u001b[43mget_models\u001b[49m()\n\u001b[1;32m     13\u001b[0m     models\u001b[38;5;241m.\u001b[39mextend(run_models)\n",
      "\u001b[0;31mAttributeError\u001b[0m: 'Run' object has no attribute 'get_models'"
     ]
    }
   ],
   "source": [
    "experiment_name = config['experiment_name']\n",
    "run_name = 'basemodel'\n",
    "\n",
    "experiment = Experiment(workspace=ws, name=experiment_name)\n",
    "# run = Run(experiment=experiment, run_id=run_name)\n",
    "\n",
    "# Get a list of all models in the experiment\n",
    "# models = Model.list(workspace=ws, experiment_name=experiment_name)\n",
    "runs = experiment.get_runs()\n",
    "models = []\n",
    "for run in runs:\n",
    "    run_models = run.get_models()\n",
    "    models.extend(run_models)"
   ]
  },
  {
   "cell_type": "code",
   "execution_count": 10,
   "id": "afe30bb8-65d7-417e-812d-3cb0cffd4479",
   "metadata": {},
   "outputs": [
    {
     "data": {
      "text/html": [
       "<table style=\"width:100%\"><tr><th>Name</th><th>Workspace</th><th>Report Page</th><th>Docs Page</th></tr><tr><td>adt-pivot</td><td>pivot</td><td><a href=\"https://ml.azure.com/experiments/id/728af546-4739-45d8-846a-8be2cefcf1ef?wsid=/subscriptions/156ffac2-0545-4d4e-aab3-f89b83635d04/resourcegroups/defaultresourcegroup-wus2/workspaces/pivot&amp;tid=f6b6dd5b-f02f-441a-99a0-162ac5060bd2\" target=\"_blank\" rel=\"noopener\">Link to Azure Machine Learning studio</a></td><td><a href=\"https://docs.microsoft.com/en-us/python/api/azureml-core/azureml.core.experiment.Experiment?view=azure-ml-py\" target=\"_blank\" rel=\"noopener\">Link to Documentation</a></td></tr></table>"
      ],
      "text/plain": [
       "Experiment(Name: adt-pivot,\n",
       "Workspace: pivot)"
      ]
     },
     "execution_count": 10,
     "metadata": {},
     "output_type": "execute_result"
    }
   ],
   "source": [
    "experiment"
   ]
  },
  {
   "cell_type": "code",
   "execution_count": 11,
   "id": "2f28e762-462d-4eca-9407-ac185a91a33c",
   "metadata": {},
   "outputs": [
    {
     "name": "stdout",
     "output_type": "stream",
     "text": [
      "Run(Experiment: adt-pivot,\n",
      "Id: 3ce8d4e5-6343-4d44-be1e-e9c99b3df968,\n",
      "Type: None,\n",
      "Status: Completed)\n",
      "Run(Experiment: adt-pivot,\n",
      "Id: 0f5b3a2b-fde9-401b-bdaa-31ed72ecc95c,\n",
      "Type: None,\n",
      "Status: Completed)\n"
     ]
    }
   ],
   "source": [
    "# get_runs() returns all runs in reverse chronological order (first is most recent)\n",
    "for i in experiment.get_runs():\n",
    "    print(i)"
   ]
  },
  {
   "cell_type": "markdown",
   "id": "8dfaeebc-4092-45c8-9616-aa708e9236a8",
   "metadata": {},
   "source": [
    "### 3. Call endpoint and make predictions\n",
    "\n",
    "Input data is a pd.DataFrame with cols: IMAGE_ID, BLOB_FILEPATH. Here we manually create a small subset of data for testing."
   ]
  },
  {
   "cell_type": "code",
   "execution_count": 3,
   "id": "a90a9a0c-28eb-49af-b48c-56c58d2670ca",
   "metadata": {},
   "outputs": [],
   "source": [
    "# sample input\n",
    "df = pd.DataFrame({'IMAGE_ID': [1, 2, 3], \n",
    "                   'BLOB_FILEPATH': ['D20160524T225721_IFCB107/IFCB107D20160524T225721P00213.png', \n",
    "                                     'D20160524T225721_IFCB107/IFCB107D20160524T225721P00575.png', \n",
    "                                     'D20160524T225721_IFCB107/IFCB107D20160524T225721P00561.png']})"
   ]
  },
  {
   "cell_type": "code",
   "execution_count": 4,
   "id": "78165bf6-774b-48b5-b485-53898efe9a50",
   "metadata": {},
   "outputs": [
    {
     "data": {
      "text/html": [
       "<div>\n",
       "<style scoped>\n",
       "    .dataframe tbody tr th:only-of-type {\n",
       "        vertical-align: middle;\n",
       "    }\n",
       "\n",
       "    .dataframe tbody tr th {\n",
       "        vertical-align: top;\n",
       "    }\n",
       "\n",
       "    .dataframe thead th {\n",
       "        text-align: right;\n",
       "    }\n",
       "</style>\n",
       "<table border=\"1\" class=\"dataframe\">\n",
       "  <thead>\n",
       "    <tr style=\"text-align: right;\">\n",
       "      <th></th>\n",
       "      <th>IMAGE_ID</th>\n",
       "      <th>BLOB_FILEPATH</th>\n",
       "    </tr>\n",
       "  </thead>\n",
       "  <tbody>\n",
       "    <tr>\n",
       "      <th>0</th>\n",
       "      <td>1</td>\n",
       "      <td>D20160524T225721_IFCB107/IFCB107D20160524T2257...</td>\n",
       "    </tr>\n",
       "    <tr>\n",
       "      <th>1</th>\n",
       "      <td>2</td>\n",
       "      <td>D20160524T225721_IFCB107/IFCB107D20160524T2257...</td>\n",
       "    </tr>\n",
       "    <tr>\n",
       "      <th>2</th>\n",
       "      <td>3</td>\n",
       "      <td>D20160524T225721_IFCB107/IFCB107D20160524T2257...</td>\n",
       "    </tr>\n",
       "  </tbody>\n",
       "</table>\n",
       "</div>"
      ],
      "text/plain": [
       "   IMAGE_ID                                      BLOB_FILEPATH\n",
       "0         1  D20160524T225721_IFCB107/IFCB107D20160524T2257...\n",
       "1         2  D20160524T225721_IFCB107/IFCB107D20160524T2257...\n",
       "2         3  D20160524T225721_IFCB107/IFCB107D20160524T2257..."
      ]
     },
     "execution_count": 4,
     "metadata": {},
     "output_type": "execute_result"
    }
   ],
   "source": [
    "df"
   ]
  },
  {
   "cell_type": "code",
   "execution_count": 22,
   "id": "cee8e468-6a27-4175-99d9-4497a62fe0c2",
   "metadata": {},
   "outputs": [
    {
     "data": {
      "text/html": [
       "<div>\n",
       "<style scoped>\n",
       "    .dataframe tbody tr th:only-of-type {\n",
       "        vertical-align: middle;\n",
       "    }\n",
       "\n",
       "    .dataframe tbody tr th {\n",
       "        vertical-align: top;\n",
       "    }\n",
       "\n",
       "    .dataframe thead th {\n",
       "        text-align: right;\n",
       "    }\n",
       "</style>\n",
       "<table border=\"1\" class=\"dataframe\">\n",
       "  <thead>\n",
       "    <tr style=\"text-align: right;\">\n",
       "      <th></th>\n",
       "      <th>IMAGE_ID</th>\n",
       "      <th>BLOB_FILEPATH</th>\n",
       "      <th>cloud_urls</th>\n",
       "    </tr>\n",
       "  </thead>\n",
       "  <tbody>\n",
       "    <tr>\n",
       "      <th>0</th>\n",
       "      <td>1</td>\n",
       "      <td>D20160524T225721_IFCB107/IFCB107D20160524T2257...</td>\n",
       "      <td>https://ifcb.blob.core.windows.net/naames/NAAM...</td>\n",
       "    </tr>\n",
       "    <tr>\n",
       "      <th>1</th>\n",
       "      <td>2</td>\n",
       "      <td>D20160524T225721_IFCB107/IFCB107D20160524T2257...</td>\n",
       "      <td>https://ifcb.blob.core.windows.net/naames/NAAM...</td>\n",
       "    </tr>\n",
       "    <tr>\n",
       "      <th>2</th>\n",
       "      <td>3</td>\n",
       "      <td>D20160524T225721_IFCB107/IFCB107D20160524T2257...</td>\n",
       "      <td>https://ifcb.blob.core.windows.net/naames/NAAM...</td>\n",
       "    </tr>\n",
       "  </tbody>\n",
       "</table>\n",
       "</div>"
      ],
      "text/plain": [
       "   IMAGE_ID                                      BLOB_FILEPATH  \\\n",
       "0         1  D20160524T225721_IFCB107/IFCB107D20160524T2257...   \n",
       "1         2  D20160524T225721_IFCB107/IFCB107D20160524T2257...   \n",
       "2         3  D20160524T225721_IFCB107/IFCB107D20160524T2257...   \n",
       "\n",
       "                                          cloud_urls  \n",
       "0  https://ifcb.blob.core.windows.net/naames/NAAM...  \n",
       "1  https://ifcb.blob.core.windows.net/naames/NAAM...  \n",
       "2  https://ifcb.blob.core.windows.net/naames/NAAM...  "
      ]
     },
     "execution_count": 22,
     "metadata": {},
     "output_type": "execute_result"
    }
   ],
   "source": [
    "# df['cloud_urls'] = df.BLOB_FILEPATH.apply(lambda x: config['cloud_url'].format(filepath=x))\n",
    "# df"
   ]
  },
  {
   "cell_type": "markdown",
   "id": "64762841-9d4f-4482-99d7-741ecc16c583",
   "metadata": {},
   "source": [
    "### 4. Get predictions \n",
    "\n",
    "This is done in model_utils.predict()."
   ]
  },
  {
   "cell_type": "code",
   "execution_count": null,
   "id": "edebcf7e-c6c7-447e-8980-3b9c79693c90",
   "metadata": {},
   "outputs": [],
   "source": [
    "# endpoint_name = get_model_info(m_id)\n",
    "endpoint_name = 'basemodel-endpoint'\n",
    "\n",
    "scoring_uri = f'https://{endpoint_name}.westus2.inference.ml.azure.com/score'.format(\n",
    "    endpoint_name=endpoint_name)\n",
    "api_key = CONFIG['api_key']\n",
    "\n",
    "cloud_urls = df.cloud_urls.values\n",
    "data = []\n",
    "for c_url in cloud_urls:\n",
    "    data.append(du.preprocess_input(np.expand_dims(imageio.v2.imread(c_url), axis=-1)))\n",
    "\n",
    "data_dic = {\"input_data\": [i.reshape((128, 128)).tolist() for i in data]}\n",
    "json_payload = json.dumps(data_dic, cls=NumpyArrayEncoder)\n",
    "\n",
    "# The azureml-model-deployment header will force the request to go to a specific deployment.\n",
    "headers = {'Content-Type':'application/json',\n",
    "           'Authorization':('Bearer '+ api_key),\n",
    "           'azureml-model-deployment': CONFIG['deployment_name']}\n",
    "\n",
    "# Make the prediction request\n",
    "response = requests.post(scoring_uri,\n",
    "                         data=json_payload,\n",
    "                         headers=headers,\n",
    "                         timeout=10)\n",
    "\n",
    "# Check the response status code\n",
    "if response.status_code == 200:\n",
    "    result = response.json()\n",
    "else:\n",
    "    print(\"Prediction request failed with status code:\", response.status_code)\n",
    "    print(response.text)\n",
    "\n",
    "preds = pd.DataFrame({'i_id': df.I_ID.values,\n",
    "                   'probs': result})"
   ]
  },
  {
   "cell_type": "code",
   "execution_count": 30,
   "id": "589ae210-dc69-4809-aa9b-af0952a1a399",
   "metadata": {},
   "outputs": [
    {
     "name": "stdout",
     "output_type": "stream",
     "text": [
      "<Response [200]>\n",
      "[[0.0031898769084364176, 2.0788617355327332e-11, 8.588602213421836e-05, 0.00017344176012557, 8.921755068058701e-08, 0.0032710987143218517, 8.093526048469357e-06, 0.9575332403182983, 0.03550129383802414, 0.00023710746609140188], [0.007550970651209354, 5.126950100020622e-07, 0.00035927206045016646, 0.002601270331069827, 2.5344577352370834e-06, 0.20422795414924622, 0.0010179296368733048, 0.7188515663146973, 0.06120515614748001, 0.004182853270322084], [0.00013524151290766895, 1.200628485520383e-11, 1.257793337572366e-05, 0.00022038634051568806, 2.6521347535890527e-05, 0.00010345028567826375, 1.8474192131634481e-07, 0.390915185213089, 0.00037548429099842906, 0.6082109212875366]]\n"
     ]
    },
    {
     "data": {
      "text/html": [
       "<div>\n",
       "<style scoped>\n",
       "    .dataframe tbody tr th:only-of-type {\n",
       "        vertical-align: middle;\n",
       "    }\n",
       "\n",
       "    .dataframe tbody tr th {\n",
       "        vertical-align: top;\n",
       "    }\n",
       "\n",
       "    .dataframe thead th {\n",
       "        text-align: right;\n",
       "    }\n",
       "</style>\n",
       "<table border=\"1\" class=\"dataframe\">\n",
       "  <thead>\n",
       "    <tr style=\"text-align: right;\">\n",
       "      <th></th>\n",
       "      <th>i_id</th>\n",
       "      <th>probs</th>\n",
       "    </tr>\n",
       "  </thead>\n",
       "  <tbody>\n",
       "    <tr>\n",
       "      <th>0</th>\n",
       "      <td>1</td>\n",
       "      <td>[0.0031898769084364176, 2.0788617355327332e-11...</td>\n",
       "    </tr>\n",
       "    <tr>\n",
       "      <th>1</th>\n",
       "      <td>2</td>\n",
       "      <td>[0.007550970651209354, 5.126950100020622e-07, ...</td>\n",
       "    </tr>\n",
       "    <tr>\n",
       "      <th>2</th>\n",
       "      <td>3</td>\n",
       "      <td>[0.00013524151290766895, 1.200628485520383e-11...</td>\n",
       "    </tr>\n",
       "  </tbody>\n",
       "</table>\n",
       "</div>"
      ],
      "text/plain": [
       "   i_id                                              probs\n",
       "0     1  [0.0031898769084364176, 2.0788617355327332e-11...\n",
       "1     2  [0.007550970651209354, 5.126950100020622e-07, ...\n",
       "2     3  [0.00013524151290766895, 1.200628485520383e-11..."
      ]
     },
     "execution_count": 30,
     "metadata": {},
     "output_type": "execute_result"
    }
   ],
   "source": [
    "response"
   ]
  },
  {
   "cell_type": "markdown",
   "id": "e2433301-de18-4daa-813d-db1934bfd046",
   "metadata": {},
   "source": [
    "### 5. Convert predictions to correct format\n",
    "\n",
    "Reformat the predictions so that they can be inserted into the database.\n",
    "\n",
    "(m_id, i_id, class_prob, predlabel) --> dic\n",
    "\n",
    "This is done in model_utils.get_predictions()."
   ]
  },
  {
   "cell_type": "code",
   "execution_count": null,
   "id": "31e4b9b2-b64c-4348-a0e7-78d58db65c1f",
   "metadata": {},
   "outputs": [],
   "source": [
    "classes = ['Chloro',\n",
    "          'Cilliate',\n",
    "          'Crypto',\n",
    "          'Diatom',\n",
    "          'Dictyo',\n",
    "          'Dinoflagellate',\n",
    "          'Eugleno',\n",
    "          'Other',\n",
    "          'Prymnesio',\n",
    "          'Unidentifiable']\n",
    "\n",
    "preds['class_prob'] = preds.probs.apply(lambda x: x[pd.Series(x).idxmax()])\n",
    "preds['predlabel'] = preds.probs.apply(lambda x: classes[pd.Series(x).idxmax()])\n",
    "preds['m_id'] = [m_id] * len(preds)"
   ]
  },
  {
   "cell_type": "code",
   "execution_count": 43,
   "id": "9a144cee-9a7c-4136-a2c4-65105cba1e76",
   "metadata": {},
   "outputs": [],
   "source": [
    "preds = get_predictions(df, 1)"
   ]
  },
  {
   "cell_type": "code",
   "execution_count": 44,
   "id": "50622352-cfde-46ad-b0de-5fee9d8ab5f7",
   "metadata": {},
   "outputs": [
    {
     "data": {
      "text/plain": [
       "[{'i_id': 1,\n",
       "  'class_prob': 0.9575332403182983,\n",
       "  'predlabel': 'Other',\n",
       "  'm_id': 1},\n",
       " {'i_id': 2,\n",
       "  'class_prob': 0.7188515663146973,\n",
       "  'predlabel': 'Other',\n",
       "  'm_id': 1},\n",
       " {'i_id': 3,\n",
       "  'class_prob': 0.6082109212875366,\n",
       "  'predlabel': 'Unidentifiable',\n",
       "  'm_id': 1}]"
      ]
     },
     "execution_count": 44,
     "metadata": {},
     "output_type": "execute_result"
    }
   ],
   "source": [
    "preds"
   ]
  },
  {
   "cell_type": "markdown",
   "id": "d727ee95-0a35-4bec-b0de-1d0e2cd9e0d5",
   "metadata": {},
   "source": [
    "### 6. Getting test data\n",
    "\n",
    "Use the data from test_images to test further."
   ]
  },
  {
   "cell_type": "code",
   "execution_count": 23,
   "id": "8412260e-6c72-4f36-ac4d-8dc6c24926d0",
   "metadata": {},
   "outputs": [],
   "source": [
    "test = sql_utils.run_sql_query(\n",
    "\"\"\"\n",
    "WITH test_images AS (\n",
    "    SELECT DISTINCT I_Id\n",
    "    FROM metrics\n",
    "    WHERE m_id = 0\n",
    ")\n",
    "SELECT I.I_ID, I.filepath\n",
    "FROM images AS I\n",
    "INNER JOIN test_images AS TI ON TI.I_Id = I.I_ID;\n",
    "\"\"\"\n",
    ")"
   ]
  },
  {
   "cell_type": "code",
   "execution_count": 24,
   "id": "77acec0e-b681-4f49-89f1-ef3a5a8792be",
   "metadata": {},
   "outputs": [
    {
     "data": {
      "text/html": [
       "<div>\n",
       "<style scoped>\n",
       "    .dataframe tbody tr th:only-of-type {\n",
       "        vertical-align: middle;\n",
       "    }\n",
       "\n",
       "    .dataframe tbody tr th {\n",
       "        vertical-align: top;\n",
       "    }\n",
       "\n",
       "    .dataframe thead th {\n",
       "        text-align: right;\n",
       "    }\n",
       "</style>\n",
       "<table border=\"1\" class=\"dataframe\">\n",
       "  <thead>\n",
       "    <tr style=\"text-align: right;\">\n",
       "      <th></th>\n",
       "      <th>I_ID</th>\n",
       "      <th>filepath</th>\n",
       "    </tr>\n",
       "  </thead>\n",
       "  <tbody>\n",
       "    <tr>\n",
       "      <th>0</th>\n",
       "      <td>399781</td>\n",
       "      <td>NAAMES_ml/D20160524T225721_IFCB107/IFCB107D201...</td>\n",
       "    </tr>\n",
       "    <tr>\n",
       "      <th>1</th>\n",
       "      <td>399802</td>\n",
       "      <td>NAAMES_ml/D20160524T225721_IFCB107/IFCB107D201...</td>\n",
       "    </tr>\n",
       "    <tr>\n",
       "      <th>2</th>\n",
       "      <td>399803</td>\n",
       "      <td>NAAMES_ml/D20160524T225721_IFCB107/IFCB107D201...</td>\n",
       "    </tr>\n",
       "    <tr>\n",
       "      <th>3</th>\n",
       "      <td>399808</td>\n",
       "      <td>NAAMES_ml/D20160524T225721_IFCB107/IFCB107D201...</td>\n",
       "    </tr>\n",
       "    <tr>\n",
       "      <th>4</th>\n",
       "      <td>399815</td>\n",
       "      <td>NAAMES_ml/D20160524T225721_IFCB107/IFCB107D201...</td>\n",
       "    </tr>\n",
       "    <tr>\n",
       "      <th>...</th>\n",
       "      <td>...</td>\n",
       "      <td>...</td>\n",
       "    </tr>\n",
       "    <tr>\n",
       "      <th>99995</th>\n",
       "      <td>1382617</td>\n",
       "      <td>NAAMES_ml/D20151105T224631_IFCB107/IFCB107D201...</td>\n",
       "    </tr>\n",
       "    <tr>\n",
       "      <th>99996</th>\n",
       "      <td>1382633</td>\n",
       "      <td>NAAMES_ml/D20151105T224631_IFCB107/IFCB107D201...</td>\n",
       "    </tr>\n",
       "    <tr>\n",
       "      <th>99997</th>\n",
       "      <td>1382642</td>\n",
       "      <td>NAAMES_ml/D20151105T224631_IFCB107/IFCB107D201...</td>\n",
       "    </tr>\n",
       "    <tr>\n",
       "      <th>99998</th>\n",
       "      <td>1382654</td>\n",
       "      <td>NAAMES_ml/D20151105T224631_IFCB107/IFCB107D201...</td>\n",
       "    </tr>\n",
       "    <tr>\n",
       "      <th>99999</th>\n",
       "      <td>1382658</td>\n",
       "      <td>NAAMES_ml/D20151105T224631_IFCB107/IFCB107D201...</td>\n",
       "    </tr>\n",
       "  </tbody>\n",
       "</table>\n",
       "<p>100000 rows × 2 columns</p>\n",
       "</div>"
      ],
      "text/plain": [
       "          I_ID                                           filepath\n",
       "0       399781  NAAMES_ml/D20160524T225721_IFCB107/IFCB107D201...\n",
       "1       399802  NAAMES_ml/D20160524T225721_IFCB107/IFCB107D201...\n",
       "2       399803  NAAMES_ml/D20160524T225721_IFCB107/IFCB107D201...\n",
       "3       399808  NAAMES_ml/D20160524T225721_IFCB107/IFCB107D201...\n",
       "4       399815  NAAMES_ml/D20160524T225721_IFCB107/IFCB107D201...\n",
       "...        ...                                                ...\n",
       "99995  1382617  NAAMES_ml/D20151105T224631_IFCB107/IFCB107D201...\n",
       "99996  1382633  NAAMES_ml/D20151105T224631_IFCB107/IFCB107D201...\n",
       "99997  1382642  NAAMES_ml/D20151105T224631_IFCB107/IFCB107D201...\n",
       "99998  1382654  NAAMES_ml/D20151105T224631_IFCB107/IFCB107D201...\n",
       "99999  1382658  NAAMES_ml/D20151105T224631_IFCB107/IFCB107D201...\n",
       "\n",
       "[100000 rows x 2 columns]"
      ]
     },
     "execution_count": 24,
     "metadata": {},
     "output_type": "execute_result"
    }
   ],
   "source": [
    "test"
   ]
  },
  {
   "cell_type": "code",
   "execution_count": 89,
   "id": "8aca5cc0-b992-44bf-8d3c-6d48e6e0082c",
   "metadata": {},
   "outputs": [],
   "source": [
    "test['cloud_urls'] = test.filepath.apply(lambda x: \"https://ifcb.blob.core.windows.net/naames/{filepath}\".format(filepath=x))\n",
    "\n",
    "cloud_urls = df.cloud_urls.values\n",
    "data = []\n",
    "for c_url in cloud_urls:\n",
    "    data.append(preprocess_input(np.expand_dims(imageio.v2.imread(c_url), axis=-1)))"
   ]
  },
  {
   "cell_type": "code",
   "execution_count": 97,
   "id": "b56d483e-6b39-48f9-ae63-6270db35b67c",
   "metadata": {},
   "outputs": [
    {
     "data": {
      "text/plain": [
       "(128, 128, 1)"
      ]
     },
     "execution_count": 97,
     "metadata": {},
     "output_type": "execute_result"
    }
   ],
   "source": [
    "data[0].shape"
   ]
  },
  {
   "cell_type": "code",
   "execution_count": 51,
   "id": "cdd53e04-1f7f-4b75-ad63-2f62c42ec8b9",
   "metadata": {},
   "outputs": [
    {
     "name": "stderr",
     "output_type": "stream",
     "text": [
      "/Users/aditis/Documents/DATA590/PIVOT/PIVOT/utils/model_utils.py:173: SettingWithCopyWarning: \n",
      "A value is trying to be set on a copy of a slice from a DataFrame.\n",
      "Try using .loc[row_indexer,col_indexer] = value instead\n",
      "\n",
      "See the caveats in the documentation: https://pandas.pydata.org/pandas-docs/stable/user_guide/indexing.html#returning-a-view-versus-a-copy\n",
      "  \n"
     ]
    },
    {
     "data": {
      "text/plain": [
       "[{'i_id': 399781,\n",
       "  'class_prob': 0.6453595161437988,\n",
       "  'predlabel': 'Other',\n",
       "  'm_id': 1},\n",
       " {'i_id': 399802,\n",
       "  'class_prob': 0.6450332403182983,\n",
       "  'predlabel': 'Other',\n",
       "  'm_id': 1},\n",
       " {'i_id': 399803,\n",
       "  'class_prob': 0.9911853671073914,\n",
       "  'predlabel': 'Dinoflagellate',\n",
       "  'm_id': 1}]"
      ]
     },
     "execution_count": 51,
     "metadata": {},
     "output_type": "execute_result"
    }
   ],
   "source": [
    "model_utils.get_predictions(test[:3], 1)"
   ]
  },
  {
   "cell_type": "code",
   "execution_count": null,
   "id": "cdbab9d5-91fe-41a5-944e-98365e56cf3a",
   "metadata": {},
   "outputs": [],
   "source": []
  }
 ],
 "metadata": {
  "kernelspec": {
   "display_name": "Python 3 (ipykernel)",
   "language": "python",
   "name": "python3"
  },
  "language_info": {
   "codemirror_mode": {
    "name": "ipython",
    "version": 3
   },
   "file_extension": ".py",
   "mimetype": "text/x-python",
   "name": "python",
   "nbconvert_exporter": "python",
   "pygments_lexer": "ipython3",
   "version": "3.9.18"
  }
 },
 "nbformat": 4,
 "nbformat_minor": 5
}
